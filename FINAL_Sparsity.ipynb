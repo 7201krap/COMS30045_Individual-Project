{
  "nbformat": 4,
  "nbformat_minor": 0,
  "metadata": {
    "colab": {
      "name": "Copy of newwork.ipynb",
      "provenance": [],
      "collapsed_sections": [],
      "authorship_tag": "ABX9TyMFELAci6PsqcjJR/prqMr3",
      "include_colab_link": true
    },
    "kernelspec": {
      "name": "python3",
      "display_name": "Python 3"
    }
  },
  "cells": [
    {
      "cell_type": "markdown",
      "metadata": {
        "id": "view-in-github",
        "colab_type": "text"
      },
      "source": [
        "<a href=\"https://colab.research.google.com/github/7201krap/PYTORCH_introduction_to_pytorch/blob/main/FINAL_Sparsity.ipynb\" target=\"_parent\"><img src=\"https://colab.research.google.com/assets/colab-badge.svg\" alt=\"Open In Colab\"/></a>"
      ]
    },
    {
      "cell_type": "code",
      "metadata": {
        "id": "o7STrWa0P3z_"
      },
      "source": [
        "import torch\n",
        "from torchvision import transforms\n",
        "import torchvision.datasets as datasets\n",
        "import matplotlib.pyplot as plt\n",
        "import numpy as np"
      ],
      "execution_count": 1,
      "outputs": []
    },
    {
      "cell_type": "code",
      "metadata": {
        "id": "rTW5TOUnP5XY",
        "colab": {
          "base_uri": "https://localhost:8080/"
        },
        "outputId": "c7c58980-f622-498c-f1f1-23d66da1be79"
      },
      "source": [
        "mnist_trainset = datasets.MNIST(root='./data', train=True, \n",
        "                                download=True, \n",
        "                                transform=transforms.Compose([transforms.ToTensor()]))\n",
        "\n",
        "mnist_testset  = datasets.MNIST(root='./data', \n",
        "                                train=False, \n",
        "                                download=True, \n",
        "                                transform=transforms.Compose([transforms.ToTensor()]))\n",
        "\n",
        "train_dataloader = torch.utils.data.DataLoader(mnist_trainset, \n",
        "                                               batch_size=50, \n",
        "                                               shuffle=True)\n",
        "\n",
        "test_dataloader  = torch.utils.data.DataLoader(mnist_testset, \n",
        "                                               batch_size=50, \n",
        "                                               shuffle=False)\n",
        "\n",
        "print(\"Training dataset size: \", len(mnist_trainset))\n",
        "print(\"Testing dataset size: \",  len(mnist_testset))"
      ],
      "execution_count": 2,
      "outputs": [
        {
          "output_type": "stream",
          "text": [
            "Training dataset size:  60000\n",
            "Testing dataset size:  10000\n"
          ],
          "name": "stdout"
        }
      ]
    },
    {
      "cell_type": "code",
      "metadata": {
        "id": "IXTkEUJ5P6kU"
      },
      "source": [
        "# Define the model \n",
        "class Model(torch.nn.Module):\n",
        "    def __init__(self):\n",
        "        super(Model, self).__init__()\n",
        "        self.linear_1 = torch.nn.Linear(784, 256)\n",
        "        self.linear_2 = torch.nn.Linear(256, 10)\n",
        "        self.sigmoid  = torch.nn.Sigmoid()\n",
        "\n",
        "    def forward(self, x):\n",
        "        x = x.reshape(x.size(0), -1)\n",
        "        x = self.linear_1(x)\n",
        "        x = self.sigmoid(x)\n",
        "        pred = self.linear_2(x)\n",
        "\n",
        "        return pred"
      ],
      "execution_count": 3,
      "outputs": []
    },
    {
      "cell_type": "code",
      "metadata": {
        "id": "BfgvKH6eP9Ou"
      },
      "source": [
        "def get_activation(model):    \n",
        "    def hook(module, input, output):\n",
        "        model.layer_activations = output\n",
        "    return hook"
      ],
      "execution_count": 4,
      "outputs": []
    },
    {
      "cell_type": "code",
      "metadata": {
        "id": "BXOpwTXEQFKY"
      },
      "source": [
        "def sparsity_trainer(optimizer, model):\n",
        "\n",
        "    # reset the model \n",
        "\n",
        "    criterion = torch.nn.CrossEntropyLoss()\n",
        "    no_epochs = 20\n",
        "    train_loss = list()\n",
        "    test_loss  = list()\n",
        "    test_acc   = list()\n",
        "    final_spareness = list()\n",
        "\n",
        "    # define activation list \n",
        "\n",
        "    best_test_loss = 1\n",
        "\n",
        "    for epoch in range(no_epochs):\n",
        "        total_train_loss = 0\n",
        "        total_test_loss = 0\n",
        "\n",
        "        hidden_layer_activation_list = list()\n",
        "\n",
        "        # training\n",
        "        # set up training mode \n",
        "        model.train()\n",
        "\n",
        "        for itr, (image, label) in enumerate(train_dataloader):\n",
        "\n",
        "            optimizer.zero_grad()\n",
        "\n",
        "            pred = model(image)\n",
        "\n",
        "            loss = criterion(pred, label)\n",
        "            total_train_loss += loss.item()\n",
        "\n",
        "            loss.backward()\n",
        "            optimizer.step()\n",
        "\n",
        "            # Print/Append activation of the hidden layer \n",
        "            # print(model.layer_activations.shape)\n",
        "            hidden_layer_activation_list.append(model.layer_activations)\n",
        "        \n",
        "        # this conains activations for all epochs \n",
        "        final_spareness.append(hidden_layer_activation_list)\n",
        "\n",
        "        total_train_loss = total_train_loss / (itr + 1)\n",
        "        train_loss.append(total_train_loss)\n",
        "\n",
        "        # testing \n",
        "        # change to evaluation mode \n",
        "        model.eval()\n",
        "        total = 0\n",
        "        for itr, (image, label) in enumerate(test_dataloader):\n",
        "\n",
        "            pred = model(image)\n",
        "\n",
        "            loss = criterion(pred, label)\n",
        "            total_test_loss += loss.item()\n",
        "\n",
        "            # we now need softmax because we are testing.\n",
        "            pred = torch.nn.functional.softmax(pred, dim=1)\n",
        "            for i, p in enumerate(pred):\n",
        "                if label[i] == torch.max(p.data, 0)[1]:\n",
        "                    total = total + 1\n",
        "\n",
        "        # caculate accuracy \n",
        "        accuracy = total / len(mnist_testset)\n",
        "\n",
        "        # append accuracy here\n",
        "        test_acc.append(accuracy)\n",
        "\n",
        "        # append test loss here \n",
        "        total_test_loss = total_test_loss / (itr + 1)\n",
        "        test_loss.append(total_test_loss)\n",
        "\n",
        "        print('\\nEpoch: {}/{}, Train Loss: {:.8f}, Test Loss: {:.8f}, Test Accuracy: {:.8f}'.format(epoch + 1, no_epochs, total_train_loss, total_test_loss, accuracy))\n",
        "\n",
        "        if total_test_loss < best_test_loss:\n",
        "            best_test_loss = total_test_loss\n",
        "            print(\"Saving the model state dictionary for Epoch: {} with Test loss: {:.8f}\".format(epoch + 1, total_test_loss))\n",
        "            torch.save(model.state_dict(), \"model.dth\")\n",
        "\n",
        "    sparseness_list = list()\n",
        "\n",
        "    for single_epoch_spareness in final_spareness:\n",
        "\n",
        "        hidden_layer_activation_list = single_epoch_spareness\n",
        "        hidden_layer_activation_list = torch.stack(hidden_layer_activation_list)\n",
        "        layer_activations_list = torch.reshape(hidden_layer_activation_list, (60000, 256))\n",
        "\n",
        "        layer_activations_list = torch.abs(layer_activations_list)  # modified \n",
        "        num_neurons = layer_activations_list.shape[1]\n",
        "        population_sparseness = (np.sqrt(num_neurons) - (torch.sum(layer_activations_list, dim=1) / torch.sqrt(torch.sum(layer_activations_list ** 2, dim=1)))) / (np.sqrt(num_neurons) - 1)\n",
        "        mean_sparseness_per_epoch = torch.mean(population_sparseness)\n",
        "\n",
        "        sparseness_list.append(mean_sparseness_per_epoch)\n",
        "\n",
        "    return test_acc, sparseness_list"
      ],
      "execution_count": 5,
      "outputs": []
    },
    {
      "cell_type": "code",
      "metadata": {
        "id": "ilCW3Ax4QXUj"
      },
      "source": [
        "# adagrad \n",
        "model_adagrad = Model()\n",
        "model_adagrad.linear_1.register_forward_hook(get_activation(model_adagrad))\n",
        "optimizer_adagrad  = torch.optim.Adagrad(model_adagrad.parameters(), lr=0.1)\n",
        "\n",
        "# adadelta\n",
        "model_adadelta = Model()\n",
        "model_adadelta.linear_1.register_forward_hook(get_activation(model_adadelta))\n",
        "optimizer_adadelta = torch.optim.Adagrad(model_adadelta.parameters(), lr=1)\n",
        "\n",
        "# SGD \n",
        "model_sgd = Model()\n",
        "model_sgd.linear_1.register_forward_hook(get_activation(model_sgd))\n",
        "optimizer_sgd      = torch.optim.SGD(model_sgd.parameters(), lr=0.1)"
      ],
      "execution_count": 6,
      "outputs": []
    },
    {
      "cell_type": "code",
      "metadata": {
        "colab": {
          "base_uri": "https://localhost:8080/"
        },
        "id": "rq7EaMTFQk6s",
        "outputId": "44326fdc-c18c-4f10-ba27-ae23de611f1b"
      },
      "source": [
        "print(\"\\n===== Entering Adagrad optimizer =====\\n\")\n",
        "adagrad_test_acc, adagrad_sparseness_list   = sparsity_trainer(optimizer=optimizer_adagrad,\n",
        "                                                               model=model_adagrad)\n",
        "\n",
        "print(\"\\n===== Entering Adadelta optimizer =====\\n\")\n",
        "adadelta_test_acc, adadelta_sparseness_list = sparsity_trainer(optimizer=optimizer_adadelta,\n",
        "                                                               model=model_adadelta)\n",
        "\n",
        "print(\"\\n===== Entering SGD optimizer =====\\n\")\n",
        "sgd_test_acc, sgd_sparseness_list           = sparsity_trainer(optimizer=optimizer_sgd,\n",
        "                                                               model=model_sgd)"
      ],
      "execution_count": 7,
      "outputs": [
        {
          "output_type": "stream",
          "text": [
            "\n",
            "===== Entering Adagrad optimizer =====\n",
            "\n",
            "\n",
            "Epoch: 1/20, Train Loss: 0.24943174, Test Loss: 0.13392499, Test Accuracy: 0.95940000\n",
            "Saving the model state dictionary for Epoch: 1 with Test loss: 0.13392499\n",
            "\n",
            "Epoch: 2/20, Train Loss: 0.10454792, Test Loss: 0.10542158, Test Accuracy: 0.96790000\n",
            "Saving the model state dictionary for Epoch: 2 with Test loss: 0.10542158\n",
            "\n",
            "Epoch: 3/20, Train Loss: 0.07366425, Test Loss: 0.09006167, Test Accuracy: 0.97120000\n",
            "Saving the model state dictionary for Epoch: 3 with Test loss: 0.09006167\n",
            "\n",
            "Epoch: 4/20, Train Loss: 0.05585397, Test Loss: 0.08516948, Test Accuracy: 0.97330000\n",
            "Saving the model state dictionary for Epoch: 4 with Test loss: 0.08516948\n",
            "\n",
            "Epoch: 5/20, Train Loss: 0.04419098, Test Loss: 0.07594403, Test Accuracy: 0.97610000\n",
            "Saving the model state dictionary for Epoch: 5 with Test loss: 0.07594403\n",
            "\n",
            "Epoch: 6/20, Train Loss: 0.03565788, Test Loss: 0.07471877, Test Accuracy: 0.97750000\n",
            "Saving the model state dictionary for Epoch: 6 with Test loss: 0.07471877\n",
            "\n",
            "Epoch: 7/20, Train Loss: 0.02938668, Test Loss: 0.07223222, Test Accuracy: 0.97770000\n",
            "Saving the model state dictionary for Epoch: 7 with Test loss: 0.07223222\n",
            "\n",
            "Epoch: 8/20, Train Loss: 0.02450715, Test Loss: 0.07036018, Test Accuracy: 0.97920000\n",
            "Saving the model state dictionary for Epoch: 8 with Test loss: 0.07036018\n",
            "\n",
            "Epoch: 9/20, Train Loss: 0.02090171, Test Loss: 0.06991015, Test Accuracy: 0.97910000\n",
            "Saving the model state dictionary for Epoch: 9 with Test loss: 0.06991015\n",
            "\n",
            "Epoch: 10/20, Train Loss: 0.01775400, Test Loss: 0.06997560, Test Accuracy: 0.97910000\n",
            "\n",
            "Epoch: 11/20, Train Loss: 0.01520502, Test Loss: 0.06975790, Test Accuracy: 0.97930000\n",
            "Saving the model state dictionary for Epoch: 11 with Test loss: 0.06975790\n",
            "\n",
            "Epoch: 12/20, Train Loss: 0.01332010, Test Loss: 0.06839596, Test Accuracy: 0.98040000\n",
            "Saving the model state dictionary for Epoch: 12 with Test loss: 0.06839596\n",
            "\n",
            "Epoch: 13/20, Train Loss: 0.01173997, Test Loss: 0.06749018, Test Accuracy: 0.98110000\n",
            "Saving the model state dictionary for Epoch: 13 with Test loss: 0.06749018\n",
            "\n",
            "Epoch: 14/20, Train Loss: 0.01035343, Test Loss: 0.06836889, Test Accuracy: 0.98020000\n",
            "\n",
            "Epoch: 15/20, Train Loss: 0.00917944, Test Loss: 0.06713008, Test Accuracy: 0.98080000\n",
            "Saving the model state dictionary for Epoch: 15 with Test loss: 0.06713008\n",
            "\n",
            "Epoch: 16/20, Train Loss: 0.00821655, Test Loss: 0.06880918, Test Accuracy: 0.98130000\n",
            "\n",
            "Epoch: 17/20, Train Loss: 0.00741469, Test Loss: 0.06778780, Test Accuracy: 0.98140000\n",
            "\n",
            "Epoch: 18/20, Train Loss: 0.00666686, Test Loss: 0.06779678, Test Accuracy: 0.98140000\n",
            "\n",
            "Epoch: 19/20, Train Loss: 0.00607641, Test Loss: 0.06871684, Test Accuracy: 0.98060000\n",
            "\n",
            "Epoch: 20/20, Train Loss: 0.00555003, Test Loss: 0.06876384, Test Accuracy: 0.98120000\n",
            "\n",
            "===== Entering Adadelta optimizer =====\n",
            "\n",
            "\n",
            "Epoch: 1/20, Train Loss: 1.21493067, Test Loss: 0.31194925, Test Accuracy: 0.91030000\n",
            "Saving the model state dictionary for Epoch: 1 with Test loss: 0.31194925\n",
            "\n",
            "Epoch: 2/20, Train Loss: 0.27867751, Test Loss: 0.27984225, Test Accuracy: 0.91850000\n",
            "Saving the model state dictionary for Epoch: 2 with Test loss: 0.27984225\n",
            "\n",
            "Epoch: 3/20, Train Loss: 0.22656384, Test Loss: 0.23656851, Test Accuracy: 0.93300000\n",
            "Saving the model state dictionary for Epoch: 3 with Test loss: 0.23656851\n",
            "\n",
            "Epoch: 4/20, Train Loss: 0.19363070, Test Loss: 0.19676677, Test Accuracy: 0.94100000\n",
            "Saving the model state dictionary for Epoch: 4 with Test loss: 0.19676677\n",
            "\n",
            "Epoch: 5/20, Train Loss: 0.16459668, Test Loss: 0.19255275, Test Accuracy: 0.94340000\n",
            "Saving the model state dictionary for Epoch: 5 with Test loss: 0.19255275\n",
            "\n",
            "Epoch: 6/20, Train Loss: 0.14637015, Test Loss: 0.17566631, Test Accuracy: 0.94830000\n",
            "Saving the model state dictionary for Epoch: 6 with Test loss: 0.17566631\n",
            "\n",
            "Epoch: 7/20, Train Loss: 0.13208934, Test Loss: 0.16803107, Test Accuracy: 0.95300000\n",
            "Saving the model state dictionary for Epoch: 7 with Test loss: 0.16803107\n",
            "\n",
            "Epoch: 8/20, Train Loss: 0.12288413, Test Loss: 0.16966244, Test Accuracy: 0.95050000\n",
            "\n",
            "Epoch: 9/20, Train Loss: 0.11392475, Test Loss: 0.16111209, Test Accuracy: 0.95480000\n",
            "Saving the model state dictionary for Epoch: 9 with Test loss: 0.16111209\n",
            "\n",
            "Epoch: 10/20, Train Loss: 0.10136832, Test Loss: 0.16014443, Test Accuracy: 0.95570000\n",
            "Saving the model state dictionary for Epoch: 10 with Test loss: 0.16014443\n",
            "\n",
            "Epoch: 11/20, Train Loss: 0.09521608, Test Loss: 0.15794527, Test Accuracy: 0.95630000\n",
            "Saving the model state dictionary for Epoch: 11 with Test loss: 0.15794527\n",
            "\n",
            "Epoch: 12/20, Train Loss: 0.08749190, Test Loss: 0.15389276, Test Accuracy: 0.95650000\n",
            "Saving the model state dictionary for Epoch: 12 with Test loss: 0.15389276\n",
            "\n",
            "Epoch: 13/20, Train Loss: 0.08152832, Test Loss: 0.14936219, Test Accuracy: 0.95880000\n",
            "Saving the model state dictionary for Epoch: 13 with Test loss: 0.14936219\n",
            "\n",
            "Epoch: 14/20, Train Loss: 0.07500675, Test Loss: 0.15662932, Test Accuracy: 0.95810000\n",
            "\n",
            "Epoch: 15/20, Train Loss: 0.06961683, Test Loss: 0.15422425, Test Accuracy: 0.95760000\n",
            "\n",
            "Epoch: 16/20, Train Loss: 0.06533169, Test Loss: 0.15361501, Test Accuracy: 0.95830000\n",
            "\n",
            "Epoch: 17/20, Train Loss: 0.05897398, Test Loss: 0.15402571, Test Accuracy: 0.95840000\n",
            "\n",
            "Epoch: 18/20, Train Loss: 0.05782730, Test Loss: 0.15393287, Test Accuracy: 0.95980000\n",
            "\n",
            "Epoch: 19/20, Train Loss: 0.05324284, Test Loss: 0.15058858, Test Accuracy: 0.95890000\n",
            "\n",
            "Epoch: 20/20, Train Loss: 0.04869649, Test Loss: 0.15667377, Test Accuracy: 0.95880000\n",
            "\n",
            "===== Entering SGD optimizer =====\n",
            "\n",
            "\n",
            "Epoch: 1/20, Train Loss: 0.76755701, Test Loss: 0.37471078, Test Accuracy: 0.89380000\n",
            "Saving the model state dictionary for Epoch: 1 with Test loss: 0.37471078\n",
            "\n",
            "Epoch: 2/20, Train Loss: 0.34834948, Test Loss: 0.30596468, Test Accuracy: 0.91350000\n",
            "Saving the model state dictionary for Epoch: 2 with Test loss: 0.30596468\n",
            "\n",
            "Epoch: 3/20, Train Loss: 0.30735651, Test Loss: 0.28992949, Test Accuracy: 0.91700000\n",
            "Saving the model state dictionary for Epoch: 3 with Test loss: 0.28992949\n",
            "\n",
            "Epoch: 4/20, Train Loss: 0.28499574, Test Loss: 0.26462725, Test Accuracy: 0.92420000\n",
            "Saving the model state dictionary for Epoch: 4 with Test loss: 0.26462725\n",
            "\n",
            "Epoch: 5/20, Train Loss: 0.26581436, Test Loss: 0.25775473, Test Accuracy: 0.92400000\n",
            "Saving the model state dictionary for Epoch: 5 with Test loss: 0.25775473\n",
            "\n",
            "Epoch: 6/20, Train Loss: 0.24837577, Test Loss: 0.23532153, Test Accuracy: 0.93140000\n",
            "Saving the model state dictionary for Epoch: 6 with Test loss: 0.23532153\n",
            "\n",
            "Epoch: 7/20, Train Loss: 0.23164250, Test Loss: 0.22131949, Test Accuracy: 0.93550000\n",
            "Saving the model state dictionary for Epoch: 7 with Test loss: 0.22131949\n",
            "\n",
            "Epoch: 8/20, Train Loss: 0.21638523, Test Loss: 0.20931760, Test Accuracy: 0.93950000\n",
            "Saving the model state dictionary for Epoch: 8 with Test loss: 0.20931760\n",
            "\n",
            "Epoch: 9/20, Train Loss: 0.20224820, Test Loss: 0.19467360, Test Accuracy: 0.94400000\n",
            "Saving the model state dictionary for Epoch: 9 with Test loss: 0.19467360\n",
            "\n",
            "Epoch: 10/20, Train Loss: 0.18981512, Test Loss: 0.18322745, Test Accuracy: 0.94620000\n",
            "Saving the model state dictionary for Epoch: 10 with Test loss: 0.18322745\n",
            "\n",
            "Epoch: 11/20, Train Loss: 0.17861428, Test Loss: 0.17471013, Test Accuracy: 0.94990000\n",
            "Saving the model state dictionary for Epoch: 11 with Test loss: 0.17471013\n",
            "\n",
            "Epoch: 12/20, Train Loss: 0.16833190, Test Loss: 0.16841133, Test Accuracy: 0.95030000\n",
            "Saving the model state dictionary for Epoch: 12 with Test loss: 0.16841133\n",
            "\n",
            "Epoch: 13/20, Train Loss: 0.15971592, Test Loss: 0.15752876, Test Accuracy: 0.95290000\n",
            "Saving the model state dictionary for Epoch: 13 with Test loss: 0.15752876\n",
            "\n",
            "Epoch: 14/20, Train Loss: 0.15114512, Test Loss: 0.15042279, Test Accuracy: 0.95510000\n",
            "Saving the model state dictionary for Epoch: 14 with Test loss: 0.15042279\n",
            "\n",
            "Epoch: 15/20, Train Loss: 0.14337704, Test Loss: 0.14493692, Test Accuracy: 0.95680000\n",
            "Saving the model state dictionary for Epoch: 15 with Test loss: 0.14493692\n",
            "\n",
            "Epoch: 16/20, Train Loss: 0.13657514, Test Loss: 0.14026330, Test Accuracy: 0.95850000\n",
            "Saving the model state dictionary for Epoch: 16 with Test loss: 0.14026330\n",
            "\n",
            "Epoch: 17/20, Train Loss: 0.13017768, Test Loss: 0.13243189, Test Accuracy: 0.96020000\n",
            "Saving the model state dictionary for Epoch: 17 with Test loss: 0.13243189\n",
            "\n",
            "Epoch: 18/20, Train Loss: 0.12410065, Test Loss: 0.13084889, Test Accuracy: 0.96060000\n",
            "Saving the model state dictionary for Epoch: 18 with Test loss: 0.13084889\n",
            "\n",
            "Epoch: 19/20, Train Loss: 0.11881388, Test Loss: 0.12691678, Test Accuracy: 0.96180000\n",
            "Saving the model state dictionary for Epoch: 19 with Test loss: 0.12691678\n",
            "\n",
            "Epoch: 20/20, Train Loss: 0.11380217, Test Loss: 0.12198821, Test Accuracy: 0.96370000\n",
            "Saving the model state dictionary for Epoch: 20 with Test loss: 0.12198821\n"
          ],
          "name": "stdout"
        }
      ]
    },
    {
      "cell_type": "code",
      "metadata": {
        "colab": {
          "base_uri": "https://localhost:8080/",
          "height": 449
        },
        "id": "n7vqWo82Jm9c",
        "outputId": "dbb5b365-8bc7-4174-c171-493dd36f634f"
      },
      "source": [
        "fig=plt.figure(figsize=(20, 10))\n",
        "plt.plot(np.arange(1, 20+1), adagrad_sparseness_list, label=\"Adagrad Sparseness\", color='g')\n",
        "plt.plot(np.arange(1, 20+1), adadelta_sparseness_list, label=\"Adadelta Sparseness\", color='b')\n",
        "plt.plot(np.arange(1, 20+1), sgd_sparseness_list, label=\"SGD Sparseness\", color='r')\n",
        "plt.xlabel('Epochs')\n",
        "plt.ylabel('Sparsity')\n",
        "plt.ylim(0, 0.3)\n",
        "plt.title(\"Sparsity Plot\")\n",
        "plt.legend(loc='best')\n",
        "plt.show()"
      ],
      "execution_count": 11,
      "outputs": [
        {
          "output_type": "display_data",
          "data": {
            "image/png": "[encoded data removed]",
            "text/plain": [
              "<Figure size 1440x720 with 1 Axes>"
            ]
          },
          "metadata": {
            "tags": [],
            "needs_background": "light"
          }
        }
      ]
    },
    {
      "cell_type": "code",
      "metadata": {
        "colab": {
          "base_uri": "https://localhost:8080/",
          "height": 449
        },
        "id": "ACiOqR2mMbUX",
        "outputId": "0c8400c9-7059-454b-a7b7-057d3ee05520"
      },
      "source": [
        "fig=plt.figure(figsize=(20, 10))\n",
        "plt.plot(np.arange(1, 20+1), adagrad_test_acc, label=\"Adagrad Test Accuracy\", color='g')\n",
        "plt.plot(np.arange(1, 20+1), adadelta_test_acc, label=\"Adadelta Test Accuracy\", color='b')\n",
        "plt.plot(np.arange(1, 20+1), sgd_test_acc, label=\"SGD Test Accuracy\", color='r')\n",
        "plt.xlabel('Epochs')\n",
        "plt.ylabel('Accuracy')\n",
        "plt.ylim(0.85, 1)\n",
        "plt.title(\"Accuracy Plot\")\n",
        "plt.legend(loc='best')\n",
        "plt.show()"
      ],
      "execution_count": 10,
      "outputs": [
        {
          "output_type": "display_data",
          "data": {
            "image/png": "[encoded data removed]",
            "text/plain": [
              "<Figure size 1440x720 with 1 Axes>"
            ]
          },
          "metadata": {
            "tags": [],
            "needs_background": "light"
          }
        }
      ]
    },
    {
      "cell_type": "code",
      "metadata": {
        "id": "FAHZcuFvTRs7"
      },
      "source": [
        ""
      ],
      "execution_count": null,
      "outputs": []
    }
  ]
}