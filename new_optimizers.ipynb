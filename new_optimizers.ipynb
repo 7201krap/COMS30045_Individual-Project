{
  "nbformat": 4,
  "nbformat_minor": 0,
  "metadata": {
    "colab": {
      "name": "my_optim_adagrad_adadelta.ipynb",
      "provenance": [],
      "collapsed_sections": [],
      "machine_shape": "hm",
      "include_colab_link": true
    },
    "kernelspec": {
      "display_name": "Python 3",
      "language": "python",
      "name": "python3"
    },
    "language_info": {
      "codemirror_mode": {
        "name": "ipython",
        "version": 3
      },
      "file_extension": ".py",
      "mimetype": "text/x-python",
      "name": "python",
      "nbconvert_exporter": "python",
      "pygments_lexer": "ipython3",
      "version": "3.8.5"
    }
  },
  "cells": [
    {
      "cell_type": "markdown",
      "metadata": {
        "id": "view-in-github",
        "colab_type": "text"
      },
      "source": [
        "<a href=\"https://colab.research.google.com/github/7201krap/PYTORCH_project/blob/main/new_optimizers.ipynb\" target=\"_parent\"><img src=\"https://colab.research.google.com/assets/colab-badge.svg\" alt=\"Open In Colab\"/></a>"
      ]
    },
    {
      "cell_type": "code",
      "metadata": {
        "id": "o7STrWa0P3z_",
        "colab": {
          "base_uri": "https://localhost:8080/"
        },
        "outputId": "5e957af0-dae0-400c-b008-196420ee65ab"
      },
      "source": [
        "import torch\n",
        "import torchvision\n",
        "import torchvision.transforms as transforms\n",
        "import matplotlib.pyplot as plt\n",
        "import numpy as np\n",
        "from torch.utils.data import DataLoader, TensorDataset\n",
        "from google.colab import drive\n",
        "drive.mount('/content/drive')"
      ],
      "execution_count": null,
      "outputs": [
        {
          "output_type": "stream",
          "text": [
            "Mounted at /content/drive\n"
          ],
          "name": "stdout"
        }
      ]
    },
    {
      "cell_type": "code",
      "metadata": {
        "id": "e0EpXz3ULfb1"
      },
      "source": [
        "!wget www.di.ens.fr/~lelarge/MNIST.tar.gz\n",
        "!tar -zxvf MNIST.tar.gz\n",
        "\n",
        "root_dir = './'\n",
        "torchvision.datasets.MNIST(root=root_dir,download=True)"
      ],
      "execution_count": null,
      "outputs": []
    },
    {
      "cell_type": "code",
      "metadata": {
        "id": "z4j9WoP-UnAm"
      },
      "source": [
        "device = torch.device('cuda' if torch.cuda.is_available() else 'cpu')"
      ],
      "execution_count": null,
      "outputs": []
    },
    {
      "cell_type": "code",
      "metadata": {
        "id": "ApOU7hvb95W4"
      },
      "source": [
        "torch.manual_seed(1234)\n",
        "np.random.seed(1234)"
      ],
      "execution_count": null,
      "outputs": []
    },
    {
      "cell_type": "code",
      "metadata": {
        "id": "rTW5TOUnP5XY"
      },
      "source": [
        "mnist_trainset = torchvision.datasets.MNIST(root=root_dir, train=True, \n",
        "                                download=True, \n",
        "                                transform=transforms.Compose([transforms.ToTensor()]))\n",
        "\n",
        "mnist_testset  = torchvision.datasets.MNIST(root=root_dir, \n",
        "                                train=False, \n",
        "                                download=True, \n",
        "                                transform=transforms.Compose([transforms.ToTensor()]))\n",
        "\n",
        "train_dataloader = torch.utils.data.DataLoader(mnist_trainset, \n",
        "                                               batch_size=50, \n",
        "                                               shuffle=True)\n",
        "\n",
        "test_dataloader  = torch.utils.data.DataLoader(mnist_testset, \n",
        "                                               batch_size=50, \n",
        "                                               shuffle=False)"
      ],
      "execution_count": null,
      "outputs": []
    },
    {
      "cell_type": "markdown",
      "metadata": {
        "id": "5nbA-TEG-oYi"
      },
      "source": [
        "## Adagrad\n",
        "\n",
        "$$\\theta_{t+1,i} = \\theta_{t,i} - \\frac{\\eta}{\\sqrt{G_{t,i}}+\\epsilon} \\cdot \\nabla_\\theta J(\\theta_{t,i})$$\n",
        "\n",
        "where:\n",
        "\n",
        "$$G_{t,i} = G_{t-1,i} + \\Big(\\nabla_\\theta J(\\theta_{t,i})\\Big)^2$$"
      ]
    },
    {
      "cell_type": "code",
      "metadata": {
        "id": "o9EZoKY68wM5"
      },
      "source": [
        "class my_Adagrad:\n",
        "    def __init__(self, model_params, lr=1e-2, init_acc_sqr_grad=0, eps=1e-10):\n",
        "        self.model_params = list(model_params)\n",
        "        self.lr = lr\n",
        "        self.acc_sqr_grads = [torch.full_like(p, init_acc_sqr_grad) for p in self.model_params]\n",
        "        self.eps = eps\n",
        "\n",
        "    def zero_grad(self):\n",
        "        for param in self.model_params:\n",
        "            param.grad = None\n",
        "\n",
        "    @torch.no_grad()\n",
        "    def step(self):\n",
        "        for param, acc_sqr_grad in zip(self.model_params, self.acc_sqr_grads):\n",
        "            acc_sqr_grad.add_(param.grad * param.grad)\n",
        "            std = acc_sqr_grad.sqrt().add(self.eps)\n",
        "            param.sub_((self.lr / std) * param.grad)"
      ],
      "execution_count": null,
      "outputs": []
    },
    {
      "cell_type": "markdown",
      "metadata": {
        "id": "FEa650h0-zUm"
      },
      "source": [
        "## Adadelta\n",
        "\n",
        "$$G_{t,i} = E[g^2]_{t,i} = G_{t-1,i} + \\Big(\\nabla_\\theta J(\\theta_{t,i})\\Big)^2$$\n",
        "\n",
        "$$g_{t,i} = \\nabla_\\theta J(\\theta_{t,i})$$\n",
        "\n",
        "$$E[g^2]_{t,i} = \\rho E[g^2]_{t-1,i} + (1-\\rho)g^2_{t,i}$$\n",
        "\n",
        "$$E[\\Delta \\theta^2]_{t-1,i} = \\rho E[\\Delta \\theta^2]_{t-2,i} + (1-\\rho)\\Delta \\theta^2_{t-1,i}$$\n",
        "\n",
        "$$\\theta_{t+1,i} = \\theta_{t,i} - \\eta \\cdot \\frac{\\sqrt{E[\\Delta \\theta^2]_{t-1,i} + \\epsilon}}{\\sqrt{E[g^2]_{t,i}+\\epsilon}} \\cdot \\nabla_\\theta J(\\theta_{t,i})$$"
      ]
    },
    {
      "cell_type": "code",
      "metadata": {
        "id": "kD-WmjEc8x-C"
      },
      "source": [
        "class my_Adadelta:\n",
        "    def __init__(self, model_params, lr=1.0, rho=0.9, eps=1e-6):\n",
        "        self.model_params = list(model_params)\n",
        "        self.lr = lr\n",
        "        self.rho = rho\n",
        "        self.eps = eps\n",
        "        self.avg_sqr_grads = [torch.zeros_like(p) for p in self.model_params]\n",
        "        self.avg_sqr_deltas = [torch.zeros_like(p) for p in self.model_params] \n",
        "\n",
        "    def zero_grad(self):\n",
        "        for param in self.model_params:\n",
        "            param.grad = None\n",
        "\n",
        "    @torch.no_grad()\n",
        "    def step(self):\n",
        "        for param, avg_sqr_grad, avg_sqr_delta in zip(self.model_params, \\\n",
        "                                                      self.avg_sqr_grads, \\\n",
        "                                                      self.avg_sqr_deltas):\n",
        "            avg_sqr_grad.mul_(self.rho).add_(param.grad * param.grad * (1 - self.rho))\n",
        "            std = avg_sqr_grad.add(self.eps).sqrt()\n",
        "            delta = avg_sqr_delta.add(self.eps).sqrt().div(std).mul(param.grad)\n",
        "            param.sub_(self.lr * delta)\n",
        "            avg_sqr_delta.mul_(self.rho).add_(delta * delta * (1 - self.rho))"
      ],
      "execution_count": null,
      "outputs": []
    },
    {
      "cell_type": "code",
      "metadata": {
        "id": "IXTkEUJ5P6kU"
      },
      "source": [
        "# ************* modify this section for later use *************\n",
        "# Define the model \n",
        "class Model(torch.nn.Module):\n",
        "    def __init__(self):\n",
        "        super(Model, self).__init__()\n",
        "        # modify this section for later use \n",
        "        self.linear_1 = torch.nn.Linear(784, 256)\n",
        "        self.linear_2 = torch.nn.Linear(256, 10)\n",
        "        self.sigmoid12  = torch.nn.Sigmoid()\n",
        "\n",
        "        self.layer_activations = dict()\n",
        "\n",
        "    def forward(self, x):\n",
        "\n",
        "        # modify this section for later use \n",
        "        x = x.reshape(x.size(0), -1)\n",
        "        x = self.linear_1(x)\n",
        "        x = self.sigmoid12(x)\n",
        "        pred = self.linear_2(x)\n",
        "        return pred\n",
        "# ************* modify this section for later use *************"
      ],
      "execution_count": null,
      "outputs": []
    },
    {
      "cell_type": "code",
      "metadata": {
        "id": "BfgvKH6eP9Ou"
      },
      "source": [
        "def get_activation(model, layer_name):    \n",
        "    def hook(module, input, output):\n",
        "        model.layer_activations[layer_name] = output\n",
        "    return hook"
      ],
      "execution_count": null,
      "outputs": []
    },
    {
      "cell_type": "code",
      "metadata": {
        "id": "OCEw3Ov3Lk5X"
      },
      "source": [
        "def sparsity_calculator(final_spareness):\n",
        "    sparseness_list = list()\n",
        "    for single_epoch_spareness in final_spareness:\n",
        "\n",
        "        hidden_layer_activation_list = single_epoch_spareness\n",
        "        hidden_layer_activation_list = torch.stack(hidden_layer_activation_list)\n",
        "        layer_activations_list = torch.reshape(hidden_layer_activation_list, (10000, 256))\n",
        "\n",
        "        layer_activations_list = torch.abs(layer_activations_list)  # modified \n",
        "        num_neurons = layer_activations_list.shape[1]\n",
        "        population_sparseness = (np.sqrt(num_neurons) - (torch.sum(layer_activations_list, dim=1) / torch.sqrt(torch.sum(layer_activations_list ** 2, dim=1)))) / (np.sqrt(num_neurons) - 1)\n",
        "        mean_sparseness_per_epoch = torch.mean(population_sparseness)\n",
        "\n",
        "        sparseness_list.append(mean_sparseness_per_epoch)\n",
        "\n",
        "    return sparseness_list"
      ],
      "execution_count": null,
      "outputs": []
    },
    {
      "cell_type": "code",
      "metadata": {
        "id": "PvHGO5RSvi6I"
      },
      "source": [
        "def selectivity(hidden_layer_each_neuron):\n",
        "    __selectivity__ = list()\n",
        "    # I will now try to find the average of each class for each neuron.\n",
        "    # check out the next cell \n",
        "    avg_activations = [dict() for x in range(256)]\n",
        "    for i, neuron in enumerate(hidden_layer_each_neuron):\n",
        "        for k, v in neuron.items():\n",
        "            # v is the list of activations for hidden layer's neuron k \n",
        "            avg_activations[i][k] = sum(v) / float(len(v))\n",
        "\n",
        "    # generate 256 lists to get only values in avg_activations\n",
        "    only_activation_vals = [list() for x in range(256)]\n",
        "\n",
        "    # get only values from avg_activations\n",
        "    for i, avg_activation in enumerate(avg_activations):\n",
        "        for value in avg_activation.values():\n",
        "            only_activation_vals[i].append(value)\n",
        "\n",
        "\n",
        "    for activation_val in only_activation_vals:\n",
        "        # find u_max \n",
        "        u_max = np.max(activation_val)\n",
        "\n",
        "        # find u_minus_max \n",
        "        u_minus_max = (np.sum(activation_val) - u_max) / 9\n",
        "\n",
        "        # find selectivity \n",
        "        selectivity = (u_max - u_minus_max) / (u_max + u_minus_max)\n",
        "\n",
        "        # append selectivity value to selectivity\n",
        "        __selectivity__.append(selectivity)\n",
        "\n",
        "    avg_selectivity = np.average(__selectivity__)\n",
        "    std_selectivity = np.std(__selectivity__)\n",
        "                                 \n",
        "    return avg_selectivity, std_selectivity"
      ],
      "execution_count": null,
      "outputs": []
    },
    {
      "cell_type": "code",
      "metadata": {
        "id": "nUHSwHZqLm3Y"
      },
      "source": [
        "# ************* modify this section for later use *************\n",
        "def avg_std_calculator(_hidden_layer_each_neuron_12):\n",
        "\n",
        "    avg_selectivity12, std_selectivity12 = selectivity(_hidden_layer_each_neuron_12)\n",
        "\n",
        "    final_selectivity_avg = (avg_selectivity12) / 1\n",
        "    final_selecvitity_std = (std_selectivity12) / 1\n",
        "\n",
        "    return final_selectivity_avg, final_selecvitity_std\n",
        "# ************* modify this section for later use *************"
      ],
      "execution_count": null,
      "outputs": []
    },
    {
      "cell_type": "code",
      "metadata": {
        "id": "j5PUiBNqUImf"
      },
      "source": [
        "def model_factory(optimizer_name):\n",
        "    '''\n",
        "    optimizer_name : choose one of Adagrad, Adadelta, SGD, and Adam \n",
        "\n",
        "    '''\n",
        "    my_model = Model()\n",
        "    print(\"my_model:\", my_model)\n",
        "    my_model.to(device)\n",
        "\n",
        "    # ************* modify this section for later use *************\n",
        "    my_model.sigmoid12.register_forward_hook(get_activation(my_model, 's12'))\n",
        "    # ************* modify this section for later use *************\n",
        "\n",
        "    if optimizer_name == 'Adadelta':\n",
        "        my_optimizer = torch.optim.Adadelta(my_model.parameters(), lr=1.0)\n",
        "\n",
        "    # my adadelta \n",
        "    elif optimizer_name == 'my_Adadelta':\n",
        "        my_optimizer = my_Adadelta(my_model.parameters(), lr=1.0)\n",
        "\n",
        "    elif optimizer_name == 'Adagrad':\n",
        "        my_optimizer = torch.optim.Adagrad(my_model.parameters(), lr=0.1)\n",
        "\n",
        "    # my adagrad\n",
        "    elif optimizer_name == 'my_Adagrad':\n",
        "        my_optimizer = my_Adagrad(my_model.parameters(), lr=0.1)\n",
        "\n",
        "    else:\n",
        "        print(\"ERROR\")\n",
        "    \n",
        "    print(\"my_optimizer:\", my_optimizer)\n",
        "    test_acc, sparsity, selectivity_list_avg, selectivity_list_std = selectivity_trainer(optimizer=my_optimizer, model=my_model)\n",
        "    # ************* modify this section for later use *************\n",
        "    file_saver = open(f\"sparsity_selectivity_4_optim_{optimizer_name}.txt\", \"w\")\n",
        "    # ************* modify this section for later use *************\n",
        "    file_saver.write(str(test_acc)+'\\n'+str(sparsity)+'\\n'+str(selectivity_list_avg)+'\\n'+str(selectivity_list_std)+'\\n\\n')\n",
        "    file_saver.close()\n",
        "\n",
        "    # ************* modify this section for later use *************\n",
        "    if optimizer_name == 'Adadelta':\n",
        "        !cp sparsity_selectivity_4_optim_Adadelta.txt /content/drive/MyDrive\n",
        "\n",
        "    elif optimizer_name == 'my_Adadelta':\n",
        "        !cp sparsity_selectivity_4_optim_my_Adadelta.txt /content/drive/MyDrive\n",
        "        print(\"Done!\")\n",
        "    \n",
        "    elif optimizer_name == 'Adagrad':\n",
        "        !cp sparsity_selectivity_4_optim_Adagrad.txt /content/drive/MyDrive\n",
        "\n",
        "    elif optimizer_name == 'my_Adagrad':\n",
        "        !cp sparsity_selectivity_4_optim_my_Adagrad.txt /content/drive/MyDrive\n",
        "        print(\"Done!\")\n",
        "    # ************* modify this section for later use *************\n",
        "\n",
        "    else:\n",
        "        print(\"ERROR\")"
      ],
      "execution_count": null,
      "outputs": []
    },
    {
      "cell_type": "code",
      "metadata": {
        "id": "BXOpwTXEQFKY"
      },
      "source": [
        "no_epochs = 5\n",
        "def selectivity_trainer(optimizer, model):\n",
        "\n",
        "    criterion = torch.nn.CrossEntropyLoss()\n",
        "    train_loss = list()\n",
        "    test_loss  = list()\n",
        "    test_acc   = list()\n",
        "\n",
        "    best_test_loss = 1\n",
        "\n",
        "    selectivity_avg_list = list()\n",
        "    selectivity_std_list = list()\n",
        "\n",
        "    # ************* modify this section for later use *************\n",
        "    final_spareness_12 = list()\n",
        "    # ************* modify this section for later use *************\n",
        "\n",
        "    for epoch in range(no_epochs):\n",
        "\n",
        "        # ************* modify this section for later use *************\n",
        "        hidden_layer_each_neuron_12 = [{0:[], 1:[], 2:[], 3:[], 4:[], 5:[], 6:[], 7:[], 8:[], 9:[]} for x in range(256)]\n",
        "        hidden_layer_each_neuron_12 = np.array(hidden_layer_each_neuron_12)\n",
        "        # ************* modify this section for later use *************\n",
        "\n",
        "\n",
        "        total_train_loss = 0\n",
        "        total_test_loss = 0\n",
        "\n",
        "        # ************* modify this section for later use *************\n",
        "        hidden_layer_activation_list_12 = list()\n",
        "        # ************* modify this section for later use *************\n",
        "\n",
        "        # training\n",
        "        # set up training mode \n",
        "        model.train()\n",
        "\n",
        "        for itr, (images, labels) in enumerate(train_dataloader):\n",
        "            images, labels = images.to(device), labels.to(device)\n",
        "\n",
        "            optimizer.zero_grad()\n",
        "\n",
        "            pred = model(images)\n",
        "\n",
        "            loss = criterion(pred, labels)\n",
        "            total_train_loss += loss.item()\n",
        "\n",
        "            loss.backward()\n",
        "            optimizer.step()\n",
        "\n",
        "        total_train_loss = total_train_loss / (itr + 1)\n",
        "        train_loss.append(total_train_loss)\n",
        "\n",
        "        # testing \n",
        "        # change to evaluation mode \n",
        "        model.eval()\n",
        "        total = 0\n",
        "        for itr, (images, labels) in enumerate(test_dataloader):\n",
        "            images, labels = images.to(device), labels.to(device)\n",
        "\n",
        "            pred = model(images)\n",
        "\n",
        "            loss = criterion(pred, labels)\n",
        "            total_test_loss += loss.item()\n",
        "\n",
        "            # we now need softmax because we are testing.\n",
        "            pred = torch.nn.functional.softmax(pred, dim=1)\n",
        "            for i, p in enumerate(pred):\n",
        "                if labels[i] == torch.max(p.data, 0)[1]:\n",
        "                    total = total + 1\n",
        "\n",
        "            # ***************** sparsity calculation ***************** #\n",
        "            hidden_layer_activation_list_12.append(model.layer_activations['s12'])\n",
        "\n",
        "            # ************* modify this section for later use *************\n",
        "            for activation, label in zip(model.layer_activations['s12'], labels):\n",
        "                label = label.item()\n",
        "                with torch.no_grad():\n",
        "                    activation = activation.numpy()\n",
        "                for i in range(256):    \n",
        "                    hidden_layer_each_neuron_12[i][label].append(activation[i])\n",
        "    \n",
        "        selectivity_avg, selecvitity_std = avg_std_calculator(hidden_layer_each_neuron_12)\n",
        "        # ************* modify this section for later use *************\n",
        "        \n",
        "        selectivity_avg_list.append(selectivity_avg)\n",
        "        selectivity_std_list.append(selecvitity_std)\n",
        "\n",
        "        # this conains activations for all epochs \n",
        "        final_spareness_12.append(hidden_layer_activation_list_12)\n",
        "        # ***************** sparsity calculation ***************** #\n",
        "\n",
        "        # caculate accuracy \n",
        "        accuracy = total / len(mnist_testset)\n",
        "\n",
        "        # append accuracy here\n",
        "        test_acc.append(accuracy)\n",
        "\n",
        "        # append test loss here \n",
        "        total_test_loss = total_test_loss / (itr + 1)\n",
        "        test_loss.append(total_test_loss)\n",
        "\n",
        "        print('\\nEpoch: {}/{}, Train Loss: {:.8f}, Test Loss: {:.8f}, Test Accuracy: {:.8f}'.format(epoch + 1, no_epochs, total_train_loss, total_test_loss, accuracy))\n",
        "\n",
        "    # ***************** sparsity calculation ***************** #\n",
        "    sparsity_list12 = sparsity_calculator(final_spareness_12)\n",
        "\n",
        "    print(sparsity_list12)\n",
        "\n",
        "    average_sparsity = list()\n",
        "    for i in range(no_epochs):\n",
        "        average_sparsity.append( (sparsity_list12[i].item()) / 1 )\n",
        "    # ***************** sparsity calculation ***************** #\n",
        "\n",
        "    print(\"average_sparsity:\", average_sparsity)\n",
        "    print(\"selectivity_avg_list\", selectivity_avg_list)\n",
        "    print(\"selectivity_std_list\", selectivity_std_list)\n",
        "\n",
        "    return test_acc, average_sparsity, selectivity_avg_list, selectivity_std_list"
      ],
      "execution_count": null,
      "outputs": []
    },
    {
      "cell_type": "markdown",
      "metadata": {
        "id": "ILIJTJb2UdfI"
      },
      "source": [
        "# Adadelta"
      ]
    },
    {
      "cell_type": "code",
      "metadata": {
        "colab": {
          "base_uri": "https://localhost:8080/"
        },
        "id": "WGV_8Kht8XG9",
        "outputId": "acb6fc1f-d501-422d-91c1-448f696132fb"
      },
      "source": [
        "model_factory('Adadelta')"
      ],
      "execution_count": null,
      "outputs": [
        {
          "output_type": "stream",
          "text": [
            "my_model: Model(\n",
            "  (linear_1): Linear(in_features=784, out_features=256, bias=True)\n",
            "  (linear_2): Linear(in_features=256, out_features=10, bias=True)\n",
            "  (sigmoid12): Sigmoid()\n",
            ")\n",
            "my_optimizer: Adadelta (\n",
            "Parameter Group 0\n",
            "    eps: 1e-06\n",
            "    lr: 1.0\n",
            "    rho: 0.9\n",
            "    weight_decay: 0\n",
            ")\n",
            "\n",
            "Epoch: 1/5, Train Loss: 0.43482734, Test Loss: 0.25056329, Test Accuracy: 0.92680000\n",
            "\n",
            "Epoch: 2/5, Train Loss: 0.21552304, Test Loss: 0.17478676, Test Accuracy: 0.94670000\n",
            "\n",
            "Epoch: 3/5, Train Loss: 0.15641612, Test Loss: 0.13820603, Test Accuracy: 0.95740000\n",
            "\n",
            "Epoch: 4/5, Train Loss: 0.12157689, Test Loss: 0.11924306, Test Accuracy: 0.96300000\n",
            "\n",
            "Epoch: 5/5, Train Loss: 0.09919056, Test Loss: 0.09831683, Test Accuracy: 0.96860000\n",
            "[tensor(0.2028, grad_fn=<MeanBackward0>), tensor(0.2540, grad_fn=<MeanBackward0>), tensor(0.2806, grad_fn=<MeanBackward0>), tensor(0.2913, grad_fn=<MeanBackward0>), tensor(0.2996, grad_fn=<MeanBackward0>)]\n",
            "average_sparsity: [0.2028178870677948, 0.25404423475265503, 0.2805868685245514, 0.2913151979446411, 0.2995907962322235]\n",
            "selectivity_avg_list [0.33878652588960334, 0.3782786442254449, 0.3959927644886841, 0.4013597239350471, 0.40567410683074223]\n",
            "selectivity_std_list [0.13521990324607178, 0.16289662295631974, 0.16889960023262854, 0.17032663009481436, 0.1738985544477756]\n"
          ],
          "name": "stdout"
        }
      ]
    },
    {
      "cell_type": "markdown",
      "metadata": {
        "id": "l3_rfw5p8Xmh"
      },
      "source": [
        "# My_Adadelta"
      ]
    },
    {
      "cell_type": "code",
      "metadata": {
        "id": "5UH0qDnFUfaD",
        "colab": {
          "base_uri": "https://localhost:8080/"
        },
        "outputId": "552ad55f-26e3-45de-c691-bac47a8df794"
      },
      "source": [
        "model_factory('my_Adadelta')"
      ],
      "execution_count": null,
      "outputs": [
        {
          "output_type": "stream",
          "text": [
            "my_model: Model(\n",
            "  (linear_1): Linear(in_features=784, out_features=256, bias=True)\n",
            "  (linear_2): Linear(in_features=256, out_features=10, bias=True)\n",
            "  (sigmoid12): Sigmoid()\n",
            ")\n",
            "my_optimizer: <__main__.my_Adadelta object at 0x7f680b04ca50>\n",
            "\n",
            "Epoch: 1/5, Train Loss: 0.43564048, Test Loss: 0.24922976, Test Accuracy: 0.92730000\n",
            "\n",
            "Epoch: 2/5, Train Loss: 0.21523961, Test Loss: 0.18878218, Test Accuracy: 0.94460000\n",
            "\n",
            "Epoch: 3/5, Train Loss: 0.15573717, Test Loss: 0.13573108, Test Accuracy: 0.95960000\n",
            "\n",
            "Epoch: 4/5, Train Loss: 0.12203593, Test Loss: 0.11683941, Test Accuracy: 0.96460000\n",
            "\n",
            "Epoch: 5/5, Train Loss: 0.09896716, Test Loss: 0.10713705, Test Accuracy: 0.96720000\n",
            "[tensor(0.2004, grad_fn=<MeanBackward0>), tensor(0.2554, grad_fn=<MeanBackward0>), tensor(0.2804, grad_fn=<MeanBackward0>), tensor(0.2948, grad_fn=<MeanBackward0>), tensor(0.3095, grad_fn=<MeanBackward0>)]\n",
            "average_sparsity: [0.20044071972370148, 0.25540196895599365, 0.28042998909950256, 0.29477986693382263, 0.30945998430252075]\n",
            "selectivity_avg_list [0.3433348644890538, 0.3842197859780888, 0.3993558639589194, 0.4065206287847879, 0.4130835456646359]\n",
            "selectivity_std_list [0.13731236464216473, 0.15928044423190013, 0.16300904643968317, 0.16790043349839281, 0.1693292956407054]\n",
            "Done!\n"
          ],
          "name": "stdout"
        }
      ]
    },
    {
      "cell_type": "markdown",
      "metadata": {
        "id": "8hXfQe4vMDKB"
      },
      "source": [
        "# AdaGrad"
      ]
    },
    {
      "cell_type": "code",
      "metadata": {
        "id": "vb-4TPM5MGuE",
        "colab": {
          "base_uri": "https://localhost:8080/"
        },
        "outputId": "bb1ee0c5-e494-43c0-9365-6ab043da0a3a"
      },
      "source": [
        "model_factory('Adagrad')"
      ],
      "execution_count": null,
      "outputs": [
        {
          "output_type": "stream",
          "text": [
            "my_model: Model(\n",
            "  (linear_1): Linear(in_features=784, out_features=256, bias=True)\n",
            "  (linear_2): Linear(in_features=256, out_features=10, bias=True)\n",
            "  (sigmoid12): Sigmoid()\n",
            ")\n",
            "my_optimizer: Adagrad (\n",
            "Parameter Group 0\n",
            "    eps: 1e-10\n",
            "    initial_accumulator_value: 0\n",
            "    lr: 0.1\n",
            "    lr_decay: 0\n",
            "    weight_decay: 0\n",
            ")\n",
            "\n",
            "Epoch: 1/5, Train Loss: 0.22325323, Test Loss: 0.11302156, Test Accuracy: 0.96660000\n",
            "\n",
            "Epoch: 2/5, Train Loss: 0.09112374, Test Loss: 0.09594058, Test Accuracy: 0.97090000\n",
            "\n",
            "Epoch: 3/5, Train Loss: 0.06360063, Test Loss: 0.07820790, Test Accuracy: 0.97480000\n",
            "\n",
            "Epoch: 4/5, Train Loss: 0.04768393, Test Loss: 0.07380665, Test Accuracy: 0.97640000\n",
            "\n",
            "Epoch: 5/5, Train Loss: 0.03752631, Test Loss: 0.06980396, Test Accuracy: 0.97780000\n",
            "[tensor(0.6192, grad_fn=<MeanBackward0>), tensor(0.6163, grad_fn=<MeanBackward0>), tensor(0.6158, grad_fn=<MeanBackward0>), tensor(0.6132, grad_fn=<MeanBackward0>), tensor(0.6102, grad_fn=<MeanBackward0>)]\n",
            "average_sparsity: [0.6191574335098267, 0.6163158416748047, 0.6158474683761597, 0.6131682991981506, 0.6101804971694946]\n",
            "selectivity_avg_list [0.7030816600167382, 0.6966754637301528, 0.6960261925927547, 0.6926159865373231, 0.6864749303606839]\n",
            "selectivity_std_list [0.19005271479746286, 0.19364211480914545, 0.19026900121298473, 0.18877301620774448, 0.1872447353886785]\n"
          ],
          "name": "stdout"
        }
      ]
    },
    {
      "cell_type": "markdown",
      "metadata": {
        "id": "aR1XBn9r8g-Z"
      },
      "source": [
        "# My_Adagrad"
      ]
    },
    {
      "cell_type": "code",
      "metadata": {
        "colab": {
          "base_uri": "https://localhost:8080/"
        },
        "id": "3qqN9j-o8jgB",
        "outputId": "5c929331-0e32-4065-ab31-b705118d895b"
      },
      "source": [
        "model_factory('my_Adagrad')"
      ],
      "execution_count": null,
      "outputs": [
        {
          "output_type": "stream",
          "text": [
            "my_model: Model(\n",
            "  (linear_1): Linear(in_features=784, out_features=256, bias=True)\n",
            "  (linear_2): Linear(in_features=256, out_features=10, bias=True)\n",
            "  (sigmoid12): Sigmoid()\n",
            ")\n",
            "my_optimizer: <__main__.my_Adagrad object at 0x7f680b080a90>\n",
            "\n",
            "Epoch: 1/5, Train Loss: 0.23134425, Test Loss: 0.11966350, Test Accuracy: 0.96380000\n",
            "\n",
            "Epoch: 2/5, Train Loss: 0.09292100, Test Loss: 0.09681705, Test Accuracy: 0.97110000\n",
            "\n",
            "Epoch: 3/5, Train Loss: 0.06462805, Test Loss: 0.08211373, Test Accuracy: 0.97350000\n",
            "\n",
            "Epoch: 4/5, Train Loss: 0.04858916, Test Loss: 0.07797916, Test Accuracy: 0.97570000\n",
            "\n",
            "Epoch: 5/5, Train Loss: 0.03835228, Test Loss: 0.07312019, Test Accuracy: 0.97770000\n",
            "[tensor(0.6784, grad_fn=<MeanBackward0>), tensor(0.6739, grad_fn=<MeanBackward0>), tensor(0.6650, grad_fn=<MeanBackward0>), tensor(0.6588, grad_fn=<MeanBackward0>), tensor(0.6531, grad_fn=<MeanBackward0>)]\n",
            "average_sparsity: [0.678361713886261, 0.673949122428894, 0.6649590730667114, 0.6588433384895325, 0.6530539393424988]\n",
            "selectivity_avg_list [0.7152972898240029, 0.7051986158381084, 0.6963351320864972, 0.6856790415267415, 0.6847317182744516]\n",
            "selectivity_std_list [0.18581165215582832, 0.18234271268530455, 0.1800821493977547, 0.17734170310962918, 0.17429328982639034]\n",
            "Done!\n"
          ],
          "name": "stdout"
        }
      ]
    }
  ]
}