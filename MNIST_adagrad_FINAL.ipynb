{
  "nbformat": 4,
  "nbformat_minor": 0,
  "metadata": {
    "colab": {
      "name": "MNIST_adagrad_FINAL.ipynb",
      "provenance": [],
      "collapsed_sections": [],
      "authorship_tag": "ABX9TyPVxp+l2oraSBiyJv8Df0nW",
      "include_colab_link": true
    },
    "kernelspec": {
      "name": "python3",
      "display_name": "Python 3"
    }
  },
  "cells": [
    {
      "cell_type": "markdown",
      "metadata": {
        "id": "view-in-github",
        "colab_type": "text"
      },
      "source": [
        "<a href=\"https://colab.research.google.com/github/7201krap/PYTORCH_introduction_to_pytorch/blob/main/MNIST_adagrad_FINAL.ipynb\" target=\"_parent\"><img src=\"https://colab.research.google.com/assets/colab-badge.svg\" alt=\"Open In Colab\"/></a>"
      ]
    },
    {
      "cell_type": "code",
      "metadata": {
        "id": "ILmezTC4u3Od"
      },
      "source": [
        "import torch\n",
        "from torchvision import transforms\n",
        "import torchvision.datasets as datasets\n",
        "import matplotlib.pyplot as plt\n",
        "import numpy as np"
      ],
      "execution_count": 4,
      "outputs": []
    },
    {
      "cell_type": "code",
      "metadata": {
        "colab": {
          "base_uri": "https://localhost:8080/"
        },
        "id": "aekhz1Ezu6IT",
        "outputId": "b3dcffb4-9d58-4f0c-fb11-be2a073875f9"
      },
      "source": [
        "mnist_trainset = datasets.MNIST(root='./data', train=True, \n",
        "                                download=True, \n",
        "                                transform=transforms.Compose([transforms.ToTensor()]))\n",
        "\n",
        "mnist_testset  = datasets.MNIST(root='./data', \n",
        "                                train=False, \n",
        "                                download=True, \n",
        "                                transform=transforms.Compose([transforms.ToTensor()]))\n",
        "\n",
        "train_dataloader = torch.utils.data.DataLoader(mnist_trainset, \n",
        "                                               batch_size=50, \n",
        "                                               shuffle=True)\n",
        "\n",
        "test_dataloader  = torch.utils.data.DataLoader(mnist_testset, \n",
        "                                               batch_size=50, \n",
        "                                               shuffle=False)\n",
        "\n",
        "print(\"Training dataset size: \", len(mnist_trainset))\n",
        "print(\"Testing dataset size: \",  len(mnist_testset))"
      ],
      "execution_count": 5,
      "outputs": [
        {
          "output_type": "stream",
          "text": [
            "Training dataset size:  60000\n",
            "Testing dataset size:  10000\n"
          ],
          "name": "stdout"
        }
      ]
    },
    {
      "cell_type": "code",
      "metadata": {
        "colab": {
          "base_uri": "https://localhost:8080/",
          "height": 223
        },
        "id": "LsV21OIivXP7",
        "outputId": "dc7fb410-f6df-45ce-cf92-017353c2a4b0"
      },
      "source": [
        "# visualize data\n",
        "fig=plt.figure(figsize=(20, 10))\n",
        "for i in range(1, 6):\n",
        "    img = transforms.ToPILImage(mode='L')(mnist_trainset[i][0])\n",
        "    fig.add_subplot(1, 6, i)\n",
        "    plt.title(mnist_trainset[i][1])\n",
        "    plt.imshow(img)\n",
        "plt.show()"
      ],
      "execution_count": 6,
      "outputs": [
        {
          "output_type": "display_data",
          "data": {
            "image/png": "[encoded data removed]",
            "text/plain": [
              "<Figure size 1440x720 with 5 Axes>"
            ]
          },
          "metadata": {
            "tags": [],
            "needs_background": "light"
          }
        }
      ]
    },
    {
      "cell_type": "code",
      "metadata": {
        "id": "OHfYcmHBu91z"
      },
      "source": [
        "# Define the model \n",
        "class Model(torch.nn.Module):\n",
        "    def __init__(self):\n",
        "        super(Model, self).__init__()\n",
        "        self.linear_1 = torch.nn.Linear(784, 256)\n",
        "        self.linear_2 = torch.nn.Linear(256, 10)\n",
        "        self.sigmoid  = torch.nn.Sigmoid()\n",
        "\n",
        "    def forward(self, x):\n",
        "        x = x.reshape(x.size(0), -1)\n",
        "        x = self.linear_1(x)\n",
        "        x = self.sigmoid(x)\n",
        "        pred = self.linear_2(x)\n",
        "\n",
        "        return pred\n",
        "\n",
        "model = Model()"
      ],
      "execution_count": 7,
      "outputs": []
    },
    {
      "cell_type": "code",
      "metadata": {
        "colab": {
          "base_uri": "https://localhost:8080/"
        },
        "id": "fN0Z1tEnt8hk",
        "outputId": "c1eb5cf3-808f-4b32-e78c-f6782d871110"
      },
      "source": [
        "def get_activation():    \n",
        "    def hook(module, input, output):\n",
        "        model.layer_activations = output\n",
        "    return hook\n",
        "    \n",
        "model.linear_1.register_forward_hook(get_activation())"
      ],
      "execution_count": 8,
      "outputs": [
        {
          "output_type": "execute_result",
          "data": {
            "text/plain": [
              "<torch.utils.hooks.RemovableHandle at 0x7f72506a6da0>"
            ]
          },
          "metadata": {
            "tags": []
          },
          "execution_count": 8
        }
      ]
    },
    {
      "cell_type": "code",
      "metadata": {
        "id": "s00GRNQNvBji"
      },
      "source": [
        "# adagrad \n",
        "adagrad_optimizer  = torch.optim.Adagrad(model.parameters(), lr=0.1)"
      ],
      "execution_count": 9,
      "outputs": []
    },
    {
      "cell_type": "code",
      "metadata": {
        "id": "rwbe2TTLwKPd"
      },
      "source": [
        "# trainer \n",
        "no_epochs = 20\n",
        "\n",
        "def my_trainer(optimizer, model):\n",
        "\n",
        "    criterion = torch.nn.CrossEntropyLoss()\n",
        "\n",
        "    train_loss = list()\n",
        "    test_loss  = list()\n",
        "    test_acc   = list()\n",
        "\n",
        "    # define activation list \n",
        "    hidden_layer_activation_list = list()\n",
        "\n",
        "    best_test_loss = 1\n",
        "\n",
        "    for epoch in range(no_epochs):\n",
        "        total_train_loss = 0\n",
        "        total_test_loss = 0\n",
        "\n",
        "        # training\n",
        "        # set up training mode \n",
        "        model.train()\n",
        "    \n",
        "        for itr, (image, label) in enumerate(train_dataloader):\n",
        "\n",
        "            optimizer.zero_grad()\n",
        "\n",
        "            pred = model(image)\n",
        "\n",
        "            loss = criterion(pred, label)\n",
        "            total_train_loss += loss.item()\n",
        "\n",
        "            loss.backward()\n",
        "            optimizer.step()\n",
        "\n",
        "            # Print/Append activation of the hidden layer \n",
        "            # print(model.layer_activations.shape)\n",
        "            hidden_layer_activation_list.append(model.layer_activations)\n",
        "\n",
        "        total_train_loss = total_train_loss / (itr + 1)\n",
        "        train_loss.append(total_train_loss)\n",
        "\n",
        "        # testing \n",
        "        # change to evaluation mode \n",
        "        model.eval()\n",
        "        total = 0\n",
        "        for itr, (image, label) in enumerate(test_dataloader):\n",
        "\n",
        "            pred = model(image)\n",
        "\n",
        "            loss = criterion(pred, label)\n",
        "            total_test_loss += loss.item()\n",
        "\n",
        "            # we now need softmax because we are testing.\n",
        "            pred = torch.nn.functional.softmax(pred, dim=1)\n",
        "            for i, p in enumerate(pred):\n",
        "                if label[i] == torch.max(p.data, 0)[1]:\n",
        "                    total = total + 1\n",
        "\n",
        "        # caculate accuracy \n",
        "        accuracy = total / len(mnist_testset)\n",
        "\n",
        "        # append accuracy here\n",
        "        test_acc.append(accuracy)\n",
        "\n",
        "        # append test loss here \n",
        "        total_test_loss = total_test_loss / (itr + 1)\n",
        "        test_loss.append(total_test_loss)\n",
        "\n",
        "        print('\\nEpoch: {}/{}, Train Loss: {:.8f}, Test Loss: {:.8f}, Test Accuracy: {:.8f}'.format(epoch + 1, no_epochs, total_train_loss, total_test_loss, accuracy))\n",
        "\n",
        "        if total_test_loss < best_test_loss:\n",
        "            best_test_loss = total_test_loss\n",
        "            print(\"Saving the model state dictionary for Epoch: {} with Test loss: {:.8f}\".format(epoch + 1, total_test_loss))\n",
        "            torch.save(model.state_dict(), \"model.dth\")\n",
        "\n",
        "    return no_epochs, test_acc, test_loss, hidden_layer_activation_list"
      ],
      "execution_count": 10,
      "outputs": []
    },
    {
      "cell_type": "code",
      "metadata": {
        "colab": {
          "base_uri": "https://localhost:8080/"
        },
        "id": "rJB8vJczu9RM",
        "outputId": "4acc214c-77d5-4032-92cf-f5a93dc573d9"
      },
      "source": [
        "print(\"\\n===== Entering Adagrad optimizer =====\\n\")\n",
        "adagrad_no_epochs,  adagrad_test_acc, adagrad_test_loss, adagrad_hidden_layer_activation_list   = my_trainer(optimizer=adagrad_optimizer, model=model)"
      ],
      "execution_count": 11,
      "outputs": [
        {
          "output_type": "stream",
          "text": [
            "\n",
            "===== Entering Adagrad optimizer =====\n",
            "\n",
            "\n",
            "Epoch: 1/20, Train Loss: 0.23588285, Test Loss: 0.12202381, Test Accuracy: 0.96300000\n",
            "Saving the model state dictionary for Epoch: 1 with Test loss: 0.12202381\n",
            "\n",
            "Epoch: 2/20, Train Loss: 0.09488135, Test Loss: 0.09074931, Test Accuracy: 0.97170000\n",
            "Saving the model state dictionary for Epoch: 2 with Test loss: 0.09074931\n",
            "\n",
            "Epoch: 3/20, Train Loss: 0.06617821, Test Loss: 0.08113048, Test Accuracy: 0.97310000\n",
            "Saving the model state dictionary for Epoch: 3 with Test loss: 0.08113048\n",
            "\n",
            "Epoch: 4/20, Train Loss: 0.04967527, Test Loss: 0.07593738, Test Accuracy: 0.97610000\n",
            "Saving the model state dictionary for Epoch: 4 with Test loss: 0.07593738\n",
            "\n",
            "Epoch: 5/20, Train Loss: 0.03886569, Test Loss: 0.07064993, Test Accuracy: 0.97710000\n",
            "Saving the model state dictionary for Epoch: 5 with Test loss: 0.07064993\n",
            "\n",
            "Epoch: 6/20, Train Loss: 0.03122390, Test Loss: 0.06679255, Test Accuracy: 0.97810000\n",
            "Saving the model state dictionary for Epoch: 6 with Test loss: 0.06679255\n",
            "\n",
            "Epoch: 7/20, Train Loss: 0.02551461, Test Loss: 0.06788626, Test Accuracy: 0.97810000\n",
            "\n",
            "Epoch: 8/20, Train Loss: 0.02105728, Test Loss: 0.06569882, Test Accuracy: 0.97880000\n",
            "Saving the model state dictionary for Epoch: 8 with Test loss: 0.06569882\n",
            "\n",
            "Epoch: 9/20, Train Loss: 0.01792965, Test Loss: 0.06434592, Test Accuracy: 0.97940000\n",
            "Saving the model state dictionary for Epoch: 9 with Test loss: 0.06434592\n",
            "\n",
            "Epoch: 10/20, Train Loss: 0.01510773, Test Loss: 0.06244258, Test Accuracy: 0.98040000\n",
            "Saving the model state dictionary for Epoch: 10 with Test loss: 0.06244258\n",
            "\n",
            "Epoch: 11/20, Train Loss: 0.01299333, Test Loss: 0.06279039, Test Accuracy: 0.98000000\n",
            "\n",
            "Epoch: 12/20, Train Loss: 0.01131795, Test Loss: 0.06343982, Test Accuracy: 0.98090000\n",
            "\n",
            "Epoch: 13/20, Train Loss: 0.00988459, Test Loss: 0.06288588, Test Accuracy: 0.98060000\n",
            "\n",
            "Epoch: 14/20, Train Loss: 0.00875728, Test Loss: 0.06352679, Test Accuracy: 0.98040000\n",
            "\n",
            "Epoch: 15/20, Train Loss: 0.00782000, Test Loss: 0.06264195, Test Accuracy: 0.98050000\n",
            "\n",
            "Epoch: 16/20, Train Loss: 0.00696526, Test Loss: 0.06351004, Test Accuracy: 0.98050000\n",
            "\n",
            "Epoch: 17/20, Train Loss: 0.00628390, Test Loss: 0.06241455, Test Accuracy: 0.98070000\n",
            "Saving the model state dictionary for Epoch: 17 with Test loss: 0.06241455\n",
            "\n",
            "Epoch: 18/20, Train Loss: 0.00567442, Test Loss: 0.06300834, Test Accuracy: 0.98110000\n",
            "\n",
            "Epoch: 19/20, Train Loss: 0.00516423, Test Loss: 0.06302122, Test Accuracy: 0.98060000\n",
            "\n",
            "Epoch: 20/20, Train Loss: 0.00469131, Test Loss: 0.06329808, Test Accuracy: 0.98130000\n"
          ],
          "name": "stdout"
        }
      ]
    },
    {
      "cell_type": "code",
      "metadata": {
        "colab": {
          "base_uri": "https://localhost:8080/"
        },
        "id": "5FDonzvnz88k",
        "outputId": "78eb154c-f46e-47f2-952d-9c15c96f22d0"
      },
      "source": [
        "print(adagrad_hidden_layer_activation_list[0].shape)\n",
        "print(len(adagrad_hidden_layer_activation_list))"
      ],
      "execution_count": 12,
      "outputs": [
        {
          "output_type": "stream",
          "text": [
            "torch.Size([50, 256])\n",
            "24000\n"
          ],
          "name": "stdout"
        }
      ]
    },
    {
      "cell_type": "code",
      "metadata": {
        "id": "oH-Jy5YY2RHh"
      },
      "source": [
        "layer_activations_list = adagrad_hidden_layer_activation_list"
      ],
      "execution_count": 17,
      "outputs": []
    },
    {
      "cell_type": "code",
      "metadata": {
        "colab": {
          "base_uri": "https://localhost:8080/"
        },
        "id": "Mvyx688b2OSs",
        "outputId": "e287e75a-a660-451d-b5e6-05dee8a9fb21"
      },
      "source": [
        "print(torch.abs(torch.stack(layer_activations_list)).shape)\n",
        "\n",
        "layer_activations_list = torch.abs(torch.stack(layer_activations_list))\n",
        "\n",
        "num_neurons            = layer_activations_list.shape[1]\n",
        "population_sparseness  = (np.sqrt(num_neurons) - (torch.sum(layer_activations_list, dim=1) / torch.sqrt(torch.sum(layer_activations_list ** 2, dim=1)))) / (np.sqrt(num_neurons) - 1)\n",
        "\n",
        "print(torch.mean(population_sparseness))"
      ],
      "execution_count": 18,
      "outputs": [
        {
          "output_type": "stream",
          "text": [
            "torch.Size([24000, 50, 256])\n",
            "tensor(0.1520, grad_fn=<MeanBackward0>)\n"
          ],
          "name": "stdout"
        }
      ]
    },
    {
      "cell_type": "code",
      "metadata": {
        "id": "6T_jioBVxK03"
      },
      "source": [
        "# fig=plt.figure(figsize=(20, 10))\n",
        "# plt.plot(np.arange(1, no_epochs+1), train_loss, label=\"Train loss\")\n",
        "# plt.plot(np.arange(1, no_epochs+1), test_loss,  label=\"Test loss\")\n",
        "# plt.xlabel('Epoch')\n",
        "# plt.ylabel('Loss')\n",
        "# plt.title(\"Loss Plots\")\n",
        "# plt.legend(loc='best')\n",
        "# plt.show()"
      ],
      "execution_count": 15,
      "outputs": []
    },
    {
      "cell_type": "code",
      "metadata": {
        "colab": {
          "base_uri": "https://localhost:8080/",
          "height": 621
        },
        "id": "DzM3vypxTCqN",
        "outputId": "f20ea9f0-a774-4fd6-c019-67d71277bd16"
      },
      "source": [
        "fig = plt.figure(figsize=(15, 10))\n",
        "plt.plot(np.arange(1, no_epochs+1), adagrad_test_acc,   label=\"Adagrad Test loss\", color='g')\n",
        "plt.xlabel('Epochs')\n",
        "plt.ylabel('Accuracy')\n",
        "plt.ylim(0.85, 1)\n",
        "plt.title(\"Testing Accuracy Plot\")\n",
        "plt.legend(loc='best')\n",
        "plt.show()"
      ],
      "execution_count": 16,
      "outputs": [
        {
          "output_type": "display_data",
          "data": {
            "image/png": "[encoded data removed]",
            "text/plain": [
              "<Figure size 1080x720 with 1 Axes>"
            ]
          },
          "metadata": {
            "tags": [],
            "needs_background": "light"
          }
        }
      ]
    },
    {
      "cell_type": "code",
      "metadata": {
        "id": "2vWighBn5T1e"
      },
      "source": [
        ""
      ],
      "execution_count": null,
      "outputs": []
    }
  ]
}