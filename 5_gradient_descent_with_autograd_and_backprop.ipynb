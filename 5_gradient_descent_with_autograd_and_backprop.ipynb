{
  "nbformat": 4,
  "nbformat_minor": 0,
  "metadata": {
    "colab": {
      "name": "5_gradient_descent_with_autograd_and_backprop.ipynb",
      "provenance": [],
      "authorship_tag": "ABX9TyMj8p8/5P6pq7mH9m0x6Nbd",
      "include_colab_link": true
    },
    "kernelspec": {
      "name": "python3",
      "display_name": "Python 3"
    }
  },
  "cells": [
    {
      "cell_type": "markdown",
      "metadata": {
        "id": "view-in-github",
        "colab_type": "text"
      },
      "source": [
        "<a href=\"https://colab.research.google.com/github/7201krap/PYTORCH_introduction_to_pytorch/blob/main/5_gradient_descent_with_autograd_and_backprop.ipynb\" target=\"_parent\"><img src=\"https://colab.research.google.com/assets/colab-badge.svg\" alt=\"Open In Colab\"/></a>"
      ]
    },
    {
      "cell_type": "code",
      "metadata": {
        "id": "jvp7e28OXmMi"
      },
      "source": [
        "import numpy as np"
      ],
      "execution_count": 8,
      "outputs": []
    },
    {
      "cell_type": "code",
      "metadata": {
        "id": "pwKpHBulX_C6"
      },
      "source": [
        "# linear regression\n",
        "# f = 2 * x"
      ],
      "execution_count": 18,
      "outputs": []
    },
    {
      "cell_type": "code",
      "metadata": {
        "id": "T3W9d35WYF42"
      },
      "source": [
        "X = np.array([1, 2, 3, 4], dtype=np.float32)\n",
        "y = 2 * X"
      ],
      "execution_count": 19,
      "outputs": []
    },
    {
      "cell_type": "code",
      "metadata": {
        "id": "SDnidkEzYTp6"
      },
      "source": [
        "w = 0.0"
      ],
      "execution_count": 20,
      "outputs": []
    },
    {
      "cell_type": "code",
      "metadata": {
        "colab": {
          "base_uri": "https://localhost:8080/"
        },
        "id": "O6JYNqwoYW0R",
        "outputId": "b6694c5a-4b1f-4349-93c9-22971f5823f4"
      },
      "source": [
        "# model prediction\n",
        "def forward(x):\n",
        "    return w * x \n",
        "\n",
        "# loss\n",
        "def loss(y, y_predicted):\n",
        "    return ((y_predicted - y)**2).mean()\n",
        "\n",
        "# gradient\n",
        "# MSE = 1 / N * (w * x - y)**2\n",
        "# dJ/dw = 1/N * 2 * (w * x - y) * x\n",
        "def gradient(x, y, y_predicted):\n",
        "    return np.dot(2 * x, y_predicted-y).mean()\n",
        "\n",
        "print(f\"Prediction before training: f(5) = {forward(5):.3f}\")\n",
        "\n",
        "# training\n",
        "learning_rate = 0.01\n",
        "n_iters = 10\n",
        "\n",
        "for epoch in range(n_iters):\n",
        "    # prediction = forward pass \n",
        "    y_pred = forward(X)\n",
        "\n",
        "    # loss \n",
        "    l = loss(y, y_pred)\n",
        "\n",
        "    # gradients \n",
        "    grad = gradient(X, y, y_pred)\n",
        "\n",
        "    # update weights\n",
        "    w = w - learning_rate * grad \n",
        "\n",
        "    if epoch % 1 == 0:\n",
        "        print(f'epoch: {epoch+1}: w: {w:.3f}, loss: {l:.8f}') \n",
        "\n",
        "print(f\"Prediction after training: f(5) = {forward(5):.3f}\")"
      ],
      "execution_count": 21,
      "outputs": [
        {
          "output_type": "stream",
          "text": [
            "Prediction before training: f(5) = 0.000\n",
            "epoch: 1: w: 1.200, loss: 30.00000000\n",
            "epoch: 2: w: 1.680, loss: 4.79999924\n",
            "epoch: 3: w: 1.872, loss: 0.76800019\n",
            "epoch: 4: w: 1.949, loss: 0.12288000\n",
            "epoch: 5: w: 1.980, loss: 0.01966083\n",
            "epoch: 6: w: 1.992, loss: 0.00314574\n",
            "epoch: 7: w: 1.997, loss: 0.00050331\n",
            "epoch: 8: w: 1.999, loss: 0.00008053\n",
            "epoch: 9: w: 1.999, loss: 0.00001288\n",
            "epoch: 10: w: 2.000, loss: 0.00000206\n",
            "Prediction after training: f(5) = 9.999\n"
          ],
          "name": "stdout"
        }
      ]
    },
    {
      "cell_type": "code",
      "metadata": {
        "id": "Css_flL_afbR"
      },
      "source": [
        ""
      ],
      "execution_count": null,
      "outputs": []
    }
  ]
}