{
  "nbformat": 4,
  "nbformat_minor": 0,
  "metadata": {
    "colab": {
      "name": "adadelta_and_SGD_hyper+single_selectivity.ipynb",
      "provenance": [],
      "collapsed_sections": [],
      "machine_shape": "hm",
      "authorship_tag": "ABX9TyP2unVVtECdrFFVSvGGdw1C",
      "include_colab_link": true
    },
    "kernelspec": {
      "name": "python3",
      "display_name": "Python 3"
    }
  },
  "cells": [
    {
      "cell_type": "markdown",
      "metadata": {
        "id": "view-in-github",
        "colab_type": "text"
      },
      "source": [
        "<a href=\"https://colab.research.google.com/github/7201krap/PYTORCH_project/blob/main/adadelta_and_SGD_hyper%2Bsingle_selectivity.ipynb\" target=\"_parent\"><img src=\"https://colab.research.google.com/assets/colab-badge.svg\" alt=\"Open In Colab\"/></a>"
      ]
    },
    {
      "cell_type": "code",
      "metadata": {
        "colab": {
          "base_uri": "https://localhost:8080/"
        },
        "id": "sBqH9K8K5two",
        "outputId": "8401cef0-de4f-4310-df3d-6749dcaaeae7"
      },
      "source": [
        "import torch\n",
        "from torchvision import transforms\n",
        "import torchvision.datasets as datasets\n",
        "from torch.utils.data import DataLoader, Subset\n",
        "import matplotlib.pyplot as plt\n",
        "import numpy as np\n",
        "from google.colab import drive\n",
        "drive.mount('/content/drive')"
      ],
      "execution_count": 1,
      "outputs": [
        {
          "output_type": "stream",
          "text": [
            "Drive already mounted at /content/drive; to attempt to forcibly remount, call drive.mount(\"/content/drive\", force_remount=True).\n"
          ],
          "name": "stdout"
        }
      ]
    },
    {
      "cell_type": "code",
      "metadata": {
        "id": "cK7kgI_K6f_Q"
      },
      "source": [
        "device = torch.device('cuda' if torch.cuda.is_available() else 'cpu')\n",
        "torch.manual_seed(1234)\n",
        "np.random.seed(1234)"
      ],
      "execution_count": 2,
      "outputs": []
    },
    {
      "cell_type": "code",
      "metadata": {
        "colab": {
          "base_uri": "https://localhost:8080/"
        },
        "id": "cg9ZSHmE6hCg",
        "outputId": "d7fc98e2-f039-42d3-fe2e-289ba71daa6d"
      },
      "source": [
        "mnist_trainset = datasets.MNIST(root='./data', train=True, \n",
        "                                download=True, \n",
        "                                transform=transforms.Compose([transforms.ToTensor()]))\n",
        "\n",
        "mnist_testset  = datasets.MNIST(root='./data', \n",
        "                                train=False, \n",
        "                                download=True, \n",
        "                                transform=transforms.Compose([transforms.ToTensor()]))\n",
        "\n",
        "\n",
        "class_inds = [torch.where(mnist_trainset.targets == class_idx)[0]\n",
        "              for class_idx in mnist_trainset.class_to_idx.values()]\n",
        "\n",
        "\n",
        "train_dataloaders = [\n",
        "                     DataLoader(dataset=Subset(mnist_trainset, inds),\n",
        "                                batch_size=50,\n",
        "                                shuffle=True,\n",
        "                                drop_last=False\n",
        "                     )\n",
        "                     for inds in class_inds\n",
        "]\n",
        "\n",
        "test_dataloader  = torch.utils.data.DataLoader(mnist_testset, \n",
        "                                               batch_size=50, \n",
        "                                               shuffle=False)\n",
        "\n",
        "print(\"Training dataset size: \", len(mnist_trainset))\n",
        "print(\"Testing dataset size: \",  len(mnist_testset))"
      ],
      "execution_count": 3,
      "outputs": [
        {
          "output_type": "stream",
          "text": [
            "Training dataset size:  60000\n",
            "Testing dataset size:  10000\n"
          ],
          "name": "stdout"
        }
      ]
    },
    {
      "cell_type": "code",
      "metadata": {
        "id": "fpqW8O8u6iVw"
      },
      "source": [
        "# ************* modify this section for later use *************\n",
        "# Define the model \n",
        "class Model(torch.nn.Module):\n",
        "    def __init__(self):\n",
        "        super(Model, self).__init__()\n",
        "\n",
        "        # modify this section for later use \n",
        "        self.linear_1 = torch.nn.Linear(784, 256)\n",
        "        self.linear_2 = torch.nn.Linear(256, 10)\n",
        "        self.sigmoid12  = torch.nn.Sigmoid()\n",
        "\n",
        "        self.layer_activations = dict()\n",
        "\n",
        "    def forward(self, x):\n",
        "\n",
        "        # modify this section for later use \n",
        "        x = x.reshape(x.size(0), -1)\n",
        "        x = self.linear_1(x)\n",
        "        x = self.sigmoid12(x)\n",
        "        pred = self.linear_2(x)\n",
        "        return pred\n",
        "# ************* modify this section for later use *************"
      ],
      "execution_count": 4,
      "outputs": []
    },
    {
      "cell_type": "code",
      "metadata": {
        "id": "FD1bKvs_6lQa"
      },
      "source": [
        "def get_activation(model, layer_name):    \n",
        "    def hook(module, input, output):\n",
        "        model.layer_activations[layer_name] = output\n",
        "    return hook"
      ],
      "execution_count": 5,
      "outputs": []
    },
    {
      "cell_type": "code",
      "metadata": {
        "id": "VwmDDdOf6mzH"
      },
      "source": [
        "def selectivity(hidden_layer_each_neuron):\n",
        "    __selectivity__ = list()\n",
        "    # I will now try to find the average of each class for each neuron.\n",
        "    # check out the next cell \n",
        "    avg_activations = [dict() for x in range(256)]\n",
        "    for i, neuron in enumerate(hidden_layer_each_neuron):\n",
        "        for k, v in neuron.items():\n",
        "            # v is the list of activations for hidden layer's neuron k \n",
        "            avg_activations[i][k] = sum(v) / float(len(v))\n",
        "\n",
        "    # generate 256 lists to get only values in avg_activations\n",
        "    only_activation_vals = [list() for x in range(256)]\n",
        "\n",
        "    # get only values from avg_activations\n",
        "    for i, avg_activation in enumerate(avg_activations):\n",
        "        for value in avg_activation.values():\n",
        "            only_activation_vals[i].append(value)\n",
        "\n",
        "    for activation_val in only_activation_vals:\n",
        "        # find u_max \n",
        "        u_max = np.max(activation_val)\n",
        "\n",
        "        # find u_minus_max \n",
        "        u_minus_max = (np.sum(activation_val) - u_max) / 9\n",
        "\n",
        "        # find selectivity \n",
        "        selectivity = (u_max - u_minus_max) / (u_max + u_minus_max)\n",
        "\n",
        "        # append selectivity value to selectivity\n",
        "        __selectivity__.append(selectivity)\n",
        "\n",
        "    avg_selectivity = np.average(__selectivity__)\n",
        "    std_selectivity = np.std(__selectivity__)\n",
        "                                 \n",
        "    return avg_selectivity, std_selectivity"
      ],
      "execution_count": 6,
      "outputs": []
    },
    {
      "cell_type": "code",
      "metadata": {
        "id": "JEOZEF9g6oa5"
      },
      "source": [
        "def model_factory(optimizer_name):\n",
        "    '''\n",
        "    optimizer_name : choose one of Adagrad, Adadelta, SGD, and Adam \n",
        "\n",
        "    '''\n",
        "    my_model = Model()\n",
        "    print(\"my_model:\", my_model)\n",
        "    my_model.to(device)\n",
        "\n",
        "    # ************* modify this section for later use *************\n",
        "    # modify this section for later use \n",
        "    my_model.sigmoid12.register_forward_hook(get_activation(my_model, 's12'))\n",
        "    # ************* modify this section for later use *************\n",
        "\n",
        "    # ADADELTA\n",
        "    if optimizer_name == 'Adadelta':\n",
        "        my_optimizer = torch.optim.Adadelta(my_model.parameters(), lr=1.0, rho=1.0)\n",
        "\n",
        "    elif optimizer_name == 'Adagrad':\n",
        "        my_optimizer = torch.optim.Adagrad(my_model.parameters(), lr=0.1)\n",
        "\n",
        "    elif optimizer_name == 'SGD':\n",
        "        my_optimizer = torch.optim.SGD(my_model.parameters(), lr=0.1, momentum=0.9)\n",
        "\n",
        "    elif optimizer_name == 'Adam':\n",
        "        my_optimizer = torch.optim.Adam(my_model.parameters(), lr=0.001)\n",
        "\n",
        "    else:\n",
        "        print(\"ERROR\")\n",
        "    \n",
        "    print(\"my_optimizer:\", my_optimizer)\n",
        "    test_acc, selectivity_list_avg, selectivity_list_std = selectivity_trainer(optimizer=my_optimizer, model=my_model)\n",
        "    # ************* modify this section for later use *************\n",
        "    file_saver = open(f\"combine_selectivity_{optimizer_name}.txt\", \"w\")\n",
        "    # ************* modify this section for later use *************\n",
        "    file_saver.write(str(test_acc)+'\\n'+str(selectivity_list_avg)+'\\n'+str(selectivity_list_std)+'\\n\\n')\n",
        "    file_saver.close()\n",
        "\n",
        "    # ************* modify this section for later use *************\n",
        "    if optimizer_name == 'Adadelta':\n",
        "        !cp combine_selectivity_Adadelta.txt /content/drive/MyDrive\n",
        "    \n",
        "    elif optimizer_name == 'Adagrad':\n",
        "        !cp combine_selectivity_Adagrad.txt /content/drive/MyDrive\n",
        "\n",
        "    elif optimizer_name == 'SGD':\n",
        "        !cp combine_selectivity_SGD.txt /content/drive/MyDrive\n",
        "\n",
        "    elif optimizer_name == 'Adam':\n",
        "        !cp combine_selectivity_Adam.txt /content/drive/MyDrive\n",
        "    # ************* modify this section for later use *************\n",
        "\n",
        "    else:\n",
        "        print(\"ERROR\")"
      ],
      "execution_count": 7,
      "outputs": []
    },
    {
      "cell_type": "code",
      "metadata": {
        "id": "IJtkWbelG6jk"
      },
      "source": [
        "# ************* modify this section for later use *************\n",
        "def avg_std_calculator(_hidden_layer_each_neuron_12):\n",
        "\n",
        "    avg_selectivity12, std_selectivity12 = selectivity(_hidden_layer_each_neuron_12)\n",
        "\n",
        "    final_selectivity_avg = (avg_selectivity12) / 1\n",
        "    final_selecvitity_std = (std_selectivity12) / 1\n",
        "\n",
        "    return final_selectivity_avg, final_selecvitity_std\n",
        "# ************* modify this section for later use *************"
      ],
      "execution_count": 8,
      "outputs": []
    },
    {
      "cell_type": "code",
      "metadata": {
        "id": "plG8DIGw6qnQ"
      },
      "source": [
        "no_epochs = 30\n",
        "def selectivity_trainer(optimizer, model):\n",
        "\n",
        "    criterion = torch.nn.CrossEntropyLoss()\n",
        "    train_loss = list()\n",
        "    test_loss  = list()\n",
        "    test_acc   = list()\n",
        "\n",
        "    best_test_loss = 1\n",
        "\n",
        "    selectivity_avg_list = list()\n",
        "    selectivity_std_list = list()\n",
        "\n",
        "    for epoch in range(no_epochs):\n",
        "\n",
        "        # ************* modify this section for later use *************\n",
        "        hidden_layer_each_neuron_12 = [{0:[], 1:[], 2:[], 3:[], 4:[], 5:[], 6:[], 7:[], 8:[], 9:[]} for x in range(256)]\n",
        "        hidden_layer_each_neuron_12 = np.array(hidden_layer_each_neuron_12)\n",
        "        # ************* modify this section for later use *************\n",
        "\n",
        "\n",
        "        total_train_loss = 0\n",
        "        total_test_loss = 0\n",
        "\n",
        "        # training\n",
        "        # set up training mode \n",
        "        model.train()\n",
        "        iterators = list(map(iter, train_dataloaders))   \n",
        "        while iterators:    # This part is same as for loop \n",
        "            iterator = np.random.choice(iterators)\n",
        "            try:\n",
        "                image, label = next(iterator)   \n",
        "                image, label = image.to(device), label.to(device)\n",
        "\n",
        "                optimizer.zero_grad()\n",
        "\n",
        "                pred = model(image)\n",
        "\n",
        "                loss = criterion(pred, label)\n",
        "\n",
        "                loss.backward()\n",
        "                optimizer.step()\n",
        "                \n",
        "            except StopIteration:\n",
        "                iterators.remove(iterator)\n",
        "\n",
        "\n",
        "        # testing \n",
        "        # change to evaluation mode \n",
        "        model.eval()\n",
        "        total = 0\n",
        "        for itr, (images, labels) in enumerate(test_dataloader):\n",
        "            images, labels = images.to(device), labels.to(device)\n",
        "\n",
        "            pred = model(images)\n",
        "\n",
        "            loss = criterion(pred, labels)\n",
        "            total_test_loss += loss.item()\n",
        "\n",
        "            # we now need softmax because we are testing.\n",
        "            pred = torch.nn.functional.softmax(pred, dim=1)\n",
        "            for i, p in enumerate(pred):\n",
        "                if labels[i] == torch.max(p.data, 0)[1]:\n",
        "                    total = total + 1\n",
        "\n",
        "            # ************* modify this section for later use *************\n",
        "            for activation, label in zip(model.layer_activations['s12'], labels):\n",
        "                label = label.item()\n",
        "                with torch.no_grad():\n",
        "                    activation = activation.numpy()\n",
        "                for i in range(256):    \n",
        "                    hidden_layer_each_neuron_12[i][label].append(activation[i])\n",
        "    \n",
        "        selectivity_avg, selecvitity_std = avg_std_calculator(hidden_layer_each_neuron_12)\n",
        "        # ************* modify this section for later use *************\n",
        "        \n",
        "        selectivity_avg_list.append(selectivity_avg)\n",
        "        selectivity_std_list.append(selecvitity_std)\n",
        "\n",
        "        # caculate accuracy \n",
        "        accuracy = total / len(mnist_testset)\n",
        "\n",
        "        # append accuracy here\n",
        "        test_acc.append(accuracy)\n",
        "\n",
        "        # append test loss here \n",
        "        total_test_loss = total_test_loss / (itr + 1)\n",
        "        test_loss.append(total_test_loss)\n",
        "\n",
        "        print('Epoch: {}/{}, Train Loss: {:.8f}, Test Loss: {:.8f}, Test Accuracy: {:.8f}'.format(epoch + 1, no_epochs, total_train_loss, total_test_loss, accuracy))\n",
        "\n",
        "    print(selectivity_avg_list)\n",
        "    print(selectivity_std_list)\n",
        "    return test_acc, selectivity_avg_list, selectivity_std_list"
      ],
      "execution_count": 9,
      "outputs": []
    },
    {
      "cell_type": "code",
      "metadata": {
        "colab": {
          "base_uri": "https://localhost:8080/"
        },
        "id": "T3u3oXXk7pXg",
        "outputId": "f0793882-53a6-4439-bc17-6d0592d31b50"
      },
      "source": [
        "model_factory('Adadelta')"
      ],
      "execution_count": 10,
      "outputs": [
        {
          "output_type": "stream",
          "text": [
            "my_model: Model(\n",
            "  (linear_1): Linear(in_features=784, out_features=256, bias=True)\n",
            "  (linear_2): Linear(in_features=256, out_features=10, bias=True)\n",
            "  (sigmoid12): Sigmoid()\n",
            ")\n",
            "my_optimizer: Adadelta (\n",
            "Parameter Group 0\n",
            "    eps: 1e-06\n",
            "    lr: 1.0\n",
            "    rho: 1.0\n",
            "    weight_decay: 0\n",
            ")\n",
            "Epoch: 1/30, Train Loss: 0.00000000, Test Loss: 1.12535297, Test Accuracy: 0.66500000\n",
            "Epoch: 2/30, Train Loss: 0.00000000, Test Loss: 0.92132897, Test Accuracy: 0.74100000\n",
            "Epoch: 3/30, Train Loss: 0.00000000, Test Loss: 0.41403159, Test Accuracy: 0.87170000\n",
            "Epoch: 4/30, Train Loss: 0.00000000, Test Loss: 0.49222232, Test Accuracy: 0.84650000\n",
            "Epoch: 5/30, Train Loss: 0.00000000, Test Loss: 0.26893778, Test Accuracy: 0.91460000\n",
            "Epoch: 6/30, Train Loss: 0.00000000, Test Loss: 0.27824279, Test Accuracy: 0.91500000\n",
            "Epoch: 7/30, Train Loss: 0.00000000, Test Loss: 0.32562535, Test Accuracy: 0.89920000\n",
            "Epoch: 8/30, Train Loss: 0.00000000, Test Loss: 0.26091694, Test Accuracy: 0.91830000\n",
            "Epoch: 9/30, Train Loss: 0.00000000, Test Loss: 0.24752610, Test Accuracy: 0.92650000\n",
            "Epoch: 10/30, Train Loss: 0.00000000, Test Loss: 0.24480502, Test Accuracy: 0.93010000\n",
            "Epoch: 11/30, Train Loss: 0.00000000, Test Loss: 0.29617892, Test Accuracy: 0.91230000\n",
            "Epoch: 12/30, Train Loss: 0.00000000, Test Loss: 0.19740313, Test Accuracy: 0.94340000\n",
            "Epoch: 13/30, Train Loss: 0.00000000, Test Loss: 0.23040548, Test Accuracy: 0.93320000\n",
            "Epoch: 14/30, Train Loss: 0.00000000, Test Loss: 0.16522729, Test Accuracy: 0.94940000\n",
            "Epoch: 15/30, Train Loss: 0.00000000, Test Loss: 0.22475515, Test Accuracy: 0.93370000\n",
            "Epoch: 16/30, Train Loss: 0.00000000, Test Loss: 0.24721590, Test Accuracy: 0.92920000\n",
            "Epoch: 17/30, Train Loss: 0.00000000, Test Loss: 0.17834694, Test Accuracy: 0.94940000\n",
            "Epoch: 18/30, Train Loss: 0.00000000, Test Loss: 0.15466926, Test Accuracy: 0.95350000\n",
            "Epoch: 19/30, Train Loss: 0.00000000, Test Loss: 0.14056330, Test Accuracy: 0.95920000\n",
            "Epoch: 20/30, Train Loss: 0.00000000, Test Loss: 0.15349491, Test Accuracy: 0.95600000\n",
            "Epoch: 21/30, Train Loss: 0.00000000, Test Loss: 0.16063908, Test Accuracy: 0.95500000\n",
            "Epoch: 22/30, Train Loss: 0.00000000, Test Loss: 0.14211274, Test Accuracy: 0.95680000\n",
            "Epoch: 23/30, Train Loss: 0.00000000, Test Loss: 0.15943688, Test Accuracy: 0.95210000\n",
            "Epoch: 24/30, Train Loss: 0.00000000, Test Loss: 0.15050422, Test Accuracy: 0.95750000\n",
            "Epoch: 25/30, Train Loss: 0.00000000, Test Loss: 0.18223059, Test Accuracy: 0.94950000\n",
            "Epoch: 26/30, Train Loss: 0.00000000, Test Loss: 0.15112558, Test Accuracy: 0.95680000\n",
            "Epoch: 27/30, Train Loss: 0.00000000, Test Loss: 0.12701317, Test Accuracy: 0.96210000\n",
            "Epoch: 28/30, Train Loss: 0.00000000, Test Loss: 0.13011864, Test Accuracy: 0.96330000\n",
            "Epoch: 29/30, Train Loss: 0.00000000, Test Loss: 0.15615396, Test Accuracy: 0.95840000\n",
            "Epoch: 30/30, Train Loss: 0.00000000, Test Loss: 0.15407909, Test Accuracy: 0.95620000\n",
            "[0.6800253702813062, 0.6818486585926922, 0.6793337550070817, 0.6775702415761025, 0.6823333080441584, 0.6795822094313461, 0.6830992212614757, 0.6823336889726834, 0.679525877782255, 0.6796556226167433, 0.6847468880952876, 0.6798375356104556, 0.6789527201431292, 0.6788921221741546, 0.6770056338541135, 0.6784816437710974, 0.6785774881560951, 0.6780600530921149, 0.6766185481065321, 0.6743360473919491, 0.6758986861911581, 0.6767018867440899, 0.675463756137716, 0.673594952327331, 0.6742724650157137, 0.6717844006737101, 0.6731986319485492, 0.6722003644623189, 0.6695738453480715, 0.6690954819626486]\n",
            "[0.0884147160682465, 0.09451471931223066, 0.09118000207458117, 0.09437710785235195, 0.09428363286891471, 0.09485577659006017, 0.09610447308974875, 0.09167824704506611, 0.09677230648432576, 0.0924328054080494, 0.09443797652878305, 0.09406886469757733, 0.09268621310796359, 0.09136974581535987, 0.09251824369558705, 0.09132950853897509, 0.0914375541731731, 0.0932826950030611, 0.0907612077057698, 0.09550095977588198, 0.09062407327832968, 0.09545195847052175, 0.09572844523149601, 0.09588153788220152, 0.0956491489476258, 0.09424212320510722, 0.09920848296135974, 0.09678585430554214, 0.09772774052384064, 0.09708591174753552]\n"
          ],
          "name": "stdout"
        }
      ]
    },
    {
      "cell_type": "code",
      "metadata": {
        "id": "AZ13eDGcCLbZ",
        "colab": {
          "base_uri": "https://localhost:8080/"
        },
        "outputId": "43690e7d-dd37-4127-bce2-bb49baba0f79"
      },
      "source": [
        "model_factory('SGD')"
      ],
      "execution_count": 11,
      "outputs": [
        {
          "output_type": "stream",
          "text": [
            "my_model: Model(\n",
            "  (linear_1): Linear(in_features=784, out_features=256, bias=True)\n",
            "  (linear_2): Linear(in_features=256, out_features=10, bias=True)\n",
            "  (sigmoid12): Sigmoid()\n",
            ")\n",
            "my_optimizer: SGD (\n",
            "Parameter Group 0\n",
            "    dampening: 0\n",
            "    lr: 0.1\n",
            "    momentum: 0.9\n",
            "    nesterov: False\n",
            "    weight_decay: 0\n",
            ")\n",
            "Epoch: 1/30, Train Loss: 0.00000000, Test Loss: 1.81770679, Test Accuracy: 0.56590000\n",
            "Epoch: 2/30, Train Loss: 0.00000000, Test Loss: 0.54763132, Test Accuracy: 0.83940000\n",
            "Epoch: 3/30, Train Loss: 0.00000000, Test Loss: 0.33984230, Test Accuracy: 0.90280000\n",
            "Epoch: 4/30, Train Loss: 0.00000000, Test Loss: 0.43676493, Test Accuracy: 0.86430000\n",
            "Epoch: 5/30, Train Loss: 0.00000000, Test Loss: 0.32053056, Test Accuracy: 0.90240000\n",
            "Epoch: 6/30, Train Loss: 0.00000000, Test Loss: 0.37954927, Test Accuracy: 0.89210000\n",
            "Epoch: 7/30, Train Loss: 0.00000000, Test Loss: 0.33457089, Test Accuracy: 0.89640000\n",
            "Epoch: 8/30, Train Loss: 0.00000000, Test Loss: 0.23201308, Test Accuracy: 0.93170000\n",
            "Epoch: 9/30, Train Loss: 0.00000000, Test Loss: 0.27718812, Test Accuracy: 0.92230000\n",
            "Epoch: 10/30, Train Loss: 0.00000000, Test Loss: 0.16747745, Test Accuracy: 0.95140000\n",
            "Epoch: 11/30, Train Loss: 0.00000000, Test Loss: 0.21326605, Test Accuracy: 0.93880000\n",
            "Epoch: 12/30, Train Loss: 0.00000000, Test Loss: 0.17733949, Test Accuracy: 0.94570000\n",
            "Epoch: 13/30, Train Loss: 0.00000000, Test Loss: 0.18051861, Test Accuracy: 0.94860000\n",
            "Epoch: 14/30, Train Loss: 0.00000000, Test Loss: 0.15405009, Test Accuracy: 0.95410000\n",
            "Epoch: 15/30, Train Loss: 0.00000000, Test Loss: 0.15741378, Test Accuracy: 0.95670000\n",
            "Epoch: 16/30, Train Loss: 0.00000000, Test Loss: 0.16251736, Test Accuracy: 0.95470000\n",
            "Epoch: 17/30, Train Loss: 0.00000000, Test Loss: 0.14832136, Test Accuracy: 0.95940000\n",
            "Epoch: 18/30, Train Loss: 0.00000000, Test Loss: 0.14129326, Test Accuracy: 0.96100000\n",
            "Epoch: 19/30, Train Loss: 0.00000000, Test Loss: 0.16302106, Test Accuracy: 0.95530000\n",
            "Epoch: 20/30, Train Loss: 0.00000000, Test Loss: 0.13383580, Test Accuracy: 0.96580000\n",
            "Epoch: 21/30, Train Loss: 0.00000000, Test Loss: 0.14477935, Test Accuracy: 0.96130000\n",
            "Epoch: 22/30, Train Loss: 0.00000000, Test Loss: 0.13447518, Test Accuracy: 0.96280000\n",
            "Epoch: 23/30, Train Loss: 0.00000000, Test Loss: 0.13655536, Test Accuracy: 0.96200000\n",
            "Epoch: 24/30, Train Loss: 0.00000000, Test Loss: 0.16098479, Test Accuracy: 0.95910000\n",
            "Epoch: 25/30, Train Loss: 0.00000000, Test Loss: 0.12572279, Test Accuracy: 0.96630000\n",
            "Epoch: 26/30, Train Loss: 0.00000000, Test Loss: 0.14682931, Test Accuracy: 0.96180000\n",
            "Epoch: 27/30, Train Loss: 0.00000000, Test Loss: 0.12373489, Test Accuracy: 0.96740000\n",
            "Epoch: 28/30, Train Loss: 0.00000000, Test Loss: 0.12680433, Test Accuracy: 0.96650000\n",
            "Epoch: 29/30, Train Loss: 0.00000000, Test Loss: 0.12401344, Test Accuracy: 0.96890000\n",
            "Epoch: 30/30, Train Loss: 0.00000000, Test Loss: 0.12421189, Test Accuracy: 0.96800000\n",
            "[0.7248334972733247, 0.7202036842382924, 0.7198725105727135, 0.7127117898152664, 0.7146161004145121, 0.7101991856269667, 0.7111475038963126, 0.706782538814007, 0.7057283156275409, 0.7039888984452545, 0.7016278238151457, 0.7048795107299684, 0.703415053534482, 0.7004631096471046, 0.6997075557319901, 0.6991879984384981, 0.6980173871503572, 0.6963363068197396, 0.6966039332752038, 0.6946898212747732, 0.6945843172493388, 0.6918354600277626, 0.6933632668247496, 0.6932981409580485, 0.6921023406829762, 0.6872694045299872, 0.6893157495070721, 0.6909551107336025, 0.6876532560357163, 0.6885021351498035]\n",
            "[0.10256435548525257, 0.09563959519553447, 0.09746256205454239, 0.09196724808214544, 0.10086674678981111, 0.1008254110757032, 0.10594360709245967, 0.10130836933258958, 0.10333413448114544, 0.10269557027808407, 0.10638779070015209, 0.10599441098118033, 0.1046989202565571, 0.10409356094663998, 0.10667714965080863, 0.10408144247190619, 0.10836284972502068, 0.1044796897604518, 0.10773106334537148, 0.10457687000092433, 0.10541308739926566, 0.10658904871361631, 0.10683064112380222, 0.10568293919606417, 0.10477064585116803, 0.1063805311507787, 0.10660452015000799, 0.10809153229908082, 0.10640412139305039, 0.10620913780381644]\n"
          ],
          "name": "stdout"
        }
      ]
    }
  ]
}