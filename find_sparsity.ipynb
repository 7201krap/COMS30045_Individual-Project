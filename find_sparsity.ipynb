{
  "nbformat": 4,
  "nbformat_minor": 0,
  "metadata": {
    "colab": {
      "name": "newwork.ipynb",
      "provenance": [],
      "authorship_tag": "ABX9TyM6Bzk6BZ7Awlaua0bYMCvJ",
      "include_colab_link": true
    },
    "kernelspec": {
      "name": "python3",
      "display_name": "Python 3"
    }
  },
  "cells": [
    {
      "cell_type": "markdown",
      "metadata": {
        "id": "view-in-github",
        "colab_type": "text"
      },
      "source": [
        "<a href=\"https://colab.research.google.com/github/7201krap/PYTORCH_introduction_to_pytorch/blob/main/find_sparsity.ipynb\" target=\"_parent\"><img src=\"https://colab.research.google.com/assets/colab-badge.svg\" alt=\"Open In Colab\"/></a>"
      ]
    },
    {
      "cell_type": "code",
      "metadata": {
        "id": "o7STrWa0P3z_"
      },
      "source": [
        "import torch\n",
        "from torchvision import transforms\n",
        "import torchvision.datasets as datasets\n",
        "import matplotlib.pyplot as plt\n",
        "import numpy as np"
      ],
      "execution_count": 1,
      "outputs": []
    },
    {
      "cell_type": "code",
      "metadata": {
        "id": "rTW5TOUnP5XY"
      },
      "source": [
        "mnist_trainset = datasets.MNIST(root='./data', train=True, \n",
        "                                download=True, \n",
        "                                transform=transforms.Compose([transforms.ToTensor()]))\n",
        "\n",
        "mnist_testset  = datasets.MNIST(root='./data', \n",
        "                                train=False, \n",
        "                                download=True, \n",
        "                                transform=transforms.Compose([transforms.ToTensor()]))\n",
        "\n",
        "train_dataloader = torch.utils.data.DataLoader(mnist_trainset, \n",
        "                                               batch_size=50, \n",
        "                                               shuffle=True)\n",
        "\n",
        "test_dataloader  = torch.utils.data.DataLoader(mnist_testset, \n",
        "                                               batch_size=50, \n",
        "                                               shuffle=False)\n",
        "\n",
        "print(\"Training dataset size: \", len(mnist_trainset))\n",
        "print(\"Testing dataset size: \",  len(mnist_testset))"
      ],
      "execution_count": null,
      "outputs": []
    },
    {
      "cell_type": "code",
      "metadata": {
        "id": "IXTkEUJ5P6kU"
      },
      "source": [
        "# Define the model \n",
        "class Model(torch.nn.Module):\n",
        "    def __init__(self):\n",
        "        super(Model, self).__init__()\n",
        "        self.linear_1 = torch.nn.Linear(784, 256)\n",
        "        self.linear_2 = torch.nn.Linear(256, 10)\n",
        "        self.sigmoid  = torch.nn.Sigmoid()\n",
        "\n",
        "    def forward(self, x):\n",
        "        x = x.reshape(x.size(0), -1)\n",
        "        x = self.linear_1(x)\n",
        "        x = self.sigmoid(x)\n",
        "        pred = self.linear_2(x)\n",
        "\n",
        "        return pred\n",
        "\n",
        "model = Model()"
      ],
      "execution_count": 89,
      "outputs": []
    },
    {
      "cell_type": "code",
      "metadata": {
        "colab": {
          "base_uri": "https://localhost:8080/"
        },
        "id": "BfgvKH6eP9Ou",
        "outputId": "e42e723a-bab2-480d-b640-d17e5dc78ad3"
      },
      "source": [
        "def get_activation():    \n",
        "    def hook(module, input, output):\n",
        "        model.layer_activations = output\n",
        "    return hook\n",
        "    \n",
        "model.linear_1.register_forward_hook(get_activation())"
      ],
      "execution_count": 90,
      "outputs": [
        {
          "output_type": "execute_result",
          "data": {
            "text/plain": [
              "<torch.utils.hooks.RemovableHandle at 0x7fe54b765898>"
            ]
          },
          "metadata": {
            "tags": []
          },
          "execution_count": 90
        }
      ]
    },
    {
      "cell_type": "code",
      "metadata": {
        "id": "savMT9-gP_3m"
      },
      "source": [
        "# adagrad \n",
        "optimizer  = torch.optim.Adagrad(model.parameters(), lr=0.1)"
      ],
      "execution_count": 91,
      "outputs": []
    },
    {
      "cell_type": "code",
      "metadata": {
        "colab": {
          "base_uri": "https://localhost:8080/"
        },
        "id": "BXOpwTXEQFKY",
        "outputId": "ae12b96f-547a-4be3-cd22-9d947d7ca7b3"
      },
      "source": [
        "criterion = torch.nn.CrossEntropyLoss()\n",
        "no_epochs = 20\n",
        "train_loss = list()\n",
        "test_loss  = list()\n",
        "test_acc   = list()\n",
        "\n",
        "# define activation list \n",
        "\n",
        "best_test_loss = 1\n",
        "\n",
        "for epoch in range(no_epochs):\n",
        "    total_train_loss = 0\n",
        "    total_test_loss = 0\n",
        "\n",
        "    hidden_layer_activation_list = list()\n",
        "\n",
        "    # training\n",
        "    # set up training mode \n",
        "    model.train()\n",
        "\n",
        "    for itr, (image, label) in enumerate(train_dataloader):\n",
        "\n",
        "        optimizer.zero_grad()\n",
        "\n",
        "        pred = model(image)\n",
        "\n",
        "        loss = criterion(pred, label)\n",
        "        total_train_loss += loss.item()\n",
        "\n",
        "        loss.backward()\n",
        "        optimizer.step()\n",
        "\n",
        "        # Print/Append activation of the hidden layer \n",
        "        # print(model.layer_activations.shape)\n",
        "        hidden_layer_activation_list.append(model.layer_activations)\n",
        "\n",
        "    total_train_loss = total_train_loss / (itr + 1)\n",
        "    train_loss.append(total_train_loss)\n",
        "\n",
        "    # testing \n",
        "    # change to evaluation mode \n",
        "    model.eval()\n",
        "    total = 0\n",
        "    for itr, (image, label) in enumerate(test_dataloader):\n",
        "\n",
        "        pred = model(image)\n",
        "\n",
        "        loss = criterion(pred, label)\n",
        "        total_test_loss += loss.item()\n",
        "\n",
        "        # we now need softmax because we are testing.\n",
        "        pred = torch.nn.functional.softmax(pred, dim=1)\n",
        "        for i, p in enumerate(pred):\n",
        "            if label[i] == torch.max(p.data, 0)[1]:\n",
        "                total = total + 1\n",
        "\n",
        "    # caculate accuracy \n",
        "    accuracy = total / len(mnist_testset)\n",
        "\n",
        "    # append accuracy here\n",
        "    test_acc.append(accuracy)\n",
        "\n",
        "    # append test loss here \n",
        "    total_test_loss = total_test_loss / (itr + 1)\n",
        "    test_loss.append(total_test_loss)\n",
        "\n",
        "    print('\\nEpoch: {}/{}, Train Loss: {:.8f}, Test Loss: {:.8f}, Test Accuracy: {:.8f}'.format(epoch + 1, no_epochs, total_train_loss, total_test_loss, accuracy))\n",
        "\n",
        "    if total_test_loss < best_test_loss:\n",
        "        best_test_loss = total_test_loss\n",
        "        print(\"Saving the model state dictionary for Epoch: {} with Test loss: {:.8f}\".format(epoch + 1, total_test_loss))\n",
        "        torch.save(model.state_dict(), \"model.dth\")"
      ],
      "execution_count": 92,
      "outputs": [
        {
          "output_type": "stream",
          "text": [
            "\n",
            "Epoch: 1/20, Train Loss: 0.22762350, Test Loss: 0.12376226, Test Accuracy: 0.96120000\n",
            "Saving the model state dictionary for Epoch: 1 with Test loss: 0.12376226\n",
            "\n",
            "Epoch: 2/20, Train Loss: 0.09335259, Test Loss: 0.09199230, Test Accuracy: 0.97110000\n",
            "Saving the model state dictionary for Epoch: 2 with Test loss: 0.09199230\n",
            "\n",
            "Epoch: 3/20, Train Loss: 0.06371993, Test Loss: 0.08074189, Test Accuracy: 0.97520000\n",
            "Saving the model state dictionary for Epoch: 3 with Test loss: 0.08074189\n",
            "\n",
            "Epoch: 4/20, Train Loss: 0.04760822, Test Loss: 0.07486176, Test Accuracy: 0.97710000\n",
            "Saving the model state dictionary for Epoch: 4 with Test loss: 0.07486176\n",
            "\n",
            "Epoch: 5/20, Train Loss: 0.03692684, Test Loss: 0.07155853, Test Accuracy: 0.97870000\n",
            "Saving the model state dictionary for Epoch: 5 with Test loss: 0.07155853\n",
            "\n",
            "Epoch: 6/20, Train Loss: 0.02919866, Test Loss: 0.06864063, Test Accuracy: 0.97860000\n",
            "Saving the model state dictionary for Epoch: 6 with Test loss: 0.06864063\n",
            "\n",
            "Epoch: 7/20, Train Loss: 0.02365804, Test Loss: 0.06511777, Test Accuracy: 0.98060000\n",
            "Saving the model state dictionary for Epoch: 7 with Test loss: 0.06511777\n",
            "\n",
            "Epoch: 8/20, Train Loss: 0.01929734, Test Loss: 0.06532151, Test Accuracy: 0.98010000\n",
            "\n",
            "Epoch: 9/20, Train Loss: 0.01613489, Test Loss: 0.06335422, Test Accuracy: 0.98040000\n",
            "Saving the model state dictionary for Epoch: 9 with Test loss: 0.06335422\n",
            "\n",
            "Epoch: 10/20, Train Loss: 0.01374161, Test Loss: 0.06345902, Test Accuracy: 0.98060000\n",
            "\n",
            "Epoch: 11/20, Train Loss: 0.01167870, Test Loss: 0.06370491, Test Accuracy: 0.98020000\n",
            "\n",
            "Epoch: 12/20, Train Loss: 0.01003103, Test Loss: 0.06286581, Test Accuracy: 0.98120000\n",
            "Saving the model state dictionary for Epoch: 12 with Test loss: 0.06286581\n",
            "\n",
            "Epoch: 13/20, Train Loss: 0.00863168, Test Loss: 0.06336570, Test Accuracy: 0.98070000\n",
            "\n",
            "Epoch: 14/20, Train Loss: 0.00756210, Test Loss: 0.06255110, Test Accuracy: 0.98070000\n",
            "Saving the model state dictionary for Epoch: 14 with Test loss: 0.06255110\n",
            "\n",
            "Epoch: 15/20, Train Loss: 0.00667886, Test Loss: 0.06274042, Test Accuracy: 0.98130000\n",
            "\n",
            "Epoch: 16/20, Train Loss: 0.00587885, Test Loss: 0.06288814, Test Accuracy: 0.98070000\n",
            "\n",
            "Epoch: 17/20, Train Loss: 0.00527422, Test Loss: 0.06379894, Test Accuracy: 0.98070000\n",
            "\n",
            "Epoch: 18/20, Train Loss: 0.00470714, Test Loss: 0.06435086, Test Accuracy: 0.98060000\n",
            "\n",
            "Epoch: 19/20, Train Loss: 0.00426645, Test Loss: 0.06426944, Test Accuracy: 0.98100000\n",
            "\n",
            "Epoch: 20/20, Train Loss: 0.00388626, Test Loss: 0.06400380, Test Accuracy: 0.98150000\n"
          ],
          "name": "stdout"
        }
      ]
    },
    {
      "cell_type": "code",
      "metadata": {
        "id": "wzPwIjUCd4yl"
      },
      "source": [
        "hidden_layer_activation_list = torch.stack(hidden_layer_activation_list)"
      ],
      "execution_count": 93,
      "outputs": []
    },
    {
      "cell_type": "code",
      "metadata": {
        "colab": {
          "base_uri": "https://localhost:8080/"
        },
        "id": "RAReiJMUcpku",
        "outputId": "e4e18664-49c7-4ca2-a244-f8eeaab86fd2"
      },
      "source": [
        "hidden_layer_activation_list.size()"
      ],
      "execution_count": 94,
      "outputs": [
        {
          "output_type": "execute_result",
          "data": {
            "text/plain": [
              "torch.Size([1200, 50, 256])"
            ]
          },
          "metadata": {
            "tags": []
          },
          "execution_count": 94
        }
      ]
    },
    {
      "cell_type": "code",
      "metadata": {
        "id": "sqAmJ6TGdUwJ"
      },
      "source": [
        "layer_activations_list = torch.reshape(hidden_layer_activation_list, (60000, 256))"
      ],
      "execution_count": 95,
      "outputs": []
    },
    {
      "cell_type": "code",
      "metadata": {
        "colab": {
          "base_uri": "https://localhost:8080/"
        },
        "id": "tLpOGScadmSs",
        "outputId": "88b183c5-fd71-4d5a-b632-4b4de0aa3602"
      },
      "source": [
        "layer_activations_list.size()"
      ],
      "execution_count": 96,
      "outputs": [
        {
          "output_type": "execute_result",
          "data": {
            "text/plain": [
              "torch.Size([60000, 256])"
            ]
          },
          "metadata": {
            "tags": []
          },
          "execution_count": 96
        }
      ]
    },
    {
      "cell_type": "code",
      "metadata": {
        "colab": {
          "base_uri": "https://localhost:8080/"
        },
        "id": "EsmS6dc0Rkn6",
        "outputId": "aaf545bb-4baf-484d-963f-94c0f7eebb6a"
      },
      "source": [
        "layer_activations_list = torch.abs(layer_activations_list)  # modified \n",
        "num_neurons = layer_activations_list.shape[1]\n",
        "print(num_neurons)\n",
        "population_sparseness = (np.sqrt(num_neurons) - (torch.sum(layer_activations_list, dim=1) / torch.sqrt(torch.sum(layer_activations_list ** 2, dim=1)))) / (np.sqrt(num_neurons) - 1)\n",
        "print(population_sparseness.size())\n",
        "mean_sparseness_per_epoch = torch.mean(population_sparseness)"
      ],
      "execution_count": 99,
      "outputs": [
        {
          "output_type": "stream",
          "text": [
            "256\n",
            "torch.Size([60000])\n"
          ],
          "name": "stdout"
        }
      ]
    },
    {
      "cell_type": "code",
      "metadata": {
        "colab": {
          "base_uri": "https://localhost:8080/"
        },
        "id": "uUwN9xEWbsZP",
        "outputId": "e4fd1111-298d-417f-dbf9-0ecb9c95e9de"
      },
      "source": [
        "mean_sparseness_per_epoch"
      ],
      "execution_count": 98,
      "outputs": [
        {
          "output_type": "execute_result",
          "data": {
            "text/plain": [
              "tensor(0.1598, grad_fn=<MeanBackward0>)"
            ]
          },
          "metadata": {
            "tags": []
          },
          "execution_count": 98
        }
      ]
    },
    {
      "cell_type": "code",
      "metadata": {
        "id": "LqLlVCoucHZ5"
      },
      "source": [
        ""
      ],
      "execution_count": null,
      "outputs": []
    }
  ]
}