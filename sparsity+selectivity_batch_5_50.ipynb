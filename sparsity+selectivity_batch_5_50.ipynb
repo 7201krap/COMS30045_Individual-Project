{
  "nbformat": 4,
  "nbformat_minor": 0,
  "metadata": {
    "colab": {
      "name": "sparsity+selectivity_batch_5_50.ipynb",
      "provenance": [],
      "collapsed_sections": [],
      "machine_shape": "hm",
      "include_colab_link": true
    },
    "kernelspec": {
      "display_name": "Python 3",
      "language": "python",
      "name": "python3"
    },
    "language_info": {
      "codemirror_mode": {
        "name": "ipython",
        "version": 3
      },
      "file_extension": ".py",
      "mimetype": "text/x-python",
      "name": "python",
      "nbconvert_exporter": "python",
      "pygments_lexer": "ipython3",
      "version": "3.8.5"
    }
  },
  "cells": [
    {
      "cell_type": "markdown",
      "metadata": {
        "id": "view-in-github",
        "colab_type": "text"
      },
      "source": [
        "<a href=\"https://colab.research.google.com/github/7201krap/PYTORCH_project/blob/main/sparsity%2Bselectivity_batch_5_50.ipynb\" target=\"_parent\"><img src=\"https://colab.research.google.com/assets/colab-badge.svg\" alt=\"Open In Colab\"/></a>"
      ]
    },
    {
      "cell_type": "code",
      "metadata": {
        "colab": {
          "base_uri": "https://localhost:8080/"
        },
        "id": "o7STrWa0P3z_",
        "outputId": "9d4505e4-ea7d-4c22-ac19-acb5a04c9445"
      },
      "source": [
        "import torch\n",
        "import torchvision\n",
        "import torchvision.transforms as transforms\n",
        "import torchvision.datasets as datasets\n",
        "import matplotlib.pyplot as plt\n",
        "import numpy as np\n",
        "from torch.utils.data import DataLoader, TensorDataset\n",
        "from google.colab import drive\n",
        "drive.mount('/content/drive')"
      ],
      "execution_count": 1,
      "outputs": [
        {
          "output_type": "stream",
          "text": [
            "Drive already mounted at /content/drive; to attempt to forcibly remount, call drive.mount(\"/content/drive\", force_remount=True).\n"
          ],
          "name": "stdout"
        }
      ]
    },
    {
      "cell_type": "code",
      "metadata": {
        "colab": {
          "base_uri": "https://localhost:8080/"
        },
        "id": "X08N9C5QIEJJ",
        "outputId": "bcf012c8-8a60-45db-d1d9-85c5fd2d3f17"
      },
      "source": [
        "!wget www.di.ens.fr/~lelarge/MNIST.tar.gz\n",
        "!tar -zxvf MNIST.tar.gz\n",
        "\n",
        "root_dir = './'\n",
        "torchvision.datasets.MNIST(root=root_dir,download=True)"
      ],
      "execution_count": 2,
      "outputs": [
        {
          "output_type": "stream",
          "text": [
            "--2021-03-19 15:35:46--  http://www.di.ens.fr/~lelarge/MNIST.tar.gz\n",
            "Resolving www.di.ens.fr (www.di.ens.fr)... 129.199.99.14\n",
            "Connecting to www.di.ens.fr (www.di.ens.fr)|129.199.99.14|:80... connected.\n",
            "HTTP request sent, awaiting response... 302 Found\n",
            "Location: https://www.di.ens.fr/~lelarge/MNIST.tar.gz [following]\n",
            "--2021-03-19 15:35:47--  https://www.di.ens.fr/~lelarge/MNIST.tar.gz\n",
            "Connecting to www.di.ens.fr (www.di.ens.fr)|129.199.99.14|:443... connected.\n",
            "HTTP request sent, awaiting response... 200 OK\n",
            "Length: unspecified [application/x-gzip]\n",
            "Saving to: ‘MNIST.tar.gz’\n",
            "\n",
            "MNIST.tar.gz            [          <=>       ]  33.20M  6.52MB/s    in 5.8s    \n",
            "\n",
            "2021-03-19 15:35:54 (5.69 MB/s) - ‘MNIST.tar.gz’ saved [34813078]\n",
            "\n",
            "MNIST/\n",
            "MNIST/raw/\n",
            "MNIST/raw/train-labels-idx1-ubyte\n",
            "MNIST/raw/t10k-labels-idx1-ubyte.gz\n",
            "MNIST/raw/t10k-labels-idx1-ubyte\n",
            "MNIST/raw/t10k-images-idx3-ubyte.gz\n",
            "MNIST/raw/train-images-idx3-ubyte\n",
            "MNIST/raw/train-labels-idx1-ubyte.gz\n",
            "MNIST/raw/t10k-images-idx3-ubyte\n",
            "MNIST/raw/train-images-idx3-ubyte.gz\n",
            "MNIST/processed/\n",
            "MNIST/processed/training.pt\n",
            "MNIST/processed/test.pt\n"
          ],
          "name": "stdout"
        },
        {
          "output_type": "execute_result",
          "data": {
            "text/plain": [
              "Dataset MNIST\n",
              "    Number of datapoints: 60000\n",
              "    Root location: ./\n",
              "    Split: Train"
            ]
          },
          "metadata": {
            "tags": []
          },
          "execution_count": 2
        }
      ]
    },
    {
      "cell_type": "code",
      "metadata": {
        "id": "z4j9WoP-UnAm"
      },
      "source": [
        "device = torch.device('cuda' if torch.cuda.is_available() else 'cpu')"
      ],
      "execution_count": 3,
      "outputs": []
    },
    {
      "cell_type": "code",
      "metadata": {
        "id": "ApOU7hvb95W4"
      },
      "source": [
        "torch.manual_seed(1234)\n",
        "np.random.seed(1234)"
      ],
      "execution_count": 4,
      "outputs": []
    },
    {
      "cell_type": "code",
      "metadata": {
        "id": "rTW5TOUnP5XY"
      },
      "source": [
        "mnist_trainset = torchvision.datasets.MNIST(root=root_dir, train=True, \n",
        "                                download=True, \n",
        "                                transform=transforms.Compose([transforms.ToTensor()]))\n",
        "\n",
        "mnist_testset  = torchvision.datasets.MNIST(root=root_dir, \n",
        "                                train=False, \n",
        "                                download=True, \n",
        "                                transform=transforms.Compose([transforms.ToTensor()]))\n",
        "\n",
        "train_dataloader = torch.utils.data.DataLoader(mnist_trainset, \n",
        "                                               batch_size=5, \n",
        "                                               shuffle=True)\n",
        "\n",
        "test_dataloader  = torch.utils.data.DataLoader(mnist_testset, \n",
        "                                               batch_size=50, \n",
        "                                               shuffle=False)"
      ],
      "execution_count": 5,
      "outputs": []
    },
    {
      "cell_type": "code",
      "metadata": {
        "id": "IXTkEUJ5P6kU"
      },
      "source": [
        "# ************* modify this section for later use *************\n",
        "# Define the model \n",
        "class Model(torch.nn.Module):\n",
        "    def __init__(self):\n",
        "        super(Model, self).__init__()\n",
        "        # modify this section for later use \n",
        "        self.linear_1 = torch.nn.Linear(784, 256)\n",
        "        self.linear_2 = torch.nn.Linear(256, 10)\n",
        "        self.sigmoid12  = torch.nn.Sigmoid()\n",
        "\n",
        "        self.layer_activations = dict()\n",
        "\n",
        "    def forward(self, x):\n",
        "\n",
        "        # modify this section for later use \n",
        "        x = x.reshape(x.size(0), -1)\n",
        "        x = self.linear_1(x)\n",
        "        x = self.sigmoid12(x)\n",
        "        pred = self.linear_2(x)\n",
        "        return pred\n",
        "# ************* modify this section for later use *************"
      ],
      "execution_count": 6,
      "outputs": []
    },
    {
      "cell_type": "code",
      "metadata": {
        "id": "BfgvKH6eP9Ou"
      },
      "source": [
        "def get_activation(model, layer_name):    \n",
        "    def hook(module, input, output):\n",
        "        model.layer_activations[layer_name] = output\n",
        "    return hook"
      ],
      "execution_count": 7,
      "outputs": []
    },
    {
      "cell_type": "code",
      "metadata": {
        "id": "Q3Dx3AJFvUQW"
      },
      "source": [
        "def sparsity_calculator(final_spareness):\n",
        "    sparseness_list = list()\n",
        "    for single_epoch_spareness in final_spareness:\n",
        "\n",
        "        hidden_layer_activation_list = single_epoch_spareness\n",
        "        hidden_layer_activation_list = torch.stack(hidden_layer_activation_list)\n",
        "        layer_activations_list = torch.reshape(hidden_layer_activation_list, (10000, 256))\n",
        "\n",
        "        layer_activations_list = torch.abs(layer_activations_list)  # modified \n",
        "        num_neurons = layer_activations_list.shape[1]\n",
        "        population_sparseness = (np.sqrt(num_neurons) - (torch.sum(layer_activations_list, dim=1) / torch.sqrt(torch.sum(layer_activations_list ** 2, dim=1)))) / (np.sqrt(num_neurons) - 1)\n",
        "        mean_sparseness_per_epoch = torch.mean(population_sparseness)\n",
        "\n",
        "        sparseness_list.append(mean_sparseness_per_epoch)\n",
        "\n",
        "    return sparseness_list"
      ],
      "execution_count": 8,
      "outputs": []
    },
    {
      "cell_type": "code",
      "metadata": {
        "id": "PvHGO5RSvi6I"
      },
      "source": [
        "def selectivity(hidden_layer_each_neuron):\n",
        "    __selectivity__ = list()\n",
        "    # I will now try to find the average of each class for each neuron.\n",
        "    # check out the next cell \n",
        "    avg_activations = [dict() for x in range(256)]\n",
        "    for i, neuron in enumerate(hidden_layer_each_neuron):\n",
        "        for k, v in neuron.items():\n",
        "            # v is the list of activations for hidden layer's neuron k \n",
        "            avg_activations[i][k] = sum(v) / float(len(v))\n",
        "\n",
        "    # generate 256 lists to get only values in avg_activations\n",
        "    only_activation_vals = [list() for x in range(256)]\n",
        "\n",
        "    # get only values from avg_activations\n",
        "    for i, avg_activation in enumerate(avg_activations):\n",
        "        for value in avg_activation.values():\n",
        "            only_activation_vals[i].append(value)\n",
        "\n",
        "    for activation_val in only_activation_vals:\n",
        "        # find u_max \n",
        "        u_max = np.max(activation_val)\n",
        "\n",
        "        # find u_minus_max \n",
        "        u_minus_max = (np.sum(activation_val) - u_max) / 9\n",
        "\n",
        "        # find selectivity \n",
        "        selectivity = (u_max - u_minus_max) / (u_max + u_minus_max)\n",
        "\n",
        "        # append selectivity value to selectivity\n",
        "        __selectivity__.append(selectivity)\n",
        "\n",
        "    avg_selectivity = np.average(__selectivity__)\n",
        "    std_selectivity = np.std(__selectivity__)\n",
        "                                 \n",
        "    return avg_selectivity, std_selectivity"
      ],
      "execution_count": 9,
      "outputs": []
    },
    {
      "cell_type": "code",
      "metadata": {
        "id": "j5PUiBNqUImf"
      },
      "source": [
        "def model_factory(optimizer_name):\n",
        "    '''\n",
        "    optimizer_name : choose one of Adagrad, Adadelta, SGD, and Adam \n",
        "\n",
        "    '''\n",
        "    my_model = Model()\n",
        "    print(\"my_model:\", my_model)\n",
        "    my_model.to(device)\n",
        "\n",
        "    # ************* modify this section for later use *************\n",
        "    my_model.sigmoid12.register_forward_hook(get_activation(my_model, 's12'))\n",
        "    # ************* modify this section for later use *************\n",
        "\n",
        "    if optimizer_name == 'Adadelta':\n",
        "        my_optimizer = torch.optim.Adadelta(my_model.parameters(), lr=1.0)\n",
        "\n",
        "    elif optimizer_name == 'Adagrad':\n",
        "        my_optimizer = torch.optim.Adagrad(my_model.parameters(), lr=0.1)\n",
        "\n",
        "    elif optimizer_name == 'SGD':\n",
        "        my_optimizer = torch.optim.SGD(my_model.parameters(), lr=0.1)\n",
        "\n",
        "    elif optimizer_name == 'Adam':\n",
        "        my_optimizer = torch.optim.Adam(my_model.parameters(), lr=0.001)\n",
        "\n",
        "    else:\n",
        "        print(\"ERROR\")\n",
        "    \n",
        "    print(\"my_optimizer:\", my_optimizer)\n",
        "    test_acc, sparseness_list, selectivity_list_avg, selectivity_list_std = sparsity_selectivity_trainer(optimizer=my_optimizer, model=my_model)\n",
        "    # ************* modify this section for later use *************\n",
        "    file_saver = open(f\"sparsity_selectivity_batchsize_5_50_{optimizer_name}.txt\", \"w\")\n",
        "    # ************* modify this section for later use *************\n",
        "    file_saver.write(str(test_acc)+'\\n'+str(sparseness_list)+'\\n'+str(selectivity_list_avg)+'\\n'+str(selectivity_list_std)+'\\n\\n')\n",
        "    file_saver.close()\n",
        "\n",
        "    # ************* modify this section for later use *************\n",
        "    if optimizer_name == 'Adadelta':\n",
        "        !cp sparsity_selectivity_batchsize_5_50_Adadelta.txt /content/drive/MyDrive\n",
        "    \n",
        "    elif optimizer_name == 'Adagrad':\n",
        "        !cp sparsity_selectivity_batchsize_5_50_Adagrad.txt /content/drive/MyDrive\n",
        "\n",
        "    elif optimizer_name == 'SGD':\n",
        "        !cp sparsity_selectivity_batchsize_5_50_SGD.txt /content/drive/MyDrive\n",
        "\n",
        "    elif optimizer_name == 'Adam':\n",
        "        !cp sparsity_selectivity_batchsize_5_50_Adam.txt /content/drive/MyDrive\n",
        "    # ************* modify this section for later use *************\n",
        "\n",
        "    else:\n",
        "        print(\"ERROR\")"
      ],
      "execution_count": 10,
      "outputs": []
    },
    {
      "cell_type": "code",
      "metadata": {
        "id": "Ouq5LQloW0xC"
      },
      "source": [
        "# ************* modify this section for later use *************\n",
        "def avg_std_calculator(_hidden_layer_each_neuron_12):\n",
        "\n",
        "    avg_selectivity12, std_selectivity12 = selectivity(_hidden_layer_each_neuron_12)\n",
        "\n",
        "    final_selectivity_avg = (avg_selectivity12) / 1\n",
        "    final_selecvitity_std = (std_selectivity12) / 1\n",
        "\n",
        "    return final_selectivity_avg, final_selecvitity_std\n",
        "# ************* modify this section for later use *************"
      ],
      "execution_count": 11,
      "outputs": []
    },
    {
      "cell_type": "code",
      "metadata": {
        "id": "BXOpwTXEQFKY"
      },
      "source": [
        "no_epochs = 30\n",
        "def sparsity_selectivity_trainer(optimizer, model):\n",
        "\n",
        "    criterion = torch.nn.CrossEntropyLoss()\n",
        "    train_loss = list()\n",
        "    test_loss  = list()\n",
        "    test_acc   = list()\n",
        "\n",
        "    best_test_loss = 1\n",
        "\n",
        "    selectivity_avg_list = list()\n",
        "    selectivity_std_list = list()\n",
        "\n",
        "    # ************* modify this section for later use *************\n",
        "    final_spareness_12 = list()\n",
        "    # ************* modify this section for later use *************\n",
        "\n",
        "    for epoch in range(no_epochs):\n",
        "\n",
        "        # ************* modify this section for later use *************\n",
        "        hidden_layer_activation_list_12 = list()\n",
        "        # ************* modify this section for later use *************\n",
        "\n",
        "        # ************* modify this section for later use *************\n",
        "        hidden_layer_each_neuron_12 = [{0:[], 1:[], 2:[], 3:[], 4:[], 5:[], 6:[], 7:[], 8:[], 9:[]} for x in range(256)]\n",
        "        hidden_layer_each_neuron_12 = np.array(hidden_layer_each_neuron_12)\n",
        "        # ************* modify this section for later use *************\n",
        "\n",
        "\n",
        "        total_train_loss = 0\n",
        "        total_test_loss = 0\n",
        "\n",
        "        # training\n",
        "        # set up training mode \n",
        "        model.train()\n",
        "\n",
        "        for itr, (images, labels) in enumerate(train_dataloader):\n",
        "            images, labels = images.to(device), labels.to(device)\n",
        "\n",
        "            optimizer.zero_grad()\n",
        "\n",
        "            pred = model(images)\n",
        "\n",
        "            loss = criterion(pred, labels)\n",
        "            total_train_loss += loss.item()\n",
        "\n",
        "            loss.backward()\n",
        "            optimizer.step()\n",
        "\n",
        "        total_train_loss = total_train_loss / (itr + 1)\n",
        "        train_loss.append(total_train_loss)\n",
        "\n",
        "        # testing \n",
        "        # change to evaluation mode \n",
        "        model.eval()\n",
        "        total = 0\n",
        "        for itr, (images, labels) in enumerate(test_dataloader):\n",
        "            images, labels = images.to(device), labels.to(device)\n",
        "\n",
        "            pred = model(images)\n",
        "\n",
        "            loss = criterion(pred, labels)\n",
        "            total_test_loss += loss.item()\n",
        "\n",
        "            # we now need softmax because we are testing.\n",
        "            pred = torch.nn.functional.softmax(pred, dim=1)\n",
        "            for i, p in enumerate(pred):\n",
        "                if labels[i] == torch.max(p.data, 0)[1]:\n",
        "                    total = total + 1\n",
        "\n",
        "            # ***************** sparsity calculation ***************** #\n",
        "            hidden_layer_activation_list_12.append(model.layer_activations['s12'])\n",
        "            # ***************** sparsity calculation ***************** #\n",
        "\n",
        "            # ************* modify this section for later use *************\n",
        "            for activation, label in zip(model.layer_activations['s12'], labels):\n",
        "                label = label.item()\n",
        "                with torch.no_grad():\n",
        "                    activation = activation.numpy()\n",
        "                for i in range(256):    \n",
        "                    hidden_layer_each_neuron_12[i][label].append(activation[i])\n",
        "    \n",
        "        selectivity_avg, selecvitity_std = avg_std_calculator(hidden_layer_each_neuron_12)\n",
        "        # ************* modify this section for later use *************\n",
        "\n",
        "        # this conains activations for all epochs \n",
        "        final_spareness_12.append(hidden_layer_activation_list_12)\n",
        "        # ***************** sparsity calculation ***************** #\n",
        "        \n",
        "        selectivity_avg_list.append(selectivity_avg)\n",
        "        selectivity_std_list.append(selecvitity_std)\n",
        "\n",
        "        # caculate accuracy \n",
        "        accuracy = total / len(mnist_testset)\n",
        "\n",
        "        # append accuracy here\n",
        "        test_acc.append(accuracy)\n",
        "\n",
        "        # append test loss here \n",
        "        total_test_loss = total_test_loss / (itr + 1)\n",
        "        test_loss.append(total_test_loss)\n",
        "\n",
        "        print('\\nEpoch: {}/{}, Train Loss: {:.8f}, Test Loss: {:.8f}, Test Accuracy: {:.8f}'.format(epoch + 1, no_epochs, total_train_loss, total_test_loss, accuracy))\n",
        "\n",
        "    # ***************** sparsity calculation ***************** #\n",
        "    sparsity_list12 = sparsity_calculator(final_spareness_12)\n",
        "\n",
        "    print(sparsity_list12)\n",
        "\n",
        "    average_sparsity = list()\n",
        "    for i in range(no_epochs):\n",
        "        average_sparsity.append( (sparsity_list12[i].item()) / 1 )\n",
        "    # ***************** sparsity calculation ***************** #\n",
        "\n",
        "    print(\"average_sparsity:\", average_sparsity)\n",
        "\n",
        "    return test_acc, average_sparsity, selectivity_avg_list, selectivity_std_list"
      ],
      "execution_count": 12,
      "outputs": []
    },
    {
      "cell_type": "markdown",
      "metadata": {
        "id": "ILIJTJb2UdfI"
      },
      "source": [
        "# Adadelta"
      ]
    },
    {
      "cell_type": "code",
      "metadata": {
        "id": "5UH0qDnFUfaD",
        "colab": {
          "base_uri": "https://localhost:8080/"
        },
        "outputId": "fbd8c75c-5a9e-4d49-e8ee-5b1bb725e37d"
      },
      "source": [
        "model_factory('Adadelta')"
      ],
      "execution_count": 13,
      "outputs": [
        {
          "output_type": "stream",
          "text": [
            "my_model: Model(\n",
            "  (linear_1): Linear(in_features=784, out_features=256, bias=True)\n",
            "  (linear_2): Linear(in_features=256, out_features=10, bias=True)\n",
            "  (sigmoid12): Sigmoid()\n",
            ")\n",
            "my_optimizer: Adadelta (\n",
            "Parameter Group 0\n",
            "    eps: 1e-06\n",
            "    lr: 1.0\n",
            "    rho: 0.9\n",
            "    weight_decay: 0\n",
            ")\n",
            "\n",
            "Epoch: 1/30, Train Loss: 0.27779985, Test Loss: 0.16295207, Test Accuracy: 0.95070000\n",
            "\n",
            "Epoch: 2/30, Train Loss: 0.13869725, Test Loss: 0.12076533, Test Accuracy: 0.96290000\n",
            "\n",
            "Epoch: 3/30, Train Loss: 0.10009943, Test Loss: 0.09681696, Test Accuracy: 0.97080000\n",
            "\n",
            "Epoch: 4/30, Train Loss: 0.07932846, Test Loss: 0.09388218, Test Accuracy: 0.97140000\n",
            "\n",
            "Epoch: 5/30, Train Loss: 0.06694287, Test Loss: 0.08323947, Test Accuracy: 0.97530000\n",
            "\n",
            "Epoch: 6/30, Train Loss: 0.05718362, Test Loss: 0.08021196, Test Accuracy: 0.97730000\n",
            "\n",
            "Epoch: 7/30, Train Loss: 0.04862575, Test Loss: 0.08355580, Test Accuracy: 0.97630000\n",
            "\n",
            "Epoch: 8/30, Train Loss: 0.04200278, Test Loss: 0.07310023, Test Accuracy: 0.97880000\n",
            "\n",
            "Epoch: 9/30, Train Loss: 0.03727633, Test Loss: 0.06991085, Test Accuracy: 0.97990000\n",
            "\n",
            "Epoch: 10/30, Train Loss: 0.03270246, Test Loss: 0.07320241, Test Accuracy: 0.98040000\n",
            "\n",
            "Epoch: 11/30, Train Loss: 0.02841285, Test Loss: 0.07249482, Test Accuracy: 0.98030000\n",
            "\n",
            "Epoch: 12/30, Train Loss: 0.02474950, Test Loss: 0.08295210, Test Accuracy: 0.97920000\n",
            "\n",
            "Epoch: 13/30, Train Loss: 0.02161547, Test Loss: 0.06900736, Test Accuracy: 0.98140000\n",
            "\n",
            "Epoch: 14/30, Train Loss: 0.01911763, Test Loss: 0.06742060, Test Accuracy: 0.98160000\n",
            "\n",
            "Epoch: 15/30, Train Loss: 0.01709452, Test Loss: 0.07001129, Test Accuracy: 0.98150000\n",
            "\n",
            "Epoch: 16/30, Train Loss: 0.01547515, Test Loss: 0.07214830, Test Accuracy: 0.98110000\n",
            "\n",
            "Epoch: 17/30, Train Loss: 0.01343948, Test Loss: 0.07245232, Test Accuracy: 0.98120000\n",
            "\n",
            "Epoch: 18/30, Train Loss: 0.01196842, Test Loss: 0.07122982, Test Accuracy: 0.98160000\n",
            "\n",
            "Epoch: 19/30, Train Loss: 0.01069901, Test Loss: 0.07805260, Test Accuracy: 0.98040000\n",
            "\n",
            "Epoch: 20/30, Train Loss: 0.00924925, Test Loss: 0.07214565, Test Accuracy: 0.98100000\n",
            "\n",
            "Epoch: 21/30, Train Loss: 0.00843693, Test Loss: 0.07370923, Test Accuracy: 0.98040000\n",
            "\n",
            "Epoch: 22/30, Train Loss: 0.00748347, Test Loss: 0.07550459, Test Accuracy: 0.98110000\n",
            "\n",
            "Epoch: 23/30, Train Loss: 0.00664326, Test Loss: 0.07233788, Test Accuracy: 0.98180000\n",
            "\n",
            "Epoch: 24/30, Train Loss: 0.00594326, Test Loss: 0.07940844, Test Accuracy: 0.98030000\n",
            "\n",
            "Epoch: 25/30, Train Loss: 0.00507011, Test Loss: 0.07878367, Test Accuracy: 0.97960000\n",
            "\n",
            "Epoch: 26/30, Train Loss: 0.00457004, Test Loss: 0.07838826, Test Accuracy: 0.98110000\n",
            "\n",
            "Epoch: 27/30, Train Loss: 0.00409949, Test Loss: 0.07931198, Test Accuracy: 0.98160000\n",
            "\n",
            "Epoch: 28/30, Train Loss: 0.00371117, Test Loss: 0.07517662, Test Accuracy: 0.98090000\n",
            "\n",
            "Epoch: 29/30, Train Loss: 0.00312740, Test Loss: 0.07717047, Test Accuracy: 0.98160000\n",
            "\n",
            "Epoch: 30/30, Train Loss: 0.00287307, Test Loss: 0.07942578, Test Accuracy: 0.98040000\n",
            "[tensor(0.2916, grad_fn=<MeanBackward0>), tensor(0.2995, grad_fn=<MeanBackward0>), tensor(0.3082, grad_fn=<MeanBackward0>), tensor(0.3023, grad_fn=<MeanBackward0>), tensor(0.3036, grad_fn=<MeanBackward0>), tensor(0.3084, grad_fn=<MeanBackward0>), tensor(0.3054, grad_fn=<MeanBackward0>), tensor(0.3055, grad_fn=<MeanBackward0>), tensor(0.3075, grad_fn=<MeanBackward0>), tensor(0.3065, grad_fn=<MeanBackward0>), tensor(0.3068, grad_fn=<MeanBackward0>), tensor(0.3040, grad_fn=<MeanBackward0>), tensor(0.3071, grad_fn=<MeanBackward0>), tensor(0.3038, grad_fn=<MeanBackward0>), tensor(0.3025, grad_fn=<MeanBackward0>), tensor(0.3068, grad_fn=<MeanBackward0>), tensor(0.3020, grad_fn=<MeanBackward0>), tensor(0.3039, grad_fn=<MeanBackward0>), tensor(0.3031, grad_fn=<MeanBackward0>), tensor(0.3032, grad_fn=<MeanBackward0>), tensor(0.3038, grad_fn=<MeanBackward0>), tensor(0.3012, grad_fn=<MeanBackward0>), tensor(0.3038, grad_fn=<MeanBackward0>), tensor(0.3018, grad_fn=<MeanBackward0>), tensor(0.3018, grad_fn=<MeanBackward0>), tensor(0.3012, grad_fn=<MeanBackward0>), tensor(0.3011, grad_fn=<MeanBackward0>), tensor(0.3004, grad_fn=<MeanBackward0>), tensor(0.3000, grad_fn=<MeanBackward0>), tensor(0.2997, grad_fn=<MeanBackward0>)]\n",
            "average_sparsity: [0.2916317284107208, 0.29950442910194397, 0.3082171082496643, 0.3023286759853363, 0.3036021888256073, 0.3084261417388916, 0.30543118715286255, 0.30551567673683167, 0.30746111273765564, 0.30651551485061646, 0.3067575991153717, 0.3040440082550049, 0.30714747309684753, 0.30377838015556335, 0.3024997115135193, 0.30681663751602173, 0.3019771873950958, 0.30391356348991394, 0.30311664938926697, 0.3031642436981201, 0.30376362800598145, 0.3012285530567169, 0.3037635385990143, 0.3017553985118866, 0.3017999827861786, 0.301213800907135, 0.3011026382446289, 0.3003581166267395, 0.3000172972679138, 0.2996806502342224]\n"
          ],
          "name": "stdout"
        }
      ]
    },
    {
      "cell_type": "markdown",
      "metadata": {
        "id": "8hXfQe4vMDKB"
      },
      "source": [
        "# AdaGrad"
      ]
    },
    {
      "cell_type": "code",
      "metadata": {
        "id": "vb-4TPM5MGuE",
        "colab": {
          "base_uri": "https://localhost:8080/"
        },
        "outputId": "307d74a5-7f2c-47e2-9907-d46dc8cbc4b8"
      },
      "source": [
        "model_factory('Adagrad')"
      ],
      "execution_count": 14,
      "outputs": [
        {
          "output_type": "stream",
          "text": [
            "my_model: Model(\n",
            "  (linear_1): Linear(in_features=784, out_features=256, bias=True)\n",
            "  (linear_2): Linear(in_features=256, out_features=10, bias=True)\n",
            "  (sigmoid12): Sigmoid()\n",
            ")\n",
            "my_optimizer: Adagrad (\n",
            "Parameter Group 0\n",
            "    eps: 1e-10\n",
            "    initial_accumulator_value: 0\n",
            "    lr: 0.1\n",
            "    lr_decay: 0\n",
            "    weight_decay: 0\n",
            ")\n",
            "\n",
            "Epoch: 1/30, Train Loss: 0.19565555, Test Loss: 0.11652127, Test Accuracy: 0.96500000\n",
            "\n",
            "Epoch: 2/30, Train Loss: 0.09130747, Test Loss: 0.09438822, Test Accuracy: 0.97250000\n",
            "\n",
            "Epoch: 3/30, Train Loss: 0.06465110, Test Loss: 0.08145659, Test Accuracy: 0.97440000\n",
            "\n",
            "Epoch: 4/30, Train Loss: 0.04887384, Test Loss: 0.07632954, Test Accuracy: 0.97820000\n",
            "\n",
            "Epoch: 5/30, Train Loss: 0.03812816, Test Loss: 0.07152382, Test Accuracy: 0.97850000\n",
            "\n",
            "Epoch: 6/30, Train Loss: 0.03041293, Test Loss: 0.07265351, Test Accuracy: 0.97740000\n",
            "\n",
            "Epoch: 7/30, Train Loss: 0.02466073, Test Loss: 0.06864527, Test Accuracy: 0.97950000\n",
            "\n",
            "Epoch: 8/30, Train Loss: 0.02012484, Test Loss: 0.06820371, Test Accuracy: 0.97950000\n",
            "\n",
            "Epoch: 9/30, Train Loss: 0.01661742, Test Loss: 0.06975997, Test Accuracy: 0.97930000\n",
            "\n",
            "Epoch: 10/30, Train Loss: 0.01386636, Test Loss: 0.06737263, Test Accuracy: 0.98060000\n",
            "\n",
            "Epoch: 11/30, Train Loss: 0.01172302, Test Loss: 0.06739885, Test Accuracy: 0.98030000\n",
            "\n",
            "Epoch: 12/30, Train Loss: 0.01000092, Test Loss: 0.06793249, Test Accuracy: 0.98080000\n",
            "\n",
            "Epoch: 13/30, Train Loss: 0.00863928, Test Loss: 0.06690024, Test Accuracy: 0.98100000\n",
            "\n",
            "Epoch: 14/30, Train Loss: 0.00753124, Test Loss: 0.06724228, Test Accuracy: 0.98150000\n",
            "\n",
            "Epoch: 15/30, Train Loss: 0.00654370, Test Loss: 0.06607396, Test Accuracy: 0.98190000\n",
            "\n",
            "Epoch: 16/30, Train Loss: 0.00578792, Test Loss: 0.06705960, Test Accuracy: 0.98160000\n",
            "\n",
            "Epoch: 17/30, Train Loss: 0.00516069, Test Loss: 0.06729738, Test Accuracy: 0.98140000\n",
            "\n",
            "Epoch: 18/30, Train Loss: 0.00463280, Test Loss: 0.06775542, Test Accuracy: 0.98180000\n",
            "\n",
            "Epoch: 19/30, Train Loss: 0.00418573, Test Loss: 0.06815403, Test Accuracy: 0.98140000\n",
            "\n",
            "Epoch: 20/30, Train Loss: 0.00378596, Test Loss: 0.06850317, Test Accuracy: 0.98140000\n",
            "\n",
            "Epoch: 21/30, Train Loss: 0.00348317, Test Loss: 0.06942909, Test Accuracy: 0.98160000\n",
            "\n",
            "Epoch: 22/30, Train Loss: 0.00318189, Test Loss: 0.06920228, Test Accuracy: 0.98140000\n",
            "\n",
            "Epoch: 23/30, Train Loss: 0.00293163, Test Loss: 0.06970609, Test Accuracy: 0.98190000\n",
            "\n",
            "Epoch: 24/30, Train Loss: 0.00269323, Test Loss: 0.06970690, Test Accuracy: 0.98240000\n",
            "\n",
            "Epoch: 25/30, Train Loss: 0.00247300, Test Loss: 0.06975868, Test Accuracy: 0.98170000\n",
            "\n",
            "Epoch: 26/30, Train Loss: 0.00229541, Test Loss: 0.07020865, Test Accuracy: 0.98210000\n",
            "\n",
            "Epoch: 27/30, Train Loss: 0.00211501, Test Loss: 0.07031298, Test Accuracy: 0.98160000\n",
            "\n",
            "Epoch: 28/30, Train Loss: 0.00196685, Test Loss: 0.07080341, Test Accuracy: 0.98160000\n",
            "\n",
            "Epoch: 29/30, Train Loss: 0.00184432, Test Loss: 0.07078298, Test Accuracy: 0.98210000\n",
            "\n",
            "Epoch: 30/30, Train Loss: 0.00171638, Test Loss: 0.07128845, Test Accuracy: 0.98150000\n",
            "[tensor(0.6916, grad_fn=<MeanBackward0>), tensor(0.6823, grad_fn=<MeanBackward0>), tensor(0.6779, grad_fn=<MeanBackward0>), tensor(0.6681, grad_fn=<MeanBackward0>), tensor(0.6607, grad_fn=<MeanBackward0>), tensor(0.6548, grad_fn=<MeanBackward0>), tensor(0.6527, grad_fn=<MeanBackward0>), tensor(0.6511, grad_fn=<MeanBackward0>), tensor(0.6451, grad_fn=<MeanBackward0>), tensor(0.6456, grad_fn=<MeanBackward0>), tensor(0.6424, grad_fn=<MeanBackward0>), tensor(0.6413, grad_fn=<MeanBackward0>), tensor(0.6394, grad_fn=<MeanBackward0>), tensor(0.6384, grad_fn=<MeanBackward0>), tensor(0.6352, grad_fn=<MeanBackward0>), tensor(0.6336, grad_fn=<MeanBackward0>), tensor(0.6333, grad_fn=<MeanBackward0>), tensor(0.6318, grad_fn=<MeanBackward0>), tensor(0.6310, grad_fn=<MeanBackward0>), tensor(0.6290, grad_fn=<MeanBackward0>), tensor(0.6281, grad_fn=<MeanBackward0>), tensor(0.6272, grad_fn=<MeanBackward0>), tensor(0.6269, grad_fn=<MeanBackward0>), tensor(0.6249, grad_fn=<MeanBackward0>), tensor(0.6236, grad_fn=<MeanBackward0>), tensor(0.6234, grad_fn=<MeanBackward0>), tensor(0.6227, grad_fn=<MeanBackward0>), tensor(0.6209, grad_fn=<MeanBackward0>), tensor(0.6208, grad_fn=<MeanBackward0>), tensor(0.6205, grad_fn=<MeanBackward0>)]\n",
            "average_sparsity: [0.6916413903236389, 0.6823078393936157, 0.6778775453567505, 0.6680547595024109, 0.6607469916343689, 0.6547574996948242, 0.6527225375175476, 0.6510747075080872, 0.6450780034065247, 0.6455678939819336, 0.642382800579071, 0.6413124203681946, 0.639350414276123, 0.6383539438247681, 0.6351872682571411, 0.6336401104927063, 0.6332746148109436, 0.6317968964576721, 0.6309961080551147, 0.6290082931518555, 0.6281000375747681, 0.6271974444389343, 0.6268644332885742, 0.6249347925186157, 0.6236324906349182, 0.6234163641929626, 0.6227169632911682, 0.620943009853363, 0.6207917332649231, 0.6204840540885925]\n"
          ],
          "name": "stdout"
        }
      ]
    },
    {
      "cell_type": "markdown",
      "metadata": {
        "id": "hmLJ4Zr2MnoS"
      },
      "source": [
        "# SGD\n"
      ]
    },
    {
      "cell_type": "code",
      "metadata": {
        "id": "6ObsEJHuMoPy",
        "colab": {
          "base_uri": "https://localhost:8080/"
        },
        "outputId": "7624d35b-8f8c-4ef3-ed66-9b9c5efa698c"
      },
      "source": [
        "model_factory('SGD')"
      ],
      "execution_count": 15,
      "outputs": [
        {
          "output_type": "stream",
          "text": [
            "my_model: Model(\n",
            "  (linear_1): Linear(in_features=784, out_features=256, bias=True)\n",
            "  (linear_2): Linear(in_features=256, out_features=10, bias=True)\n",
            "  (sigmoid12): Sigmoid()\n",
            ")\n",
            "my_optimizer: SGD (\n",
            "Parameter Group 0\n",
            "    dampening: 0\n",
            "    lr: 0.1\n",
            "    momentum: 0\n",
            "    nesterov: False\n",
            "    weight_decay: 0\n",
            ")\n",
            "\n",
            "Epoch: 1/30, Train Loss: 0.34129373, Test Loss: 0.18863603, Test Accuracy: 0.94340000\n",
            "\n",
            "Epoch: 2/30, Train Loss: 0.15553987, Test Loss: 0.12356792, Test Accuracy: 0.96200000\n",
            "\n",
            "Epoch: 3/30, Train Loss: 0.10769895, Test Loss: 0.09739490, Test Accuracy: 0.96980000\n",
            "\n",
            "Epoch: 4/30, Train Loss: 0.08263918, Test Loss: 0.09314563, Test Accuracy: 0.97060000\n",
            "\n",
            "Epoch: 5/30, Train Loss: 0.06560782, Test Loss: 0.08353834, Test Accuracy: 0.97480000\n",
            "\n",
            "Epoch: 6/30, Train Loss: 0.05389160, Test Loss: 0.07275146, Test Accuracy: 0.97670000\n",
            "\n",
            "Epoch: 7/30, Train Loss: 0.04431621, Test Loss: 0.07065886, Test Accuracy: 0.97820000\n",
            "\n",
            "Epoch: 8/30, Train Loss: 0.03682266, Test Loss: 0.06870395, Test Accuracy: 0.97870000\n",
            "\n",
            "Epoch: 9/30, Train Loss: 0.03153496, Test Loss: 0.06498362, Test Accuracy: 0.98050000\n",
            "\n",
            "Epoch: 10/30, Train Loss: 0.02622379, Test Loss: 0.06326438, Test Accuracy: 0.97940000\n",
            "\n",
            "Epoch: 11/30, Train Loss: 0.02219007, Test Loss: 0.06341536, Test Accuracy: 0.97930000\n",
            "\n",
            "Epoch: 12/30, Train Loss: 0.01860156, Test Loss: 0.06108876, Test Accuracy: 0.98070000\n",
            "\n",
            "Epoch: 13/30, Train Loss: 0.01573130, Test Loss: 0.05989986, Test Accuracy: 0.98260000\n",
            "\n",
            "Epoch: 14/30, Train Loss: 0.01324668, Test Loss: 0.06331247, Test Accuracy: 0.98080000\n",
            "\n",
            "Epoch: 15/30, Train Loss: 0.01150404, Test Loss: 0.06049979, Test Accuracy: 0.98190000\n",
            "\n",
            "Epoch: 16/30, Train Loss: 0.00992624, Test Loss: 0.06011100, Test Accuracy: 0.98160000\n",
            "\n",
            "Epoch: 17/30, Train Loss: 0.00840611, Test Loss: 0.06358643, Test Accuracy: 0.98080000\n",
            "\n",
            "Epoch: 18/30, Train Loss: 0.00733472, Test Loss: 0.06080621, Test Accuracy: 0.98200000\n",
            "\n",
            "Epoch: 19/30, Train Loss: 0.00645284, Test Loss: 0.06044824, Test Accuracy: 0.98300000\n",
            "\n",
            "Epoch: 20/30, Train Loss: 0.00562848, Test Loss: 0.05951678, Test Accuracy: 0.98290000\n",
            "\n",
            "Epoch: 21/30, Train Loss: 0.00513584, Test Loss: 0.06074860, Test Accuracy: 0.98230000\n",
            "\n",
            "Epoch: 22/30, Train Loss: 0.00456328, Test Loss: 0.06004995, Test Accuracy: 0.98280000\n",
            "\n",
            "Epoch: 23/30, Train Loss: 0.00407557, Test Loss: 0.06076828, Test Accuracy: 0.98310000\n",
            "\n",
            "Epoch: 24/30, Train Loss: 0.00370323, Test Loss: 0.06175014, Test Accuracy: 0.98250000\n",
            "\n",
            "Epoch: 25/30, Train Loss: 0.00337459, Test Loss: 0.06179513, Test Accuracy: 0.98270000\n",
            "\n",
            "Epoch: 26/30, Train Loss: 0.00317016, Test Loss: 0.06135402, Test Accuracy: 0.98280000\n",
            "\n",
            "Epoch: 27/30, Train Loss: 0.00293774, Test Loss: 0.06234032, Test Accuracy: 0.98240000\n",
            "\n",
            "Epoch: 28/30, Train Loss: 0.00268053, Test Loss: 0.06233430, Test Accuracy: 0.98250000\n",
            "\n",
            "Epoch: 29/30, Train Loss: 0.00251960, Test Loss: 0.06293113, Test Accuracy: 0.98230000\n",
            "\n",
            "Epoch: 30/30, Train Loss: 0.00236319, Test Loss: 0.06315564, Test Accuracy: 0.98260000\n",
            "[tensor(0.3294, grad_fn=<MeanBackward0>), tensor(0.3962, grad_fn=<MeanBackward0>), tensor(0.4193, grad_fn=<MeanBackward0>), tensor(0.4375, grad_fn=<MeanBackward0>), tensor(0.4452, grad_fn=<MeanBackward0>), tensor(0.4507, grad_fn=<MeanBackward0>), tensor(0.4531, grad_fn=<MeanBackward0>), tensor(0.4560, grad_fn=<MeanBackward0>), tensor(0.4574, grad_fn=<MeanBackward0>), tensor(0.4570, grad_fn=<MeanBackward0>), tensor(0.4619, grad_fn=<MeanBackward0>), tensor(0.4579, grad_fn=<MeanBackward0>), tensor(0.4605, grad_fn=<MeanBackward0>), tensor(0.4560, grad_fn=<MeanBackward0>), tensor(0.4574, grad_fn=<MeanBackward0>), tensor(0.4574, grad_fn=<MeanBackward0>), tensor(0.4571, grad_fn=<MeanBackward0>), tensor(0.4552, grad_fn=<MeanBackward0>), tensor(0.4558, grad_fn=<MeanBackward0>), tensor(0.4551, grad_fn=<MeanBackward0>), tensor(0.4541, grad_fn=<MeanBackward0>), tensor(0.4534, grad_fn=<MeanBackward0>), tensor(0.4536, grad_fn=<MeanBackward0>), tensor(0.4534, grad_fn=<MeanBackward0>), tensor(0.4529, grad_fn=<MeanBackward0>), tensor(0.4527, grad_fn=<MeanBackward0>), tensor(0.4523, grad_fn=<MeanBackward0>), tensor(0.4521, grad_fn=<MeanBackward0>), tensor(0.4523, grad_fn=<MeanBackward0>), tensor(0.4511, grad_fn=<MeanBackward0>)]\n",
            "average_sparsity: [0.3294014036655426, 0.3962462842464447, 0.41928207874298096, 0.4375022351741791, 0.4451555609703064, 0.45066016912460327, 0.45312055945396423, 0.4560127556324005, 0.4574354887008667, 0.45702114701271057, 0.4618648290634155, 0.45793670415878296, 0.46054863929748535, 0.4559704065322876, 0.4574113190174103, 0.45740005373954773, 0.4571245014667511, 0.4551529288291931, 0.45578789710998535, 0.4550732374191284, 0.4541153907775879, 0.45342889428138733, 0.45364171266555786, 0.4533527195453644, 0.4528845250606537, 0.4526672959327698, 0.4523092806339264, 0.4520605504512787, 0.45231103897094727, 0.451127290725708]\n"
          ],
          "name": "stdout"
        }
      ]
    },
    {
      "cell_type": "markdown",
      "metadata": {
        "id": "QvQxaN_fRXLq"
      },
      "source": [
        "# Adam"
      ]
    },
    {
      "cell_type": "code",
      "metadata": {
        "id": "VkqfFoVkRXxP",
        "colab": {
          "base_uri": "https://localhost:8080/"
        },
        "outputId": "378868a2-cf37-4991-ec04-8c8bb59b5c2b"
      },
      "source": [
        "model_factory('Adam')"
      ],
      "execution_count": 16,
      "outputs": [
        {
          "output_type": "stream",
          "text": [
            "my_model: Model(\n",
            "  (linear_1): Linear(in_features=784, out_features=256, bias=True)\n",
            "  (linear_2): Linear(in_features=256, out_features=10, bias=True)\n",
            "  (sigmoid12): Sigmoid()\n",
            ")\n",
            "my_optimizer: Adam (\n",
            "Parameter Group 0\n",
            "    amsgrad: False\n",
            "    betas: (0.9, 0.999)\n",
            "    eps: 1e-08\n",
            "    lr: 0.001\n",
            "    weight_decay: 0\n",
            ")\n",
            "\n",
            "Epoch: 1/30, Train Loss: 0.26155828, Test Loss: 0.12819004, Test Accuracy: 0.95910000\n",
            "\n",
            "Epoch: 2/30, Train Loss: 0.10375782, Test Loss: 0.09380876, Test Accuracy: 0.96940000\n",
            "\n",
            "Epoch: 3/30, Train Loss: 0.06624083, Test Loss: 0.07829298, Test Accuracy: 0.97640000\n",
            "\n",
            "Epoch: 4/30, Train Loss: 0.04686910, Test Loss: 0.07197717, Test Accuracy: 0.97740000\n",
            "\n",
            "Epoch: 5/30, Train Loss: 0.03341958, Test Loss: 0.06389176, Test Accuracy: 0.98090000\n",
            "\n",
            "Epoch: 6/30, Train Loss: 0.02371848, Test Loss: 0.06569730, Test Accuracy: 0.98170000\n",
            "\n",
            "Epoch: 7/30, Train Loss: 0.01770334, Test Loss: 0.06808118, Test Accuracy: 0.98070000\n",
            "\n",
            "Epoch: 8/30, Train Loss: 0.01350103, Test Loss: 0.06929002, Test Accuracy: 0.98090000\n",
            "\n",
            "Epoch: 9/30, Train Loss: 0.01001572, Test Loss: 0.06926197, Test Accuracy: 0.98070000\n",
            "\n",
            "Epoch: 10/30, Train Loss: 0.00764613, Test Loss: 0.07417566, Test Accuracy: 0.98220000\n",
            "\n",
            "Epoch: 11/30, Train Loss: 0.00609332, Test Loss: 0.07584000, Test Accuracy: 0.98060000\n",
            "\n",
            "Epoch: 12/30, Train Loss: 0.00514858, Test Loss: 0.07969785, Test Accuracy: 0.98050000\n",
            "\n",
            "Epoch: 13/30, Train Loss: 0.00427147, Test Loss: 0.08615731, Test Accuracy: 0.98120000\n",
            "\n",
            "Epoch: 14/30, Train Loss: 0.00362954, Test Loss: 0.08388073, Test Accuracy: 0.98070000\n",
            "\n",
            "Epoch: 15/30, Train Loss: 0.00314097, Test Loss: 0.09253774, Test Accuracy: 0.97850000\n",
            "\n",
            "Epoch: 16/30, Train Loss: 0.00243953, Test Loss: 0.08984519, Test Accuracy: 0.98110000\n",
            "\n",
            "Epoch: 17/30, Train Loss: 0.00242914, Test Loss: 0.09001163, Test Accuracy: 0.98150000\n",
            "\n",
            "Epoch: 18/30, Train Loss: 0.00223094, Test Loss: 0.09494189, Test Accuracy: 0.98170000\n",
            "\n",
            "Epoch: 19/30, Train Loss: 0.00205345, Test Loss: 0.10425365, Test Accuracy: 0.97970000\n",
            "\n",
            "Epoch: 20/30, Train Loss: 0.00136395, Test Loss: 0.10405059, Test Accuracy: 0.97970000\n",
            "\n",
            "Epoch: 21/30, Train Loss: 0.00149667, Test Loss: 0.11366288, Test Accuracy: 0.97870000\n",
            "\n",
            "Epoch: 22/30, Train Loss: 0.00128576, Test Loss: 0.10374669, Test Accuracy: 0.98040000\n",
            "\n",
            "Epoch: 23/30, Train Loss: 0.00119871, Test Loss: 0.11339759, Test Accuracy: 0.97970000\n",
            "\n",
            "Epoch: 24/30, Train Loss: 0.00111397, Test Loss: 0.12577437, Test Accuracy: 0.97880000\n",
            "\n",
            "Epoch: 25/30, Train Loss: 0.00118524, Test Loss: 0.11988671, Test Accuracy: 0.97870000\n",
            "\n",
            "Epoch: 26/30, Train Loss: 0.00090657, Test Loss: 0.12606418, Test Accuracy: 0.97890000\n",
            "\n",
            "Epoch: 27/30, Train Loss: 0.00079754, Test Loss: 0.13069422, Test Accuracy: 0.97880000\n",
            "\n",
            "Epoch: 28/30, Train Loss: 0.00074391, Test Loss: 0.13557871, Test Accuracy: 0.97870000\n",
            "\n",
            "Epoch: 29/30, Train Loss: 0.00078894, Test Loss: 0.12271505, Test Accuracy: 0.97930000\n",
            "\n",
            "Epoch: 30/30, Train Loss: 0.00057959, Test Loss: 0.12496536, Test Accuracy: 0.97980000\n",
            "[tensor(0.3204, grad_fn=<MeanBackward0>), tensor(0.3577, grad_fn=<MeanBackward0>), tensor(0.3724, grad_fn=<MeanBackward0>), tensor(0.3858, grad_fn=<MeanBackward0>), tensor(0.3837, grad_fn=<MeanBackward0>), tensor(0.3901, grad_fn=<MeanBackward0>), tensor(0.3897, grad_fn=<MeanBackward0>), tensor(0.3947, grad_fn=<MeanBackward0>), tensor(0.3892, grad_fn=<MeanBackward0>), tensor(0.3928, grad_fn=<MeanBackward0>), tensor(0.4007, grad_fn=<MeanBackward0>), tensor(0.3954, grad_fn=<MeanBackward0>), tensor(0.3979, grad_fn=<MeanBackward0>), tensor(0.3967, grad_fn=<MeanBackward0>), tensor(0.3980, grad_fn=<MeanBackward0>), tensor(0.4006, grad_fn=<MeanBackward0>), tensor(0.3971, grad_fn=<MeanBackward0>), tensor(0.3988, grad_fn=<MeanBackward0>), tensor(0.4013, grad_fn=<MeanBackward0>), tensor(0.3982, grad_fn=<MeanBackward0>), tensor(0.4032, grad_fn=<MeanBackward0>), tensor(0.4066, grad_fn=<MeanBackward0>), tensor(0.4038, grad_fn=<MeanBackward0>), tensor(0.4046, grad_fn=<MeanBackward0>), tensor(0.4055, grad_fn=<MeanBackward0>), tensor(0.4007, grad_fn=<MeanBackward0>), tensor(0.4023, grad_fn=<MeanBackward0>), tensor(0.3996, grad_fn=<MeanBackward0>), tensor(0.4063, grad_fn=<MeanBackward0>), tensor(0.3983, grad_fn=<MeanBackward0>)]\n",
            "average_sparsity: [0.32039570808410645, 0.3577256202697754, 0.372372567653656, 0.38577738404273987, 0.38372254371643066, 0.3901239335536957, 0.3896982967853546, 0.39474600553512573, 0.3892490863800049, 0.39283084869384766, 0.40067777037620544, 0.39543378353118896, 0.39787018299102783, 0.39667102694511414, 0.39804503321647644, 0.40061914920806885, 0.397128701210022, 0.39880234003067017, 0.4012719690799713, 0.3981984555721283, 0.4032212197780609, 0.4066113829612732, 0.4038243293762207, 0.4046489894390106, 0.40550220012664795, 0.4006565511226654, 0.4023134410381317, 0.3996448814868927, 0.40626391768455505, 0.3983457386493683]\n"
          ],
          "name": "stdout"
        }
      ]
    }
  ]
}