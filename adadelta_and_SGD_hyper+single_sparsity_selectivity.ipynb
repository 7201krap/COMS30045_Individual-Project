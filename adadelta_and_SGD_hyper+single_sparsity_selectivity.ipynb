{
  "nbformat": 4,
  "nbformat_minor": 0,
  "metadata": {
    "colab": {
      "name": "adadelta_and_SGD_hyper+single_sparsity_selectivity.ipynb",
      "provenance": [],
      "collapsed_sections": [],
      "machine_shape": "hm",
      "include_colab_link": true
    },
    "kernelspec": {
      "display_name": "Python 3",
      "language": "python",
      "name": "python3"
    },
    "language_info": {
      "codemirror_mode": {
        "name": "ipython",
        "version": 3
      },
      "file_extension": ".py",
      "mimetype": "text/x-python",
      "name": "python",
      "nbconvert_exporter": "python",
      "pygments_lexer": "ipython3",
      "version": "3.8.5"
    }
  },
  "cells": [
    {
      "cell_type": "markdown",
      "metadata": {
        "id": "view-in-github",
        "colab_type": "text"
      },
      "source": [
        "<a href=\"https://colab.research.google.com/github/7201krap/PYTORCH_project/blob/main/adadelta_and_SGD_hyper%2Bsingle_sparsity_selectivity.ipynb\" target=\"_parent\"><img src=\"https://colab.research.google.com/assets/colab-badge.svg\" alt=\"Open In Colab\"/></a>"
      ]
    },
    {
      "cell_type": "code",
      "metadata": {
        "colab": {
          "base_uri": "https://localhost:8080/"
        },
        "id": "sBqH9K8K5two",
        "outputId": "a8fc5cf9-117e-4967-bdc7-9fdb5c36cc03"
      },
      "source": [
        "import torch\n",
        "import torchvision\n",
        "import torchvision.transforms as transforms\n",
        "from torch.utils.data import DataLoader, Subset\n",
        "import matplotlib.pyplot as plt\n",
        "import numpy as np\n",
        "from google.colab import drive\n",
        "drive.mount('/content/drive')"
      ],
      "execution_count": 1,
      "outputs": [
        {
          "output_type": "stream",
          "text": [
            "Drive already mounted at /content/drive; to attempt to forcibly remount, call drive.mount(\"/content/drive\", force_remount=True).\n"
          ],
          "name": "stdout"
        }
      ]
    },
    {
      "cell_type": "code",
      "metadata": {
        "id": "N5qYx2qLmXoU"
      },
      "source": [
        "!wget www.di.ens.fr/~lelarge/MNIST.tar.gz\n",
        "!tar -zxvf MNIST.tar.gz\n",
        "\n",
        "root_dir = './'\n",
        "torchvision.datasets.MNIST(root=root_dir,download=True)"
      ],
      "execution_count": null,
      "outputs": []
    },
    {
      "cell_type": "code",
      "metadata": {
        "id": "cK7kgI_K6f_Q"
      },
      "source": [
        "device = torch.device('cuda' if torch.cuda.is_available() else 'cpu')\n",
        "torch.manual_seed(1234)\n",
        "np.random.seed(1234)"
      ],
      "execution_count": 3,
      "outputs": []
    },
    {
      "cell_type": "code",
      "metadata": {
        "colab": {
          "base_uri": "https://localhost:8080/"
        },
        "id": "cg9ZSHmE6hCg",
        "outputId": "bc63f273-1aab-4a57-a518-4690e6ac0690"
      },
      "source": [
        "mnist_trainset = torchvision.datasets.MNIST(root=root_dir, train=True, \n",
        "                                download=True, \n",
        "                                transform=transforms.Compose([transforms.ToTensor()]))\n",
        "\n",
        "mnist_testset  = torchvision.datasets.MNIST(root=root_dir, \n",
        "                                train=False, \n",
        "                                download=True, \n",
        "                                transform=transforms.Compose([transforms.ToTensor()]))\n",
        "\n",
        "\n",
        "class_inds = [torch.where(mnist_trainset.targets == class_idx)[0]\n",
        "              for class_idx in mnist_trainset.class_to_idx.values()]\n",
        "\n",
        "\n",
        "train_dataloaders = [\n",
        "                     DataLoader(dataset=Subset(mnist_trainset, inds),\n",
        "                                batch_size=50,\n",
        "                                shuffle=True,\n",
        "                                drop_last=False\n",
        "                     )\n",
        "                     for inds in class_inds\n",
        "]\n",
        "\n",
        "test_dataloader  = torch.utils.data.DataLoader(mnist_testset, \n",
        "                                               batch_size=50, \n",
        "                                               shuffle=False)\n",
        "\n",
        "print(\"Training dataset size: \", len(mnist_trainset))\n",
        "print(\"Testing dataset size: \",  len(mnist_testset))"
      ],
      "execution_count": 4,
      "outputs": [
        {
          "output_type": "stream",
          "text": [
            "Training dataset size:  60000\n",
            "Testing dataset size:  10000\n"
          ],
          "name": "stdout"
        }
      ]
    },
    {
      "cell_type": "code",
      "metadata": {
        "id": "fpqW8O8u6iVw"
      },
      "source": [
        "# ************* modify this section for later use *************\n",
        "# Define the model \n",
        "class Model(torch.nn.Module):\n",
        "    def __init__(self):\n",
        "        super(Model, self).__init__()\n",
        "\n",
        "        # modify this section for later use \n",
        "        self.linear_1 = torch.nn.Linear(784, 256)\n",
        "        self.linear_2 = torch.nn.Linear(256, 10)\n",
        "        self.sigmoid12  = torch.nn.Sigmoid()\n",
        "\n",
        "        self.layer_activations = dict()\n",
        "\n",
        "    def forward(self, x):\n",
        "\n",
        "        # modify this section for later use \n",
        "        x = x.reshape(x.size(0), -1)\n",
        "        x = self.linear_1(x)\n",
        "        x = self.sigmoid12(x)\n",
        "        pred = self.linear_2(x)\n",
        "        return pred\n",
        "# ************* modify this section for later use *************"
      ],
      "execution_count": 5,
      "outputs": []
    },
    {
      "cell_type": "code",
      "metadata": {
        "id": "FD1bKvs_6lQa"
      },
      "source": [
        "def get_activation(model, layer_name):    \n",
        "    def hook(module, input, output):\n",
        "        model.layer_activations[layer_name] = output\n",
        "    return hook"
      ],
      "execution_count": 6,
      "outputs": []
    },
    {
      "cell_type": "code",
      "metadata": {
        "id": "qUb0UnpiofGQ"
      },
      "source": [
        "def sparsity_calculator(final_spareness):\n",
        "    sparseness_list = list()\n",
        "    for single_epoch_spareness in final_spareness:\n",
        "\n",
        "        hidden_layer_activation_list = single_epoch_spareness\n",
        "        hidden_layer_activation_list = torch.stack(hidden_layer_activation_list)\n",
        "        layer_activations_list = torch.reshape(hidden_layer_activation_list, (10000, 256))\n",
        "\n",
        "        layer_activations_list = torch.abs(layer_activations_list)  # modified \n",
        "        num_neurons = layer_activations_list.shape[1]\n",
        "        population_sparseness = (np.sqrt(num_neurons) - (torch.sum(layer_activations_list, dim=1) / torch.sqrt(torch.sum(layer_activations_list ** 2, dim=1)))) / (np.sqrt(num_neurons) - 1)\n",
        "        mean_sparseness_per_epoch = torch.mean(population_sparseness)\n",
        "\n",
        "        sparseness_list.append(mean_sparseness_per_epoch)\n",
        "\n",
        "    return sparseness_list"
      ],
      "execution_count": 7,
      "outputs": []
    },
    {
      "cell_type": "code",
      "metadata": {
        "id": "VwmDDdOf6mzH"
      },
      "source": [
        "def selectivity(hidden_layer_each_neuron):\n",
        "    __selectivity__ = list()\n",
        "    # I will now try to find the average of each class for each neuron.\n",
        "    # check out the next cell \n",
        "    avg_activations = [dict() for x in range(256)]\n",
        "    for i, neuron in enumerate(hidden_layer_each_neuron):\n",
        "        for k, v in neuron.items():\n",
        "            # v is the list of activations for hidden layer's neuron k \n",
        "            avg_activations[i][k] = sum(v) / float(len(v))\n",
        "\n",
        "    # generate 256 lists to get only values in avg_activations\n",
        "    only_activation_vals = [list() for x in range(256)]\n",
        "\n",
        "    # get only values from avg_activations\n",
        "    for i, avg_activation in enumerate(avg_activations):\n",
        "        for value in avg_activation.values():\n",
        "            only_activation_vals[i].append(value)\n",
        "\n",
        "    for activation_val in only_activation_vals:\n",
        "        # find u_max \n",
        "        u_max = np.max(activation_val)\n",
        "\n",
        "        # find u_minus_max \n",
        "        u_minus_max = (np.sum(activation_val) - u_max) / 9\n",
        "\n",
        "        # find selectivity \n",
        "        selectivity = (u_max - u_minus_max) / (u_max + u_minus_max)\n",
        "\n",
        "        # append selectivity value to selectivity\n",
        "        __selectivity__.append(selectivity)\n",
        "\n",
        "    avg_selectivity = np.average(__selectivity__)\n",
        "    std_selectivity = np.std(__selectivity__)\n",
        "                                 \n",
        "    return avg_selectivity, std_selectivity"
      ],
      "execution_count": 8,
      "outputs": []
    },
    {
      "cell_type": "code",
      "metadata": {
        "id": "1_7AxAI7m5TQ"
      },
      "source": [
        "# ************* modify this section for later use *************\n",
        "def avg_std_calculator(_hidden_layer_each_neuron_12):\n",
        "\n",
        "    avg_selectivity12, std_selectivity12 = selectivity(_hidden_layer_each_neuron_12)\n",
        "\n",
        "    final_selectivity_avg = (avg_selectivity12) / 1\n",
        "    final_selecvitity_std = (std_selectivity12) / 1\n",
        "\n",
        "    return final_selectivity_avg, final_selecvitity_std\n",
        "# ************* modify this section for later use *************"
      ],
      "execution_count": 9,
      "outputs": []
    },
    {
      "cell_type": "code",
      "metadata": {
        "id": "JEOZEF9g6oa5"
      },
      "source": [
        "def model_factory(optimizer_name):\n",
        "    '''\n",
        "    optimizer_name : choose one of Adagrad, Adadelta, SGD, and Adam \n",
        "\n",
        "    '''\n",
        "    my_model = Model()\n",
        "    print(\"my_model:\", my_model)\n",
        "    my_model.to(device)\n",
        "\n",
        "    # ************* modify this section for later use *************\n",
        "    # modify this section for later use \n",
        "    my_model.sigmoid12.register_forward_hook(get_activation(my_model, 's12'))\n",
        "    # ************* modify this section for later use *************\n",
        "\n",
        "    # ADADELTA\n",
        "    if optimizer_name == 'Adadelta':\n",
        "        my_optimizer = torch.optim.Adadelta(my_model.parameters(), lr=1.0, rho=1.0)\n",
        "\n",
        "    elif optimizer_name == 'Adagrad':\n",
        "        my_optimizer = torch.optim.Adagrad(my_model.parameters(), lr=0.1)\n",
        "\n",
        "    elif optimizer_name == 'SGD':\n",
        "        my_optimizer = torch.optim.SGD(my_model.parameters(), lr=0.1, momentum=0.9)\n",
        "\n",
        "    elif optimizer_name == 'Adam':\n",
        "        my_optimizer = torch.optim.Adam(my_model.parameters(), lr=0.001)\n",
        "\n",
        "    else:\n",
        "        print(\"ERROR\")\n",
        "    \n",
        "    print(\"my_optimizer:\", my_optimizer)\n",
        "    test_acc, sparsity_avg, selectivity_list_avg, selectivity_list_std = selectivity_trainer(optimizer=my_optimizer, model=my_model)\n",
        "    # ************* modify this section for later use *************\n",
        "    file_saver = open(f\"combine_sparsity_selectivity_{optimizer_name}.txt\", \"w\")\n",
        "    # ************* modify this section for later use *************\n",
        "    file_saver.write(str(test_acc)+'\\n'+str(sparsity_avg)+'\\n'+str(selectivity_list_avg)+'\\n'+str(selectivity_list_std)+'\\n\\n')\n",
        "    file_saver.close()\n",
        "\n",
        "    # ************* modify this section for later use *************\n",
        "    if optimizer_name == 'Adadelta':\n",
        "        !cp combine_sparsity_selectivity_Adadelta.txt /content/drive/MyDrive\n",
        "    \n",
        "    elif optimizer_name == 'Adagrad':\n",
        "        !cp combine_sparsity_selectivity_Adagrad.txt /content/drive/MyDrive\n",
        "\n",
        "    elif optimizer_name == 'SGD':\n",
        "        !cp combine_sparsity_selectivity_SGD.txt /content/drive/MyDrive\n",
        "\n",
        "    elif optimizer_name == 'Adam':\n",
        "        !cp combine_sparsity_selectivity_Adam.txt /content/drive/MyDrive\n",
        "    # ************* modify this section for later use *************\n",
        "\n",
        "    else:\n",
        "        print(\"ERROR\")"
      ],
      "execution_count": 10,
      "outputs": []
    },
    {
      "cell_type": "code",
      "metadata": {
        "id": "plG8DIGw6qnQ"
      },
      "source": [
        "no_epochs = 30\n",
        "def selectivity_trainer(optimizer, model):\n",
        "\n",
        "    criterion = torch.nn.CrossEntropyLoss()\n",
        "    train_loss = list()\n",
        "    test_loss  = list()\n",
        "    test_acc   = list()\n",
        "\n",
        "    best_test_loss = 1\n",
        "\n",
        "    # ************* modify this section for later use *************\n",
        "    final_spareness_12 = list()\n",
        "    # ************* modify this section for later use *************\n",
        "\n",
        "    selectivity_avg_list = list()\n",
        "    selectivity_std_list = list()\n",
        "\n",
        "    for epoch in range(no_epochs):\n",
        "\n",
        "        # ************* modify this section for later use *************\n",
        "        hidden_layer_activation_list_12 = list()\n",
        "        # ************* modify this section for later use *************\n",
        "\n",
        "        # ************* modify this section for later use *************\n",
        "        hidden_layer_each_neuron_12 = [{0:[], 1:[], 2:[], 3:[], 4:[], 5:[], 6:[], 7:[], 8:[], 9:[]} for x in range(256)]\n",
        "        hidden_layer_each_neuron_12 = np.array(hidden_layer_each_neuron_12)\n",
        "        # ************* modify this section for later use *************\n",
        "\n",
        "\n",
        "        total_train_loss = 0\n",
        "        total_test_loss = 0\n",
        "\n",
        "        # training\n",
        "        # set up training mode \n",
        "        model.train()\n",
        "        iterators = list(map(iter, train_dataloaders))   \n",
        "        while iterators:    # This part is same as for loop \n",
        "            iterator = np.random.choice(iterators)\n",
        "            try:\n",
        "                image, label = next(iterator)   \n",
        "                image, label = image.to(device), label.to(device)\n",
        "\n",
        "                optimizer.zero_grad()\n",
        "\n",
        "                pred = model(image)\n",
        "\n",
        "                loss = criterion(pred, label)\n",
        "\n",
        "                loss.backward()\n",
        "                optimizer.step()\n",
        "                \n",
        "            except StopIteration:\n",
        "                iterators.remove(iterator)\n",
        "\n",
        "\n",
        "        # testing \n",
        "        # change to evaluation mode \n",
        "        model.eval()\n",
        "        total = 0\n",
        "        for itr, (images, labels) in enumerate(test_dataloader):\n",
        "            images, labels = images.to(device), labels.to(device)\n",
        "\n",
        "            pred = model(images)\n",
        "\n",
        "            loss = criterion(pred, labels)\n",
        "            total_test_loss += loss.item()\n",
        "\n",
        "            # we now need softmax because we are testing.\n",
        "            pred = torch.nn.functional.softmax(pred, dim=1)\n",
        "            for i, p in enumerate(pred):\n",
        "                if labels[i] == torch.max(p.data, 0)[1]:\n",
        "                    total = total + 1\n",
        "            \n",
        "            # ***************** sparsity calculation ***************** #\n",
        "            hidden_layer_activation_list_12.append(model.layer_activations['s12'])\n",
        "\n",
        "            # ************* modify this section for later use *************\n",
        "            for activation, label in zip(model.layer_activations['s12'], labels):\n",
        "                label = label.item()\n",
        "                with torch.no_grad():\n",
        "                    activation = activation.numpy()\n",
        "                for i in range(256):    \n",
        "                    hidden_layer_each_neuron_12[i][label].append(activation[i])\n",
        "\n",
        "        final_spareness_12.append(hidden_layer_activation_list_12)\n",
        "        # ***************** sparsity calculation ***************** #\n",
        "    \n",
        "        selectivity_avg, selecvitity_std = avg_std_calculator(hidden_layer_each_neuron_12)\n",
        "        # ************* modify this section for later use *************\n",
        "        \n",
        "        selectivity_avg_list.append(selectivity_avg)\n",
        "        selectivity_std_list.append(selecvitity_std)\n",
        "\n",
        "        # caculate accuracy \n",
        "        accuracy = total / len(mnist_testset)\n",
        "\n",
        "        # append accuracy here\n",
        "        test_acc.append(accuracy)\n",
        "\n",
        "        # append test loss here \n",
        "        total_test_loss = total_test_loss / (itr + 1)\n",
        "        test_loss.append(total_test_loss)\n",
        "\n",
        "        print('Epoch: {}/{}, Train Loss: {:.8f}, Test Loss: {:.8f}, Test Accuracy: {:.8f}'.format(epoch + 1, no_epochs, total_train_loss, total_test_loss, accuracy))\n",
        "    \n",
        "    # ***************** sparsity calculation ***************** #\n",
        "    sparsity_list12 = sparsity_calculator(final_spareness_12)\n",
        "\n",
        "    average_sparsity = list()\n",
        "    for i in range(no_epochs):\n",
        "        average_sparsity.append( (sparsity_list12[i].item()) / 1 )\n",
        "    # ***************** sparsity calculation ***************** #\n",
        "\n",
        "    print(\"average_sparsity:\", average_sparsity)\n",
        "\n",
        "    print(selectivity_avg_list)\n",
        "    print(selectivity_std_list)\n",
        "    return test_acc, sparsity_list12, selectivity_avg_list, selectivity_std_list"
      ],
      "execution_count": 11,
      "outputs": []
    },
    {
      "cell_type": "code",
      "metadata": {
        "colab": {
          "base_uri": "https://localhost:8080/"
        },
        "id": "T3u3oXXk7pXg",
        "outputId": "5c8df158-12e7-4797-f69c-7d27dc12f894"
      },
      "source": [
        "model_factory('Adadelta')"
      ],
      "execution_count": 12,
      "outputs": [
        {
          "output_type": "stream",
          "text": [
            "my_model: Model(\n",
            "  (linear_1): Linear(in_features=784, out_features=256, bias=True)\n",
            "  (linear_2): Linear(in_features=256, out_features=10, bias=True)\n",
            "  (sigmoid12): Sigmoid()\n",
            ")\n",
            "my_optimizer: Adadelta (\n",
            "Parameter Group 0\n",
            "    eps: 1e-06\n",
            "    lr: 1.0\n",
            "    rho: 1.0\n",
            "    weight_decay: 0\n",
            ")\n",
            "Epoch: 1/30, Train Loss: 0.00000000, Test Loss: 1.12535267, Test Accuracy: 0.66500000\n",
            "Epoch: 2/30, Train Loss: 0.00000000, Test Loss: 0.92132770, Test Accuracy: 0.74100000\n",
            "Epoch: 3/30, Train Loss: 0.00000000, Test Loss: 0.41403226, Test Accuracy: 0.87170000\n",
            "Epoch: 4/30, Train Loss: 0.00000000, Test Loss: 0.49222100, Test Accuracy: 0.84650000\n",
            "Epoch: 5/30, Train Loss: 0.00000000, Test Loss: 0.26893806, Test Accuracy: 0.91460000\n",
            "Epoch: 6/30, Train Loss: 0.00000000, Test Loss: 0.27824106, Test Accuracy: 0.91500000\n",
            "Epoch: 7/30, Train Loss: 0.00000000, Test Loss: 0.32562472, Test Accuracy: 0.89920000\n",
            "Epoch: 8/30, Train Loss: 0.00000000, Test Loss: 0.26091860, Test Accuracy: 0.91830000\n",
            "Epoch: 9/30, Train Loss: 0.00000000, Test Loss: 0.24752385, Test Accuracy: 0.92650000\n",
            "Epoch: 10/30, Train Loss: 0.00000000, Test Loss: 0.24480663, Test Accuracy: 0.93010000\n",
            "Epoch: 11/30, Train Loss: 0.00000000, Test Loss: 0.29618150, Test Accuracy: 0.91230000\n",
            "Epoch: 12/30, Train Loss: 0.00000000, Test Loss: 0.19740447, Test Accuracy: 0.94340000\n",
            "Epoch: 13/30, Train Loss: 0.00000000, Test Loss: 0.23040292, Test Accuracy: 0.93320000\n",
            "Epoch: 14/30, Train Loss: 0.00000000, Test Loss: 0.16522606, Test Accuracy: 0.94940000\n",
            "Epoch: 15/30, Train Loss: 0.00000000, Test Loss: 0.22474847, Test Accuracy: 0.93370000\n",
            "Epoch: 16/30, Train Loss: 0.00000000, Test Loss: 0.24721183, Test Accuracy: 0.92920000\n",
            "Epoch: 17/30, Train Loss: 0.00000000, Test Loss: 0.17834329, Test Accuracy: 0.94940000\n",
            "Epoch: 18/30, Train Loss: 0.00000000, Test Loss: 0.15466779, Test Accuracy: 0.95350000\n",
            "Epoch: 19/30, Train Loss: 0.00000000, Test Loss: 0.14056217, Test Accuracy: 0.95920000\n",
            "Epoch: 20/30, Train Loss: 0.00000000, Test Loss: 0.15348001, Test Accuracy: 0.95600000\n",
            "Epoch: 21/30, Train Loss: 0.00000000, Test Loss: 0.16063986, Test Accuracy: 0.95500000\n",
            "Epoch: 22/30, Train Loss: 0.00000000, Test Loss: 0.14211541, Test Accuracy: 0.95680000\n",
            "Epoch: 23/30, Train Loss: 0.00000000, Test Loss: 0.15944230, Test Accuracy: 0.95210000\n",
            "Epoch: 24/30, Train Loss: 0.00000000, Test Loss: 0.15050470, Test Accuracy: 0.95750000\n",
            "Epoch: 25/30, Train Loss: 0.00000000, Test Loss: 0.18223590, Test Accuracy: 0.94950000\n",
            "Epoch: 26/30, Train Loss: 0.00000000, Test Loss: 0.15112113, Test Accuracy: 0.95680000\n",
            "Epoch: 27/30, Train Loss: 0.00000000, Test Loss: 0.12701582, Test Accuracy: 0.96210000\n",
            "Epoch: 28/30, Train Loss: 0.00000000, Test Loss: 0.13012049, Test Accuracy: 0.96330000\n",
            "Epoch: 29/30, Train Loss: 0.00000000, Test Loss: 0.15615644, Test Accuracy: 0.95830000\n",
            "Epoch: 30/30, Train Loss: 0.00000000, Test Loss: 0.15408175, Test Accuracy: 0.95620000\n",
            "average_sparsity: [0.8622034192085266, 0.8673979640007019, 0.8668243288993835, 0.8611834049224854, 0.8740592002868652, 0.8626710772514343, 0.8688172101974487, 0.8702687621116638, 0.8607136011123657, 0.8613142371177673, 0.8732477426528931, 0.8634799122810364, 0.8630947470664978, 0.8596364259719849, 0.8584577441215515, 0.8608150482177734, 0.8592047095298767, 0.8580565452575684, 0.8600919842720032, 0.8547220826148987, 0.8612865209579468, 0.8620470762252808, 0.8594898581504822, 0.8581018447875977, 0.8610018491744995, 0.8584939241409302, 0.8584853410720825, 0.86039137840271, 0.8561938405036926, 0.8561309576034546]\n",
            "[0.6800254187924326, 0.6818486752591711, 0.6793337620035438, 0.6775702303727789, 0.6823333960394866, 0.6795824046808128, 0.683099466926939, 0.6823340146541497, 0.679526248946919, 0.6796564094340478, 0.6847474373087392, 0.6798384201609172, 0.6789536123215623, 0.6788930420408485, 0.6770067423103995, 0.6784828126204472, 0.6785784348837105, 0.6780609468218264, 0.6766197826718213, 0.6743376770826581, 0.6758997084408687, 0.6767031584811398, 0.6754645079260702, 0.6735959524588637, 0.6742745332920191, 0.67178647905079, 0.6732005920369603, 0.6722018066299937, 0.669575984337687, 0.6690969066240245]\n",
            "[0.08841475783699902, 0.09451470685774468, 0.09118008752824411, 0.09437717319839771, 0.09428368421422796, 0.09485588681106663, 0.09610429575547838, 0.09167790921106085, 0.09677185186241133, 0.09243238037506435, 0.0944376575839236, 0.09406903696357281, 0.09268640077538536, 0.09136997169723876, 0.0925177936697418, 0.09132858855166565, 0.09143752396154557, 0.09328222711364506, 0.0907598327492174, 0.09549954156088439, 0.09062428541041202, 0.09545264213693387, 0.0957282483098853, 0.09588174286511716, 0.09564938274344525, 0.09424199831148905, 0.09920728158982008, 0.09678536838618662, 0.09772605988419673, 0.09708484809840237]\n"
          ],
          "name": "stdout"
        }
      ]
    },
    {
      "cell_type": "code",
      "metadata": {
        "colab": {
          "base_uri": "https://localhost:8080/"
        },
        "id": "AZ13eDGcCLbZ",
        "outputId": "2b382b4e-6592-432f-aa6c-81926e6d2dfc"
      },
      "source": [
        "model_factory('SGD')"
      ],
      "execution_count": 13,
      "outputs": [
        {
          "output_type": "stream",
          "text": [
            "my_model: Model(\n",
            "  (linear_1): Linear(in_features=784, out_features=256, bias=True)\n",
            "  (linear_2): Linear(in_features=256, out_features=10, bias=True)\n",
            "  (sigmoid12): Sigmoid()\n",
            ")\n",
            "my_optimizer: SGD (\n",
            "Parameter Group 0\n",
            "    dampening: 0\n",
            "    lr: 0.1\n",
            "    momentum: 0.9\n",
            "    nesterov: False\n",
            "    weight_decay: 0\n",
            ")\n",
            "Epoch: 1/30, Train Loss: 0.00000000, Test Loss: 1.81769768, Test Accuracy: 0.56590000\n",
            "Epoch: 2/30, Train Loss: 0.00000000, Test Loss: 0.54762083, Test Accuracy: 0.83940000\n",
            "Epoch: 3/30, Train Loss: 0.00000000, Test Loss: 0.33984126, Test Accuracy: 0.90280000\n",
            "Epoch: 4/30, Train Loss: 0.00000000, Test Loss: 0.43677573, Test Accuracy: 0.86430000\n",
            "Epoch: 5/30, Train Loss: 0.00000000, Test Loss: 0.32052384, Test Accuracy: 0.90240000\n",
            "Epoch: 6/30, Train Loss: 0.00000000, Test Loss: 0.37957823, Test Accuracy: 0.89210000\n",
            "Epoch: 7/30, Train Loss: 0.00000000, Test Loss: 0.33457515, Test Accuracy: 0.89640000\n",
            "Epoch: 8/30, Train Loss: 0.00000000, Test Loss: 0.23201332, Test Accuracy: 0.93170000\n",
            "Epoch: 9/30, Train Loss: 0.00000000, Test Loss: 0.27718885, Test Accuracy: 0.92230000\n",
            "Epoch: 10/30, Train Loss: 0.00000000, Test Loss: 0.16747710, Test Accuracy: 0.95140000\n",
            "Epoch: 11/30, Train Loss: 0.00000000, Test Loss: 0.21326728, Test Accuracy: 0.93880000\n",
            "Epoch: 12/30, Train Loss: 0.00000000, Test Loss: 0.17733563, Test Accuracy: 0.94570000\n",
            "Epoch: 13/30, Train Loss: 0.00000000, Test Loss: 0.18051290, Test Accuracy: 0.94860000\n",
            "Epoch: 14/30, Train Loss: 0.00000000, Test Loss: 0.15405187, Test Accuracy: 0.95410000\n",
            "Epoch: 15/30, Train Loss: 0.00000000, Test Loss: 0.15741389, Test Accuracy: 0.95670000\n",
            "Epoch: 16/30, Train Loss: 0.00000000, Test Loss: 0.16251994, Test Accuracy: 0.95470000\n",
            "Epoch: 17/30, Train Loss: 0.00000000, Test Loss: 0.14832630, Test Accuracy: 0.95940000\n",
            "Epoch: 18/30, Train Loss: 0.00000000, Test Loss: 0.14129153, Test Accuracy: 0.96110000\n",
            "Epoch: 19/30, Train Loss: 0.00000000, Test Loss: 0.16301792, Test Accuracy: 0.95530000\n",
            "Epoch: 20/30, Train Loss: 0.00000000, Test Loss: 0.13383246, Test Accuracy: 0.96580000\n",
            "Epoch: 21/30, Train Loss: 0.00000000, Test Loss: 0.14478674, Test Accuracy: 0.96130000\n",
            "Epoch: 22/30, Train Loss: 0.00000000, Test Loss: 0.13447577, Test Accuracy: 0.96280000\n",
            "Epoch: 23/30, Train Loss: 0.00000000, Test Loss: 0.13655146, Test Accuracy: 0.96200000\n",
            "Epoch: 24/30, Train Loss: 0.00000000, Test Loss: 0.16098406, Test Accuracy: 0.95910000\n",
            "Epoch: 25/30, Train Loss: 0.00000000, Test Loss: 0.12572259, Test Accuracy: 0.96630000\n",
            "Epoch: 26/30, Train Loss: 0.00000000, Test Loss: 0.14683538, Test Accuracy: 0.96180000\n",
            "Epoch: 27/30, Train Loss: 0.00000000, Test Loss: 0.12373732, Test Accuracy: 0.96740000\n",
            "Epoch: 28/30, Train Loss: 0.00000000, Test Loss: 0.12680288, Test Accuracy: 0.96650000\n",
            "Epoch: 29/30, Train Loss: 0.00000000, Test Loss: 0.12401426, Test Accuracy: 0.96890000\n",
            "Epoch: 30/30, Train Loss: 0.00000000, Test Loss: 0.12421240, Test Accuracy: 0.96800000\n",
            "average_sparsity: [0.8437824249267578, 0.835927426815033, 0.8446886539459229, 0.8299055695533752, 0.8373590111732483, 0.8294234275817871, 0.8315410017967224, 0.8272002935409546, 0.8248894810676575, 0.8238908052444458, 0.8210157155990601, 0.8279507756233215, 0.8285707235336304, 0.8249168992042542, 0.8235844969749451, 0.8245307803153992, 0.8242962956428528, 0.8240546584129333, 0.8238632678985596, 0.8216769695281982, 0.8217831254005432, 0.8193599581718445, 0.824302613735199, 0.8233816623687744, 0.8244969844818115, 0.8153202533721924, 0.8208793997764587, 0.823924720287323, 0.8191578984260559, 0.8211930394172668]\n",
            "[0.7248335214855575, 0.7202036656550805, 0.7198725973319153, 0.712711743050782, 0.7146161857201639, 0.7101991492751716, 0.7111474760114145, 0.7067824623384127, 0.7057282504035369, 0.7039885888349089, 0.7016277113551308, 0.7048793689238764, 0.7034150768232514, 0.700462564965976, 0.6997069949940171, 0.6991877147310404, 0.698016362739193, 0.6963357249059856, 0.6966034083492834, 0.694688826787338, 0.6945830053890429, 0.69183521884818, 0.6933624054028367, 0.6932968271599712, 0.6921006975867933, 0.687268008956876, 0.6893140327188855, 0.6909533802438399, 0.6876514447438393, 0.6884998419745544]\n",
            "[0.10256412245345463, 0.09564007317757624, 0.09746201317409044, 0.09196765935701184, 0.10086667160211892, 0.1008258653674489, 0.10594403316152735, 0.10130906706484874, 0.10333380410927456, 0.10269590254419697, 0.10638865903067735, 0.10599500560953387, 0.10469899456991814, 0.10409507911167203, 0.10667807733484336, 0.10408240729573931, 0.10836387205421794, 0.10448050331280113, 0.10773124514801376, 0.10457709726354092, 0.1054135555855635, 0.10658837003034077, 0.10683097606009821, 0.10568377382039146, 0.10477131141628716, 0.106381978770159, 0.10660541173492913, 0.10809215740052566, 0.10640556546180846, 0.10621083203984466]\n"
          ],
          "name": "stdout"
        }
      ]
    }
  ]
}