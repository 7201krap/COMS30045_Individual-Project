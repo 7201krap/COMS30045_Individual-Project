{
  "nbformat": 4,
  "nbformat_minor": 0,
  "metadata": {
    "colab": {
      "name": "sparsity+selectivity_batch_10_50.ipynb",
      "provenance": [],
      "collapsed_sections": [],
      "machine_shape": "hm",
      "include_colab_link": true
    },
    "kernelspec": {
      "display_name": "Python 3",
      "language": "python",
      "name": "python3"
    },
    "language_info": {
      "codemirror_mode": {
        "name": "ipython",
        "version": 3
      },
      "file_extension": ".py",
      "mimetype": "text/x-python",
      "name": "python",
      "nbconvert_exporter": "python",
      "pygments_lexer": "ipython3",
      "version": "3.8.5"
    }
  },
  "cells": [
    {
      "cell_type": "markdown",
      "metadata": {
        "id": "view-in-github",
        "colab_type": "text"
      },
      "source": [
        "<a href=\"https://colab.research.google.com/github/7201krap/PYTORCH_project/blob/main/sparsity%2Bselectivity_batch_10_50.ipynb\" target=\"_parent\"><img src=\"https://colab.research.google.com/assets/colab-badge.svg\" alt=\"Open In Colab\"/></a>"
      ]
    },
    {
      "cell_type": "code",
      "metadata": {
        "colab": {
          "base_uri": "https://localhost:8080/"
        },
        "id": "o7STrWa0P3z_",
        "outputId": "3249bce2-b46f-4ca4-bbd9-6b5df9e9ec46"
      },
      "source": [
        "import torch\n",
        "import torchvision\n",
        "import torchvision.transforms as transforms\n",
        "import torchvision.datasets as datasets\n",
        "import matplotlib.pyplot as plt\n",
        "import numpy as np\n",
        "from torch.utils.data import DataLoader, TensorDataset\n",
        "from google.colab import drive\n",
        "drive.mount('/content/drive')"
      ],
      "execution_count": 1,
      "outputs": [
        {
          "output_type": "stream",
          "text": [
            "Mounted at /content/drive\n"
          ],
          "name": "stdout"
        }
      ]
    },
    {
      "cell_type": "code",
      "metadata": {
        "colab": {
          "base_uri": "https://localhost:8080/"
        },
        "id": "djotVDu2IHr8",
        "outputId": "975c29c7-8612-4c56-a75c-e49d2a0f9dc7"
      },
      "source": [
        "!wget www.di.ens.fr/~lelarge/MNIST.tar.gz\n",
        "!tar -zxvf MNIST.tar.gz\n",
        "\n",
        "root_dir = './'\n",
        "torchvision.datasets.MNIST(root=root_dir,download=True)"
      ],
      "execution_count": 2,
      "outputs": [
        {
          "output_type": "stream",
          "text": [
            "--2021-03-19 15:36:05--  http://www.di.ens.fr/~lelarge/MNIST.tar.gz\n",
            "Resolving www.di.ens.fr (www.di.ens.fr)... 129.199.99.14\n",
            "Connecting to www.di.ens.fr (www.di.ens.fr)|129.199.99.14|:80... connected.\n",
            "HTTP request sent, awaiting response... 302 Found\n",
            "Location: https://www.di.ens.fr/~lelarge/MNIST.tar.gz [following]\n",
            "--2021-03-19 15:36:06--  https://www.di.ens.fr/~lelarge/MNIST.tar.gz\n",
            "Connecting to www.di.ens.fr (www.di.ens.fr)|129.199.99.14|:443... connected.\n",
            "HTTP request sent, awaiting response... 200 OK\n",
            "Length: unspecified [application/x-gzip]\n",
            "Saving to: ‘MNIST.tar.gz’\n",
            "\n",
            "MNIST.tar.gz            [            <=>     ]  33.20M  6.55MB/s    in 5.3s    \n",
            "\n",
            "2021-03-19 15:36:13 (6.24 MB/s) - ‘MNIST.tar.gz’ saved [34813078]\n",
            "\n",
            "MNIST/\n",
            "MNIST/raw/\n",
            "MNIST/raw/train-labels-idx1-ubyte\n",
            "MNIST/raw/t10k-labels-idx1-ubyte.gz\n",
            "MNIST/raw/t10k-labels-idx1-ubyte\n",
            "MNIST/raw/t10k-images-idx3-ubyte.gz\n",
            "MNIST/raw/train-images-idx3-ubyte\n",
            "MNIST/raw/train-labels-idx1-ubyte.gz\n",
            "MNIST/raw/t10k-images-idx3-ubyte\n",
            "MNIST/raw/train-images-idx3-ubyte.gz\n",
            "MNIST/processed/\n",
            "MNIST/processed/training.pt\n",
            "MNIST/processed/test.pt\n"
          ],
          "name": "stdout"
        },
        {
          "output_type": "execute_result",
          "data": {
            "text/plain": [
              "Dataset MNIST\n",
              "    Number of datapoints: 60000\n",
              "    Root location: ./\n",
              "    Split: Train"
            ]
          },
          "metadata": {
            "tags": []
          },
          "execution_count": 2
        }
      ]
    },
    {
      "cell_type": "code",
      "metadata": {
        "id": "z4j9WoP-UnAm"
      },
      "source": [
        "device = torch.device('cuda' if torch.cuda.is_available() else 'cpu')"
      ],
      "execution_count": 3,
      "outputs": []
    },
    {
      "cell_type": "code",
      "metadata": {
        "id": "ApOU7hvb95W4"
      },
      "source": [
        "torch.manual_seed(1234)\n",
        "np.random.seed(1234)"
      ],
      "execution_count": 4,
      "outputs": []
    },
    {
      "cell_type": "code",
      "metadata": {
        "id": "rTW5TOUnP5XY"
      },
      "source": [
        "mnist_trainset = torchvision.datasets.MNIST(root=root_dir, train=True, \n",
        "                                download=True, \n",
        "                                transform=transforms.Compose([transforms.ToTensor()]))\n",
        "\n",
        "mnist_testset  = torchvision.datasets.MNIST(root=root_dir, \n",
        "                                train=False, \n",
        "                                download=True, \n",
        "                                transform=transforms.Compose([transforms.ToTensor()]))\n",
        "\n",
        "train_dataloader = torch.utils.data.DataLoader(mnist_trainset, \n",
        "                                               batch_size=10, \n",
        "                                               shuffle=True)\n",
        "\n",
        "test_dataloader  = torch.utils.data.DataLoader(mnist_testset, \n",
        "                                               batch_size=50, \n",
        "                                               shuffle=False)"
      ],
      "execution_count": 5,
      "outputs": []
    },
    {
      "cell_type": "code",
      "metadata": {
        "id": "IXTkEUJ5P6kU"
      },
      "source": [
        "# ************* modify this section for later use *************\n",
        "# Define the model \n",
        "class Model(torch.nn.Module):\n",
        "    def __init__(self):\n",
        "        super(Model, self).__init__()\n",
        "        # modify this section for later use \n",
        "        self.linear_1 = torch.nn.Linear(784, 256)\n",
        "        self.linear_2 = torch.nn.Linear(256, 10)\n",
        "        self.sigmoid12  = torch.nn.Sigmoid()\n",
        "\n",
        "        self.layer_activations = dict()\n",
        "\n",
        "    def forward(self, x):\n",
        "\n",
        "        # modify this section for later use \n",
        "        x = x.reshape(x.size(0), -1)\n",
        "        x = self.linear_1(x)\n",
        "        x = self.sigmoid12(x)\n",
        "        pred = self.linear_2(x)\n",
        "        return pred\n",
        "# ************* modify this section for later use *************"
      ],
      "execution_count": 6,
      "outputs": []
    },
    {
      "cell_type": "code",
      "metadata": {
        "id": "BfgvKH6eP9Ou"
      },
      "source": [
        "def get_activation(model, layer_name):    \n",
        "    def hook(module, input, output):\n",
        "        model.layer_activations[layer_name] = output\n",
        "    return hook"
      ],
      "execution_count": 7,
      "outputs": []
    },
    {
      "cell_type": "code",
      "metadata": {
        "id": "Q3Dx3AJFvUQW"
      },
      "source": [
        "def sparsity_calculator(final_spareness):\n",
        "    sparseness_list = list()\n",
        "    for single_epoch_spareness in final_spareness:\n",
        "\n",
        "        hidden_layer_activation_list = single_epoch_spareness\n",
        "        hidden_layer_activation_list = torch.stack(hidden_layer_activation_list)\n",
        "        layer_activations_list = torch.reshape(hidden_layer_activation_list, (10000, 256))\n",
        "\n",
        "        layer_activations_list = torch.abs(layer_activations_list)  # modified \n",
        "        num_neurons = layer_activations_list.shape[1]\n",
        "        population_sparseness = (np.sqrt(num_neurons) - (torch.sum(layer_activations_list, dim=1) / torch.sqrt(torch.sum(layer_activations_list ** 2, dim=1)))) / (np.sqrt(num_neurons) - 1)\n",
        "        mean_sparseness_per_epoch = torch.mean(population_sparseness)\n",
        "\n",
        "        sparseness_list.append(mean_sparseness_per_epoch)\n",
        "\n",
        "    return sparseness_list"
      ],
      "execution_count": 8,
      "outputs": []
    },
    {
      "cell_type": "code",
      "metadata": {
        "id": "PvHGO5RSvi6I"
      },
      "source": [
        "def selectivity(hidden_layer_each_neuron):\n",
        "    __selectivity__ = list()\n",
        "    # I will now try to find the average of each class for each neuron.\n",
        "    # check out the next cell \n",
        "    avg_activations = [dict() for x in range(256)]\n",
        "    for i, neuron in enumerate(hidden_layer_each_neuron):\n",
        "        for k, v in neuron.items():\n",
        "            # v is the list of activations for hidden layer's neuron k \n",
        "            avg_activations[i][k] = sum(v) / float(len(v))\n",
        "\n",
        "    # generate 256 lists to get only values in avg_activations\n",
        "    only_activation_vals = [list() for x in range(256)]\n",
        "\n",
        "    # get only values from avg_activations\n",
        "    for i, avg_activation in enumerate(avg_activations):\n",
        "        for value in avg_activation.values():\n",
        "            only_activation_vals[i].append(value)\n",
        "\n",
        "    for activation_val in only_activation_vals:\n",
        "        # find u_max \n",
        "        u_max = np.max(activation_val)\n",
        "\n",
        "        # find u_minus_max \n",
        "        u_minus_max = (np.sum(activation_val) - u_max) / 9\n",
        "\n",
        "        # find selectivity \n",
        "        selectivity = (u_max - u_minus_max) / (u_max + u_minus_max)\n",
        "\n",
        "        # append selectivity value to selectivity\n",
        "        __selectivity__.append(selectivity)\n",
        "\n",
        "    avg_selectivity = np.average(__selectivity__)\n",
        "    std_selectivity = np.std(__selectivity__)\n",
        "                                 \n",
        "    return avg_selectivity, std_selectivity"
      ],
      "execution_count": 9,
      "outputs": []
    },
    {
      "cell_type": "code",
      "metadata": {
        "id": "j5PUiBNqUImf"
      },
      "source": [
        "def model_factory(optimizer_name):\n",
        "    '''\n",
        "    optimizer_name : choose one of Adagrad, Adadelta, SGD, and Adam \n",
        "\n",
        "    '''\n",
        "    my_model = Model()\n",
        "    print(\"my_model:\", my_model)\n",
        "    my_model.to(device)\n",
        "\n",
        "    # ************* modify this section for later use *************\n",
        "    my_model.sigmoid12.register_forward_hook(get_activation(my_model, 's12'))\n",
        "    # ************* modify this section for later use *************\n",
        "\n",
        "    if optimizer_name == 'Adadelta':\n",
        "        my_optimizer = torch.optim.Adadelta(my_model.parameters(), lr=1.0)\n",
        "\n",
        "    elif optimizer_name == 'Adagrad':\n",
        "        my_optimizer = torch.optim.Adagrad(my_model.parameters(), lr=0.1)\n",
        "\n",
        "    elif optimizer_name == 'SGD':\n",
        "        my_optimizer = torch.optim.SGD(my_model.parameters(), lr=0.1)\n",
        "\n",
        "    elif optimizer_name == 'Adam':\n",
        "        my_optimizer = torch.optim.Adam(my_model.parameters(), lr=0.001)\n",
        "\n",
        "    else:\n",
        "        print(\"ERROR\")\n",
        "    \n",
        "    print(\"my_optimizer:\", my_optimizer)\n",
        "    test_acc, sparseness_list, selectivity_list_avg, selectivity_list_std = sparsity_selectivity_trainer(optimizer=my_optimizer, model=my_model)\n",
        "    # ************* modify this section for later use *************\n",
        "    file_saver = open(f\"sparsity_selectivity_batchsize_10_50_{optimizer_name}.txt\", \"w\")\n",
        "    # ************* modify this section for later use *************\n",
        "    file_saver.write(str(test_acc)+'\\n'+str(sparseness_list)+'\\n'+str(selectivity_list_avg)+'\\n'+str(selectivity_list_std)+'\\n\\n')\n",
        "    file_saver.close()\n",
        "\n",
        "    # ************* modify this section for later use *************\n",
        "    if optimizer_name == 'Adadelta':\n",
        "        !cp sparsity_selectivity_batchsize_10_50_Adadelta.txt /content/drive/MyDrive\n",
        "    \n",
        "    elif optimizer_name == 'Adagrad':\n",
        "        !cp sparsity_selectivity_batchsize_10_50_Adagrad.txt /content/drive/MyDrive\n",
        "\n",
        "    elif optimizer_name == 'SGD':\n",
        "        !cp sparsity_selectivity_batchsize_10_50_SGD.txt /content/drive/MyDrive\n",
        "\n",
        "    elif optimizer_name == 'Adam':\n",
        "        !cp sparsity_selectivity_batchsize_10_50_Adam.txt /content/drive/MyDrive\n",
        "    # ************* modify this section for later use *************\n",
        "\n",
        "    else:\n",
        "        print(\"ERROR\")"
      ],
      "execution_count": 10,
      "outputs": []
    },
    {
      "cell_type": "code",
      "metadata": {
        "id": "Ouq5LQloW0xC"
      },
      "source": [
        "# ************* modify this section for later use *************\n",
        "def avg_std_calculator(_hidden_layer_each_neuron_12):\n",
        "\n",
        "    avg_selectivity12, std_selectivity12 = selectivity(_hidden_layer_each_neuron_12)\n",
        "\n",
        "    final_selectivity_avg = (avg_selectivity12) / 1\n",
        "    final_selecvitity_std = (std_selectivity12) / 1\n",
        "\n",
        "    return final_selectivity_avg, final_selecvitity_std\n",
        "# ************* modify this section for later use *************"
      ],
      "execution_count": 11,
      "outputs": []
    },
    {
      "cell_type": "code",
      "metadata": {
        "id": "BXOpwTXEQFKY"
      },
      "source": [
        "no_epochs = 30\n",
        "def sparsity_selectivity_trainer(optimizer, model):\n",
        "\n",
        "    criterion = torch.nn.CrossEntropyLoss()\n",
        "    train_loss = list()\n",
        "    test_loss  = list()\n",
        "    test_acc   = list()\n",
        "\n",
        "    best_test_loss = 1\n",
        "\n",
        "    selectivity_avg_list = list()\n",
        "    selectivity_std_list = list()\n",
        "\n",
        "    # ************* modify this section for later use *************\n",
        "    final_spareness_12 = list()\n",
        "    # ************* modify this section for later use *************\n",
        "\n",
        "    for epoch in range(no_epochs):\n",
        "\n",
        "        # ************* modify this section for later use *************\n",
        "        hidden_layer_activation_list_12 = list()\n",
        "        # ************* modify this section for later use *************\n",
        "\n",
        "        # ************* modify this section for later use *************\n",
        "        hidden_layer_each_neuron_12 = [{0:[], 1:[], 2:[], 3:[], 4:[], 5:[], 6:[], 7:[], 8:[], 9:[]} for x in range(256)]\n",
        "        hidden_layer_each_neuron_12 = np.array(hidden_layer_each_neuron_12)\n",
        "        # ************* modify this section for later use *************\n",
        "\n",
        "\n",
        "        total_train_loss = 0\n",
        "        total_test_loss = 0\n",
        "\n",
        "        # training\n",
        "        # set up training mode \n",
        "        model.train()\n",
        "\n",
        "        for itr, (images, labels) in enumerate(train_dataloader):\n",
        "            images, labels = images.to(device), labels.to(device)\n",
        "\n",
        "            optimizer.zero_grad()\n",
        "\n",
        "            pred = model(images)\n",
        "\n",
        "            loss = criterion(pred, labels)\n",
        "            total_train_loss += loss.item()\n",
        "\n",
        "            loss.backward()\n",
        "            optimizer.step()\n",
        "\n",
        "        total_train_loss = total_train_loss / (itr + 1)\n",
        "        train_loss.append(total_train_loss)\n",
        "\n",
        "        # testing \n",
        "        # change to evaluation mode \n",
        "        model.eval()\n",
        "        total = 0\n",
        "        for itr, (images, labels) in enumerate(test_dataloader):\n",
        "            images, labels = images.to(device), labels.to(device)\n",
        "\n",
        "            pred = model(images)\n",
        "\n",
        "            loss = criterion(pred, labels)\n",
        "            total_test_loss += loss.item()\n",
        "\n",
        "            # we now need softmax because we are testing.\n",
        "            pred = torch.nn.functional.softmax(pred, dim=1)\n",
        "            for i, p in enumerate(pred):\n",
        "                if labels[i] == torch.max(p.data, 0)[1]:\n",
        "                    total = total + 1\n",
        "\n",
        "            # ***************** sparsity calculation ***************** #\n",
        "            hidden_layer_activation_list_12.append(model.layer_activations['s12'])\n",
        "            # ***************** sparsity calculation ***************** #\n",
        "\n",
        "            # ************* modify this section for later use *************\n",
        "            for activation, label in zip(model.layer_activations['s12'], labels):\n",
        "                label = label.item()\n",
        "                with torch.no_grad():\n",
        "                    activation = activation.numpy()\n",
        "                for i in range(256):    \n",
        "                    hidden_layer_each_neuron_12[i][label].append(activation[i])\n",
        "    \n",
        "        selectivity_avg, selecvitity_std = avg_std_calculator(hidden_layer_each_neuron_12)\n",
        "        # ************* modify this section for later use *************\n",
        "\n",
        "        # this conains activations for all epochs \n",
        "        final_spareness_12.append(hidden_layer_activation_list_12)\n",
        "        # ***************** sparsity calculation ***************** #\n",
        "        \n",
        "        selectivity_avg_list.append(selectivity_avg)\n",
        "        selectivity_std_list.append(selecvitity_std)\n",
        "\n",
        "        # caculate accuracy \n",
        "        accuracy = total / len(mnist_testset)\n",
        "\n",
        "        # append accuracy here\n",
        "        test_acc.append(accuracy)\n",
        "\n",
        "        # append test loss here \n",
        "        total_test_loss = total_test_loss / (itr + 1)\n",
        "        test_loss.append(total_test_loss)\n",
        "\n",
        "        print('\\nEpoch: {}/{}, Train Loss: {:.8f}, Test Loss: {:.8f}, Test Accuracy: {:.8f}'.format(epoch + 1, no_epochs, total_train_loss, total_test_loss, accuracy))\n",
        "\n",
        "    # ***************** sparsity calculation ***************** #\n",
        "    sparsity_list12 = sparsity_calculator(final_spareness_12)\n",
        "\n",
        "    print(sparsity_list12)\n",
        "\n",
        "    average_sparsity = list()\n",
        "    for i in range(no_epochs):\n",
        "        average_sparsity.append( (sparsity_list12[i].item()) / 1 )\n",
        "    # ***************** sparsity calculation ***************** #\n",
        "\n",
        "    print(\"average_sparsity:\", average_sparsity)\n",
        "\n",
        "    return test_acc, average_sparsity, selectivity_avg_list, selectivity_std_list"
      ],
      "execution_count": 12,
      "outputs": []
    },
    {
      "cell_type": "markdown",
      "metadata": {
        "id": "ILIJTJb2UdfI"
      },
      "source": [
        "# Adadelta"
      ]
    },
    {
      "cell_type": "code",
      "metadata": {
        "id": "5UH0qDnFUfaD",
        "colab": {
          "base_uri": "https://localhost:8080/"
        },
        "outputId": "8dcfa87c-6d05-4ad3-91be-37f1e09acb98"
      },
      "source": [
        "model_factory('Adadelta')"
      ],
      "execution_count": 13,
      "outputs": [
        {
          "output_type": "stream",
          "text": [
            "my_model: Model(\n",
            "  (linear_1): Linear(in_features=784, out_features=256, bias=True)\n",
            "  (linear_2): Linear(in_features=256, out_features=10, bias=True)\n",
            "  (sigmoid12): Sigmoid()\n",
            ")\n",
            "my_optimizer: Adadelta (\n",
            "Parameter Group 0\n",
            "    eps: 1e-06\n",
            "    lr: 1.0\n",
            "    rho: 0.9\n",
            "    weight_decay: 0\n",
            ")\n",
            "\n",
            "Epoch: 1/30, Train Loss: 0.29697952, Test Loss: 0.17111190, Test Accuracy: 0.94820000\n",
            "\n",
            "Epoch: 2/30, Train Loss: 0.14156637, Test Loss: 0.11867337, Test Accuracy: 0.96360000\n",
            "\n",
            "Epoch: 3/30, Train Loss: 0.09923429, Test Loss: 0.09834795, Test Accuracy: 0.97060000\n",
            "\n",
            "Epoch: 4/30, Train Loss: 0.07722462, Test Loss: 0.08848850, Test Accuracy: 0.97250000\n",
            "\n",
            "Epoch: 5/30, Train Loss: 0.06309570, Test Loss: 0.07919768, Test Accuracy: 0.97560000\n",
            "\n",
            "Epoch: 6/30, Train Loss: 0.05276615, Test Loss: 0.07398020, Test Accuracy: 0.97710000\n",
            "\n",
            "Epoch: 7/30, Train Loss: 0.04432759, Test Loss: 0.07586859, Test Accuracy: 0.97770000\n",
            "\n",
            "Epoch: 8/30, Train Loss: 0.03784261, Test Loss: 0.07055158, Test Accuracy: 0.97940000\n",
            "\n",
            "Epoch: 9/30, Train Loss: 0.03270189, Test Loss: 0.06669372, Test Accuracy: 0.97920000\n",
            "\n",
            "Epoch: 10/30, Train Loss: 0.02807780, Test Loss: 0.07264654, Test Accuracy: 0.97840000\n",
            "\n",
            "Epoch: 11/30, Train Loss: 0.02449769, Test Loss: 0.06856983, Test Accuracy: 0.98010000\n",
            "\n",
            "Epoch: 12/30, Train Loss: 0.02102856, Test Loss: 0.07684044, Test Accuracy: 0.97880000\n",
            "\n",
            "Epoch: 13/30, Train Loss: 0.01771248, Test Loss: 0.06875555, Test Accuracy: 0.98070000\n",
            "\n",
            "Epoch: 14/30, Train Loss: 0.01547065, Test Loss: 0.06506086, Test Accuracy: 0.98150000\n",
            "\n",
            "Epoch: 15/30, Train Loss: 0.01324263, Test Loss: 0.06867005, Test Accuracy: 0.98110000\n",
            "\n",
            "Epoch: 16/30, Train Loss: 0.01171562, Test Loss: 0.06924293, Test Accuracy: 0.98080000\n",
            "\n",
            "Epoch: 17/30, Train Loss: 0.01002961, Test Loss: 0.06680630, Test Accuracy: 0.98190000\n",
            "\n",
            "Epoch: 18/30, Train Loss: 0.00870888, Test Loss: 0.07156067, Test Accuracy: 0.98260000\n",
            "\n",
            "Epoch: 19/30, Train Loss: 0.00743861, Test Loss: 0.07205247, Test Accuracy: 0.98150000\n",
            "\n",
            "Epoch: 20/30, Train Loss: 0.00622960, Test Loss: 0.06774888, Test Accuracy: 0.98140000\n",
            "\n",
            "Epoch: 21/30, Train Loss: 0.00548443, Test Loss: 0.07031086, Test Accuracy: 0.98120000\n",
            "\n",
            "Epoch: 22/30, Train Loss: 0.00468573, Test Loss: 0.07106628, Test Accuracy: 0.98110000\n",
            "\n",
            "Epoch: 23/30, Train Loss: 0.00404719, Test Loss: 0.07158703, Test Accuracy: 0.98110000\n",
            "\n",
            "Epoch: 24/30, Train Loss: 0.00371182, Test Loss: 0.07575316, Test Accuracy: 0.98080000\n",
            "\n",
            "Epoch: 25/30, Train Loss: 0.00313637, Test Loss: 0.07595870, Test Accuracy: 0.98160000\n",
            "\n",
            "Epoch: 26/30, Train Loss: 0.00268113, Test Loss: 0.07549727, Test Accuracy: 0.98040000\n",
            "\n",
            "Epoch: 27/30, Train Loss: 0.00237303, Test Loss: 0.07336697, Test Accuracy: 0.98150000\n",
            "\n",
            "Epoch: 28/30, Train Loss: 0.00211803, Test Loss: 0.07257293, Test Accuracy: 0.98180000\n",
            "\n",
            "Epoch: 29/30, Train Loss: 0.00178884, Test Loss: 0.07447178, Test Accuracy: 0.98200000\n",
            "\n",
            "Epoch: 30/30, Train Loss: 0.00161919, Test Loss: 0.07525913, Test Accuracy: 0.98200000\n",
            "[tensor(0.2992, grad_fn=<MeanBackward0>), tensor(0.3152, grad_fn=<MeanBackward0>), tensor(0.3283, grad_fn=<MeanBackward0>), tensor(0.3215, grad_fn=<MeanBackward0>), tensor(0.3252, grad_fn=<MeanBackward0>), tensor(0.3293, grad_fn=<MeanBackward0>), tensor(0.3308, grad_fn=<MeanBackward0>), tensor(0.3291, grad_fn=<MeanBackward0>), tensor(0.3318, grad_fn=<MeanBackward0>), tensor(0.3329, grad_fn=<MeanBackward0>), tensor(0.3326, grad_fn=<MeanBackward0>), tensor(0.3304, grad_fn=<MeanBackward0>), tensor(0.3328, grad_fn=<MeanBackward0>), tensor(0.3308, grad_fn=<MeanBackward0>), tensor(0.3288, grad_fn=<MeanBackward0>), tensor(0.3324, grad_fn=<MeanBackward0>), tensor(0.3315, grad_fn=<MeanBackward0>), tensor(0.3331, grad_fn=<MeanBackward0>), tensor(0.3310, grad_fn=<MeanBackward0>), tensor(0.3309, grad_fn=<MeanBackward0>), tensor(0.3306, grad_fn=<MeanBackward0>), tensor(0.3289, grad_fn=<MeanBackward0>), tensor(0.3304, grad_fn=<MeanBackward0>), tensor(0.3308, grad_fn=<MeanBackward0>), tensor(0.3305, grad_fn=<MeanBackward0>), tensor(0.3294, grad_fn=<MeanBackward0>), tensor(0.3304, grad_fn=<MeanBackward0>), tensor(0.3293, grad_fn=<MeanBackward0>), tensor(0.3299, grad_fn=<MeanBackward0>), tensor(0.3296, grad_fn=<MeanBackward0>)]\n",
            "average_sparsity: [0.2992410659790039, 0.31523269414901733, 0.3282538056373596, 0.3215456008911133, 0.32517364621162415, 0.32925719022750854, 0.33081480860710144, 0.3291376531124115, 0.3317778706550598, 0.3328620493412018, 0.33258765935897827, 0.33040767908096313, 0.33275145292282104, 0.33077678084373474, 0.3287924826145172, 0.3323850631713867, 0.3315281867980957, 0.3331286311149597, 0.3310277462005615, 0.3308602571487427, 0.33061352372169495, 0.3289426863193512, 0.33043885231018066, 0.3308095633983612, 0.33047065138816833, 0.3293876051902771, 0.3303621709346771, 0.32932916283607483, 0.32987189292907715, 0.3295997679233551]\n"
          ],
          "name": "stdout"
        }
      ]
    },
    {
      "cell_type": "markdown",
      "metadata": {
        "id": "8hXfQe4vMDKB"
      },
      "source": [
        "# AdaGrad"
      ]
    },
    {
      "cell_type": "code",
      "metadata": {
        "id": "vb-4TPM5MGuE",
        "colab": {
          "base_uri": "https://localhost:8080/"
        },
        "outputId": "08fa77e2-9ab0-4de2-e79e-553dedc0d19e"
      },
      "source": [
        "model_factory('Adagrad')"
      ],
      "execution_count": 14,
      "outputs": [
        {
          "output_type": "stream",
          "text": [
            "my_model: Model(\n",
            "  (linear_1): Linear(in_features=784, out_features=256, bias=True)\n",
            "  (linear_2): Linear(in_features=256, out_features=10, bias=True)\n",
            "  (sigmoid12): Sigmoid()\n",
            ")\n",
            "my_optimizer: Adagrad (\n",
            "Parameter Group 0\n",
            "    eps: 1e-10\n",
            "    initial_accumulator_value: 0\n",
            "    lr: 0.1\n",
            "    lr_decay: 0\n",
            "    weight_decay: 0\n",
            ")\n",
            "\n",
            "Epoch: 1/30, Train Loss: 0.19476585, Test Loss: 0.11109580, Test Accuracy: 0.96590000\n",
            "\n",
            "Epoch: 2/30, Train Loss: 0.08383906, Test Loss: 0.08633218, Test Accuracy: 0.97310000\n",
            "\n",
            "Epoch: 3/30, Train Loss: 0.05738212, Test Loss: 0.07280886, Test Accuracy: 0.97600000\n",
            "\n",
            "Epoch: 4/30, Train Loss: 0.04235064, Test Loss: 0.06880014, Test Accuracy: 0.97930000\n",
            "\n",
            "Epoch: 5/30, Train Loss: 0.03266501, Test Loss: 0.06342451, Test Accuracy: 0.97970000\n",
            "\n",
            "Epoch: 6/30, Train Loss: 0.02565171, Test Loss: 0.06285033, Test Accuracy: 0.98030000\n",
            "\n",
            "Epoch: 7/30, Train Loss: 0.02072574, Test Loss: 0.06187738, Test Accuracy: 0.97990000\n",
            "\n",
            "Epoch: 8/30, Train Loss: 0.01674922, Test Loss: 0.06201903, Test Accuracy: 0.98040000\n",
            "\n",
            "Epoch: 9/30, Train Loss: 0.01389505, Test Loss: 0.06185154, Test Accuracy: 0.98070000\n",
            "\n",
            "Epoch: 10/30, Train Loss: 0.01166673, Test Loss: 0.06089260, Test Accuracy: 0.98110000\n",
            "\n",
            "Epoch: 11/30, Train Loss: 0.00991505, Test Loss: 0.06126795, Test Accuracy: 0.98100000\n",
            "\n",
            "Epoch: 12/30, Train Loss: 0.00845893, Test Loss: 0.06144980, Test Accuracy: 0.98130000\n",
            "\n",
            "Epoch: 13/30, Train Loss: 0.00732796, Test Loss: 0.06051198, Test Accuracy: 0.98220000\n",
            "\n",
            "Epoch: 14/30, Train Loss: 0.00641580, Test Loss: 0.06192432, Test Accuracy: 0.98210000\n",
            "\n",
            "Epoch: 15/30, Train Loss: 0.00566594, Test Loss: 0.06135196, Test Accuracy: 0.98160000\n",
            "\n",
            "Epoch: 16/30, Train Loss: 0.00506973, Test Loss: 0.06160434, Test Accuracy: 0.98250000\n",
            "\n",
            "Epoch: 17/30, Train Loss: 0.00453675, Test Loss: 0.06191502, Test Accuracy: 0.98250000\n",
            "\n",
            "Epoch: 18/30, Train Loss: 0.00411511, Test Loss: 0.06254851, Test Accuracy: 0.98260000\n",
            "\n",
            "Epoch: 19/30, Train Loss: 0.00372888, Test Loss: 0.06284189, Test Accuracy: 0.98280000\n",
            "\n",
            "Epoch: 20/30, Train Loss: 0.00341121, Test Loss: 0.06306092, Test Accuracy: 0.98280000\n",
            "\n",
            "Epoch: 21/30, Train Loss: 0.00312910, Test Loss: 0.06333594, Test Accuracy: 0.98170000\n",
            "\n",
            "Epoch: 22/30, Train Loss: 0.00288276, Test Loss: 0.06339876, Test Accuracy: 0.98280000\n",
            "\n",
            "Epoch: 23/30, Train Loss: 0.00265721, Test Loss: 0.06401219, Test Accuracy: 0.98240000\n",
            "\n",
            "Epoch: 24/30, Train Loss: 0.00246377, Test Loss: 0.06353376, Test Accuracy: 0.98290000\n",
            "\n",
            "Epoch: 25/30, Train Loss: 0.00230440, Test Loss: 0.06350722, Test Accuracy: 0.98270000\n",
            "\n",
            "Epoch: 26/30, Train Loss: 0.00215602, Test Loss: 0.06456881, Test Accuracy: 0.98270000\n",
            "\n",
            "Epoch: 27/30, Train Loss: 0.00201564, Test Loss: 0.06465286, Test Accuracy: 0.98290000\n",
            "\n",
            "Epoch: 28/30, Train Loss: 0.00189232, Test Loss: 0.06445762, Test Accuracy: 0.98330000\n",
            "\n",
            "Epoch: 29/30, Train Loss: 0.00179345, Test Loss: 0.06481339, Test Accuracy: 0.98310000\n",
            "\n",
            "Epoch: 30/30, Train Loss: 0.00168809, Test Loss: 0.06520707, Test Accuracy: 0.98320000\n",
            "[tensor(0.6671, grad_fn=<MeanBackward0>), tensor(0.6532, grad_fn=<MeanBackward0>), tensor(0.6455, grad_fn=<MeanBackward0>), tensor(0.6407, grad_fn=<MeanBackward0>), tensor(0.6386, grad_fn=<MeanBackward0>), tensor(0.6344, grad_fn=<MeanBackward0>), tensor(0.6319, grad_fn=<MeanBackward0>), tensor(0.6304, grad_fn=<MeanBackward0>), tensor(0.6269, grad_fn=<MeanBackward0>), tensor(0.6248, grad_fn=<MeanBackward0>), tensor(0.6215, grad_fn=<MeanBackward0>), tensor(0.6211, grad_fn=<MeanBackward0>), tensor(0.6208, grad_fn=<MeanBackward0>), tensor(0.6186, grad_fn=<MeanBackward0>), tensor(0.6177, grad_fn=<MeanBackward0>), tensor(0.6166, grad_fn=<MeanBackward0>), tensor(0.6153, grad_fn=<MeanBackward0>), tensor(0.6142, grad_fn=<MeanBackward0>), tensor(0.6141, grad_fn=<MeanBackward0>), tensor(0.6132, grad_fn=<MeanBackward0>), tensor(0.6119, grad_fn=<MeanBackward0>), tensor(0.6118, grad_fn=<MeanBackward0>), tensor(0.6105, grad_fn=<MeanBackward0>), tensor(0.6102, grad_fn=<MeanBackward0>), tensor(0.6092, grad_fn=<MeanBackward0>), tensor(0.6094, grad_fn=<MeanBackward0>), tensor(0.6085, grad_fn=<MeanBackward0>), tensor(0.6085, grad_fn=<MeanBackward0>), tensor(0.6082, grad_fn=<MeanBackward0>), tensor(0.6078, grad_fn=<MeanBackward0>)]\n",
            "average_sparsity: [0.6671374440193176, 0.6531824469566345, 0.6454501152038574, 0.6406590938568115, 0.638559877872467, 0.6344146728515625, 0.6319246292114258, 0.6304064989089966, 0.6269209980964661, 0.6248013377189636, 0.6215131878852844, 0.6210541725158691, 0.6207633018493652, 0.6186443567276001, 0.6176907420158386, 0.616610586643219, 0.615326464176178, 0.6142039895057678, 0.6141305565834045, 0.6131566166877747, 0.6118865609169006, 0.6118130087852478, 0.6104955673217773, 0.6102390885353088, 0.6092239618301392, 0.6093809604644775, 0.6085241436958313, 0.6085096597671509, 0.60822993516922, 0.6078449487686157]\n"
          ],
          "name": "stdout"
        }
      ]
    },
    {
      "cell_type": "markdown",
      "metadata": {
        "id": "hmLJ4Zr2MnoS"
      },
      "source": [
        "# SGD\n"
      ]
    },
    {
      "cell_type": "code",
      "metadata": {
        "id": "6ObsEJHuMoPy",
        "colab": {
          "base_uri": "https://localhost:8080/"
        },
        "outputId": "fc481aa4-62d1-43cc-a8f3-2b47a7c8a63a"
      },
      "source": [
        "model_factory('SGD')"
      ],
      "execution_count": 15,
      "outputs": [
        {
          "output_type": "stream",
          "text": [
            "my_model: Model(\n",
            "  (linear_1): Linear(in_features=784, out_features=256, bias=True)\n",
            "  (linear_2): Linear(in_features=256, out_features=10, bias=True)\n",
            "  (sigmoid12): Sigmoid()\n",
            ")\n",
            "my_optimizer: SGD (\n",
            "Parameter Group 0\n",
            "    dampening: 0\n",
            "    lr: 0.1\n",
            "    momentum: 0\n",
            "    nesterov: False\n",
            "    weight_decay: 0\n",
            ")\n",
            "\n",
            "Epoch: 1/30, Train Loss: 0.42384450, Test Loss: 0.25867401, Test Accuracy: 0.92740000\n",
            "\n",
            "Epoch: 2/30, Train Loss: 0.22778763, Test Loss: 0.18143794, Test Accuracy: 0.94530000\n",
            "\n",
            "Epoch: 3/30, Train Loss: 0.16716843, Test Loss: 0.14412824, Test Accuracy: 0.95690000\n",
            "\n",
            "Epoch: 4/30, Train Loss: 0.13188528, Test Loss: 0.12480701, Test Accuracy: 0.96170000\n",
            "\n",
            "Epoch: 5/30, Train Loss: 0.10813400, Test Loss: 0.10928359, Test Accuracy: 0.96770000\n",
            "\n",
            "Epoch: 6/30, Train Loss: 0.09209924, Test Loss: 0.09610187, Test Accuracy: 0.96990000\n",
            "\n",
            "Epoch: 7/30, Train Loss: 0.07889622, Test Loss: 0.09331851, Test Accuracy: 0.97100000\n",
            "\n",
            "Epoch: 8/30, Train Loss: 0.06911604, Test Loss: 0.08224877, Test Accuracy: 0.97490000\n",
            "\n",
            "Epoch: 9/30, Train Loss: 0.06154931, Test Loss: 0.07916552, Test Accuracy: 0.97550000\n",
            "\n",
            "Epoch: 10/30, Train Loss: 0.05439847, Test Loss: 0.07660670, Test Accuracy: 0.97620000\n",
            "\n",
            "Epoch: 11/30, Train Loss: 0.04876674, Test Loss: 0.07537224, Test Accuracy: 0.97580000\n",
            "\n",
            "Epoch: 12/30, Train Loss: 0.04364935, Test Loss: 0.07282361, Test Accuracy: 0.97760000\n",
            "\n",
            "Epoch: 13/30, Train Loss: 0.03916894, Test Loss: 0.06858982, Test Accuracy: 0.97890000\n",
            "\n",
            "Epoch: 14/30, Train Loss: 0.03505750, Test Loss: 0.07073973, Test Accuracy: 0.97620000\n",
            "\n",
            "Epoch: 15/30, Train Loss: 0.03190375, Test Loss: 0.06622752, Test Accuracy: 0.97830000\n",
            "\n",
            "Epoch: 16/30, Train Loss: 0.02890292, Test Loss: 0.06488085, Test Accuracy: 0.97860000\n",
            "\n",
            "Epoch: 17/30, Train Loss: 0.02611624, Test Loss: 0.06708406, Test Accuracy: 0.97790000\n",
            "\n",
            "Epoch: 18/30, Train Loss: 0.02368556, Test Loss: 0.06466303, Test Accuracy: 0.98040000\n",
            "\n",
            "Epoch: 19/30, Train Loss: 0.02142722, Test Loss: 0.06495789, Test Accuracy: 0.98030000\n",
            "\n",
            "Epoch: 20/30, Train Loss: 0.01956098, Test Loss: 0.06176791, Test Accuracy: 0.98110000\n",
            "\n",
            "Epoch: 21/30, Train Loss: 0.01788331, Test Loss: 0.06291841, Test Accuracy: 0.98060000\n",
            "\n",
            "Epoch: 22/30, Train Loss: 0.01631293, Test Loss: 0.06083878, Test Accuracy: 0.98180000\n",
            "\n",
            "Epoch: 23/30, Train Loss: 0.01473879, Test Loss: 0.06240988, Test Accuracy: 0.98020000\n",
            "\n",
            "Epoch: 24/30, Train Loss: 0.01365284, Test Loss: 0.06199937, Test Accuracy: 0.98040000\n",
            "\n",
            "Epoch: 25/30, Train Loss: 0.01253747, Test Loss: 0.06169224, Test Accuracy: 0.98140000\n",
            "\n",
            "Epoch: 26/30, Train Loss: 0.01156182, Test Loss: 0.06083679, Test Accuracy: 0.98100000\n",
            "\n",
            "Epoch: 27/30, Train Loss: 0.01079900, Test Loss: 0.06202007, Test Accuracy: 0.98140000\n",
            "\n",
            "Epoch: 28/30, Train Loss: 0.00982694, Test Loss: 0.06173131, Test Accuracy: 0.98170000\n",
            "\n",
            "Epoch: 29/30, Train Loss: 0.00913819, Test Loss: 0.06149992, Test Accuracy: 0.98110000\n",
            "\n",
            "Epoch: 30/30, Train Loss: 0.00854879, Test Loss: 0.06274597, Test Accuracy: 0.98120000\n",
            "[tensor(0.1941, grad_fn=<MeanBackward0>), tensor(0.2641, grad_fn=<MeanBackward0>), tensor(0.2988, grad_fn=<MeanBackward0>), tensor(0.3225, grad_fn=<MeanBackward0>), tensor(0.3365, grad_fn=<MeanBackward0>), tensor(0.3448, grad_fn=<MeanBackward0>), tensor(0.3522, grad_fn=<MeanBackward0>), tensor(0.3590, grad_fn=<MeanBackward0>), tensor(0.3610, grad_fn=<MeanBackward0>), tensor(0.3668, grad_fn=<MeanBackward0>), tensor(0.3710, grad_fn=<MeanBackward0>), tensor(0.3711, grad_fn=<MeanBackward0>), tensor(0.3761, grad_fn=<MeanBackward0>), tensor(0.3749, grad_fn=<MeanBackward0>), tensor(0.3767, grad_fn=<MeanBackward0>), tensor(0.3787, grad_fn=<MeanBackward0>), tensor(0.3793, grad_fn=<MeanBackward0>), tensor(0.3793, grad_fn=<MeanBackward0>), tensor(0.3794, grad_fn=<MeanBackward0>), tensor(0.3819, grad_fn=<MeanBackward0>), tensor(0.3815, grad_fn=<MeanBackward0>), tensor(0.3824, grad_fn=<MeanBackward0>), tensor(0.3834, grad_fn=<MeanBackward0>), tensor(0.3828, grad_fn=<MeanBackward0>), tensor(0.3838, grad_fn=<MeanBackward0>), tensor(0.3837, grad_fn=<MeanBackward0>), tensor(0.3832, grad_fn=<MeanBackward0>), tensor(0.3842, grad_fn=<MeanBackward0>), tensor(0.3844, grad_fn=<MeanBackward0>), tensor(0.3842, grad_fn=<MeanBackward0>)]\n",
            "average_sparsity: [0.19413325190544128, 0.2641330063343048, 0.29875844717025757, 0.32250073552131653, 0.3364920914173126, 0.3447585999965668, 0.35217124223709106, 0.3589687943458557, 0.36099520325660706, 0.36677733063697815, 0.3710099160671234, 0.37110191583633423, 0.3760691285133362, 0.37487462162971497, 0.3767355680465698, 0.3786679804325104, 0.3793104290962219, 0.3793324828147888, 0.3793622851371765, 0.3819012939929962, 0.3815474510192871, 0.3823932409286499, 0.3833985924720764, 0.3828293979167938, 0.3837650418281555, 0.3836759328842163, 0.38320016860961914, 0.3842194974422455, 0.38441234827041626, 0.38420894742012024]\n"
          ],
          "name": "stdout"
        }
      ]
    },
    {
      "cell_type": "markdown",
      "metadata": {
        "id": "QvQxaN_fRXLq"
      },
      "source": [
        "# Adam"
      ]
    },
    {
      "cell_type": "code",
      "metadata": {
        "id": "VkqfFoVkRXxP",
        "colab": {
          "base_uri": "https://localhost:8080/"
        },
        "outputId": "ef155cca-c744-4072-98a7-11ff8a32f29c"
      },
      "source": [
        "model_factory('Adam')"
      ],
      "execution_count": 16,
      "outputs": [
        {
          "output_type": "stream",
          "text": [
            "my_model: Model(\n",
            "  (linear_1): Linear(in_features=784, out_features=256, bias=True)\n",
            "  (linear_2): Linear(in_features=256, out_features=10, bias=True)\n",
            "  (sigmoid12): Sigmoid()\n",
            ")\n",
            "my_optimizer: Adam (\n",
            "Parameter Group 0\n",
            "    amsgrad: False\n",
            "    betas: (0.9, 0.999)\n",
            "    eps: 1e-08\n",
            "    lr: 0.001\n",
            "    weight_decay: 0\n",
            ")\n",
            "\n",
            "Epoch: 1/30, Train Loss: 0.29913675, Test Loss: 0.15340353, Test Accuracy: 0.95290000\n",
            "\n",
            "Epoch: 2/30, Train Loss: 0.12487960, Test Loss: 0.10545210, Test Accuracy: 0.96630000\n",
            "\n",
            "Epoch: 3/30, Train Loss: 0.08024791, Test Loss: 0.08728601, Test Accuracy: 0.97430000\n",
            "\n",
            "Epoch: 4/30, Train Loss: 0.05686464, Test Loss: 0.07329258, Test Accuracy: 0.97740000\n",
            "\n",
            "Epoch: 5/30, Train Loss: 0.04090330, Test Loss: 0.06779108, Test Accuracy: 0.97970000\n",
            "\n",
            "Epoch: 6/30, Train Loss: 0.03007560, Test Loss: 0.06439133, Test Accuracy: 0.98120000\n",
            "\n",
            "Epoch: 7/30, Train Loss: 0.02169807, Test Loss: 0.06571478, Test Accuracy: 0.97950000\n",
            "\n",
            "Epoch: 8/30, Train Loss: 0.01627951, Test Loss: 0.06396384, Test Accuracy: 0.97990000\n",
            "\n",
            "Epoch: 9/30, Train Loss: 0.01193355, Test Loss: 0.06910907, Test Accuracy: 0.97990000\n",
            "\n",
            "Epoch: 10/30, Train Loss: 0.00921807, Test Loss: 0.06949726, Test Accuracy: 0.98260000\n",
            "\n",
            "Epoch: 11/30, Train Loss: 0.00677251, Test Loss: 0.07369438, Test Accuracy: 0.97960000\n",
            "\n",
            "Epoch: 12/30, Train Loss: 0.00511322, Test Loss: 0.08543521, Test Accuracy: 0.97770000\n",
            "\n",
            "Epoch: 13/30, Train Loss: 0.00419521, Test Loss: 0.08230272, Test Accuracy: 0.97950000\n",
            "\n",
            "Epoch: 14/30, Train Loss: 0.00386907, Test Loss: 0.07685590, Test Accuracy: 0.98110000\n",
            "\n",
            "Epoch: 15/30, Train Loss: 0.00312663, Test Loss: 0.08069456, Test Accuracy: 0.98020000\n",
            "\n",
            "Epoch: 16/30, Train Loss: 0.00221090, Test Loss: 0.08168173, Test Accuracy: 0.98220000\n",
            "\n",
            "Epoch: 17/30, Train Loss: 0.00230992, Test Loss: 0.08306553, Test Accuracy: 0.98100000\n",
            "\n",
            "Epoch: 18/30, Train Loss: 0.00197236, Test Loss: 0.08380183, Test Accuracy: 0.98190000\n",
            "\n",
            "Epoch: 19/30, Train Loss: 0.00162504, Test Loss: 0.08870924, Test Accuracy: 0.98100000\n",
            "\n",
            "Epoch: 20/30, Train Loss: 0.00136883, Test Loss: 0.09072688, Test Accuracy: 0.98070000\n",
            "\n",
            "Epoch: 21/30, Train Loss: 0.00122781, Test Loss: 0.10026106, Test Accuracy: 0.97980000\n",
            "\n",
            "Epoch: 22/30, Train Loss: 0.00115208, Test Loss: 0.09419223, Test Accuracy: 0.98080000\n",
            "\n",
            "Epoch: 23/30, Train Loss: 0.00133918, Test Loss: 0.09924858, Test Accuracy: 0.98020000\n",
            "\n",
            "Epoch: 24/30, Train Loss: 0.00092260, Test Loss: 0.10506367, Test Accuracy: 0.98010000\n",
            "\n",
            "Epoch: 25/30, Train Loss: 0.00074488, Test Loss: 0.09800276, Test Accuracy: 0.98180000\n",
            "\n",
            "Epoch: 26/30, Train Loss: 0.00119153, Test Loss: 0.10283647, Test Accuracy: 0.98050000\n",
            "\n",
            "Epoch: 27/30, Train Loss: 0.00042341, Test Loss: 0.10222841, Test Accuracy: 0.98080000\n",
            "\n",
            "Epoch: 28/30, Train Loss: 0.00082579, Test Loss: 0.10215498, Test Accuracy: 0.98160000\n",
            "\n",
            "Epoch: 29/30, Train Loss: 0.00110778, Test Loss: 0.11459771, Test Accuracy: 0.97980000\n",
            "\n",
            "Epoch: 30/30, Train Loss: 0.00046395, Test Loss: 0.10952768, Test Accuracy: 0.98080000\n",
            "[tensor(0.2721, grad_fn=<MeanBackward0>), tensor(0.3103, grad_fn=<MeanBackward0>), tensor(0.3278, grad_fn=<MeanBackward0>), tensor(0.3343, grad_fn=<MeanBackward0>), tensor(0.3399, grad_fn=<MeanBackward0>), tensor(0.3424, grad_fn=<MeanBackward0>), tensor(0.3442, grad_fn=<MeanBackward0>), tensor(0.3464, grad_fn=<MeanBackward0>), tensor(0.3475, grad_fn=<MeanBackward0>), tensor(0.3475, grad_fn=<MeanBackward0>), tensor(0.3481, grad_fn=<MeanBackward0>), tensor(0.3526, grad_fn=<MeanBackward0>), tensor(0.3517, grad_fn=<MeanBackward0>), tensor(0.3539, grad_fn=<MeanBackward0>), tensor(0.3549, grad_fn=<MeanBackward0>), tensor(0.3543, grad_fn=<MeanBackward0>), tensor(0.3558, grad_fn=<MeanBackward0>), tensor(0.3562, grad_fn=<MeanBackward0>), tensor(0.3646, grad_fn=<MeanBackward0>), tensor(0.3596, grad_fn=<MeanBackward0>), tensor(0.3557, grad_fn=<MeanBackward0>), tensor(0.3583, grad_fn=<MeanBackward0>), tensor(0.3594, grad_fn=<MeanBackward0>), tensor(0.3596, grad_fn=<MeanBackward0>), tensor(0.3614, grad_fn=<MeanBackward0>), tensor(0.3622, grad_fn=<MeanBackward0>), tensor(0.3595, grad_fn=<MeanBackward0>), tensor(0.3620, grad_fn=<MeanBackward0>), tensor(0.3631, grad_fn=<MeanBackward0>), tensor(0.3633, grad_fn=<MeanBackward0>)]\n",
            "average_sparsity: [0.27214688062667847, 0.31030330061912537, 0.32778051495552063, 0.334338903427124, 0.3398994505405426, 0.34243467450141907, 0.3441769480705261, 0.34643515944480896, 0.347495436668396, 0.3475208282470703, 0.3481168746948242, 0.3525622487068176, 0.35170185565948486, 0.353924959897995, 0.3549436628818512, 0.354316383600235, 0.35584521293640137, 0.35615113377571106, 0.3645748794078827, 0.35960689187049866, 0.35568028688430786, 0.35828980803489685, 0.35937926173210144, 0.359559029340744, 0.36139634251594543, 0.3622257709503174, 0.3595030605792999, 0.3620441257953644, 0.36313822865486145, 0.3632505238056183]\n"
          ],
          "name": "stdout"
        }
      ]
    }
  ]
}