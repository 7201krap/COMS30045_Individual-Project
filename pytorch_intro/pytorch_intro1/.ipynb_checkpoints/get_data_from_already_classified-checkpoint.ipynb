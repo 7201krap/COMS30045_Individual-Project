{
 "cells": [
  {
   "cell_type": "markdown",
   "metadata": {
    "colab_type": "text",
    "id": "view-in-github"
   },
   "source": [
    "<a href=\"https://colab.research.google.com/github/7201krap/Introduction_to_Pytorch/blob/main/get_data_from_already_classified.ipynb\" target=\"_parent\"><img src=\"https://colab.research.google.com/assets/colab-badge.svg\" alt=\"Open In Colab\"/></a>"
   ]
  },
  {
   "cell_type": "code",
   "execution_count": 2,
   "metadata": {
    "id": "JZ3EVnT5QnxU"
   },
   "outputs": [],
   "source": [
    "import torch\n",
    "import torchvision\n",
    "import torchvision.transforms as tr\n",
    "from torch.utils.data import DataLoader, Dataset\n",
    "import numpy as np"
   ]
  },
  {
   "cell_type": "code",
   "execution_count": null,
   "metadata": {
    "id": "rl3m03oHPqSX"
   },
   "outputs": [],
   "source": [
    "# ./class/tiger ./class/lion 이런 형태로 이미 데이터가 저장이 되었다고 하면, \n",
    "transf = tr.Compose([tr.Resize(16), tr.ToTensor()])\n",
    "\n",
    "# torchvision.datasets.ImageFolder 이거를 이용하면 \n",
    "# 1. 클래스 안에 있는 이미지들을 알아서 search 를 해주고 (쉽게 생각해 데이를 다 불러와줌),\n",
    "# 2. 각각의 다른 폴더에 대해서 레이블링을 해준다. \n",
    "# 3. 전처리를 바로 할 수 있다. \n",
    "trainset = torchvision.datasets.ImageFolder(root='./class', transform=transf)\n",
    "\n",
    "# \n",
    "trainloader = DataLoader(trainset, batch_size=10, shuffle=False, num_workers=10)\n",
    "print(len(trainloader))"
   ]
  },
  {
   "cell_type": "code",
   "execution_count": null,
   "metadata": {
    "id": "8xl5dULBQmJg"
   },
   "outputs": [],
   "source": []
  }
 ],
 "metadata": {
  "colab": {
   "authorship_tag": "ABX9TyMCcgLP36RpPqxE/M7UK6vK",
   "collapsed_sections": [],
   "include_colab_link": true,
   "name": "get_data_from_already_classified.ipynb",
   "provenance": []
  },
  "kernelspec": {
   "display_name": "Python 3",
   "language": "python",
   "name": "python3"
  },
  "language_info": {
   "codemirror_mode": {
    "name": "ipython",
    "version": 3
   },
   "file_extension": ".py",
   "mimetype": "text/x-python",
   "name": "python",
   "nbconvert_exporter": "python",
   "pygments_lexer": "ipython3",
   "version": "3.8.5"
  }
 },
 "nbformat": 4,
 "nbformat_minor": 1
}
