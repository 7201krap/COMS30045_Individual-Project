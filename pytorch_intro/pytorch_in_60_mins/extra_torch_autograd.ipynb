{
  "nbformat": 4,
  "nbformat_minor": 0,
  "metadata": {
    "kernelspec": {
      "display_name": "Python 3",
      "language": "python",
      "name": "python3"
    },
    "language_info": {
      "codemirror_mode": {
        "name": "ipython",
        "version": 3
      },
      "file_extension": ".py",
      "mimetype": "text/x-python",
      "name": "python",
      "nbconvert_exporter": "python",
      "pygments_lexer": "ipython3",
      "version": "3.8.5"
    },
    "colab": {
      "name": "torch_autograd.ipynb",
      "provenance": [],
      "include_colab_link": true
    }
  },
  "cells": [
    {
      "cell_type": "markdown",
      "metadata": {
        "id": "view-in-github",
        "colab_type": "text"
      },
      "source": [
        "<a href=\"https://colab.research.google.com/github/7201krap/Introduction_to_Pytorch/blob/main/torch_autograd.ipynb\" target=\"_parent\"><img src=\"https://colab.research.google.com/assets/colab-badge.svg\" alt=\"Open In Colab\"/></a>"
      ]
    },
    {
      "cell_type": "code",
      "metadata": {
        "id": "PxOBoIsAHOAA"
      },
      "source": [
        "import torch, torchvision"
      ],
      "execution_count": 1,
      "outputs": []
    },
    {
      "cell_type": "code",
      "metadata": {
        "id": "z1hflRWOHOAF"
      },
      "source": [
        "# Create a random data tensor to represent a single image \n",
        "# channels, height, width = 1, 3, 64, 64"
      ],
      "execution_count": 2,
      "outputs": []
    },
    {
      "cell_type": "code",
      "metadata": {
        "collapsed": true,
        "id": "J1CvyEvWHOAH"
      },
      "source": [
        "model  = torchvision.models.resnet18(pretrained=True)\n",
        "data   = torch.rand(1, 3, 64, 64)\n",
        "labels = torch.rand(1, 1000)"
      ],
      "execution_count": null,
      "outputs": []
    },
    {
      "cell_type": "code",
      "metadata": {
        "id": "CoXPdUjUHOAJ"
      },
      "source": [
        "# run the input data through the model through each of its layers\n",
        "# to make a prediction: FOWARD PASS"
      ],
      "execution_count": 4,
      "outputs": []
    },
    {
      "cell_type": "code",
      "metadata": {
        "id": "nWmIhB1FHOAJ"
      },
      "source": [
        "# prediction : 1 X 1000\n",
        "# labels     : 1 X 1000 \n",
        "# data       : 1, 3, 64, 64\n",
        "prediction = model(data)"
      ],
      "execution_count": 13,
      "outputs": []
    },
    {
      "cell_type": "code",
      "metadata": {
        "id": "WVXCzOCrHOAK"
      },
      "source": [
        "# We use the model's prediction and the corresponding labels to \n",
        "# calculate the error (loss)\n",
        "\n",
        "# The next step is to backpropagate this error through the network.\n",
        "# Backward propagation is kicked off when we call .backward() on the \n",
        "# error tensor. Autograd then calculates and stores the gradients \n",
        "# for each model parameter in the parameter's .grad attribute"
      ],
      "execution_count": 6,
      "outputs": []
    },
    {
      "cell_type": "code",
      "metadata": {
        "id": "ZmS6cT-zHOAM"
      },
      "source": [
        "loss = (prediction - labels).sum()\n",
        "loss.backward()"
      ],
      "execution_count": 15,
      "outputs": []
    },
    {
      "cell_type": "code",
      "metadata": {
        "id": "9JcFVdGnHRZH"
      },
      "source": [
        "# We load an optimizer, in this case SGD with a learning rate of 0.01 and momentum of 0.9. \n",
        "# We register all the parameters of the model in the optimizer."
      ],
      "execution_count": 18,
      "outputs": []
    },
    {
      "cell_type": "code",
      "metadata": {
        "id": "d2gC1jAzIQJW"
      },
      "source": [
        "optim = torch.optim.SGD(model.parameters(), lr=1e-2, momentum=0.9)"
      ],
      "execution_count": 19,
      "outputs": []
    },
    {
      "cell_type": "code",
      "metadata": {
        "id": "srt1ByDII2BD"
      },
      "source": [
        "# We call .step() to initiate gradient descent. The optimizer adjusts each parameters\n",
        "# by its gradient stored in .grad.\n",
        "optim.step()"
      ],
      "execution_count": 20,
      "outputs": []
    },
    {
      "cell_type": "code",
      "metadata": {
        "colab": {
          "base_uri": "https://localhost:8080/"
        },
        "id": "tGm7gJH5JjZB",
        "outputId": "590a438a-4d34-448b-cc70-e0e75f00488a"
      },
      "source": [
        "optim"
      ],
      "execution_count": 21,
      "outputs": [
        {
          "output_type": "execute_result",
          "data": {
            "text/plain": [
              "SGD (\n",
              "Parameter Group 0\n",
              "    dampening: 0\n",
              "    lr: 0.01\n",
              "    momentum: 0.9\n",
              "    nesterov: False\n",
              "    weight_decay: 0\n",
              ")"
            ]
          },
          "metadata": {
            "tags": []
          },
          "execution_count": 21
        }
      ]
    },
    {
      "cell_type": "code",
      "metadata": {
        "id": "D_8LQrXmJyfg"
      },
      "source": [
        ""
      ],
      "execution_count": null,
      "outputs": []
    }
  ]
}