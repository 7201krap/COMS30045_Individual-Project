{
  "nbformat": 4,
  "nbformat_minor": 0,
  "metadata": {
    "colab": {
      "name": "8_logistic_regression.ipynb",
      "provenance": [],
      "authorship_tag": "ABX9TyO1mjL61EbARcK9T3x3sgha",
      "include_colab_link": true
    },
    "kernelspec": {
      "name": "python3",
      "display_name": "Python 3"
    }
  },
  "cells": [
    {
      "cell_type": "markdown",
      "metadata": {
        "id": "view-in-github",
        "colab_type": "text"
      },
      "source": [
        "<a href=\"https://colab.research.google.com/github/7201krap/PYTORCH_introduction_to_pytorch/blob/main/8_logistic_regression.ipynb\" target=\"_parent\"><img src=\"https://colab.research.google.com/assets/colab-badge.svg\" alt=\"Open In Colab\"/></a>"
      ]
    },
    {
      "cell_type": "code",
      "metadata": {
        "id": "sAEqUPZwPTL6"
      },
      "source": [
        "import torch \n",
        "import torch.nn as nn \n",
        "import numpy as np \n",
        "from sklearn import datasets \n",
        "from sklearn.preprocessing import StandardScaler \n",
        "from sklearn.model_selection import train_test_split "
      ],
      "execution_count": 1,
      "outputs": []
    },
    {
      "cell_type": "code",
      "metadata": {
        "colab": {
          "base_uri": "https://localhost:8080/"
        },
        "id": "8P4V42STQJyb",
        "outputId": "8c40f42c-47d1-45c2-d68a-329965ec9b79"
      },
      "source": [
        "# 0. prepare data\n",
        "bc = datasets.load_breast_cancer()\n",
        "X, y = bc.data, bc.target \n",
        "\n",
        "n_samples, n_features = X.shape \n",
        "print(n_samples, n_features)\n",
        "\n",
        "X_train , X_test, y_train, y_test = train_test_split(X, y, test_size=0.2, random_state=1234)\n",
        "\n",
        "# scale \n",
        "sc = StandardScaler()\n",
        "X_train = sc.fit_transform(X_train)\n",
        "X_test  = sc.transform(X_test)\n",
        "\n",
        "X_train = torch.from_numpy(X_train.astype(np.float32))\n",
        "X_test = torch.from_numpy(X_test.astype(np.float32))\n",
        "y_train = torch.from_numpy(y_train.astype(np.float32))\n",
        "y_test = torch.from_numpy(y_test.astype(np.float32))\n",
        "\n",
        "print(y_train.shape)\n",
        "\n",
        "y_train = y_train.view(y_train.shape[0], 1)\n",
        "y_test  = y_test.view(y_test.shape[0], 1)\n",
        "\n",
        "\n",
        "# 1. model \n",
        "# f = wx + b, sigmoid at the end \n",
        "class LogReg(nn.Module):\n",
        "    def __init__(self, n_input_features):\n",
        "        super(LogReg, self).__init__()\n",
        "        self.linear = nn.Linear(n_input_features, 1)\n",
        "\n",
        "    def forward(self, x):\n",
        "        y_predicted = torch.sigmoid(self.linear(x))\n",
        "        return y_predicted \n",
        "\n",
        "model = LogReg(n_features)\n",
        "\n",
        "# 2. loss and optimizer \n",
        "learning_rate = 0.01 \n",
        "criterion = nn.BCELoss()\n",
        "optimizer = torch.optim.SGD(model.parameters(), lr=learning_rate)\n",
        "\n",
        "# 3. training loop \n",
        "num_epochs = 100 \n",
        "for epoch in range(num_epochs):\n",
        "    y_predicted = model(X_train)\n",
        "    loss = criterion(y_predicted, y_train)\n",
        "\n",
        "    loss.backward()\n",
        "\n",
        "    optimizer.step()\n",
        "\n",
        "    optimizer.zero_grad()\n",
        "\n",
        "    if (epoch+1) % 10 == 0:\n",
        "        print(epoch+1, loss.item())"
      ],
      "execution_count": 10,
      "outputs": [
        {
          "output_type": "stream",
          "text": [
            "569 30\n",
            "torch.Size([455])\n",
            "10 0.5225288271903992\n",
            "20 0.45114585757255554\n",
            "30 0.4014436602592468\n",
            "40 0.36451447010040283\n",
            "50 0.3357771635055542\n",
            "60 0.3126342296600342\n",
            "70 0.29349958896636963\n",
            "80 0.2773476541042328\n",
            "90 0.26348403096199036\n",
            "100 0.25142088532447815\n"
          ],
          "name": "stdout"
        }
      ]
    },
    {
      "cell_type": "code",
      "metadata": {
        "colab": {
          "base_uri": "https://localhost:8080/"
        },
        "id": "tjcisoyJQoUd",
        "outputId": "5f2678c6-23a3-4685-a737-6553ff3b3cc7"
      },
      "source": [
        "with torch.no_grad():\n",
        "    y_predicted = model(X_test)\n",
        "    y_predicted_cls = y_predicted.round()\n",
        "    acc = y_predicted_cls.eq(y_test).sum() / float(y_test.shape[0])\n",
        "    print(acc)"
      ],
      "execution_count": 8,
      "outputs": [
        {
          "output_type": "stream",
          "text": [
            "tensor(0.8772)\n"
          ],
          "name": "stdout"
        }
      ]
    },
    {
      "cell_type": "code",
      "metadata": {
        "id": "B9th2GRkYI4y"
      },
      "source": [
        ""
      ],
      "execution_count": null,
      "outputs": []
    }
  ]
}