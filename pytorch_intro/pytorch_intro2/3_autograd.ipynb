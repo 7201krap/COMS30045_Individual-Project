{
  "nbformat": 4,
  "nbformat_minor": 0,
  "metadata": {
    "colab": {
      "name": "3_autograd.ipynb",
      "provenance": [],
      "authorship_tag": "ABX9TyOZg0tkAGVEOjKOUujJVbuL",
      "include_colab_link": true
    },
    "kernelspec": {
      "name": "python3",
      "display_name": "Python 3"
    }
  },
  "cells": [
    {
      "cell_type": "markdown",
      "metadata": {
        "id": "view-in-github",
        "colab_type": "text"
      },
      "source": [
        "<a href=\"https://colab.research.google.com/github/7201krap/PYTORCH_introduction_to_pytorch/blob/main/3_autograd.ipynb\" target=\"_parent\"><img src=\"https://colab.research.google.com/assets/colab-badge.svg\" alt=\"Open In Colab\"/></a>"
      ]
    },
    {
      "cell_type": "code",
      "metadata": {
        "id": "n92LYoaj744b"
      },
      "source": [
        "import torch"
      ],
      "execution_count": 18,
      "outputs": []
    },
    {
      "cell_type": "code",
      "metadata": {
        "colab": {
          "base_uri": "https://localhost:8080/"
        },
        "id": "GHC8M0Er8E2R",
        "outputId": "8686ca93-0335-4252-b8a0-a346648f5b58"
      },
      "source": [
        "x = torch.randn(3, requires_grad=True)\n",
        "print(x)"
      ],
      "execution_count": 19,
      "outputs": [
        {
          "output_type": "stream",
          "text": [
            "tensor([-1.0398,  2.2097, -1.6050], requires_grad=True)\n"
          ],
          "name": "stdout"
        }
      ]
    },
    {
      "cell_type": "code",
      "metadata": {
        "colab": {
          "base_uri": "https://localhost:8080/"
        },
        "id": "i0WKjA-U8fnS",
        "outputId": "1e711a6b-2370-47fe-c4a6-f076c5870b64"
      },
      "source": [
        "y = x + 2\n",
        "print(y)"
      ],
      "execution_count": 20,
      "outputs": [
        {
          "output_type": "stream",
          "text": [
            "tensor([0.9602, 4.2097, 0.3950], grad_fn=<AddBackward0>)\n"
          ],
          "name": "stdout"
        }
      ]
    },
    {
      "cell_type": "code",
      "metadata": {
        "colab": {
          "base_uri": "https://localhost:8080/"
        },
        "id": "hWo1i_3r8t7z",
        "outputId": "65d7b7bc-742d-4e3a-cf68-151b1ece23a7"
      },
      "source": [
        "# without mean \n",
        "z1 = y * y * 2\n",
        "print(z1)"
      ],
      "execution_count": 24,
      "outputs": [
        {
          "output_type": "stream",
          "text": [
            "tensor([ 1.8441, 35.4437,  0.3120], grad_fn=<MulBackward0>)\n"
          ],
          "name": "stdout"
        }
      ]
    },
    {
      "cell_type": "code",
      "metadata": {
        "id": "4nCgkokCSph4"
      },
      "source": [
        "v = torch.tensor([0.1, 1.0, 0.001], dtype=torch.float32)"
      ],
      "execution_count": 25,
      "outputs": []
    },
    {
      "cell_type": "code",
      "metadata": {
        "colab": {
          "base_uri": "https://localhost:8080/"
        },
        "id": "0_AJJSeJQhNK",
        "outputId": "ee6d7205-a2c9-47cd-b9d1-834fe6bfa729"
      },
      "source": [
        "z1.backward(v)    # calculate gradient dz/dx\n",
        "print(x.grad)"
      ],
      "execution_count": 26,
      "outputs": [
        {
          "output_type": "stream",
          "text": [
            "tensor([7.6819e-01, 3.3678e+01, 3.1597e-03])\n"
          ],
          "name": "stdout"
        }
      ]
    },
    {
      "cell_type": "code",
      "metadata": {
        "colab": {
          "base_uri": "https://localhost:8080/"
        },
        "id": "IIK3jSdjQ0ns",
        "outputId": "589eade8-0ca1-47d2-867b-658f7ce1fe3c"
      },
      "source": [
        "# with mean \n",
        "z2 = y * y * 2\n",
        "z2 = z2.mean()\n",
        "print(z2)"
      ],
      "execution_count": 33,
      "outputs": [
        {
          "output_type": "stream",
          "text": [
            "tensor(12.5333, grad_fn=<MeanBackward0>)\n"
          ],
          "name": "stdout"
        }
      ]
    },
    {
      "cell_type": "code",
      "metadata": {
        "colab": {
          "base_uri": "https://localhost:8080/"
        },
        "id": "PV1smt_eTIlu",
        "outputId": "97d14701-95a8-48a2-a24f-4e07da3fca92"
      },
      "source": [
        "z2.backward()\n",
        "print(x.grad)"
      ],
      "execution_count": 34,
      "outputs": [
        {
          "output_type": "stream",
          "text": [
            "tensor([ 2.4326, 56.1298,  0.5314])\n"
          ],
          "name": "stdout"
        }
      ]
    },
    {
      "cell_type": "code",
      "metadata": {
        "colab": {
          "base_uri": "https://localhost:8080/"
        },
        "id": "edkkUeg2TJyX",
        "outputId": "69fa5a13-40ff-4633-a4a2-4315c1d8b64b"
      },
      "source": [
        "x = torch.randn(3, requires_grad=True)\n",
        "print(x)\n",
        "# 1\n",
        "# x.requires_grad_(False)\n",
        "# print(x)"
      ],
      "execution_count": 40,
      "outputs": [
        {
          "output_type": "stream",
          "text": [
            "tensor([1.9028, 0.1058, 0.9027], requires_grad=True)\n"
          ],
          "name": "stdout"
        }
      ]
    },
    {
      "cell_type": "code",
      "metadata": {
        "id": "nkegQH4oUdCx"
      },
      "source": [
        "# 2 \n",
        "# y = x.detach()\n",
        "# print(y)"
      ],
      "execution_count": 41,
      "outputs": []
    },
    {
      "cell_type": "code",
      "metadata": {
        "colab": {
          "base_uri": "https://localhost:8080/"
        },
        "id": "WBzdV1BQUjuH",
        "outputId": "eaf11c13-614d-450a-f34f-8e39289d10c7"
      },
      "source": [
        "# 3\n",
        "# with torch.no_grad():\n",
        "#     y = x + 2\n",
        "#     print(y)"
      ],
      "execution_count": 42,
      "outputs": [
        {
          "output_type": "stream",
          "text": [
            "tensor([3.9028, 2.1058, 2.9027])\n"
          ],
          "name": "stdout"
        }
      ]
    },
    {
      "cell_type": "code",
      "metadata": {
        "colab": {
          "base_uri": "https://localhost:8080/"
        },
        "id": "7-u6lZrbUrIa",
        "outputId": "47584bec-19c2-4145-846b-8d7a10582db3"
      },
      "source": [
        "# This is important \n",
        "weights = torch.ones(4, requires_grad=True)\n",
        "for epoch in range(3):\n",
        "    model_output = (weights * 3).sum()\n",
        "    model_output.backward()\n",
        "    print(weights.grad)\n",
        "    weights.grad.zero_()    # we need to \"flush the gradients\" in weights \n",
        "                            # otherwise it would be accumulated "
      ],
      "execution_count": 47,
      "outputs": [
        {
          "output_type": "stream",
          "text": [
            "tensor([3., 3., 3., 3.])\n",
            "tensor([3., 3., 3., 3.])\n",
            "tensor([3., 3., 3., 3.])\n"
          ],
          "name": "stdout"
        }
      ]
    },
    {
      "cell_type": "code",
      "metadata": {
        "id": "am8b4JD5VL0q"
      },
      "source": [
        ""
      ],
      "execution_count": null,
      "outputs": []
    }
  ]
}