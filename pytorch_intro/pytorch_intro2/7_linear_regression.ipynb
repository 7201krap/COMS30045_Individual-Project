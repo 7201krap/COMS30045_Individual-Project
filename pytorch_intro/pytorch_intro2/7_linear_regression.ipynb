{
  "nbformat": 4,
  "nbformat_minor": 0,
  "metadata": {
    "colab": {
      "name": "7_linear_regression.ipynb",
      "provenance": [],
      "authorship_tag": "ABX9TyOPn1Wf0bD/3731H54eMOVH",
      "include_colab_link": true
    },
    "kernelspec": {
      "name": "python3",
      "display_name": "Python 3"
    }
  },
  "cells": [
    {
      "cell_type": "markdown",
      "metadata": {
        "id": "view-in-github",
        "colab_type": "text"
      },
      "source": [
        "<a href=\"https://colab.research.google.com/github/7201krap/PYTORCH_introduction_to_pytorch/blob/main/7_linear_regression.ipynb\" target=\"_parent\"><img src=\"https://colab.research.google.com/assets/colab-badge.svg\" alt=\"Open In Colab\"/></a>"
      ]
    },
    {
      "cell_type": "code",
      "metadata": {
        "id": "6c7L_HgxLAUM"
      },
      "source": [
        "import torch\n",
        "import torch.nn as nn \n",
        "import numpy as np \n",
        "from sklearn import datasets \n",
        "import matplotlib.pyplot as plt"
      ],
      "execution_count": 7,
      "outputs": []
    },
    {
      "cell_type": "code",
      "metadata": {
        "colab": {
          "base_uri": "https://localhost:8080/"
        },
        "id": "s3_TEcWXLNyh",
        "outputId": "1ca28094-2814-48ba-c29e-574fd31ec09d"
      },
      "source": [
        "# 0. prepare data \n",
        "X_numpy, y_numpy = datasets.make_regression(n_samples=100, n_features=1, noise=20, random_state=1)\n",
        "\n",
        "X = torch.from_numpy(X_numpy.astype(np.float32))\n",
        "y = torch.from_numpy(y_numpy.astype(np.float32))\n",
        "y = y.view(y.shape[0], 1)\n",
        "\n",
        "n_samples, n_features = X.shape\n",
        "\n",
        "# 1. model\n",
        "input_size  = n_features\n",
        "output_size = 1 \n",
        "model = nn.Linear(input_size, output_size)\n",
        "\n",
        "\n",
        "# 2. loss and optimizer \n",
        "learning_rate = 0.1 \n",
        "criterion = nn.MSELoss()\n",
        "optimizer = torch.optim.SGD(model.parameters(), lr=learning_rate)\n",
        "\n",
        "\n",
        "# 3. training loop\n",
        "num_epochs = 100 \n",
        "for epoch in range(num_epochs):\n",
        "    # forward pass and loss \n",
        "    y_predicted = model(X)\n",
        "    loss = criterion(y_predicted, y)\n",
        "\n",
        "    # backward pass \n",
        "    loss.backward() # backpropagation & calculate gradients \n",
        "\n",
        "    # update\n",
        "    optimizer.step()\n",
        "\n",
        "    # empty gradients \n",
        "    optimizer.zero_grad()\n",
        "\n",
        "    if (epoch+1) % 10 == 0:\n",
        "        print(\"epoch:\", epoch+1, \"loss:\", loss.item())"
      ],
      "execution_count": 8,
      "outputs": [
        {
          "output_type": "stream",
          "text": [
            "epoch: 10 loss: 582.0986938476562\n",
            "epoch: 20 loss: 341.06622314453125\n",
            "epoch: 30 loss: 332.86297607421875\n",
            "epoch: 40 loss: 332.577880859375\n",
            "epoch: 50 loss: 332.56793212890625\n",
            "epoch: 60 loss: 332.567626953125\n",
            "epoch: 70 loss: 332.56756591796875\n",
            "epoch: 80 loss: 332.56756591796875\n",
            "epoch: 90 loss: 332.56756591796875\n",
            "epoch: 100 loss: 332.56756591796875\n"
          ],
          "name": "stdout"
        }
      ]
    },
    {
      "cell_type": "code",
      "metadata": {
        "colab": {
          "base_uri": "https://localhost:8080/",
          "height": 268
        },
        "id": "SCmjBHkmOSpd",
        "outputId": "7dbca400-771b-419e-c26b-413ce803293c"
      },
      "source": [
        "predicted = model(X).detach().numpy()\n",
        "plt.plot(X_numpy, y_numpy, 'ro')\n",
        "plt.plot(X_numpy, predicted, 'b')\n",
        "plt.show()"
      ],
      "execution_count": 9,
      "outputs": [
        {
          "output_type": "display_data",
          "data": {
            "image/png": "[encoded data removed]",
            "text/plain": [
              "<Figure size 432x288 with 1 Axes>"
            ]
          },
          "metadata": {
            "tags": [],
            "needs_background": "light"
          }
        }
      ]
    },
    {
      "cell_type": "code",
      "metadata": {
        "id": "AJTDI6jYOrq5"
      },
      "source": [
        ""
      ],
      "execution_count": null,
      "outputs": []
    }
  ]
}