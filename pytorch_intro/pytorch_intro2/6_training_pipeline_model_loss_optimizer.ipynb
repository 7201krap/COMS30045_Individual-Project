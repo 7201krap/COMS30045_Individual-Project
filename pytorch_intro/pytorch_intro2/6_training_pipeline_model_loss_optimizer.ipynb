{
  "nbformat": 4,
  "nbformat_minor": 0,
  "metadata": {
    "colab": {
      "name": "6_training_pipeline_model_loss_optimizer.ipynb",
      "provenance": [],
      "authorship_tag": "ABX9TyMEYa8Cgeq9qFof/yUq4MfK",
      "include_colab_link": true
    },
    "kernelspec": {
      "name": "python3",
      "display_name": "Python 3"
    }
  },
  "cells": [
    {
      "cell_type": "markdown",
      "metadata": {
        "id": "view-in-github",
        "colab_type": "text"
      },
      "source": [
        "<a href=\"https://colab.research.google.com/github/7201krap/PYTORCH_introduction_to_pytorch/blob/main/6_training_pipeline_model_loss_optimizer.ipynb\" target=\"_parent\"><img src=\"https://colab.research.google.com/assets/colab-badge.svg\" alt=\"Open In Colab\"/></a>"
      ]
    },
    {
      "cell_type": "code",
      "metadata": {
        "id": "xllmvN7kiz8i"
      },
      "source": [
        "import torch\n",
        "import torch.nn as nn"
      ],
      "execution_count": 14,
      "outputs": []
    },
    {
      "cell_type": "code",
      "metadata": {
        "id": "C0BiH0iZi9LB"
      },
      "source": [
        "# How to make a model \n",
        "\n",
        "# 1. design model : input, output size, forward pass  \n",
        "# 2. construct loss and optimizer\n",
        "# 3. training loop \n",
        "#   - foward pass: compute prediction \n",
        "#   - backward pass: gradients \n",
        "#   - update our weights "
      ],
      "execution_count": 15,
      "outputs": []
    },
    {
      "cell_type": "code",
      "metadata": {
        "colab": {
          "base_uri": "https://localhost:8080/"
        },
        "id": "gFOuzG02inBV",
        "outputId": "42c7194e-d2d6-4a8e-e070-b41554be675e"
      },
      "source": [
        "# linear regression\n",
        "# f = 2 * x\n",
        "\n",
        "X = torch.tensor([[1], [2], [3], [4]], dtype=torch.float32)\n",
        "y = 2 * X\n",
        "\n",
        "X_test = torch.tensor([5], dtype=torch.float32)\n",
        "\n",
        "n_samples, n_features = X.shape\n",
        "print(n_samples, n_features)    # 4 1\n",
        "\n",
        "input_size  = n_features\n",
        "output_size = n_features\n",
        "\n",
        "# method 1\n",
        "model = nn.Linear(input_size, output_size)\n",
        "\n",
        "# # method 2 \n",
        "# class LinearReg(nn.Module):\n",
        "#     def __init__(self, input_dim, output_dim):\n",
        "#         super(LinearReg, self).__init__()\n",
        "#         # define layers\n",
        "#         self.lin = nn.Linear(input_dim, output_dim)\n",
        "    \n",
        "#     def forward(self, x):\n",
        "#         return self.lin(x)\n",
        "\n",
        "# model = LinearReg(input_size, output_size)\n",
        "\n",
        "print(f\"Prediction before training: f(5) = {model(X_test).item():.3f}\")\n",
        "\n",
        "# training\n",
        "learning_rate = 0.01\n",
        "n_iters = 100\n",
        "\n",
        "loss = nn.MSELoss()\n",
        "optimizer = torch.optim.SGD(model.parameters(), lr=learning_rate)\n",
        "\n",
        "for epoch in range(n_iters):\n",
        "    # prediction = forward pass \n",
        "    y_pred = model(X)\n",
        "\n",
        "    # loss \n",
        "    l = loss(y, y_pred)\n",
        "\n",
        "    # gradients = backward pass\n",
        "    l.backward()    # dloss/dw\n",
        "\n",
        "    # update weights\n",
        "    optimizer.step()\n",
        "\n",
        "    # zero gradients \n",
        "    optimizer.zero_grad()\n",
        "\n",
        "    if epoch % 10 == 0:\n",
        "        [w , b] = model.parameters()\n",
        "        print(f'epoch: {epoch+1}: w: {w[0][0].item():.3f}, loss: {l:.8f}') \n",
        "\n",
        "print(f\"Prediction after training: f(5) = {model(X_test).item():.3f}\")"
      ],
      "execution_count": 18,
      "outputs": [
        {
          "output_type": "stream",
          "text": [
            "4 1\n",
            "Prediction before training: f(5) = -0.009\n",
            "epoch: 1: w: 0.468, loss: 33.31944275\n",
            "epoch: 11: w: 1.789, loss: 0.86456549\n",
            "epoch: 21: w: 2.000, loss: 0.02473445\n",
            "epoch: 31: w: 2.033, loss: 0.00286822\n",
            "epoch: 41: w: 2.037, loss: 0.00217276\n",
            "epoch: 51: w: 2.037, loss: 0.00203263\n",
            "epoch: 61: w: 2.036, loss: 0.00191396\n",
            "epoch: 71: w: 2.035, loss: 0.00180255\n",
            "epoch: 81: w: 2.034, loss: 0.00169762\n",
            "epoch: 91: w: 2.033, loss: 0.00159881\n",
            "Prediction after training: f(5) = 10.067\n"
          ],
          "name": "stdout"
        }
      ]
    },
    {
      "cell_type": "code",
      "metadata": {
        "id": "mzLgAo_8kSm9"
      },
      "source": [
        ""
      ],
      "execution_count": null,
      "outputs": []
    }
  ]
}