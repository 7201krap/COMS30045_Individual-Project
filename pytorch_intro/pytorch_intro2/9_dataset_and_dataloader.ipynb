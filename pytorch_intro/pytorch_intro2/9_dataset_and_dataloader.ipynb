{
  "nbformat": 4,
  "nbformat_minor": 0,
  "metadata": {
    "colab": {
      "name": "9_dataset_and_dataloader.ipynb",
      "provenance": [],
      "authorship_tag": "ABX9TyPawsgqxf7yOmLUS6c0H5fa",
      "include_colab_link": true
    },
    "kernelspec": {
      "name": "python3",
      "display_name": "Python 3"
    }
  },
  "cells": [
    {
      "cell_type": "markdown",
      "metadata": {
        "id": "view-in-github",
        "colab_type": "text"
      },
      "source": [
        "<a href=\"https://colab.research.google.com/github/7201krap/PYTORCH_introduction_to_pytorch/blob/main/9_dataset_and_dataloader.ipynb\" target=\"_parent\"><img src=\"https://colab.research.google.com/assets/colab-badge.svg\" alt=\"Open In Colab\"/></a>"
      ]
    },
    {
      "cell_type": "code",
      "metadata": {
        "id": "EoK8k8ZzYqS8"
      },
      "source": [
        "import torch \n",
        "import torchvision \n",
        "from torch.utils.data import Dataset, DataLoader \n",
        "import numpy as np \n",
        "import math "
      ],
      "execution_count": 1,
      "outputs": []
    },
    {
      "cell_type": "code",
      "metadata": {
        "id": "JIY8efg0aSeo"
      },
      "source": [
        "class WineDataset(Dataset):\n",
        "    def __init__(self):\n",
        "        # data loading \n",
        "        xy = np.loadtxt\n",
        "    \n",
        "    def __getitem__(self, index):\n",
        "\n",
        "    def __len__(self):\n"
      ],
      "execution_count": null,
      "outputs": []
    }
  ]
}