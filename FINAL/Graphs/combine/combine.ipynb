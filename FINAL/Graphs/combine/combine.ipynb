{
 "cells": [
  {
   "cell_type": "code",
   "execution_count": 1,
   "metadata": {},
   "outputs": [],
   "source": [
    "import matplotlib.pyplot as plt\n",
    "import numpy as np\n",
    "import re\n",
    "import ast \n",
    "import torch"
   ]
  },
  {
   "cell_type": "code",
   "execution_count": 2,
   "metadata": {},
   "outputs": [],
   "source": [
    "def test_val_extractor(file_name):    \n",
    "    # get accuracy from sparsity.txt\n",
    "    test_val_accumulator = list()\n",
    "    with open(file_name) as fi:\n",
    "        for i, line in enumerate(fi):\n",
    "            if i == 0:\n",
    "                line = ast.literal_eval(line)\n",
    "                test_val_accumulator = line\n",
    "                \n",
    "    # return list of test accuracy \n",
    "    return test_val_accumulator"
   ]
  },
  {
   "cell_type": "code",
   "execution_count": 3,
   "metadata": {},
   "outputs": [],
   "source": [
    "def selectivity_val_extractor(file_name):\n",
    "    selectivity_average = 0\n",
    "    selectivity_std = 0\n",
    "    with open(file_name) as fi:\n",
    "        for i, line in enumerate(fi):\n",
    "            if i == 1:\n",
    "                selectivity_average = ast.literal_eval(line)\n",
    "            if i == 2:\n",
    "                selectivity_std = ast.literal_eval(line)\n",
    "    return selectivity_average, selectivity_std"
   ]
  },
  {
   "cell_type": "code",
   "execution_count": 4,
   "metadata": {},
   "outputs": [],
   "source": [
    "def sparsity_val_extractor(file_name):\n",
    "    sparsity_average = 0\n",
    "    with open(file_name) as fi:\n",
    "        for i, line in enumerate(fi):\n",
    "            if i == 1:\n",
    "                sparsity_average = ast.literal_eval(line)\n",
    "    return sparsity_average"
   ]
  },
  {
   "cell_type": "code",
   "execution_count": 5,
   "metadata": {},
   "outputs": [],
   "source": [
    "def all_plotter(test_prop1, sparsity_prop1, selectivity_prop1, test_single, sparsity_single, selectivity_single, test_combine, sparsity_combine, selectivity_combine, location='best'):\n",
    "    fig, ax = plt.subplots(figsize=(12, 10))\n",
    "    \n",
    "    ax.plot(np.linspace(0.0, 30.0, num=30), test_prop1, label='test_prop1', c='royalblue')\n",
    "    ax.plot(np.linspace(0.0, 30.0, num=30), sparsity_prop1, label='sparsity_prop1', c='cornflowerblue')\n",
    "    ax.plot(np.linspace(0.0, 30.0, num=30), selectivity_prop1, label='selectivity_prop1', c='lightsteelblue')\n",
    "    \n",
    "    ax.plot(np.linspace(0.0, 30.0, num=30), test_single, label='test_single', c='indigo')\n",
    "    ax.plot(np.linspace(0.0, 30.0, num=30), sparsity_single, label='sparsity_single', c='darkorchid')\n",
    "    ax.plot(np.linspace(0.0, 30.0, num=30), selectivity_single, label='selectivity_single', c='violet')\n",
    "    \n",
    "    ax.plot(np.linspace(0.0, 30.0, num=30), test_combine, label='test_combine', c='gold')\n",
    "    ax.plot(np.linspace(0.0, 30.0, num=30), sparsity_combine, label='sparsity_combine', c='darkgoldenrod')\n",
    "    ax.plot(np.linspace(0.0, 30.0, num=30), selectivity_combine, label='selectivity_combine', c='goldenrod')\n",
    "    \n",
    "    ax.set_ylim([-0.2,1.2])\n",
    "    ax.legend(loc=location, bbox_to_anchor=(1, 0.5))\n",
    "    plt.show()"
   ]
  },
  {
   "cell_type": "markdown",
   "metadata": {},
   "source": [
    "# Extract Values"
   ]
  },
  {
   "cell_type": "markdown",
   "metadata": {},
   "source": [
    "# single"
   ]
  },
  {
   "cell_type": "code",
   "execution_count": 6,
   "metadata": {},
   "outputs": [],
   "source": [
    "Adadelta_single_test = test_val_extractor('single/selectivity_4_optim_single_Adadelta.txt')\n",
    "Adagrad_single_test = test_val_extractor('single/selectivity_4_optim_single_Adagrad.txt')\n",
    "Adam_single_test = test_val_extractor('single/selectivity_4_optim_single_Adam.txt')\n",
    "SGD_single_test = test_val_extractor('single/selectivity_4_optim_single_SGD.txt')"
   ]
  },
  {
   "cell_type": "code",
   "execution_count": 7,
   "metadata": {},
   "outputs": [],
   "source": [
    "Adadelta_single_selectivity_avg, Adadelta_single_selectivity_std = selectivity_val_extractor('single/selectivity_4_optim_single_Adadelta.txt')\n",
    "Adagrad_single_selectivity_avg, Adagrad_single_selectivity_std = selectivity_val_extractor('single/selectivity_4_optim_single_Adagrad.txt')\n",
    "Adam_single_selectivity_avg, Adam_single_selectivity_std = selectivity_val_extractor('single/selectivity_4_optim_single_Adam.txt')\n",
    "SGD_single_selectivity_avg, SGD_single_selectivity_std = selectivity_val_extractor('single/selectivity_4_optim_single_SGD.txt')"
   ]
  },
  {
   "cell_type": "code",
   "execution_count": 8,
   "metadata": {},
   "outputs": [],
   "source": [
    "Adadelta_single_sparsity = sparsity_val_extractor('single/sparsity_4_optim_single_Adadelta.txt')\n",
    "Adagrad_single_sparsity = sparsity_val_extractor('single/sparsity_4_optim_single_Adagrad.txt')\n",
    "Adam_single_sparsity = sparsity_val_extractor('single/sparsity_4_optim_single_Adam.txt')\n",
    "SGD_single_sparsity = sparsity_val_extractor('single/sparsity_4_optim_single_SGD.txt')"
   ]
  },
  {
   "cell_type": "markdown",
   "metadata": {},
   "source": [
    "# hyper"
   ]
  },
  {
   "cell_type": "code",
   "execution_count": 9,
   "metadata": {},
   "outputs": [],
   "source": [
    "Adadelta_hyper_test = test_val_extractor('hyper_SGD_Adadelta/selectivity_adadelta_rho.txt')\n",
    "SGD_hyper_test = test_val_extractor('hyper_SGD_Adadelta/selectivity_SGD_momentum.txt')\n",
    "\n",
    "Adadelta_hyper_sparsity = sparsity_val_extractor('hyper_SGD_Adadelta/sparsity_adadelta_rho.txt')\n",
    "SGD_hyper_sparsity = sparsity_val_extractor('hyper_SGD_Adadelta/sparsity_SGD_momentum.txt')\n",
    "\n",
    "Adadelta_hyper_selectivity_avg, Adadelta_hyper_selectivity_std = selectivity_val_extractor('hyper_SGD_Adadelta/selectivity_adadelta_rho.txt')\n",
    "SGD_hyper_selectivity_avg, SGD_hyper_selectivity_std = selectivity_val_extractor('hyper_SGD_Adadelta/selectivity_SGD_momentum.txt')"
   ]
  },
  {
   "cell_type": "code",
   "execution_count": 10,
   "metadata": {},
   "outputs": [],
   "source": [
    "Adagrad_neurons_test = test_val_extractor('neurons_Adagrad_Adam/neurons_selectivity_Adagrad.txt')\n",
    "Adam_neurons_test = test_val_extractor('neurons_Adagrad_Adam/neurons_selectivity_Adam.txt')\n",
    "\n",
    "Adagrad_neurons_sparsity = sparsity_val_extractor('neurons_Adagrad_Adam/neurons_sparsity_Adagrad.txt')\n",
    "Adam_neurons_sparsity = sparsity_val_extractor('neurons_Adagrad_Adam/neurons_sparsity_Adam.txt')\n",
    "\n",
    "Adagrad_neurons_selectivity_avg, Adagrad_neurons_selectivity_std = selectivity_val_extractor('neurons_Adagrad_Adam/neurons_selectivity_Adagrad.txt')\n",
    "Adam_neurons_selectivity_avg, Adam_neurons_selectivity_std = selectivity_val_extractor('neurons_Adagrad_Adam/neurons_selectivity_Adam.txt')"
   ]
  },
  {
   "cell_type": "markdown",
   "metadata": {},
   "source": [
    "# combined"
   ]
  },
  {
   "cell_type": "code",
   "execution_count": 11,
   "metadata": {},
   "outputs": [],
   "source": [
    "Adadelta_combined_test = test_val_extractor('combined/combine_selectivity_Adadelta.txt')\n",
    "Adagrad_combined_test = test_val_extractor('combined/combine_selectivity_Adagrad.txt')\n",
    "Adam_combined_test = test_val_extractor('combined/combine_selectivity_Adam.txt')\n",
    "SGD_combined_test = test_val_extractor('combined/combine_selectivity_SGD.txt')"
   ]
  },
  {
   "cell_type": "code",
   "execution_count": 12,
   "metadata": {},
   "outputs": [],
   "source": [
    "Adadelta_combined_selectivity_avg, Adadelta_combined_selectivity_std = selectivity_val_extractor('combined/combine_selectivity_Adadelta.txt')\n",
    "Adagrad_combined_selectivity_avg, Adagrad_combined_selectivity_std = selectivity_val_extractor('combined/combine_selectivity_Adagrad.txt')\n",
    "Adam_combined_selectivity_avg, Adam_combined_selectivity_std = selectivity_val_extractor('combined/combine_selectivity_Adam.txt')\n",
    "SGD_combined_selectivity_avg, SGD_combined_selectivity_std = selectivity_val_extractor('combined/combine_selectivity_SGD.txt')"
   ]
  },
  {
   "cell_type": "code",
   "execution_count": 13,
   "metadata": {},
   "outputs": [],
   "source": [
    "Adadelta_combined_sparsity = sparsity_val_extractor('combined/combine_sparsity_Adadelta.txt')\n",
    "Adagrad_combined_sparsity = sparsity_val_extractor('combined/combine_sparsity_Adagrad.txt')\n",
    "Adam_combined_sparsity = sparsity_val_extractor('combined/combine_sparsity_Adam.txt')\n",
    "SGD_combined_sparsity = sparsity_val_extractor('combined/combine_sparsity_SGD.txt')"
   ]
  },
  {
   "cell_type": "markdown",
   "metadata": {},
   "source": [
    "# Adadelta"
   ]
  },
  {
   "cell_type": "code",
   "execution_count": 14,
   "metadata": {},
   "outputs": [
    {
     "ename": "ValueError",
     "evalue": "x and y must have same first dimension, but have shapes (30,) and (1,)",
     "output_type": "error",
     "traceback": [
      "\u001b[0;31m---------------------------------------------------------------------------\u001b[0m",
      "\u001b[0;31mValueError\u001b[0m                                Traceback (most recent call last)",
      "\u001b[0;32m<ipython-input-14-07ad8e124de0>\u001b[0m in \u001b[0;36m<module>\u001b[0;34m\u001b[0m\n\u001b[0;32m----> 1\u001b[0;31m all_plotter(Adadelta_hyper_test, Adadelta_hyper_sparsity, Adadelta_hyper_selectivity_avg, \n\u001b[0m\u001b[1;32m      2\u001b[0m             \u001b[0mAdadelta_single_test\u001b[0m\u001b[0;34m,\u001b[0m \u001b[0mAdadelta_single_sparsity\u001b[0m\u001b[0;34m,\u001b[0m \u001b[0mAdadelta_single_selectivity_avg\u001b[0m\u001b[0;34m,\u001b[0m\u001b[0;34m\u001b[0m\u001b[0;34m\u001b[0m\u001b[0m\n\u001b[1;32m      3\u001b[0m             Adadelta_combined_test, Adadelta_combined_sparsity, Adadelta_combined_selectivity_avg)\n",
      "\u001b[0;32m<ipython-input-5-6558d5950046>\u001b[0m in \u001b[0;36mall_plotter\u001b[0;34m(test_prop1, sparsity_prop1, selectivity_prop1, test_single, sparsity_single, selectivity_single, test_combine, sparsity_combine, selectivity_combine, location)\u001b[0m\n\u001b[1;32m      4\u001b[0m     \u001b[0max\u001b[0m\u001b[0;34m.\u001b[0m\u001b[0mplot\u001b[0m\u001b[0;34m(\u001b[0m\u001b[0mnp\u001b[0m\u001b[0;34m.\u001b[0m\u001b[0mlinspace\u001b[0m\u001b[0;34m(\u001b[0m\u001b[0;36m0.0\u001b[0m\u001b[0;34m,\u001b[0m \u001b[0;36m30.0\u001b[0m\u001b[0;34m,\u001b[0m \u001b[0mnum\u001b[0m\u001b[0;34m=\u001b[0m\u001b[0;36m30\u001b[0m\u001b[0;34m)\u001b[0m\u001b[0;34m,\u001b[0m \u001b[0mtest_prop1\u001b[0m\u001b[0;34m,\u001b[0m \u001b[0mlabel\u001b[0m\u001b[0;34m=\u001b[0m\u001b[0;34m'test_prop1'\u001b[0m\u001b[0;34m,\u001b[0m \u001b[0mc\u001b[0m\u001b[0;34m=\u001b[0m\u001b[0;34m'royalblue'\u001b[0m\u001b[0;34m)\u001b[0m\u001b[0;34m\u001b[0m\u001b[0;34m\u001b[0m\u001b[0m\n\u001b[1;32m      5\u001b[0m     \u001b[0max\u001b[0m\u001b[0;34m.\u001b[0m\u001b[0mplot\u001b[0m\u001b[0;34m(\u001b[0m\u001b[0mnp\u001b[0m\u001b[0;34m.\u001b[0m\u001b[0mlinspace\u001b[0m\u001b[0;34m(\u001b[0m\u001b[0;36m0.0\u001b[0m\u001b[0;34m,\u001b[0m \u001b[0;36m30.0\u001b[0m\u001b[0;34m,\u001b[0m \u001b[0mnum\u001b[0m\u001b[0;34m=\u001b[0m\u001b[0;36m30\u001b[0m\u001b[0;34m)\u001b[0m\u001b[0;34m,\u001b[0m \u001b[0msparsity_prop1\u001b[0m\u001b[0;34m,\u001b[0m \u001b[0mlabel\u001b[0m\u001b[0;34m=\u001b[0m\u001b[0;34m'sparsity_prop1'\u001b[0m\u001b[0;34m,\u001b[0m \u001b[0mc\u001b[0m\u001b[0;34m=\u001b[0m\u001b[0;34m'cornflowerblue'\u001b[0m\u001b[0;34m)\u001b[0m\u001b[0;34m\u001b[0m\u001b[0;34m\u001b[0m\u001b[0m\n\u001b[0;32m----> 6\u001b[0;31m     \u001b[0max\u001b[0m\u001b[0;34m.\u001b[0m\u001b[0mplot\u001b[0m\u001b[0;34m(\u001b[0m\u001b[0mnp\u001b[0m\u001b[0;34m.\u001b[0m\u001b[0mlinspace\u001b[0m\u001b[0;34m(\u001b[0m\u001b[0;36m0.0\u001b[0m\u001b[0;34m,\u001b[0m \u001b[0;36m30.0\u001b[0m\u001b[0;34m,\u001b[0m \u001b[0mnum\u001b[0m\u001b[0;34m=\u001b[0m\u001b[0;36m30\u001b[0m\u001b[0;34m)\u001b[0m\u001b[0;34m,\u001b[0m \u001b[0mselectivity_prop1\u001b[0m\u001b[0;34m,\u001b[0m \u001b[0mlabel\u001b[0m\u001b[0;34m=\u001b[0m\u001b[0;34m'selectivity_prop1'\u001b[0m\u001b[0;34m,\u001b[0m \u001b[0mc\u001b[0m\u001b[0;34m=\u001b[0m\u001b[0;34m'lightsteelblue'\u001b[0m\u001b[0;34m)\u001b[0m\u001b[0;34m\u001b[0m\u001b[0;34m\u001b[0m\u001b[0m\n\u001b[0m\u001b[1;32m      7\u001b[0m \u001b[0;34m\u001b[0m\u001b[0m\n\u001b[1;32m      8\u001b[0m     \u001b[0max\u001b[0m\u001b[0;34m.\u001b[0m\u001b[0mplot\u001b[0m\u001b[0;34m(\u001b[0m\u001b[0mnp\u001b[0m\u001b[0;34m.\u001b[0m\u001b[0mlinspace\u001b[0m\u001b[0;34m(\u001b[0m\u001b[0;36m0.0\u001b[0m\u001b[0;34m,\u001b[0m \u001b[0;36m30.0\u001b[0m\u001b[0;34m,\u001b[0m \u001b[0mnum\u001b[0m\u001b[0;34m=\u001b[0m\u001b[0;36m30\u001b[0m\u001b[0;34m)\u001b[0m\u001b[0;34m,\u001b[0m \u001b[0mtest_single\u001b[0m\u001b[0;34m,\u001b[0m \u001b[0mlabel\u001b[0m\u001b[0;34m=\u001b[0m\u001b[0;34m'test_single'\u001b[0m\u001b[0;34m,\u001b[0m \u001b[0mc\u001b[0m\u001b[0;34m=\u001b[0m\u001b[0;34m'indigo'\u001b[0m\u001b[0;34m)\u001b[0m\u001b[0;34m\u001b[0m\u001b[0;34m\u001b[0m\u001b[0m\n",
      "\u001b[0;32m~/.local/lib/python3.8/site-packages/matplotlib/axes/_axes.py\u001b[0m in \u001b[0;36mplot\u001b[0;34m(self, scalex, scaley, data, *args, **kwargs)\u001b[0m\n\u001b[1;32m   1741\u001b[0m         \"\"\"\n\u001b[1;32m   1742\u001b[0m         \u001b[0mkwargs\u001b[0m \u001b[0;34m=\u001b[0m \u001b[0mcbook\u001b[0m\u001b[0;34m.\u001b[0m\u001b[0mnormalize_kwargs\u001b[0m\u001b[0;34m(\u001b[0m\u001b[0mkwargs\u001b[0m\u001b[0;34m,\u001b[0m \u001b[0mmlines\u001b[0m\u001b[0;34m.\u001b[0m\u001b[0mLine2D\u001b[0m\u001b[0;34m)\u001b[0m\u001b[0;34m\u001b[0m\u001b[0;34m\u001b[0m\u001b[0m\n\u001b[0;32m-> 1743\u001b[0;31m         \u001b[0mlines\u001b[0m \u001b[0;34m=\u001b[0m \u001b[0;34m[\u001b[0m\u001b[0;34m*\u001b[0m\u001b[0mself\u001b[0m\u001b[0;34m.\u001b[0m\u001b[0m_get_lines\u001b[0m\u001b[0;34m(\u001b[0m\u001b[0;34m*\u001b[0m\u001b[0margs\u001b[0m\u001b[0;34m,\u001b[0m \u001b[0mdata\u001b[0m\u001b[0;34m=\u001b[0m\u001b[0mdata\u001b[0m\u001b[0;34m,\u001b[0m \u001b[0;34m**\u001b[0m\u001b[0mkwargs\u001b[0m\u001b[0;34m)\u001b[0m\u001b[0;34m]\u001b[0m\u001b[0;34m\u001b[0m\u001b[0;34m\u001b[0m\u001b[0m\n\u001b[0m\u001b[1;32m   1744\u001b[0m         \u001b[0;32mfor\u001b[0m \u001b[0mline\u001b[0m \u001b[0;32min\u001b[0m \u001b[0mlines\u001b[0m\u001b[0;34m:\u001b[0m\u001b[0;34m\u001b[0m\u001b[0;34m\u001b[0m\u001b[0m\n\u001b[1;32m   1745\u001b[0m             \u001b[0mself\u001b[0m\u001b[0;34m.\u001b[0m\u001b[0madd_line\u001b[0m\u001b[0;34m(\u001b[0m\u001b[0mline\u001b[0m\u001b[0;34m)\u001b[0m\u001b[0;34m\u001b[0m\u001b[0;34m\u001b[0m\u001b[0m\n",
      "\u001b[0;32m~/.local/lib/python3.8/site-packages/matplotlib/axes/_base.py\u001b[0m in \u001b[0;36m__call__\u001b[0;34m(self, data, *args, **kwargs)\u001b[0m\n\u001b[1;32m    271\u001b[0m                 \u001b[0mthis\u001b[0m \u001b[0;34m+=\u001b[0m \u001b[0margs\u001b[0m\u001b[0;34m[\u001b[0m\u001b[0;36m0\u001b[0m\u001b[0;34m]\u001b[0m\u001b[0;34m,\u001b[0m\u001b[0;34m\u001b[0m\u001b[0;34m\u001b[0m\u001b[0m\n\u001b[1;32m    272\u001b[0m                 \u001b[0margs\u001b[0m \u001b[0;34m=\u001b[0m \u001b[0margs\u001b[0m\u001b[0;34m[\u001b[0m\u001b[0;36m1\u001b[0m\u001b[0;34m:\u001b[0m\u001b[0;34m]\u001b[0m\u001b[0;34m\u001b[0m\u001b[0;34m\u001b[0m\u001b[0m\n\u001b[0;32m--> 273\u001b[0;31m             \u001b[0;32myield\u001b[0m \u001b[0;32mfrom\u001b[0m \u001b[0mself\u001b[0m\u001b[0;34m.\u001b[0m\u001b[0m_plot_args\u001b[0m\u001b[0;34m(\u001b[0m\u001b[0mthis\u001b[0m\u001b[0;34m,\u001b[0m \u001b[0mkwargs\u001b[0m\u001b[0;34m)\u001b[0m\u001b[0;34m\u001b[0m\u001b[0;34m\u001b[0m\u001b[0m\n\u001b[0m\u001b[1;32m    274\u001b[0m \u001b[0;34m\u001b[0m\u001b[0m\n\u001b[1;32m    275\u001b[0m     \u001b[0;32mdef\u001b[0m \u001b[0mget_next_color\u001b[0m\u001b[0;34m(\u001b[0m\u001b[0mself\u001b[0m\u001b[0;34m)\u001b[0m\u001b[0;34m:\u001b[0m\u001b[0;34m\u001b[0m\u001b[0;34m\u001b[0m\u001b[0m\n",
      "\u001b[0;32m~/.local/lib/python3.8/site-packages/matplotlib/axes/_base.py\u001b[0m in \u001b[0;36m_plot_args\u001b[0;34m(self, tup, kwargs)\u001b[0m\n\u001b[1;32m    397\u001b[0m \u001b[0;34m\u001b[0m\u001b[0m\n\u001b[1;32m    398\u001b[0m         \u001b[0;32mif\u001b[0m \u001b[0mx\u001b[0m\u001b[0;34m.\u001b[0m\u001b[0mshape\u001b[0m\u001b[0;34m[\u001b[0m\u001b[0;36m0\u001b[0m\u001b[0;34m]\u001b[0m \u001b[0;34m!=\u001b[0m \u001b[0my\u001b[0m\u001b[0;34m.\u001b[0m\u001b[0mshape\u001b[0m\u001b[0;34m[\u001b[0m\u001b[0;36m0\u001b[0m\u001b[0;34m]\u001b[0m\u001b[0;34m:\u001b[0m\u001b[0;34m\u001b[0m\u001b[0;34m\u001b[0m\u001b[0m\n\u001b[0;32m--> 399\u001b[0;31m             raise ValueError(f\"x and y must have same first dimension, but \"\n\u001b[0m\u001b[1;32m    400\u001b[0m                              f\"have shapes {x.shape} and {y.shape}\")\n\u001b[1;32m    401\u001b[0m         \u001b[0;32mif\u001b[0m \u001b[0mx\u001b[0m\u001b[0;34m.\u001b[0m\u001b[0mndim\u001b[0m \u001b[0;34m>\u001b[0m \u001b[0;36m2\u001b[0m \u001b[0;32mor\u001b[0m \u001b[0my\u001b[0m\u001b[0;34m.\u001b[0m\u001b[0mndim\u001b[0m \u001b[0;34m>\u001b[0m \u001b[0;36m2\u001b[0m\u001b[0;34m:\u001b[0m\u001b[0;34m\u001b[0m\u001b[0;34m\u001b[0m\u001b[0m\n",
      "\u001b[0;31mValueError\u001b[0m: x and y must have same first dimension, but have shapes (30,) and (1,)"
     ]
    },
    {
     "data": {
      "image/png": "[encoded data removed]",
      "text/plain": [
       "<Figure size 864x720 with 1 Axes>"
      ]
     },
     "metadata": {
      "needs_background": "light"
     },
     "output_type": "display_data"
    }
   ],
   "source": [
    "all_plotter(Adadelta_hyper_test, Adadelta_hyper_sparsity, Adadelta_hyper_selectivity_avg, \n",
    "            Adadelta_single_test, Adadelta_single_sparsity, Adadelta_single_selectivity_avg, \n",
    "            Adadelta_combined_test, Adadelta_combined_sparsity, Adadelta_combined_selectivity_avg)"
   ]
  },
  {
   "cell_type": "code",
   "execution_count": null,
   "metadata": {},
   "outputs": [],
   "source": []
  }
 ],
 "metadata": {
  "kernelspec": {
   "display_name": "Python 3",
   "language": "python",
   "name": "python3"
  }
 },
 "nbformat": 4,
 "nbformat_minor": 4
}
