{
 "cells": [
  {
   "cell_type": "code",
   "execution_count": 1,
   "metadata": {},
   "outputs": [],
   "source": [
    "import matplotlib.pyplot as plt\n",
    "import numpy as np\n",
    "import re\n",
    "import ast \n",
    "import torch"
   ]
  },
  {
   "cell_type": "code",
   "execution_count": 2,
   "metadata": {},
   "outputs": [],
   "source": [
    "def test_val_extractor(file_name):    \n",
    "    # get accuracy from sparsity.txt\n",
    "    test_val_accumulator = list()\n",
    "    with open(file_name) as fi:\n",
    "        for i, line in enumerate(fi):\n",
    "            if i == 0:\n",
    "                line = ast.literal_eval(line)\n",
    "                test_val_accumulator = line\n",
    "                \n",
    "    # return list of test accuracy \n",
    "    return test_val_accumulator"
   ]
  },
  {
   "cell_type": "code",
   "execution_count": 3,
   "metadata": {},
   "outputs": [],
   "source": [
    "def selectivity_val_extractor(file_name):\n",
    "    selectivity_average = 0\n",
    "    selectivity_std = 0\n",
    "    with open(file_name) as fi:\n",
    "        for i, line in enumerate(fi):\n",
    "            if i == 1:\n",
    "                selectivity_average = ast.literal_eval(line)\n",
    "            if i == 2:\n",
    "                selectivity_std = ast.literal_eval(line)\n",
    "    return selectivity_average, selectivity_std"
   ]
  },
  {
   "cell_type": "code",
   "execution_count": 4,
   "metadata": {},
   "outputs": [],
   "source": [
    "def sparsity_val_extractor(file_name):\n",
    "    sparsity_average = 0\n",
    "    with open(file_name) as fi:\n",
    "        for i, line in enumerate(fi):\n",
    "            if i == 1:\n",
    "                sparsity_average = ast.literal_eval(line)\n",
    "    return sparsity_average"
   ]
  },
  {
   "cell_type": "code",
   "execution_count": 5,
   "metadata": {},
   "outputs": [],
   "source": [
    "def all_plotter(test_b1, sparsity_b1, selectivity_b1, test_b50, sparsity_b50, selectivity_b50, location='best'):\n",
    "    fig, ax = plt.subplots(figsize=(10, 8))\n",
    "    \n",
    "    ax.plot(np.linspace(0.0, 30.0, num=30), test_b1, label='original_test')\n",
    "    ax.plot(np.linspace(0.0, 30.0, num=30), sparsity_b1, label='original_sparsity')\n",
    "    ax.plot(np.linspace(0.0, 30.0, num=30), selectivity_b1, label='original_selectivity')\n",
    "    \n",
    "    ax.plot(np.linspace(0.0, 30.0, num=30), test_b50, label='conv_test')\n",
    "    ax.plot(np.linspace(0.0, 30.0, num=30), sparsity_b50, label='conv_sparsity')\n",
    "    ax.plot(np.linspace(0.0, 30.0, num=30), conv_selectivity, label='conv_selectivity')\n",
    "    \n",
    "    ax.set_ylim([-0.2,1.2])\n",
    "    ax.legend(loc=location)\n",
    "    plt.show()"
   ]
  },
  {
   "cell_type": "code",
   "execution_count": null,
   "metadata": {},
   "outputs": [],
   "source": []
  }
 ],
 "metadata": {
  "kernelspec": {
   "display_name": "Python 3",
   "language": "python",
   "name": "python3"
  },
  "language_info": {
   "codemirror_mode": {
    "name": "ipython",
    "version": 3
   },
   "file_extension": ".py",
   "mimetype": "text/x-python",
   "name": "python",
   "nbconvert_exporter": "python",
   "pygments_lexer": "ipython3",
   "version": "3.8.5"
  }
 },
 "nbformat": 4,
 "nbformat_minor": 4
}
