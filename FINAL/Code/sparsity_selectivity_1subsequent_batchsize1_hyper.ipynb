{
  "nbformat": 4,
  "nbformat_minor": 0,
  "metadata": {
    "colab": {
      "name": "sparsity_selectivity_1subsequent_batchsize1_hyper.ipynb",
      "provenance": [],
      "collapsed_sections": [],
      "machine_shape": "hm",
      "include_colab_link": true
    },
    "kernelspec": {
      "display_name": "Python 3",
      "language": "python",
      "name": "python3"
    },
    "language_info": {
      "codemirror_mode": {
        "name": "ipython",
        "version": 3
      },
      "file_extension": ".py",
      "mimetype": "text/x-python",
      "name": "python",
      "nbconvert_exporter": "python",
      "pygments_lexer": "ipython3",
      "version": "3.8.5"
    }
  },
  "cells": [
    {
      "cell_type": "markdown",
      "metadata": {
        "id": "view-in-github",
        "colab_type": "text"
      },
      "source": [
        "<a href=\"https://colab.research.google.com/github/7201krap/PYTORCH_project/blob/main/sparsity_selectivity_1subsequent_batchsize1_hyper.ipynb\" target=\"_parent\"><img src=\"https://colab.research.google.com/assets/colab-badge.svg\" alt=\"Open In Colab\"/></a>"
      ]
    },
    {
      "cell_type": "code",
      "metadata": {
        "colab": {
          "base_uri": "https://localhost:8080/"
        },
        "id": "o7STrWa0P3z_",
        "outputId": "119547d9-16f0-4557-d533-1d256bc96fc0"
      },
      "source": [
        "import torch\n",
        "import torchvision\n",
        "import torchvision.transforms as transforms\n",
        "import matplotlib.pyplot as plt\n",
        "import numpy as np\n",
        "from torch.utils.data import DataLoader, TensorDataset\n",
        "from google.colab import drive\n",
        "from timeit import default_timer as timer\n",
        "drive.mount('/content/drive')"
      ],
      "execution_count": 1,
      "outputs": [
        {
          "output_type": "stream",
          "text": [
            "Drive already mounted at /content/drive; to attempt to forcibly remount, call drive.mount(\"/content/drive\", force_remount=True).\n"
          ],
          "name": "stdout"
        }
      ]
    },
    {
      "cell_type": "code",
      "metadata": {
        "colab": {
          "base_uri": "https://localhost:8080/"
        },
        "id": "rAQK-yFOFdMp",
        "outputId": "03eba5ea-4069-4ac5-eaf8-e71288622597"
      },
      "source": [
        "!wget www.di.ens.fr/~lelarge/MNIST.tar.gz\n",
        "!tar -zxvf MNIST.tar.gz\n",
        "\n",
        "root_dir = './'\n",
        "torchvision.datasets.MNIST(root=root_dir,download=True)"
      ],
      "execution_count": 2,
      "outputs": [
        {
          "output_type": "stream",
          "text": [
            "--2021-03-20 10:01:11--  http://www.di.ens.fr/~lelarge/MNIST.tar.gz\n",
            "Resolving www.di.ens.fr (www.di.ens.fr)... 129.199.99.14\n",
            "Connecting to www.di.ens.fr (www.di.ens.fr)|129.199.99.14|:80... connected.\n",
            "HTTP request sent, awaiting response... 302 Found\n",
            "Location: https://www.di.ens.fr/~lelarge/MNIST.tar.gz [following]\n",
            "--2021-03-20 10:01:11--  https://www.di.ens.fr/~lelarge/MNIST.tar.gz\n",
            "Connecting to www.di.ens.fr (www.di.ens.fr)|129.199.99.14|:443... connected.\n",
            "HTTP request sent, awaiting response... 200 OK\n",
            "Length: unspecified [application/x-gzip]\n",
            "Saving to: ‘MNIST.tar.gz.2’\n",
            "\n",
            "MNIST.tar.gz.2          [          <=>       ]  33.20M  16.5MB/s    in 2.0s    \n",
            "\n",
            "2021-03-20 10:01:14 (16.5 MB/s) - ‘MNIST.tar.gz.2’ saved [34813078]\n",
            "\n",
            "MNIST/\n",
            "MNIST/raw/\n",
            "MNIST/raw/train-labels-idx1-ubyte\n",
            "MNIST/raw/t10k-labels-idx1-ubyte.gz\n",
            "MNIST/raw/t10k-labels-idx1-ubyte\n",
            "MNIST/raw/t10k-images-idx3-ubyte.gz\n",
            "MNIST/raw/train-images-idx3-ubyte\n",
            "MNIST/raw/train-labels-idx1-ubyte.gz\n",
            "MNIST/raw/t10k-images-idx3-ubyte\n",
            "MNIST/raw/train-images-idx3-ubyte.gz\n",
            "MNIST/processed/\n",
            "MNIST/processed/training.pt\n",
            "MNIST/processed/test.pt\n"
          ],
          "name": "stdout"
        },
        {
          "output_type": "execute_result",
          "data": {
            "text/plain": [
              "Dataset MNIST\n",
              "    Number of datapoints: 60000\n",
              "    Root location: ./\n",
              "    Split: Train"
            ]
          },
          "metadata": {
            "tags": []
          },
          "execution_count": 2
        }
      ]
    },
    {
      "cell_type": "code",
      "metadata": {
        "id": "z4j9WoP-UnAm"
      },
      "source": [
        "device = torch.device('cuda' if torch.cuda.is_available() else 'cpu')"
      ],
      "execution_count": 3,
      "outputs": []
    },
    {
      "cell_type": "code",
      "metadata": {
        "id": "ApOU7hvb95W4"
      },
      "source": [
        "torch.manual_seed(1234)\n",
        "np.random.seed(1234)"
      ],
      "execution_count": 4,
      "outputs": []
    },
    {
      "cell_type": "code",
      "metadata": {
        "id": "rTW5TOUnP5XY"
      },
      "source": [
        "mnist_trainset = torchvision.datasets.MNIST(root=root_dir, train=True, \n",
        "                                download=True, \n",
        "                                transform=transforms.Compose([transforms.ToTensor()]))\n",
        "\n",
        "mnist_testset  = torchvision.datasets.MNIST(root=root_dir, \n",
        "                                train=False, \n",
        "                                download=True, \n",
        "                                transform=transforms.Compose([transforms.ToTensor()]))\n",
        "\n",
        "train_dataloader = torch.utils.data.DataLoader(mnist_trainset, \n",
        "                                               batch_size=1, \n",
        "                                               shuffle=True)\n",
        "\n",
        "test_dataloader  = torch.utils.data.DataLoader(mnist_testset, \n",
        "                                               batch_size=50, \n",
        "                                               shuffle=False)"
      ],
      "execution_count": 5,
      "outputs": []
    },
    {
      "cell_type": "code",
      "metadata": {
        "id": "IXTkEUJ5P6kU"
      },
      "source": [
        "# ************* modify this section for later use *************\n",
        "# Define the model \n",
        "class Model(torch.nn.Module):\n",
        "    def __init__(self):\n",
        "        super(Model, self).__init__()\n",
        "        # modify this section for later use \n",
        "        self.linear_1 = torch.nn.Linear(784, 256)\n",
        "        self.linear_2 = torch.nn.Linear(256, 10)\n",
        "        self.sigmoid12  = torch.nn.Sigmoid()\n",
        "\n",
        "        self.layer_activations = dict()\n",
        "\n",
        "    def forward(self, x):\n",
        "\n",
        "        # modify this section for later use \n",
        "        x = x.reshape(x.size(0), -1)\n",
        "        x = self.linear_1(x)\n",
        "        x = self.sigmoid12(x)\n",
        "        pred = self.linear_2(x)\n",
        "        return pred\n",
        "# ************* modify this section for later use *************"
      ],
      "execution_count": 6,
      "outputs": []
    },
    {
      "cell_type": "code",
      "metadata": {
        "id": "BfgvKH6eP9Ou"
      },
      "source": [
        "def get_activation(model, layer_name):    \n",
        "    def hook(module, input, output):\n",
        "        model.layer_activations[layer_name] = output\n",
        "    return hook"
      ],
      "execution_count": 7,
      "outputs": []
    },
    {
      "cell_type": "code",
      "metadata": {
        "id": "Q3Dx3AJFvUQW"
      },
      "source": [
        "def sparsity_calculator(final_spareness):\n",
        "    sparseness_list = list()\n",
        "    for single_epoch_spareness in final_spareness:\n",
        "\n",
        "        hidden_layer_activation_list = single_epoch_spareness\n",
        "        hidden_layer_activation_list = torch.stack(hidden_layer_activation_list)\n",
        "        layer_activations_list = torch.reshape(hidden_layer_activation_list, (10000, 256))\n",
        "\n",
        "        layer_activations_list = torch.abs(layer_activations_list)  # modified \n",
        "        num_neurons = layer_activations_list.shape[1]\n",
        "        population_sparseness = (np.sqrt(num_neurons) - (torch.sum(layer_activations_list, dim=1) / torch.sqrt(torch.sum(layer_activations_list ** 2, dim=1)))) / (np.sqrt(num_neurons) - 1)\n",
        "        mean_sparseness_per_epoch = torch.mean(population_sparseness)\n",
        "\n",
        "        sparseness_list.append(mean_sparseness_per_epoch)\n",
        "\n",
        "    return sparseness_list"
      ],
      "execution_count": 8,
      "outputs": []
    },
    {
      "cell_type": "code",
      "metadata": {
        "id": "PvHGO5RSvi6I"
      },
      "source": [
        "def selectivity(hidden_layer_each_neuron):\n",
        "    __selectivity__ = list()\n",
        "    # I will now try to find the average of each class for each neuron.\n",
        "    # check out the next cell \n",
        "    avg_activations = [dict() for x in range(256)]\n",
        "    for i, neuron in enumerate(hidden_layer_each_neuron):\n",
        "        for k, v in neuron.items():\n",
        "            # v is the list of activations for hidden layer's neuron k \n",
        "            avg_activations[i][k] = sum(v) / float(len(v))\n",
        "\n",
        "    # generate 256 lists to get only values in avg_activations\n",
        "    only_activation_vals = [list() for x in range(256)]\n",
        "\n",
        "    # get only values from avg_activations\n",
        "    for i, avg_activation in enumerate(avg_activations):\n",
        "        for value in avg_activation.values():\n",
        "            only_activation_vals[i].append(value)\n",
        "\n",
        "    for activation_val in only_activation_vals:\n",
        "        # find u_max \n",
        "        u_max = np.max(activation_val)\n",
        "\n",
        "        # find u_minus_max \n",
        "        u_minus_max = (np.sum(activation_val) - u_max) / 9\n",
        "\n",
        "        # find selectivity \n",
        "        selectivity = (u_max - u_minus_max) / (u_max + u_minus_max + 0.000001)\n",
        "\n",
        "        # append selectivity value to selectivity\n",
        "        __selectivity__.append(selectivity)\n",
        "\n",
        "    avg_selectivity = np.average(__selectivity__)\n",
        "    std_selectivity = np.std(__selectivity__)\n",
        "                                 \n",
        "    return avg_selectivity, std_selectivity"
      ],
      "execution_count": 9,
      "outputs": []
    },
    {
      "cell_type": "code",
      "metadata": {
        "id": "j5PUiBNqUImf"
      },
      "source": [
        "def model_factory(optimizer_name):\n",
        "    '''\n",
        "    optimizer_name : choose one of Adagrad, Adadelta, SGD, and Adam \n",
        "\n",
        "    '''\n",
        "    my_model = Model()\n",
        "    print(\"my_model:\", my_model)\n",
        "    my_model.to(device)\n",
        "\n",
        "    # ************* modify this section for later use *************\n",
        "    my_model.sigmoid12.register_forward_hook(get_activation(my_model, 's12'))\n",
        "    # ************* modify this section for later use *************\n",
        "\n",
        "    if optimizer_name == 'Adadelta':\n",
        "        my_optimizer = torch.optim.Adadelta(my_model.parameters(), lr=1.0, rho=1.0)\n",
        "\n",
        "    elif optimizer_name == 'Adagrad':\n",
        "        my_optimizer = torch.optim.Adagrad(my_model.parameters(), lr=0.1)\n",
        "\n",
        "    elif optimizer_name == 'SGD':\n",
        "        my_optimizer = torch.optim.SGD(my_model.parameters(), lr=0.1, momentum=0.9)\n",
        "\n",
        "    elif optimizer_name == 'Adam':\n",
        "        my_optimizer = torch.optim.Adam(my_model.parameters(), lr=0.001)\n",
        "\n",
        "    else:\n",
        "        print(\"ERROR\")\n",
        "    \n",
        "    print(\"my_optimizer:\", my_optimizer)\n",
        "    test_acc, sparseness_list, selectivity_list_avg, selectivity_list_std = sparsity_selectivity_trainer(optimizer=my_optimizer, model=my_model)\n",
        "    # ************* modify this section for later use *************\n",
        "    file_saver = open(f\"sparsity_selectivity_batchsize_1_50_hyper_{optimizer_name}.txt\", \"w\")\n",
        "    # ************* modify this section for later use *************\n",
        "    file_saver.write(str(test_acc)+'\\n'+str(sparseness_list)+'\\n'+str(selectivity_list_avg)+'\\n'+str(selectivity_list_std)+'\\n\\n')\n",
        "    file_saver.close()\n",
        "\n",
        "    # ************* modify this section for later use *************\n",
        "    if optimizer_name == 'Adadelta':\n",
        "        !cp sparsity_selectivity_batchsize_1_50_hyper_Adadelta.txt /content/drive/MyDrive\n",
        "    \n",
        "    elif optimizer_name == 'Adagrad':\n",
        "        !cp sparsity_selectivity_batchsize_1_50_hyper_Adagrad.txt /content/drive/MyDrive\n",
        "\n",
        "    elif optimizer_name == 'SGD':\n",
        "        !cp sparsity_selectivity_batchsize_1_50_hyper_SGD.txt /content/drive/MyDrive\n",
        "\n",
        "    elif optimizer_name == 'Adam':\n",
        "        !cp sparsity_selectivity_batchsize_1_50_hyper_Adam.txt /content/drive/MyDrive\n",
        "    # ************* modify this section for later use *************\n",
        "\n",
        "    else:\n",
        "        print(\"ERROR\")"
      ],
      "execution_count": 10,
      "outputs": []
    },
    {
      "cell_type": "code",
      "metadata": {
        "id": "Ouq5LQloW0xC"
      },
      "source": [
        "# ************* modify this section for later use *************\n",
        "def avg_std_calculator(_hidden_layer_each_neuron_12):\n",
        "\n",
        "    avg_selectivity12, std_selectivity12 = selectivity(_hidden_layer_each_neuron_12)\n",
        "\n",
        "    final_selectivity_avg = (avg_selectivity12) / 1\n",
        "    final_selecvitity_std = (std_selectivity12) / 1\n",
        "\n",
        "    return final_selectivity_avg, final_selecvitity_std\n",
        "# ************* modify this section for later use *************"
      ],
      "execution_count": 11,
      "outputs": []
    },
    {
      "cell_type": "code",
      "metadata": {
        "id": "BXOpwTXEQFKY"
      },
      "source": [
        "no_epochs = 30\n",
        "def sparsity_selectivity_trainer(optimizer, model):\n",
        "\n",
        "    criterion = torch.nn.CrossEntropyLoss()\n",
        "    train_loss = list()\n",
        "    test_loss  = list()\n",
        "    test_acc   = list()\n",
        "\n",
        "    best_test_loss = 1\n",
        "\n",
        "    selectivity_avg_list = list()\n",
        "    selectivity_std_list = list()\n",
        "\n",
        "    # ************* modify this section for later use *************\n",
        "    final_spareness_12 = list()\n",
        "    # ************* modify this section for later use *************\n",
        "\n",
        "    for epoch in range(no_epochs):\n",
        "\n",
        "        # ************* modify this section for later use *************\n",
        "        hidden_layer_activation_list_12 = list()\n",
        "        # ************* modify this section for later use *************\n",
        "\n",
        "        # ************* modify this section for later use *************\n",
        "        hidden_layer_each_neuron_12 = [{0:[], 1:[], 2:[], 3:[], 4:[], 5:[], 6:[], 7:[], 8:[], 9:[]} for x in range(256)]\n",
        "        hidden_layer_each_neuron_12 = np.array(hidden_layer_each_neuron_12)\n",
        "        # ************* modify this section for later use *************\n",
        "\n",
        "\n",
        "        total_train_loss = 0\n",
        "        total_test_loss = 0\n",
        "\n",
        "        # training\n",
        "        # set up training mode \n",
        "        model.train()\n",
        "\n",
        "        for itr, (images, labels) in enumerate(train_dataloader):\n",
        "            images, labels = images.to(device), labels.to(device)\n",
        "\n",
        "            optimizer.zero_grad()\n",
        "\n",
        "            pred = model(images)\n",
        "\n",
        "            loss = criterion(pred, labels)\n",
        "            total_train_loss += loss.item()\n",
        "\n",
        "            loss.backward()\n",
        "            optimizer.step()\n",
        "\n",
        "        total_train_loss = total_train_loss / (itr + 1)\n",
        "        train_loss.append(total_train_loss)\n",
        "\n",
        "        # testing \n",
        "        # change to evaluation mode \n",
        "        model.eval()\n",
        "        total = 0\n",
        "        for itr, (images, labels) in enumerate(test_dataloader):\n",
        "            images, labels = images.to(device), labels.to(device)\n",
        "\n",
        "            pred = model(images)\n",
        "\n",
        "            loss = criterion(pred, labels)\n",
        "            total_test_loss += loss.item()\n",
        "\n",
        "            # we now need softmax because we are testing.\n",
        "            pred = torch.nn.functional.softmax(pred, dim=1)\n",
        "            for i, p in enumerate(pred):\n",
        "                if labels[i] == torch.max(p.data, 0)[1]:\n",
        "                    total = total + 1\n",
        "\n",
        "            # ***************** sparsity calculation ***************** #\n",
        "            hidden_layer_activation_list_12.append(model.layer_activations['s12'])\n",
        "            # ***************** sparsity calculation ***************** #\n",
        "\n",
        "            # ************* modify this section for later use *************\n",
        "            for activation, label in zip(model.layer_activations['s12'], labels):\n",
        "                label = label.item()\n",
        "                with torch.no_grad():\n",
        "                    activation = activation.numpy()\n",
        "                for i in range(256):    \n",
        "                    hidden_layer_each_neuron_12[i][label].append(activation[i])\n",
        "    \n",
        "        selectivity_avg, selecvitity_std = avg_std_calculator(hidden_layer_each_neuron_12)\n",
        "        # ************* modify this section for later use *************\n",
        "\n",
        "        # this conains activations for all epochs \n",
        "        final_spareness_12.append(hidden_layer_activation_list_12)\n",
        "        # ***************** sparsity calculation ***************** #\n",
        "        \n",
        "        selectivity_avg_list.append(selectivity_avg)\n",
        "        selectivity_std_list.append(selecvitity_std)\n",
        "\n",
        "        # caculate accuracy \n",
        "        accuracy = total / len(mnist_testset)\n",
        "\n",
        "        # append accuracy here\n",
        "        test_acc.append(accuracy)\n",
        "\n",
        "        # append test loss here \n",
        "        total_test_loss = total_test_loss / (itr + 1)\n",
        "        test_loss.append(total_test_loss)\n",
        "\n",
        "        print('\\nEpoch: {}/{}, Train Loss: {:.8f}, Test Loss: {:.8f}, Test Accuracy: {:.8f}'.format(epoch + 1, no_epochs, total_train_loss, total_test_loss, accuracy))\n",
        "\n",
        "    # ***************** sparsity calculation ***************** #\n",
        "    sparsity_list12 = sparsity_calculator(final_spareness_12)\n",
        "\n",
        "    print(sparsity_list12)\n",
        "\n",
        "    average_sparsity = list()\n",
        "    for i in range(no_epochs):\n",
        "        average_sparsity.append( (sparsity_list12[i].item()) / 1 )\n",
        "    # ***************** sparsity calculation ***************** #\n",
        "\n",
        "    print(\"average_sparsity:\", average_sparsity)\n",
        "\n",
        "    return test_acc, average_sparsity, selectivity_avg_list, selectivity_std_list"
      ],
      "execution_count": 12,
      "outputs": []
    },
    {
      "cell_type": "markdown",
      "metadata": {
        "id": "ILIJTJb2UdfI"
      },
      "source": [
        "# Adadelta"
      ]
    },
    {
      "cell_type": "code",
      "metadata": {
        "id": "5UH0qDnFUfaD",
        "colab": {
          "base_uri": "https://localhost:8080/"
        },
        "outputId": "16991aa8-89b6-4574-c427-07f022fae540"
      },
      "source": [
        "model_factory('Adadelta')"
      ],
      "execution_count": 13,
      "outputs": [
        {
          "output_type": "stream",
          "text": [
            "my_model: Model(\n",
            "  (linear_1): Linear(in_features=784, out_features=256, bias=True)\n",
            "  (linear_2): Linear(in_features=256, out_features=10, bias=True)\n",
            "  (sigmoid12): Sigmoid()\n",
            ")\n",
            "my_optimizer: Adadelta (\n",
            "Parameter Group 0\n",
            "    eps: 1e-06\n",
            "    lr: 1.0\n",
            "    rho: 1.0\n",
            "    weight_decay: 0\n",
            ")\n",
            "\n",
            "Epoch: 1/30, Train Loss: 34.48696855, Test Loss: 40.64376083, Test Accuracy: 0.55600000\n",
            "\n",
            "Epoch: 2/30, Train Loss: 42.47292797, Test Loss: 35.29236674, Test Accuracy: 0.57270000\n",
            "\n",
            "Epoch: 3/30, Train Loss: 44.02132968, Test Loss: 32.20640659, Test Accuracy: 0.61260000\n",
            "\n",
            "Epoch: 4/30, Train Loss: 39.13631210, Test Loss: 44.59608773, Test Accuracy: 0.57330000\n",
            "\n",
            "Epoch: 5/30, Train Loss: 38.14629419, Test Loss: 26.81191022, Test Accuracy: 0.72510000\n",
            "\n",
            "Epoch: 6/30, Train Loss: 37.84976099, Test Loss: 28.36912536, Test Accuracy: 0.70200000\n",
            "\n",
            "Epoch: 7/30, Train Loss: 38.33681645, Test Loss: 24.19600975, Test Accuracy: 0.70510000\n",
            "\n",
            "Epoch: 8/30, Train Loss: 40.07058741, Test Loss: 43.55527614, Test Accuracy: 0.62660000\n",
            "\n",
            "Epoch: 9/30, Train Loss: 39.11948107, Test Loss: 33.54755862, Test Accuracy: 0.68690000\n",
            "\n",
            "Epoch: 10/30, Train Loss: 38.32995118, Test Loss: 25.11102405, Test Accuracy: 0.74260000\n",
            "\n",
            "Epoch: 11/30, Train Loss: 35.51667439, Test Loss: 23.05673822, Test Accuracy: 0.73350000\n",
            "\n",
            "Epoch: 12/30, Train Loss: 34.73624157, Test Loss: 36.42540234, Test Accuracy: 0.63520000\n",
            "\n",
            "Epoch: 13/30, Train Loss: 35.64499289, Test Loss: 42.78966710, Test Accuracy: 0.63250000\n",
            "\n",
            "Epoch: 14/30, Train Loss: 35.84995217, Test Loss: 34.53976952, Test Accuracy: 0.68130000\n",
            "\n",
            "Epoch: 15/30, Train Loss: 34.37282172, Test Loss: 33.79833563, Test Accuracy: 0.67830000\n",
            "\n",
            "Epoch: 16/30, Train Loss: 35.96932191, Test Loss: 20.71769636, Test Accuracy: 0.76990000\n",
            "\n",
            "Epoch: 17/30, Train Loss: 35.37133112, Test Loss: 20.40845333, Test Accuracy: 0.77930000\n",
            "\n",
            "Epoch: 18/30, Train Loss: 32.02155775, Test Loss: 40.37981722, Test Accuracy: 0.68140000\n",
            "\n",
            "Epoch: 19/30, Train Loss: 31.30771637, Test Loss: 25.11039358, Test Accuracy: 0.75850000\n",
            "\n",
            "Epoch: 20/30, Train Loss: 30.28977976, Test Loss: 30.59281745, Test Accuracy: 0.73220000\n",
            "\n",
            "Epoch: 21/30, Train Loss: 32.53765293, Test Loss: 30.53704667, Test Accuracy: 0.73270000\n",
            "\n",
            "Epoch: 22/30, Train Loss: 32.34424897, Test Loss: 27.68670601, Test Accuracy: 0.75550000\n",
            "\n",
            "Epoch: 23/30, Train Loss: 29.05411781, Test Loss: 26.02074865, Test Accuracy: 0.76560000\n",
            "\n",
            "Epoch: 24/30, Train Loss: 29.60182399, Test Loss: 20.50388732, Test Accuracy: 0.80800000\n",
            "\n",
            "Epoch: 25/30, Train Loss: 30.80297684, Test Loss: 17.49779884, Test Accuracy: 0.82460000\n",
            "\n",
            "Epoch: 26/30, Train Loss: 29.30236915, Test Loss: 19.47927246, Test Accuracy: 0.80930000\n",
            "\n",
            "Epoch: 27/30, Train Loss: 29.28626849, Test Loss: 29.88031537, Test Accuracy: 0.76390000\n",
            "\n",
            "Epoch: 28/30, Train Loss: 28.59144075, Test Loss: 20.56320820, Test Accuracy: 0.81570000\n",
            "\n",
            "Epoch: 29/30, Train Loss: 28.81465685, Test Loss: 19.17020668, Test Accuracy: 0.82760000\n",
            "\n",
            "Epoch: 30/30, Train Loss: 26.62935930, Test Loss: 22.85038103, Test Accuracy: 0.79690000\n",
            "[tensor(0.4077, grad_fn=<MeanBackward0>), tensor(0.3685, grad_fn=<MeanBackward0>), tensor(0.3804, grad_fn=<MeanBackward0>), tensor(0.3852, grad_fn=<MeanBackward0>), tensor(0.3699, grad_fn=<MeanBackward0>), tensor(0.3568, grad_fn=<MeanBackward0>), tensor(0.3581, grad_fn=<MeanBackward0>), tensor(0.3600, grad_fn=<MeanBackward0>), tensor(0.3584, grad_fn=<MeanBackward0>), tensor(0.3601, grad_fn=<MeanBackward0>), tensor(0.3583, grad_fn=<MeanBackward0>), tensor(0.3597, grad_fn=<MeanBackward0>), tensor(0.3563, grad_fn=<MeanBackward0>), tensor(0.3580, grad_fn=<MeanBackward0>), tensor(0.3600, grad_fn=<MeanBackward0>), tensor(0.3569, grad_fn=<MeanBackward0>), tensor(0.3537, grad_fn=<MeanBackward0>), tensor(0.3524, grad_fn=<MeanBackward0>), tensor(0.3543, grad_fn=<MeanBackward0>), tensor(0.3566, grad_fn=<MeanBackward0>), tensor(0.3461, grad_fn=<MeanBackward0>), tensor(0.3491, grad_fn=<MeanBackward0>), tensor(0.3499, grad_fn=<MeanBackward0>), tensor(0.3394, grad_fn=<MeanBackward0>), tensor(0.3454, grad_fn=<MeanBackward0>), tensor(0.3491, grad_fn=<MeanBackward0>), tensor(0.3494, grad_fn=<MeanBackward0>), tensor(0.3433, grad_fn=<MeanBackward0>), tensor(0.3455, grad_fn=<MeanBackward0>), tensor(0.3472, grad_fn=<MeanBackward0>)]\n",
            "average_sparsity: [0.40771612524986267, 0.3685087561607361, 0.38036367297172546, 0.3851917088031769, 0.3698742985725403, 0.3567848801612854, 0.3580988347530365, 0.36003321409225464, 0.35838013887405396, 0.36008280515670776, 0.35828346014022827, 0.35970062017440796, 0.3562905788421631, 0.358015239238739, 0.3600212633609772, 0.35693949460983276, 0.3537434935569763, 0.35238608717918396, 0.3543490171432495, 0.3565569519996643, 0.3461332619190216, 0.34906741976737976, 0.3498939871788025, 0.33941131830215454, 0.3454173803329468, 0.34906241297721863, 0.34941262006759644, 0.3433476388454437, 0.34546151757240295, 0.347205251455307]\n"
          ],
          "name": "stdout"
        }
      ]
    },
    {
      "cell_type": "markdown",
      "metadata": {
        "id": "8hXfQe4vMDKB"
      },
      "source": [
        "# AdaGrad"
      ]
    },
    {
      "cell_type": "code",
      "metadata": {
        "id": "vb-4TPM5MGuE",
        "colab": {
          "base_uri": "https://localhost:8080/"
        },
        "outputId": "3044a0cc-7896-4c79-d6b6-1f42db34a8db"
      },
      "source": [
        "model_factory('Adagrad')"
      ],
      "execution_count": 14,
      "outputs": [
        {
          "output_type": "stream",
          "text": [
            "my_model: Model(\n",
            "  (linear_1): Linear(in_features=784, out_features=256, bias=True)\n",
            "  (linear_2): Linear(in_features=256, out_features=10, bias=True)\n",
            "  (sigmoid12): Sigmoid()\n",
            ")\n",
            "my_optimizer: Adagrad (\n",
            "Parameter Group 0\n",
            "    eps: 1e-10\n",
            "    initial_accumulator_value: 0\n",
            "    lr: 0.1\n",
            "    lr_decay: 0\n",
            "    weight_decay: 0\n",
            ")\n",
            "\n",
            "Epoch: 1/30, Train Loss: 0.20056434, Test Loss: 0.12074210, Test Accuracy: 0.96360000\n",
            "\n",
            "Epoch: 2/30, Train Loss: 0.08875025, Test Loss: 0.09658355, Test Accuracy: 0.96980000\n",
            "\n",
            "Epoch: 3/30, Train Loss: 0.06039658, Test Loss: 0.08410916, Test Accuracy: 0.97470000\n",
            "\n",
            "Epoch: 4/30, Train Loss: 0.04495033, Test Loss: 0.07961261, Test Accuracy: 0.97580000\n",
            "\n",
            "Epoch: 5/30, Train Loss: 0.03469421, Test Loss: 0.07640020, Test Accuracy: 0.97720000\n",
            "\n",
            "Epoch: 6/30, Train Loss: 0.02706318, Test Loss: 0.07544706, Test Accuracy: 0.97720000\n",
            "\n",
            "Epoch: 7/30, Train Loss: 0.02179065, Test Loss: 0.07341756, Test Accuracy: 0.97770000\n",
            "\n",
            "Epoch: 8/30, Train Loss: 0.01755539, Test Loss: 0.07203567, Test Accuracy: 0.97880000\n",
            "\n",
            "Epoch: 9/30, Train Loss: 0.01434270, Test Loss: 0.07075325, Test Accuracy: 0.97990000\n",
            "\n",
            "Epoch: 10/30, Train Loss: 0.01176654, Test Loss: 0.07079816, Test Accuracy: 0.97920000\n",
            "\n",
            "Epoch: 11/30, Train Loss: 0.00985789, Test Loss: 0.06914259, Test Accuracy: 0.97990000\n",
            "\n",
            "Epoch: 12/30, Train Loss: 0.00819353, Test Loss: 0.07015169, Test Accuracy: 0.97970000\n",
            "\n",
            "Epoch: 13/30, Train Loss: 0.00697503, Test Loss: 0.06959457, Test Accuracy: 0.98010000\n",
            "\n",
            "Epoch: 14/30, Train Loss: 0.00601797, Test Loss: 0.07014828, Test Accuracy: 0.97960000\n",
            "\n",
            "Epoch: 15/30, Train Loss: 0.00521370, Test Loss: 0.06914888, Test Accuracy: 0.98010000\n",
            "\n",
            "Epoch: 16/30, Train Loss: 0.00455502, Test Loss: 0.06932624, Test Accuracy: 0.98010000\n",
            "\n",
            "Epoch: 17/30, Train Loss: 0.00403428, Test Loss: 0.06923015, Test Accuracy: 0.98090000\n",
            "\n",
            "Epoch: 18/30, Train Loss: 0.00359762, Test Loss: 0.06939481, Test Accuracy: 0.98070000\n",
            "\n",
            "Epoch: 19/30, Train Loss: 0.00321903, Test Loss: 0.06996904, Test Accuracy: 0.98070000\n",
            "\n",
            "Epoch: 20/30, Train Loss: 0.00292040, Test Loss: 0.07012764, Test Accuracy: 0.98060000\n",
            "\n",
            "Epoch: 21/30, Train Loss: 0.00264567, Test Loss: 0.06998604, Test Accuracy: 0.98110000\n",
            "\n",
            "Epoch: 22/30, Train Loss: 0.00239964, Test Loss: 0.07096899, Test Accuracy: 0.98120000\n",
            "\n",
            "Epoch: 23/30, Train Loss: 0.00219145, Test Loss: 0.07102139, Test Accuracy: 0.98090000\n",
            "\n",
            "Epoch: 24/30, Train Loss: 0.00201069, Test Loss: 0.07062327, Test Accuracy: 0.98100000\n",
            "\n",
            "Epoch: 25/30, Train Loss: 0.00184765, Test Loss: 0.07125813, Test Accuracy: 0.98060000\n",
            "\n",
            "Epoch: 26/30, Train Loss: 0.00170789, Test Loss: 0.07131116, Test Accuracy: 0.98140000\n",
            "\n",
            "Epoch: 27/30, Train Loss: 0.00157741, Test Loss: 0.07198715, Test Accuracy: 0.98100000\n",
            "\n",
            "Epoch: 28/30, Train Loss: 0.00146743, Test Loss: 0.07193058, Test Accuracy: 0.98130000\n",
            "\n",
            "Epoch: 29/30, Train Loss: 0.00137224, Test Loss: 0.07205517, Test Accuracy: 0.98140000\n",
            "\n",
            "Epoch: 30/30, Train Loss: 0.00128412, Test Loss: 0.07255087, Test Accuracy: 0.98120000\n",
            "[tensor(0.7246, grad_fn=<MeanBackward0>), tensor(0.7119, grad_fn=<MeanBackward0>), tensor(0.7036, grad_fn=<MeanBackward0>), tensor(0.6964, grad_fn=<MeanBackward0>), tensor(0.6856, grad_fn=<MeanBackward0>), tensor(0.6782, grad_fn=<MeanBackward0>), tensor(0.6744, grad_fn=<MeanBackward0>), tensor(0.6718, grad_fn=<MeanBackward0>), tensor(0.6620, grad_fn=<MeanBackward0>), tensor(0.6625, grad_fn=<MeanBackward0>), tensor(0.6584, grad_fn=<MeanBackward0>), tensor(0.6548, grad_fn=<MeanBackward0>), tensor(0.6539, grad_fn=<MeanBackward0>), tensor(0.6505, grad_fn=<MeanBackward0>), tensor(0.6481, grad_fn=<MeanBackward0>), tensor(0.6457, grad_fn=<MeanBackward0>), tensor(0.6447, grad_fn=<MeanBackward0>), tensor(0.6420, grad_fn=<MeanBackward0>), tensor(0.6406, grad_fn=<MeanBackward0>), tensor(0.6384, grad_fn=<MeanBackward0>), tensor(0.6380, grad_fn=<MeanBackward0>), tensor(0.6352, grad_fn=<MeanBackward0>), tensor(0.6351, grad_fn=<MeanBackward0>), tensor(0.6341, grad_fn=<MeanBackward0>), tensor(0.6318, grad_fn=<MeanBackward0>), tensor(0.6327, grad_fn=<MeanBackward0>), tensor(0.6312, grad_fn=<MeanBackward0>), tensor(0.6304, grad_fn=<MeanBackward0>), tensor(0.6297, grad_fn=<MeanBackward0>), tensor(0.6290, grad_fn=<MeanBackward0>)]\n",
            "average_sparsity: [0.7246357798576355, 0.7118945121765137, 0.70359206199646, 0.6963976621627808, 0.6855868697166443, 0.6781659722328186, 0.674439549446106, 0.6718297600746155, 0.6620482206344604, 0.6625243425369263, 0.6583940386772156, 0.6547510623931885, 0.653891384601593, 0.6504958868026733, 0.6480897665023804, 0.645731508731842, 0.6446788907051086, 0.6420144438743591, 0.6405813694000244, 0.638357400894165, 0.6380385756492615, 0.6351664662361145, 0.6350599527359009, 0.6340841054916382, 0.6317523717880249, 0.63273024559021, 0.6311526298522949, 0.6304250955581665, 0.6296882033348083, 0.6290398240089417]\n"
          ],
          "name": "stdout"
        }
      ]
    },
    {
      "cell_type": "markdown",
      "metadata": {
        "id": "hmLJ4Zr2MnoS"
      },
      "source": [
        "# SGD\n"
      ]
    },
    {
      "cell_type": "code",
      "metadata": {
        "id": "6ObsEJHuMoPy",
        "colab": {
          "base_uri": "https://localhost:8080/"
        },
        "outputId": "8990a543-f12e-4f36-b64d-c4318156662b"
      },
      "source": [
        "model_factory('SGD')"
      ],
      "execution_count": 15,
      "outputs": [
        {
          "output_type": "stream",
          "text": [
            "my_model: Model(\n",
            "  (linear_1): Linear(in_features=784, out_features=256, bias=True)\n",
            "  (linear_2): Linear(in_features=256, out_features=10, bias=True)\n",
            "  (sigmoid12): Sigmoid()\n",
            ")\n",
            "my_optimizer: SGD (\n",
            "Parameter Group 0\n",
            "    dampening: 0\n",
            "    lr: 0.1\n",
            "    momentum: 0.9\n",
            "    nesterov: False\n",
            "    weight_decay: 0\n",
            ")\n",
            "\n",
            "Epoch: 1/30, Train Loss: 29.33929598, Test Loss: 45.09401920, Test Accuracy: 0.43590000\n",
            "\n",
            "Epoch: 2/30, Train Loss: 34.29622996, Test Loss: 31.44126714, Test Accuracy: 0.52290000\n",
            "\n",
            "Epoch: 3/30, Train Loss: 29.78698110, Test Loss: 37.50860106, Test Accuracy: 0.59300000\n",
            "\n",
            "Epoch: 4/30, Train Loss: 27.29560100, Test Loss: 18.13470301, Test Accuracy: 0.70120000\n",
            "\n",
            "Epoch: 5/30, Train Loss: 27.22131338, Test Loss: 21.58479682, Test Accuracy: 0.69030000\n",
            "\n",
            "Epoch: 6/30, Train Loss: 26.83009343, Test Loss: 44.23225504, Test Accuracy: 0.61300000\n",
            "\n",
            "Epoch: 7/30, Train Loss: 24.77451990, Test Loss: 25.32035882, Test Accuracy: 0.66380000\n",
            "\n",
            "Epoch: 8/30, Train Loss: 24.18745141, Test Loss: 22.76887444, Test Accuracy: 0.73070000\n",
            "\n",
            "Epoch: 9/30, Train Loss: 23.17723853, Test Loss: 20.16912115, Test Accuracy: 0.69430000\n",
            "\n",
            "Epoch: 10/30, Train Loss: 23.37740124, Test Loss: 23.92014632, Test Accuracy: 0.67550000\n",
            "\n",
            "Epoch: 11/30, Train Loss: 24.20623626, Test Loss: 16.00157800, Test Accuracy: 0.76830000\n",
            "\n",
            "Epoch: 12/30, Train Loss: 23.17985681, Test Loss: 20.03600951, Test Accuracy: 0.73460000\n",
            "\n",
            "Epoch: 13/30, Train Loss: 21.95213171, Test Loss: 27.95375062, Test Accuracy: 0.63780000\n",
            "\n",
            "Epoch: 14/30, Train Loss: 21.37045720, Test Loss: 17.81558720, Test Accuracy: 0.74920000\n",
            "\n",
            "Epoch: 15/30, Train Loss: 21.49427096, Test Loss: 18.48057554, Test Accuracy: 0.77030000\n",
            "\n",
            "Epoch: 16/30, Train Loss: 20.05155413, Test Loss: 17.01557529, Test Accuracy: 0.78370000\n",
            "\n",
            "Epoch: 17/30, Train Loss: 18.92203205, Test Loss: 21.53544805, Test Accuracy: 0.72660000\n",
            "\n",
            "Epoch: 18/30, Train Loss: 18.87051190, Test Loss: 28.12354092, Test Accuracy: 0.69510000\n",
            "\n",
            "Epoch: 19/30, Train Loss: 17.79566075, Test Loss: 23.50623348, Test Accuracy: 0.73720000\n",
            "\n",
            "Epoch: 20/30, Train Loss: 17.61142620, Test Loss: 29.85997817, Test Accuracy: 0.66200000\n",
            "\n",
            "Epoch: 21/30, Train Loss: 17.93713587, Test Loss: 21.42174698, Test Accuracy: 0.76370000\n",
            "\n",
            "Epoch: 22/30, Train Loss: 18.88244002, Test Loss: 15.36324054, Test Accuracy: 0.75170000\n",
            "\n",
            "Epoch: 23/30, Train Loss: 19.47631493, Test Loss: 19.78587086, Test Accuracy: 0.74440000\n",
            "\n",
            "Epoch: 24/30, Train Loss: 20.07069993, Test Loss: 15.15936516, Test Accuracy: 0.81120000\n",
            "\n",
            "Epoch: 25/30, Train Loss: 20.27128923, Test Loss: 19.60228607, Test Accuracy: 0.78030000\n",
            "\n",
            "Epoch: 26/30, Train Loss: 19.26718895, Test Loss: 18.00332908, Test Accuracy: 0.78400000\n",
            "\n",
            "Epoch: 27/30, Train Loss: 18.99475173, Test Loss: 15.82479760, Test Accuracy: 0.78480000\n",
            "\n",
            "Epoch: 28/30, Train Loss: 18.64932261, Test Loss: 19.74164011, Test Accuracy: 0.78260000\n",
            "\n",
            "Epoch: 29/30, Train Loss: 19.02775936, Test Loss: 14.16679412, Test Accuracy: 0.79940000\n",
            "\n",
            "Epoch: 30/30, Train Loss: 19.13417525, Test Loss: 25.85466944, Test Accuracy: 0.70000000\n",
            "[tensor(0.4704, grad_fn=<MeanBackward0>), tensor(0.4350, grad_fn=<MeanBackward0>), tensor(0.4503, grad_fn=<MeanBackward0>), tensor(0.4541, grad_fn=<MeanBackward0>), tensor(0.4480, grad_fn=<MeanBackward0>), tensor(0.4538, grad_fn=<MeanBackward0>), tensor(0.4555, grad_fn=<MeanBackward0>), tensor(0.4485, grad_fn=<MeanBackward0>), tensor(0.4540, grad_fn=<MeanBackward0>), tensor(0.4546, grad_fn=<MeanBackward0>), tensor(0.4529, grad_fn=<MeanBackward0>), tensor(0.4578, grad_fn=<MeanBackward0>), tensor(0.4555, grad_fn=<MeanBackward0>), tensor(0.4533, grad_fn=<MeanBackward0>), tensor(0.4556, grad_fn=<MeanBackward0>), tensor(0.4552, grad_fn=<MeanBackward0>), tensor(0.4528, grad_fn=<MeanBackward0>), tensor(0.4554, grad_fn=<MeanBackward0>), tensor(0.4500, grad_fn=<MeanBackward0>), tensor(0.4524, grad_fn=<MeanBackward0>), tensor(0.4407, grad_fn=<MeanBackward0>), tensor(0.4496, grad_fn=<MeanBackward0>), tensor(0.4489, grad_fn=<MeanBackward0>), tensor(0.4468, grad_fn=<MeanBackward0>), tensor(0.4456, grad_fn=<MeanBackward0>), tensor(0.4454, grad_fn=<MeanBackward0>), tensor(0.4461, grad_fn=<MeanBackward0>), tensor(0.4419, grad_fn=<MeanBackward0>), tensor(0.4485, grad_fn=<MeanBackward0>), tensor(0.4493, grad_fn=<MeanBackward0>)]\n",
            "average_sparsity: [0.47042784094810486, 0.4349740147590637, 0.4503423869609833, 0.45409759879112244, 0.44798731803894043, 0.45377376675605774, 0.45551881194114685, 0.44852784276008606, 0.45402073860168457, 0.4546234905719757, 0.45290878415107727, 0.45783597230911255, 0.4554823338985443, 0.45329853892326355, 0.45559805631637573, 0.45520728826522827, 0.45282530784606934, 0.4553787112236023, 0.44999369978904724, 0.45241621136665344, 0.4406788945198059, 0.44963809847831726, 0.44885683059692383, 0.4467991292476654, 0.44561630487442017, 0.44539791345596313, 0.44609805941581726, 0.4419197142124176, 0.4485427737236023, 0.44933226704597473]\n"
          ],
          "name": "stdout"
        }
      ]
    },
    {
      "cell_type": "markdown",
      "metadata": {
        "id": "QvQxaN_fRXLq"
      },
      "source": [
        "# Adam"
      ]
    },
    {
      "cell_type": "code",
      "metadata": {
        "id": "VkqfFoVkRXxP",
        "colab": {
          "base_uri": "https://localhost:8080/"
        },
        "outputId": "7fa9c202-fa10-4569-ba70-0a1f75fd363d"
      },
      "source": [
        "model_factory('Adam')"
      ],
      "execution_count": 16,
      "outputs": [
        {
          "output_type": "stream",
          "text": [
            "my_model: Model(\n",
            "  (linear_1): Linear(in_features=784, out_features=256, bias=True)\n",
            "  (linear_2): Linear(in_features=256, out_features=10, bias=True)\n",
            "  (sigmoid12): Sigmoid()\n",
            ")\n",
            "my_optimizer: Adam (\n",
            "Parameter Group 0\n",
            "    amsgrad: False\n",
            "    betas: (0.9, 0.999)\n",
            "    eps: 1e-08\n",
            "    lr: 0.001\n",
            "    weight_decay: 0\n",
            ")\n",
            "\n",
            "Epoch: 1/30, Train Loss: 0.20802593, Test Loss: 0.10961879, Test Accuracy: 0.96650000\n",
            "\n",
            "Epoch: 2/30, Train Loss: 0.08951737, Test Loss: 0.09641207, Test Accuracy: 0.97050000\n",
            "\n",
            "Epoch: 3/30, Train Loss: 0.06402273, Test Loss: 0.09003202, Test Accuracy: 0.97530000\n",
            "\n",
            "Epoch: 4/30, Train Loss: 0.04895245, Test Loss: 0.08900715, Test Accuracy: 0.97830000\n",
            "\n",
            "Epoch: 5/30, Train Loss: 0.03751560, Test Loss: 0.10612297, Test Accuracy: 0.97490000\n",
            "\n",
            "Epoch: 6/30, Train Loss: 0.02944161, Test Loss: 0.09307474, Test Accuracy: 0.97830000\n",
            "\n",
            "Epoch: 7/30, Train Loss: 0.02415457, Test Loss: 0.09096340, Test Accuracy: 0.97820000\n",
            "\n",
            "Epoch: 8/30, Train Loss: 0.02039844, Test Loss: 0.09608087, Test Accuracy: 0.98040000\n",
            "\n",
            "Epoch: 9/30, Train Loss: 0.01673225, Test Loss: 0.10816046, Test Accuracy: 0.98000000\n",
            "\n",
            "Epoch: 10/30, Train Loss: 0.01500664, Test Loss: 0.11346771, Test Accuracy: 0.97920000\n",
            "\n",
            "Epoch: 11/30, Train Loss: 0.01232311, Test Loss: 0.11980216, Test Accuracy: 0.97950000\n",
            "\n",
            "Epoch: 12/30, Train Loss: 0.00965448, Test Loss: 0.12368773, Test Accuracy: 0.97960000\n",
            "\n",
            "Epoch: 13/30, Train Loss: 0.00928660, Test Loss: 0.11900678, Test Accuracy: 0.97950000\n",
            "\n",
            "Epoch: 14/30, Train Loss: 0.00845502, Test Loss: 0.13426900, Test Accuracy: 0.97860000\n",
            "\n",
            "Epoch: 15/30, Train Loss: 0.00675323, Test Loss: 0.13820701, Test Accuracy: 0.97950000\n",
            "\n",
            "Epoch: 16/30, Train Loss: 0.00630078, Test Loss: 0.13694624, Test Accuracy: 0.97900000\n",
            "\n",
            "Epoch: 17/30, Train Loss: 0.00564318, Test Loss: 0.14114608, Test Accuracy: 0.97910000\n",
            "\n",
            "Epoch: 18/30, Train Loss: 0.00421820, Test Loss: 0.16474800, Test Accuracy: 0.97750000\n",
            "\n",
            "Epoch: 19/30, Train Loss: 0.00447864, Test Loss: 0.15276513, Test Accuracy: 0.97870000\n",
            "\n",
            "Epoch: 20/30, Train Loss: 0.00411094, Test Loss: 0.15356017, Test Accuracy: 0.97880000\n",
            "\n",
            "Epoch: 21/30, Train Loss: 0.00365863, Test Loss: 0.17176269, Test Accuracy: 0.97860000\n",
            "\n",
            "Epoch: 22/30, Train Loss: 0.00328386, Test Loss: 0.16356986, Test Accuracy: 0.98040000\n",
            "\n",
            "Epoch: 23/30, Train Loss: 0.00312080, Test Loss: 0.15574946, Test Accuracy: 0.98090000\n",
            "\n",
            "Epoch: 24/30, Train Loss: 0.00231663, Test Loss: 0.16003614, Test Accuracy: 0.97980000\n",
            "\n",
            "Epoch: 25/30, Train Loss: 0.00271059, Test Loss: 0.15718401, Test Accuracy: 0.98130000\n",
            "\n",
            "Epoch: 26/30, Train Loss: 0.00290279, Test Loss: 0.16771665, Test Accuracy: 0.97980000\n",
            "\n",
            "Epoch: 27/30, Train Loss: 0.00205155, Test Loss: 0.17701095, Test Accuracy: 0.97890000\n",
            "\n",
            "Epoch: 28/30, Train Loss: 0.00241646, Test Loss: 0.17032748, Test Accuracy: 0.98110000\n",
            "\n",
            "Epoch: 29/30, Train Loss: 0.00213229, Test Loss: 0.17133209, Test Accuracy: 0.98020000\n",
            "\n",
            "Epoch: 30/30, Train Loss: 0.00125578, Test Loss: 0.19429597, Test Accuracy: 0.97820000\n",
            "[tensor(0.4683, grad_fn=<MeanBackward0>), tensor(0.5048, grad_fn=<MeanBackward0>), tensor(0.5303, grad_fn=<MeanBackward0>), tensor(0.5323, grad_fn=<MeanBackward0>), tensor(0.5191, grad_fn=<MeanBackward0>), tensor(0.5261, grad_fn=<MeanBackward0>), tensor(0.5128, grad_fn=<MeanBackward0>), tensor(0.5181, grad_fn=<MeanBackward0>), tensor(0.5153, grad_fn=<MeanBackward0>), tensor(0.5127, grad_fn=<MeanBackward0>), tensor(0.5188, grad_fn=<MeanBackward0>), tensor(0.5174, grad_fn=<MeanBackward0>), tensor(0.5125, grad_fn=<MeanBackward0>), tensor(0.5112, grad_fn=<MeanBackward0>), tensor(0.5143, grad_fn=<MeanBackward0>), tensor(0.5092, grad_fn=<MeanBackward0>), tensor(0.5058, grad_fn=<MeanBackward0>), tensor(0.5079, grad_fn=<MeanBackward0>), tensor(0.5074, grad_fn=<MeanBackward0>), tensor(0.5053, grad_fn=<MeanBackward0>), tensor(0.5020, grad_fn=<MeanBackward0>), tensor(0.5058, grad_fn=<MeanBackward0>), tensor(0.5061, grad_fn=<MeanBackward0>), tensor(0.5122, grad_fn=<MeanBackward0>), tensor(0.5027, grad_fn=<MeanBackward0>), tensor(0.5075, grad_fn=<MeanBackward0>), tensor(0.5023, grad_fn=<MeanBackward0>), tensor(0.5088, grad_fn=<MeanBackward0>), tensor(0.5068, grad_fn=<MeanBackward0>), tensor(0.5014, grad_fn=<MeanBackward0>)]\n",
            "average_sparsity: [0.4682738780975342, 0.50478196144104, 0.5303474068641663, 0.5322802066802979, 0.5191492438316345, 0.526057243347168, 0.51276034116745, 0.5181054472923279, 0.515270471572876, 0.5127344727516174, 0.5188084244728088, 0.5174238085746765, 0.5125181674957275, 0.5111783146858215, 0.5143052935600281, 0.509160041809082, 0.5058020949363708, 0.5078977942466736, 0.5073866248130798, 0.5052714943885803, 0.5019738674163818, 0.5058419704437256, 0.5060936212539673, 0.5121622085571289, 0.5026984214782715, 0.5074742436408997, 0.5023040771484375, 0.5087947845458984, 0.506801962852478, 0.5013534426689148]\n"
          ],
          "name": "stdout"
        }
      ]
    }
  ]
}