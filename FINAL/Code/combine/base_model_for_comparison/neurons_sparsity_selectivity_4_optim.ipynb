{
  "nbformat": 4,
  "nbformat_minor": 0,
  "metadata": {
    "colab": {
      "name": "neurons_sparsity_selectivity_4_optim.ipynb",
      "provenance": [],
      "collapsed_sections": [],
      "machine_shape": "hm",
      "include_colab_link": true
    },
    "kernelspec": {
      "display_name": "Python 3",
      "language": "python",
      "name": "python3"
    },
    "language_info": {
      "codemirror_mode": {
        "name": "ipython",
        "version": 3
      },
      "file_extension": ".py",
      "mimetype": "text/x-python",
      "name": "python",
      "nbconvert_exporter": "python",
      "pygments_lexer": "ipython3",
      "version": "3.8.5"
    }
  },
  "cells": [
    {
      "cell_type": "markdown",
      "metadata": {
        "id": "view-in-github",
        "colab_type": "text"
      },
      "source": [
        "<a href=\"https://colab.research.google.com/github/7201krap/PYTORCH_project/blob/main/neurons_sparsity_selectivity_4_optim.ipynb\" target=\"_parent\"><img src=\"https://colab.research.google.com/assets/colab-badge.svg\" alt=\"Open In Colab\"/></a>"
      ]
    },
    {
      "cell_type": "code",
      "metadata": {
        "id": "o7STrWa0P3z_",
        "colab": {
          "base_uri": "https://localhost:8080/"
        },
        "outputId": "a66a0f7d-19ca-4ff5-e57e-09695a975b5a"
      },
      "source": [
        "import torch\n",
        "import torchvision\n",
        "import torchvision.transforms as transforms\n",
        "import matplotlib.pyplot as plt\n",
        "import numpy as np\n",
        "from torch.utils.data import DataLoader, TensorDataset\n",
        "from google.colab import drive\n",
        "drive.mount('/content/drive')"
      ],
      "execution_count": null,
      "outputs": [
        {
          "output_type": "stream",
          "text": [
            "Mounted at /content/drive\n"
          ],
          "name": "stdout"
        }
      ]
    },
    {
      "cell_type": "code",
      "metadata": {
        "colab": {
          "base_uri": "https://localhost:8080/"
        },
        "id": "oZ_goh6K18-p",
        "outputId": "a20e6c15-1284-45c4-f70a-e1aac5cbd0f6"
      },
      "source": [
        "!wget www.di.ens.fr/~lelarge/MNIST.tar.gz\n",
        "!tar -zxvf MNIST.tar.gz\n",
        "\n",
        "root_dir = './'\n",
        "torchvision.datasets.MNIST(root=root_dir,download=True)"
      ],
      "execution_count": null,
      "outputs": [
        {
          "output_type": "stream",
          "text": [
            "--2021-03-16 11:51:39--  http://www.di.ens.fr/~lelarge/MNIST.tar.gz\n",
            "Resolving www.di.ens.fr (www.di.ens.fr)... 129.199.99.14\n",
            "Connecting to www.di.ens.fr (www.di.ens.fr)|129.199.99.14|:80... connected.\n",
            "HTTP request sent, awaiting response... 302 Found\n",
            "Location: https://www.di.ens.fr/~lelarge/MNIST.tar.gz [following]\n",
            "--2021-03-16 11:51:39--  https://www.di.ens.fr/~lelarge/MNIST.tar.gz\n",
            "Connecting to www.di.ens.fr (www.di.ens.fr)|129.199.99.14|:443... connected.\n",
            "HTTP request sent, awaiting response... 200 OK\n",
            "Length: unspecified [application/x-gzip]\n",
            "Saving to: ‘MNIST.tar.gz’\n",
            "\n",
            "MNIST.tar.gz            [     <=>            ]  33.20M  33.8MB/s    in 1.0s    \n",
            "\n",
            "2021-03-16 11:51:40 (33.8 MB/s) - ‘MNIST.tar.gz’ saved [34813078]\n",
            "\n",
            "MNIST/\n",
            "MNIST/raw/\n",
            "MNIST/raw/train-labels-idx1-ubyte\n",
            "MNIST/raw/t10k-labels-idx1-ubyte.gz\n",
            "MNIST/raw/t10k-labels-idx1-ubyte\n",
            "MNIST/raw/t10k-images-idx3-ubyte.gz\n",
            "MNIST/raw/train-images-idx3-ubyte\n",
            "MNIST/raw/train-labels-idx1-ubyte.gz\n",
            "MNIST/raw/t10k-images-idx3-ubyte\n",
            "MNIST/raw/train-images-idx3-ubyte.gz\n",
            "MNIST/processed/\n",
            "MNIST/processed/training.pt\n",
            "MNIST/processed/test.pt\n"
          ],
          "name": "stdout"
        },
        {
          "output_type": "execute_result",
          "data": {
            "text/plain": [
              "Dataset MNIST\n",
              "    Number of datapoints: 60000\n",
              "    Root location: ./\n",
              "    Split: Train"
            ]
          },
          "metadata": {
            "tags": []
          },
          "execution_count": 2
        }
      ]
    },
    {
      "cell_type": "code",
      "metadata": {
        "id": "z4j9WoP-UnAm"
      },
      "source": [
        "device = torch.device('cuda' if torch.cuda.is_available() else 'cpu')"
      ],
      "execution_count": null,
      "outputs": []
    },
    {
      "cell_type": "code",
      "metadata": {
        "id": "ApOU7hvb95W4"
      },
      "source": [
        "torch.manual_seed(1234)\n",
        "np.random.seed(1234)"
      ],
      "execution_count": null,
      "outputs": []
    },
    {
      "cell_type": "code",
      "metadata": {
        "id": "rTW5TOUnP5XY"
      },
      "source": [
        "mnist_trainset = torchvision.datasets.MNIST(root=root_dir, train=True, \n",
        "                                download=True, \n",
        "                                transform=transforms.Compose([transforms.ToTensor()]))\n",
        "\n",
        "mnist_testset  = torchvision.datasets.MNIST(root=root_dir, \n",
        "                                train=False, \n",
        "                                download=True, \n",
        "                                transform=transforms.Compose([transforms.ToTensor()]))\n",
        "\n",
        "train_dataloader = torch.utils.data.DataLoader(mnist_trainset, \n",
        "                                               batch_size=50, \n",
        "                                               shuffle=True)\n",
        "\n",
        "test_dataloader  = torch.utils.data.DataLoader(mnist_testset, \n",
        "                                               batch_size=50, \n",
        "                                               shuffle=False)"
      ],
      "execution_count": null,
      "outputs": []
    },
    {
      "cell_type": "code",
      "metadata": {
        "id": "IXTkEUJ5P6kU"
      },
      "source": [
        "# ************* modify this section for later use *************\n",
        "# Define the model \n",
        "class Model(torch.nn.Module):\n",
        "    def __init__(self):\n",
        "        super(Model, self).__init__()\n",
        "        # modify this section for later use \n",
        "        self.linear_1 = torch.nn.Linear(784, 1024)\n",
        "        self.linear_2 = torch.nn.Linear(1024, 10)\n",
        "        self.sigmoid12  = torch.nn.Sigmoid()\n",
        "\n",
        "        self.layer_activations = dict()\n",
        "\n",
        "    def forward(self, x):\n",
        "\n",
        "        # modify this section for later use \n",
        "        x = x.reshape(x.size(0), -1)\n",
        "        x = self.linear_1(x)\n",
        "        x = self.sigmoid12(x)\n",
        "        pred = self.linear_2(x)\n",
        "        return pred\n",
        "# ************* modify this section for later use *************"
      ],
      "execution_count": null,
      "outputs": []
    },
    {
      "cell_type": "code",
      "metadata": {
        "id": "BfgvKH6eP9Ou"
      },
      "source": [
        "def get_activation(model, layer_name):    \n",
        "    def hook(module, input, output):\n",
        "        model.layer_activations[layer_name] = output\n",
        "    return hook"
      ],
      "execution_count": null,
      "outputs": []
    },
    {
      "cell_type": "code",
      "metadata": {
        "id": "sWx_8O9X3hRm"
      },
      "source": [
        "def sparsity_calculator(final_spareness):\n",
        "    sparseness_list = list()\n",
        "    for single_epoch_spareness in final_spareness:\n",
        "\n",
        "        hidden_layer_activation_list = single_epoch_spareness\n",
        "        hidden_layer_activation_list = torch.stack(hidden_layer_activation_list)\n",
        "        layer_activations_list = torch.reshape(hidden_layer_activation_list, (10000, 1024))\n",
        "\n",
        "        layer_activations_list = torch.abs(layer_activations_list)  # modified \n",
        "        num_neurons = layer_activations_list.shape[1]\n",
        "        population_sparseness = (np.sqrt(num_neurons) - (torch.sum(layer_activations_list, dim=1) / torch.sqrt(torch.sum(layer_activations_list ** 2, dim=1)))) / (np.sqrt(num_neurons) - 1)\n",
        "        mean_sparseness_per_epoch = torch.mean(population_sparseness)\n",
        "\n",
        "        sparseness_list.append(mean_sparseness_per_epoch)\n",
        "\n",
        "    return sparseness_list"
      ],
      "execution_count": null,
      "outputs": []
    },
    {
      "cell_type": "code",
      "metadata": {
        "id": "PvHGO5RSvi6I"
      },
      "source": [
        "def selectivity(hidden_layer_each_neuron):\n",
        "    __selectivity__ = list()\n",
        "    # I will now try to find the average of each class for each neuron.\n",
        "    # check out the next cell \n",
        "    avg_activations = [dict() for x in range(1024)]\n",
        "    for i, neuron in enumerate(hidden_layer_each_neuron):\n",
        "        for k, v in neuron.items():\n",
        "            # v is the list of activations for hidden layer's neuron k \n",
        "            avg_activations[i][k] = sum(v) / float(len(v))\n",
        "\n",
        "    # generate 256 lists to get only values in avg_activations\n",
        "    only_activation_vals = [list() for x in range(1024)]\n",
        "\n",
        "    # get only values from avg_activations\n",
        "    for i, avg_activation in enumerate(avg_activations):\n",
        "        for value in avg_activation.values():\n",
        "            only_activation_vals[i].append(value)\n",
        "\n",
        "\n",
        "    for activation_val in only_activation_vals:\n",
        "        # find u_max \n",
        "        u_max = np.max(activation_val)\n",
        "\n",
        "        # find u_minus_max \n",
        "        u_minus_max = (np.sum(activation_val) - u_max) / 9\n",
        "\n",
        "        # find selectivity \n",
        "        selectivity = (u_max - u_minus_max) / (u_max + u_minus_max)\n",
        "\n",
        "        # append selectivity value to selectivity\n",
        "        __selectivity__.append(selectivity)\n",
        "\n",
        "    avg_selectivity = np.average(__selectivity__)\n",
        "    std_selectivity = np.std(__selectivity__)\n",
        "                                 \n",
        "    return avg_selectivity, std_selectivity"
      ],
      "execution_count": null,
      "outputs": []
    },
    {
      "cell_type": "code",
      "metadata": {
        "id": "cTCCfUWJ3i9z"
      },
      "source": [
        "# ************* modify this section for later use *************\n",
        "def avg_std_calculator(_hidden_layer_each_neuron_12):\n",
        "\n",
        "    avg_selectivity12, std_selectivity12 = selectivity(_hidden_layer_each_neuron_12)\n",
        "\n",
        "    final_selectivity_avg = (avg_selectivity12) / 1\n",
        "    final_selecvitity_std = (std_selectivity12) / 1\n",
        "\n",
        "    return final_selectivity_avg, final_selecvitity_std\n",
        "# ************* modify this section for later use *************"
      ],
      "execution_count": null,
      "outputs": []
    },
    {
      "cell_type": "code",
      "metadata": {
        "id": "j5PUiBNqUImf"
      },
      "source": [
        "def model_factory(optimizer_name):\n",
        "    '''\n",
        "    optimizer_name : choose one of Adagrad, Adadelta, SGD, and Adam \n",
        "\n",
        "    '''\n",
        "    my_model = Model()\n",
        "    print(\"my_model:\", my_model)\n",
        "    my_model.to(device)\n",
        "\n",
        "    # ************* modify this section for later use *************\n",
        "    my_model.sigmoid12.register_forward_hook(get_activation(my_model, 's12'))\n",
        "    # ************* modify this section for later use *************\n",
        "\n",
        "    if optimizer_name == 'Adadelta':\n",
        "        my_optimizer = torch.optim.Adadelta(my_model.parameters(), lr=1.0, rho=1.0)\n",
        "\n",
        "    elif optimizer_name == 'Adagrad':\n",
        "        my_optimizer = torch.optim.Adagrad(my_model.parameters(), lr=0.1)\n",
        "\n",
        "    elif optimizer_name == 'SGD':\n",
        "        my_optimizer = torch.optim.SGD(my_model.parameters(), lr=0.1, momentum=0.9)\n",
        "\n",
        "    elif optimizer_name == 'Adam':\n",
        "        my_optimizer = torch.optim.Adam(my_model.parameters(), lr=0.001)\n",
        "\n",
        "    else:\n",
        "        print(\"ERROR\")\n",
        "    \n",
        "    print(\"my_optimizer:\", my_optimizer)\n",
        "    test_acc, sparsity, selectivity_list_avg, selectivity_list_std = selectivity_trainer(optimizer=my_optimizer, model=my_model)\n",
        "    # ************* modify this section for later use *************\n",
        "    file_saver = open(f\"sparsity_selectivity_neurons_{optimizer_name}.txt\", \"w\")\n",
        "    # ************* modify this section for later use *************\n",
        "    file_saver.write(str(test_acc)+'\\n'+str(sparsity)+'\\n'+str(selectivity_list_avg)+'\\n'+str(selectivity_list_std)+'\\n\\n')\n",
        "    file_saver.close()\n",
        "\n",
        "    # ************* modify this section for later use *************\n",
        "    if optimizer_name == 'Adadelta':\n",
        "        !cp sparsity_selectivity_neurons_Adadelta.txt /content/drive/MyDrive\n",
        "    \n",
        "    elif optimizer_name == 'Adagrad':\n",
        "        !cp sparsity_selectivity_neurons_Adagrad.txt /content/drive/MyDrive\n",
        "\n",
        "    elif optimizer_name == 'SGD':\n",
        "        !cp sparsity_selectivity_neurons_SGD.txt /content/drive/MyDrive\n",
        "\n",
        "    elif optimizer_name == 'Adam':\n",
        "        !cp sparsity_selectivity_neurons_Adam.txt /content/drive/MyDrive\n",
        "    # ************* modify this section for later use *************\n",
        "\n",
        "    else:\n",
        "        print(\"ERROR\")"
      ],
      "execution_count": null,
      "outputs": []
    },
    {
      "cell_type": "code",
      "metadata": {
        "id": "BXOpwTXEQFKY"
      },
      "source": [
        "no_epochs = 30\n",
        "def selectivity_trainer(optimizer, model):\n",
        "\n",
        "    criterion = torch.nn.CrossEntropyLoss()\n",
        "    train_loss = list()\n",
        "    test_loss  = list()\n",
        "    test_acc   = list()\n",
        "\n",
        "    best_test_loss = 1\n",
        "\n",
        "    selectivity_avg_list = list()\n",
        "    selectivity_std_list = list()\n",
        "\n",
        "    # ************* modify this section for later use *************\n",
        "    final_spareness_12 = list()\n",
        "    # ************* modify this section for later use *************\n",
        "\n",
        "    for epoch in range(no_epochs):\n",
        "\n",
        "        # ************* modify this section for later use *************\n",
        "        hidden_layer_each_neuron_12 = [{0:[], 1:[], 2:[], 3:[], 4:[], 5:[], 6:[], 7:[], 8:[], 9:[]} for x in range(1024)]\n",
        "        hidden_layer_each_neuron_12 = np.array(hidden_layer_each_neuron_12)\n",
        "        # ************* modify this section for later use *************\n",
        "\n",
        "        # ************* modify this section for later use *************\n",
        "        hidden_layer_activation_list_12 = list()\n",
        "        # ************* modify this section for later use *************\n",
        "\n",
        "\n",
        "        total_train_loss = 0\n",
        "        total_test_loss = 0\n",
        "\n",
        "        # training\n",
        "        # set up training mode \n",
        "        model.train()\n",
        "\n",
        "        for itr, (images, labels) in enumerate(train_dataloader):\n",
        "            images, labels = images.to(device), labels.to(device)\n",
        "\n",
        "            optimizer.zero_grad()\n",
        "\n",
        "            pred = model(images)\n",
        "\n",
        "            loss = criterion(pred, labels)\n",
        "            total_train_loss += loss.item()\n",
        "\n",
        "            loss.backward()\n",
        "            optimizer.step()\n",
        "\n",
        "        total_train_loss = total_train_loss / (itr + 1)\n",
        "        train_loss.append(total_train_loss)\n",
        "\n",
        "        # testing \n",
        "        # change to evaluation mode \n",
        "        model.eval()\n",
        "        total = 0\n",
        "        for itr, (images, labels) in enumerate(test_dataloader):\n",
        "            images, labels = images.to(device), labels.to(device)\n",
        "\n",
        "            pred = model(images)\n",
        "\n",
        "            loss = criterion(pred, labels)\n",
        "            total_test_loss += loss.item()\n",
        "\n",
        "            # we now need softmax because we are testing.\n",
        "            pred = torch.nn.functional.softmax(pred, dim=1)\n",
        "            for i, p in enumerate(pred):\n",
        "                if labels[i] == torch.max(p.data, 0)[1]:\n",
        "                    total = total + 1\n",
        "\n",
        "            # ***************** sparsity calculation ***************** #\n",
        "            hidden_layer_activation_list_12.append(model.layer_activations['s12'])\n",
        "\n",
        "            # ************* modify this section for later use *************\n",
        "            for activation, label in zip(model.layer_activations['s12'], labels):\n",
        "                label = label.item()\n",
        "                with torch.no_grad():\n",
        "                    activation = activation.numpy()\n",
        "                for i in range(1024):    \n",
        "                    hidden_layer_each_neuron_12[i][label].append(activation[i])\n",
        "    \n",
        "        selectivity_avg, selecvitity_std = avg_std_calculator(hidden_layer_each_neuron_12)\n",
        "        # ************* modify this section for later use *************\n",
        "        \n",
        "        \n",
        "        selectivity_avg_list.append(selectivity_avg)\n",
        "        selectivity_std_list.append(selecvitity_std)\n",
        "\n",
        "        # this conains activations for all epochs \n",
        "        final_spareness_12.append(hidden_layer_activation_list_12)\n",
        "        # ***************** sparsity calculation ***************** #\n",
        "\n",
        "        # caculate accuracy \n",
        "        accuracy = total / len(mnist_testset)\n",
        "\n",
        "        # append accuracy here\n",
        "        test_acc.append(accuracy)\n",
        "\n",
        "        # append test loss here \n",
        "        total_test_loss = total_test_loss / (itr + 1)\n",
        "        test_loss.append(total_test_loss)\n",
        "\n",
        "        print('\\nEpoch: {}/{}, Train Loss: {:.8f}, Test Loss: {:.8f}, Test Accuracy: {:.8f}'.format(epoch + 1, no_epochs, total_train_loss, total_test_loss, accuracy))\n",
        "\n",
        "    # ***************** sparsity calculation ***************** #\n",
        "    sparsity_list12 = sparsity_calculator(final_spareness_12)\n",
        "\n",
        "    print(sparsity_list12)\n",
        "\n",
        "    average_sparsity = list()\n",
        "    for i in range(no_epochs):\n",
        "        average_sparsity.append( (sparsity_list12[i].item()) / 1 )\n",
        "    # ***************** sparsity calculation ***************** #\n",
        "\n",
        "    return test_acc, average_sparsity, selectivity_avg_list, selectivity_std_list"
      ],
      "execution_count": null,
      "outputs": []
    },
    {
      "cell_type": "markdown",
      "metadata": {
        "id": "ILIJTJb2UdfI"
      },
      "source": [
        "# Adagrad"
      ]
    },
    {
      "cell_type": "code",
      "metadata": {
        "id": "5UH0qDnFUfaD",
        "colab": {
          "base_uri": "https://localhost:8080/"
        },
        "outputId": "f874bd44-2f2e-4a70-c56e-fa854444de56"
      },
      "source": [
        "model_factory('Adagrad')"
      ],
      "execution_count": null,
      "outputs": [
        {
          "output_type": "stream",
          "text": [
            "my_model: Model(\n",
            "  (linear_1): Linear(in_features=784, out_features=1024, bias=True)\n",
            "  (linear_2): Linear(in_features=1024, out_features=10, bias=True)\n",
            "  (sigmoid12): Sigmoid()\n",
            ")\n",
            "my_optimizer: Adagrad (\n",
            "Parameter Group 0\n",
            "    eps: 1e-10\n",
            "    initial_accumulator_value: 0\n",
            "    lr: 0.1\n",
            "    lr_decay: 0\n",
            "    weight_decay: 0\n",
            ")\n",
            "\n",
            "Epoch: 1/30, Train Loss: 0.30209276, Test Loss: 0.12005047, Test Accuracy: 0.96180000\n",
            "\n",
            "Epoch: 2/30, Train Loss: 0.09620800, Test Loss: 0.09830684, Test Accuracy: 0.97000000\n",
            "\n",
            "Epoch: 3/30, Train Loss: 0.06660799, Test Loss: 0.08366660, Test Accuracy: 0.97330000\n",
            "\n",
            "Epoch: 4/30, Train Loss: 0.05040294, Test Loss: 0.07822872, Test Accuracy: 0.97490000\n",
            "\n",
            "Epoch: 5/30, Train Loss: 0.03938959, Test Loss: 0.07335831, Test Accuracy: 0.97710000\n",
            "\n",
            "Epoch: 6/30, Train Loss: 0.03138615, Test Loss: 0.07004075, Test Accuracy: 0.97780000\n",
            "\n",
            "Epoch: 7/30, Train Loss: 0.02527706, Test Loss: 0.06774507, Test Accuracy: 0.97880000\n",
            "\n",
            "Epoch: 8/30, Train Loss: 0.02077802, Test Loss: 0.06774782, Test Accuracy: 0.97820000\n",
            "\n",
            "Epoch: 9/30, Train Loss: 0.01728803, Test Loss: 0.06626715, Test Accuracy: 0.97940000\n",
            "\n",
            "Epoch: 10/30, Train Loss: 0.01443293, Test Loss: 0.06577080, Test Accuracy: 0.97930000\n",
            "\n",
            "Epoch: 11/30, Train Loss: 0.01215283, Test Loss: 0.06655470, Test Accuracy: 0.97940000\n",
            "\n",
            "Epoch: 12/30, Train Loss: 0.01040366, Test Loss: 0.06636456, Test Accuracy: 0.97920000\n",
            "\n",
            "Epoch: 13/30, Train Loss: 0.00894011, Test Loss: 0.06590954, Test Accuracy: 0.98010000\n",
            "\n",
            "Epoch: 14/30, Train Loss: 0.00768725, Test Loss: 0.06552637, Test Accuracy: 0.98070000\n",
            "\n",
            "Epoch: 15/30, Train Loss: 0.00675403, Test Loss: 0.06688603, Test Accuracy: 0.97980000\n",
            "\n",
            "Epoch: 16/30, Train Loss: 0.00594498, Test Loss: 0.06655730, Test Accuracy: 0.97990000\n",
            "\n",
            "Epoch: 17/30, Train Loss: 0.00531445, Test Loss: 0.06688443, Test Accuracy: 0.97990000\n",
            "\n",
            "Epoch: 18/30, Train Loss: 0.00477747, Test Loss: 0.06689156, Test Accuracy: 0.98030000\n",
            "\n",
            "Epoch: 19/30, Train Loss: 0.00432204, Test Loss: 0.06707365, Test Accuracy: 0.98100000\n",
            "\n",
            "Epoch: 20/30, Train Loss: 0.00391827, Test Loss: 0.06664167, Test Accuracy: 0.98050000\n",
            "\n",
            "Epoch: 21/30, Train Loss: 0.00356738, Test Loss: 0.06726038, Test Accuracy: 0.98080000\n",
            "\n",
            "Epoch: 22/30, Train Loss: 0.00328057, Test Loss: 0.06782821, Test Accuracy: 0.98090000\n",
            "\n",
            "Epoch: 23/30, Train Loss: 0.00302713, Test Loss: 0.06781665, Test Accuracy: 0.98090000\n",
            "\n",
            "Epoch: 24/30, Train Loss: 0.00281565, Test Loss: 0.06766816, Test Accuracy: 0.98090000\n",
            "\n",
            "Epoch: 25/30, Train Loss: 0.00261279, Test Loss: 0.06811350, Test Accuracy: 0.98060000\n",
            "\n",
            "Epoch: 26/30, Train Loss: 0.00243699, Test Loss: 0.06853586, Test Accuracy: 0.98090000\n",
            "\n",
            "Epoch: 27/30, Train Loss: 0.00227725, Test Loss: 0.06868392, Test Accuracy: 0.98090000\n",
            "\n",
            "Epoch: 28/30, Train Loss: 0.00214732, Test Loss: 0.06864254, Test Accuracy: 0.98030000\n",
            "\n",
            "Epoch: 29/30, Train Loss: 0.00202286, Test Loss: 0.06870065, Test Accuracy: 0.98100000\n",
            "\n",
            "Epoch: 30/30, Train Loss: 0.00190145, Test Loss: 0.06928486, Test Accuracy: 0.98080000\n",
            "[tensor(0.8458, grad_fn=<MeanBackward0>), tensor(0.8384, grad_fn=<MeanBackward0>), tensor(0.8362, grad_fn=<MeanBackward0>), tensor(0.8331, grad_fn=<MeanBackward0>), tensor(0.8271, grad_fn=<MeanBackward0>), tensor(0.8272, grad_fn=<MeanBackward0>), tensor(0.8227, grad_fn=<MeanBackward0>), tensor(0.8209, grad_fn=<MeanBackward0>), tensor(0.8198, grad_fn=<MeanBackward0>), tensor(0.8173, grad_fn=<MeanBackward0>), tensor(0.8145, grad_fn=<MeanBackward0>), tensor(0.8140, grad_fn=<MeanBackward0>), tensor(0.8131, grad_fn=<MeanBackward0>), tensor(0.8116, grad_fn=<MeanBackward0>), tensor(0.8103, grad_fn=<MeanBackward0>), tensor(0.8094, grad_fn=<MeanBackward0>), tensor(0.8084, grad_fn=<MeanBackward0>), tensor(0.8081, grad_fn=<MeanBackward0>), tensor(0.8077, grad_fn=<MeanBackward0>), tensor(0.8064, grad_fn=<MeanBackward0>), tensor(0.8059, grad_fn=<MeanBackward0>), tensor(0.8051, grad_fn=<MeanBackward0>), tensor(0.8051, grad_fn=<MeanBackward0>), tensor(0.8039, grad_fn=<MeanBackward0>), tensor(0.8034, grad_fn=<MeanBackward0>), tensor(0.8034, grad_fn=<MeanBackward0>), tensor(0.8032, grad_fn=<MeanBackward0>), tensor(0.8026, grad_fn=<MeanBackward0>), tensor(0.8020, grad_fn=<MeanBackward0>), tensor(0.8013, grad_fn=<MeanBackward0>)]\n"
          ],
          "name": "stdout"
        }
      ]
    },
    {
      "cell_type": "markdown",
      "metadata": {
        "id": "hmLJ4Zr2MnoS"
      },
      "source": [
        "# Adam\n"
      ]
    },
    {
      "cell_type": "code",
      "metadata": {
        "id": "6ObsEJHuMoPy",
        "colab": {
          "base_uri": "https://localhost:8080/"
        },
        "outputId": "9344442e-e10a-4425-ecc0-209cbfef4c47"
      },
      "source": [
        "model_factory('Adam')"
      ],
      "execution_count": null,
      "outputs": [
        {
          "output_type": "stream",
          "text": [
            "my_model: Model(\n",
            "  (linear_1): Linear(in_features=784, out_features=1024, bias=True)\n",
            "  (linear_2): Linear(in_features=1024, out_features=10, bias=True)\n",
            "  (sigmoid12): Sigmoid()\n",
            ")\n",
            "my_optimizer: Adam (\n",
            "Parameter Group 0\n",
            "    amsgrad: False\n",
            "    betas: (0.9, 0.999)\n",
            "    eps: 1e-08\n",
            "    lr: 0.001\n",
            "    weight_decay: 0\n",
            ")\n",
            "\n",
            "Epoch: 1/30, Train Loss: 0.36859042, Test Loss: 0.23127857, Test Accuracy: 0.93180000\n",
            "\n",
            "Epoch: 2/30, Train Loss: 0.17687803, Test Loss: 0.14001130, Test Accuracy: 0.95880000\n",
            "\n",
            "Epoch: 3/30, Train Loss: 0.11739473, Test Loss: 0.11406391, Test Accuracy: 0.96680000\n",
            "\n",
            "Epoch: 4/30, Train Loss: 0.08388055, Test Loss: 0.08918493, Test Accuracy: 0.97280000\n",
            "\n",
            "Epoch: 5/30, Train Loss: 0.06145210, Test Loss: 0.07653588, Test Accuracy: 0.97760000\n",
            "\n",
            "Epoch: 6/30, Train Loss: 0.04589858, Test Loss: 0.08804968, Test Accuracy: 0.97390000\n",
            "\n",
            "Epoch: 7/30, Train Loss: 0.03430161, Test Loss: 0.07057027, Test Accuracy: 0.97890000\n",
            "\n",
            "Epoch: 8/30, Train Loss: 0.02568986, Test Loss: 0.06535546, Test Accuracy: 0.98040000\n",
            "\n",
            "Epoch: 9/30, Train Loss: 0.01965954, Test Loss: 0.06426526, Test Accuracy: 0.98140000\n",
            "\n",
            "Epoch: 10/30, Train Loss: 0.01438439, Test Loss: 0.06774832, Test Accuracy: 0.98130000\n",
            "\n",
            "Epoch: 11/30, Train Loss: 0.01114819, Test Loss: 0.06444367, Test Accuracy: 0.98160000\n",
            "\n",
            "Epoch: 12/30, Train Loss: 0.00907347, Test Loss: 0.07798937, Test Accuracy: 0.97800000\n",
            "\n",
            "Epoch: 13/30, Train Loss: 0.00646032, Test Loss: 0.07243313, Test Accuracy: 0.98030000\n",
            "\n",
            "Epoch: 14/30, Train Loss: 0.00518398, Test Loss: 0.07422410, Test Accuracy: 0.98100000\n",
            "\n",
            "Epoch: 15/30, Train Loss: 0.00508982, Test Loss: 0.07007135, Test Accuracy: 0.98150000\n",
            "\n",
            "Epoch: 16/30, Train Loss: 0.00403426, Test Loss: 0.07793059, Test Accuracy: 0.98280000\n",
            "\n",
            "Epoch: 17/30, Train Loss: 0.00298326, Test Loss: 0.07206275, Test Accuracy: 0.98270000\n",
            "\n",
            "Epoch: 18/30, Train Loss: 0.00269327, Test Loss: 0.07099009, Test Accuracy: 0.98120000\n",
            "\n",
            "Epoch: 19/30, Train Loss: 0.00163464, Test Loss: 0.07144726, Test Accuracy: 0.98350000\n",
            "\n",
            "Epoch: 20/30, Train Loss: 0.00044800, Test Loss: 0.07255803, Test Accuracy: 0.98280000\n",
            "\n",
            "Epoch: 21/30, Train Loss: 0.00507994, Test Loss: 0.08061464, Test Accuracy: 0.98120000\n",
            "\n",
            "Epoch: 22/30, Train Loss: 0.00130515, Test Loss: 0.07336038, Test Accuracy: 0.98300000\n",
            "\n",
            "Epoch: 23/30, Train Loss: 0.00173759, Test Loss: 0.07910276, Test Accuracy: 0.98240000\n",
            "\n",
            "Epoch: 24/30, Train Loss: 0.00065888, Test Loss: 0.07176657, Test Accuracy: 0.98420000\n",
            "\n",
            "Epoch: 25/30, Train Loss: 0.00388111, Test Loss: 0.09020740, Test Accuracy: 0.98020000\n",
            "\n",
            "Epoch: 26/30, Train Loss: 0.00038485, Test Loss: 0.07502142, Test Accuracy: 0.98330000\n",
            "\n",
            "Epoch: 27/30, Train Loss: 0.00011794, Test Loss: 0.07361967, Test Accuracy: 0.98380000\n",
            "\n",
            "Epoch: 28/30, Train Loss: 0.00151610, Test Loss: 0.14026326, Test Accuracy: 0.97510000\n",
            "\n",
            "Epoch: 29/30, Train Loss: 0.00330458, Test Loss: 0.08199008, Test Accuracy: 0.98340000\n",
            "\n",
            "Epoch: 30/30, Train Loss: 0.00013820, Test Loss: 0.07939602, Test Accuracy: 0.98400000\n",
            "[tensor(0.2151, grad_fn=<MeanBackward0>), tensor(0.2740, grad_fn=<MeanBackward0>), tensor(0.3064, grad_fn=<MeanBackward0>), tensor(0.3342, grad_fn=<MeanBackward0>), tensor(0.3521, grad_fn=<MeanBackward0>), tensor(0.3576, grad_fn=<MeanBackward0>), tensor(0.3653, grad_fn=<MeanBackward0>), tensor(0.3740, grad_fn=<MeanBackward0>), tensor(0.3819, grad_fn=<MeanBackward0>), tensor(0.3841, grad_fn=<MeanBackward0>), tensor(0.3893, grad_fn=<MeanBackward0>), tensor(0.3907, grad_fn=<MeanBackward0>), tensor(0.3953, grad_fn=<MeanBackward0>), tensor(0.3941, grad_fn=<MeanBackward0>), tensor(0.4038, grad_fn=<MeanBackward0>), tensor(0.4139, grad_fn=<MeanBackward0>), tensor(0.4099, grad_fn=<MeanBackward0>), tensor(0.4135, grad_fn=<MeanBackward0>), tensor(0.4082, grad_fn=<MeanBackward0>), tensor(0.4003, grad_fn=<MeanBackward0>), tensor(0.4317, grad_fn=<MeanBackward0>), tensor(0.4200, grad_fn=<MeanBackward0>), tensor(0.4213, grad_fn=<MeanBackward0>), tensor(0.4170, grad_fn=<MeanBackward0>), tensor(0.4345, grad_fn=<MeanBackward0>), tensor(0.4284, grad_fn=<MeanBackward0>), tensor(0.4218, grad_fn=<MeanBackward0>), tensor(0.4342, grad_fn=<MeanBackward0>), tensor(0.4385, grad_fn=<MeanBackward0>), tensor(0.4344, grad_fn=<MeanBackward0>)]\n"
          ],
          "name": "stdout"
        }
      ]
    }
  ]
}