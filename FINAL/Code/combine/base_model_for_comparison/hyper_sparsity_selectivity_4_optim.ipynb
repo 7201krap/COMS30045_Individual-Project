{
  "nbformat": 4,
  "nbformat_minor": 0,
  "metadata": {
    "colab": {
      "name": "hyper_sparsity_selectivity_4_optim.ipynb",
      "provenance": [],
      "collapsed_sections": [],
      "machine_shape": "hm",
      "include_colab_link": true
    },
    "kernelspec": {
      "display_name": "Python 3",
      "language": "python",
      "name": "python3"
    },
    "language_info": {
      "codemirror_mode": {
        "name": "ipython",
        "version": 3
      },
      "file_extension": ".py",
      "mimetype": "text/x-python",
      "name": "python",
      "nbconvert_exporter": "python",
      "pygments_lexer": "ipython3",
      "version": "3.8.5"
    }
  },
  "cells": [
    {
      "cell_type": "markdown",
      "metadata": {
        "id": "view-in-github",
        "colab_type": "text"
      },
      "source": [
        "<a href=\"https://colab.research.google.com/github/7201krap/PYTORCH_project/blob/main/hyper_sparsity_selectivity_4_optim.ipynb\" target=\"_parent\"><img src=\"https://colab.research.google.com/assets/colab-badge.svg\" alt=\"Open In Colab\"/></a>"
      ]
    },
    {
      "cell_type": "code",
      "metadata": {
        "id": "o7STrWa0P3z_",
        "colab": {
          "base_uri": "https://localhost:8080/"
        },
        "outputId": "ba0901c3-b6f0-4a69-c26a-0e8b3878357f"
      },
      "source": [
        "import torch\n",
        "import torchvision\n",
        "import torchvision.transforms as transforms\n",
        "import matplotlib.pyplot as plt\n",
        "import numpy as np\n",
        "from torch.utils.data import DataLoader, TensorDataset\n",
        "from google.colab import drive\n",
        "drive.mount('/content/drive')"
      ],
      "execution_count": null,
      "outputs": [
        {
          "output_type": "stream",
          "text": [
            "Mounted at /content/drive\n"
          ],
          "name": "stdout"
        }
      ]
    },
    {
      "cell_type": "code",
      "metadata": {
        "colab": {
          "base_uri": "https://localhost:8080/"
        },
        "id": "d4Qqt0Gs18Xm",
        "outputId": "abee8f35-268f-4dfe-9397-e93dbddfc0c7"
      },
      "source": [
        "!wget www.di.ens.fr/~lelarge/MNIST.tar.gz\n",
        "!tar -zxvf MNIST.tar.gz\n",
        "\n",
        "root_dir = './'\n",
        "torchvision.datasets.MNIST(root=root_dir,download=True)"
      ],
      "execution_count": null,
      "outputs": [
        {
          "output_type": "stream",
          "text": [
            "--2021-03-16 11:46:07--  http://www.di.ens.fr/~lelarge/MNIST.tar.gz\n",
            "Resolving www.di.ens.fr (www.di.ens.fr)... 129.199.99.14\n",
            "Connecting to www.di.ens.fr (www.di.ens.fr)|129.199.99.14|:80... connected.\n",
            "HTTP request sent, awaiting response... 302 Found\n",
            "Location: https://www.di.ens.fr/~lelarge/MNIST.tar.gz [following]\n",
            "--2021-03-16 11:46:07--  https://www.di.ens.fr/~lelarge/MNIST.tar.gz\n",
            "Connecting to www.di.ens.fr (www.di.ens.fr)|129.199.99.14|:443... connected.\n",
            "HTTP request sent, awaiting response... 200 OK\n",
            "Length: unspecified [application/x-gzip]\n",
            "Saving to: ‘MNIST.tar.gz’\n",
            "\n",
            "MNIST.tar.gz            [          <=>       ]  33.20M  15.7MB/s    in 2.1s    \n",
            "\n",
            "2021-03-16 11:46:10 (15.7 MB/s) - ‘MNIST.tar.gz’ saved [34813078]\n",
            "\n",
            "MNIST/\n",
            "MNIST/raw/\n",
            "MNIST/raw/train-labels-idx1-ubyte\n",
            "MNIST/raw/t10k-labels-idx1-ubyte.gz\n",
            "MNIST/raw/t10k-labels-idx1-ubyte\n",
            "MNIST/raw/t10k-images-idx3-ubyte.gz\n",
            "MNIST/raw/train-images-idx3-ubyte\n",
            "MNIST/raw/train-labels-idx1-ubyte.gz\n",
            "MNIST/raw/t10k-images-idx3-ubyte\n",
            "MNIST/raw/train-images-idx3-ubyte.gz\n",
            "MNIST/processed/\n",
            "MNIST/processed/training.pt\n",
            "MNIST/processed/test.pt\n"
          ],
          "name": "stdout"
        },
        {
          "output_type": "execute_result",
          "data": {
            "text/plain": [
              "Dataset MNIST\n",
              "    Number of datapoints: 60000\n",
              "    Root location: ./\n",
              "    Split: Train"
            ]
          },
          "metadata": {
            "tags": []
          },
          "execution_count": 2
        }
      ]
    },
    {
      "cell_type": "code",
      "metadata": {
        "id": "z4j9WoP-UnAm"
      },
      "source": [
        "device = torch.device('cuda' if torch.cuda.is_available() else 'cpu')"
      ],
      "execution_count": null,
      "outputs": []
    },
    {
      "cell_type": "code",
      "metadata": {
        "id": "ApOU7hvb95W4"
      },
      "source": [
        "torch.manual_seed(1234)\n",
        "np.random.seed(1234)"
      ],
      "execution_count": null,
      "outputs": []
    },
    {
      "cell_type": "code",
      "metadata": {
        "id": "rTW5TOUnP5XY"
      },
      "source": [
        "mnist_trainset = torchvision.datasets.MNIST(root=root_dir, train=True, \n",
        "                                download=True, \n",
        "                                transform=transforms.Compose([transforms.ToTensor()]))\n",
        "\n",
        "mnist_testset  = torchvision.datasets.MNIST(root=root_dir, \n",
        "                                train=False, \n",
        "                                download=True, \n",
        "                                transform=transforms.Compose([transforms.ToTensor()]))\n",
        "\n",
        "train_dataloader = torch.utils.data.DataLoader(mnist_trainset, \n",
        "                                               batch_size=50, \n",
        "                                               shuffle=True)\n",
        "\n",
        "test_dataloader  = torch.utils.data.DataLoader(mnist_testset, \n",
        "                                               batch_size=50, \n",
        "                                               shuffle=False)"
      ],
      "execution_count": null,
      "outputs": []
    },
    {
      "cell_type": "code",
      "metadata": {
        "id": "IXTkEUJ5P6kU"
      },
      "source": [
        "# ************* modify this section for later use *************\n",
        "# Define the model \n",
        "class Model(torch.nn.Module):\n",
        "    def __init__(self):\n",
        "        super(Model, self).__init__()\n",
        "        # modify this section for later use \n",
        "        self.linear_1 = torch.nn.Linear(784, 256)\n",
        "        self.linear_2 = torch.nn.Linear(256, 10)\n",
        "        self.sigmoid12  = torch.nn.Sigmoid()\n",
        "\n",
        "        self.layer_activations = dict()\n",
        "\n",
        "    def forward(self, x):\n",
        "\n",
        "        # modify this section for later use \n",
        "        x = x.reshape(x.size(0), -1)\n",
        "        x = self.linear_1(x)\n",
        "        x = self.sigmoid12(x)\n",
        "        pred = self.linear_2(x)\n",
        "        return pred\n",
        "# ************* modify this section for later use *************"
      ],
      "execution_count": null,
      "outputs": []
    },
    {
      "cell_type": "code",
      "metadata": {
        "id": "BfgvKH6eP9Ou"
      },
      "source": [
        "def get_activation(model, layer_name):    \n",
        "    def hook(module, input, output):\n",
        "        model.layer_activations[layer_name] = output\n",
        "    return hook"
      ],
      "execution_count": null,
      "outputs": []
    },
    {
      "cell_type": "code",
      "metadata": {
        "id": "EfMSHAoj2N7k"
      },
      "source": [
        "def sparsity_calculator(final_spareness):\n",
        "    sparseness_list = list()\n",
        "    for single_epoch_spareness in final_spareness:\n",
        "\n",
        "        hidden_layer_activation_list = single_epoch_spareness\n",
        "        hidden_layer_activation_list = torch.stack(hidden_layer_activation_list)\n",
        "        layer_activations_list = torch.reshape(hidden_layer_activation_list, (10000, 256))\n",
        "\n",
        "        layer_activations_list = torch.abs(layer_activations_list)  # modified \n",
        "        num_neurons = layer_activations_list.shape[1]\n",
        "        population_sparseness = (np.sqrt(num_neurons) - (torch.sum(layer_activations_list, dim=1) / torch.sqrt(torch.sum(layer_activations_list ** 2, dim=1)))) / (np.sqrt(num_neurons) - 1)\n",
        "        mean_sparseness_per_epoch = torch.mean(population_sparseness)\n",
        "\n",
        "        sparseness_list.append(mean_sparseness_per_epoch)\n",
        "\n",
        "    return sparseness_list"
      ],
      "execution_count": null,
      "outputs": []
    },
    {
      "cell_type": "code",
      "metadata": {
        "id": "PvHGO5RSvi6I"
      },
      "source": [
        "def selectivity(hidden_layer_each_neuron):\n",
        "    __selectivity__ = list()\n",
        "    # I will now try to find the average of each class for each neuron.\n",
        "    # check out the next cell \n",
        "    avg_activations = [dict() for x in range(256)]\n",
        "    for i, neuron in enumerate(hidden_layer_each_neuron):\n",
        "        for k, v in neuron.items():\n",
        "            # v is the list of activations for hidden layer's neuron k \n",
        "            avg_activations[i][k] = sum(v) / float(len(v))\n",
        "\n",
        "    # generate 256 lists to get only values in avg_activations\n",
        "    only_activation_vals = [list() for x in range(256)]\n",
        "\n",
        "    # get only values from avg_activations\n",
        "    for i, avg_activation in enumerate(avg_activations):\n",
        "        for value in avg_activation.values():\n",
        "            only_activation_vals[i].append(value)\n",
        "\n",
        "\n",
        "    for activation_val in only_activation_vals:\n",
        "        # find u_max \n",
        "        u_max = np.max(activation_val)\n",
        "\n",
        "        # find u_minus_max \n",
        "        u_minus_max = (np.sum(activation_val) - u_max) / 9\n",
        "\n",
        "        # find selectivity \n",
        "        selectivity = (u_max - u_minus_max) / (u_max + u_minus_max)\n",
        "\n",
        "        # append selectivity value to selectivity\n",
        "        __selectivity__.append(selectivity)\n",
        "\n",
        "    avg_selectivity = np.average(__selectivity__)\n",
        "    std_selectivity = np.std(__selectivity__)\n",
        "                                 \n",
        "    return avg_selectivity, std_selectivity"
      ],
      "execution_count": null,
      "outputs": []
    },
    {
      "cell_type": "code",
      "metadata": {
        "id": "wq9QJTaZ2Pq5"
      },
      "source": [
        "# ************* modify this section for later use *************\n",
        "def avg_std_calculator(_hidden_layer_each_neuron_12):\n",
        "\n",
        "    avg_selectivity12, std_selectivity12 = selectivity(_hidden_layer_each_neuron_12)\n",
        "\n",
        "    final_selectivity_avg = (avg_selectivity12) / 1\n",
        "    final_selecvitity_std = (std_selectivity12) / 1\n",
        "\n",
        "    return final_selectivity_avg, final_selecvitity_std\n",
        "# ************* modify this section for later use *************"
      ],
      "execution_count": null,
      "outputs": []
    },
    {
      "cell_type": "code",
      "metadata": {
        "id": "j5PUiBNqUImf"
      },
      "source": [
        "def model_factory(optimizer_name):\n",
        "    '''\n",
        "    optimizer_name : choose one of Adagrad, Adadelta, SGD, and Adam \n",
        "\n",
        "    '''\n",
        "    my_model = Model()\n",
        "    print(\"my_model:\", my_model)\n",
        "    my_model.to(device)\n",
        "\n",
        "    # ************* modify this section for later use *************\n",
        "    my_model.sigmoid12.register_forward_hook(get_activation(my_model, 's12'))\n",
        "    # ************* modify this section for later use *************\n",
        "\n",
        "    if optimizer_name == 'Adadelta':\n",
        "        my_optimizer = torch.optim.Adadelta(my_model.parameters(), lr=1.0, rho=1.0)\n",
        "\n",
        "    elif optimizer_name == 'Adagrad':\n",
        "        my_optimizer = torch.optim.Adagrad(my_model.parameters(), lr=0.1)\n",
        "\n",
        "    elif optimizer_name == 'SGD':\n",
        "        my_optimizer = torch.optim.SGD(my_model.parameters(), lr=0.1, momentum=0.9)\n",
        "\n",
        "    elif optimizer_name == 'Adam':\n",
        "        my_optimizer = torch.optim.Adam(my_model.parameters(), lr=0.001)\n",
        "\n",
        "    else:\n",
        "        print(\"ERROR\")\n",
        "    \n",
        "    print(\"my_optimizer:\", my_optimizer)\n",
        "    test_acc, sparsity, selectivity_list_avg, selectivity_list_std = selectivity_trainer(optimizer=my_optimizer, model=my_model)\n",
        "    # ************* modify this section for later use *************\n",
        "    file_saver = open(f\"sparsity_selectivity_hyper_{optimizer_name}.txt\", \"w\")\n",
        "    # ************* modify this section for later use *************\n",
        "    file_saver.write(str(test_acc)+'\\n'+str(sparsity)+'\\n'+str(selectivity_list_avg)+'\\n'+str(selectivity_list_std)+'\\n\\n')\n",
        "    file_saver.close()\n",
        "\n",
        "    # ************* modify this section for later use *************\n",
        "    if optimizer_name == 'Adadelta':\n",
        "        !cp sparsity_selectivity_hyper_Adadelta.txt /content/drive/MyDrive\n",
        "    \n",
        "    elif optimizer_name == 'Adagrad':\n",
        "        !cp sparsity_selectivity_hyper_Adagrad.txt /content/drive/MyDrive\n",
        "\n",
        "    elif optimizer_name == 'SGD':\n",
        "        !cp sparsity_selectivity_hyper_SGD.txt /content/drive/MyDrive\n",
        "\n",
        "    elif optimizer_name == 'Adam':\n",
        "        !cp sparsity_selectivity_hyper_Adam.txt /content/drive/MyDrive\n",
        "    # ************* modify this section for later use *************\n",
        "\n",
        "    else:\n",
        "        print(\"ERROR\")"
      ],
      "execution_count": null,
      "outputs": []
    },
    {
      "cell_type": "code",
      "metadata": {
        "id": "BXOpwTXEQFKY"
      },
      "source": [
        "no_epochs = 30\n",
        "def selectivity_trainer(optimizer, model):\n",
        "\n",
        "    criterion = torch.nn.CrossEntropyLoss()\n",
        "    train_loss = list()\n",
        "    test_loss  = list()\n",
        "    test_acc   = list()\n",
        "\n",
        "    # ************* modify this section for later use *************\n",
        "    final_spareness_12 = list()\n",
        "    # ************* modify this section for later use *************\n",
        "\n",
        "    best_test_loss = 1\n",
        "\n",
        "    selectivity_avg_list = list()\n",
        "    selectivity_std_list = list()\n",
        "\n",
        "    for epoch in range(no_epochs):\n",
        "\n",
        "        # ************* modify this section for later use *************\n",
        "        hidden_layer_each_neuron_12 = [{0:[], 1:[], 2:[], 3:[], 4:[], 5:[], 6:[], 7:[], 8:[], 9:[]} for x in range(256)]\n",
        "        hidden_layer_each_neuron_12 = np.array(hidden_layer_each_neuron_12)\n",
        "        # ************* modify this section for later use *************\n",
        "\n",
        "        # ************* modify this section for later use *************\n",
        "        hidden_layer_activation_list_12 = list()\n",
        "        # ************* modify this section for later use *************\n",
        "\n",
        "\n",
        "        total_train_loss = 0\n",
        "        total_test_loss = 0\n",
        "\n",
        "        # training\n",
        "        # set up training mode \n",
        "        model.train()\n",
        "\n",
        "        for itr, (images, labels) in enumerate(train_dataloader):\n",
        "            images, labels = images.to(device), labels.to(device)\n",
        "\n",
        "            optimizer.zero_grad()\n",
        "\n",
        "            pred = model(images)\n",
        "\n",
        "            loss = criterion(pred, labels)\n",
        "            total_train_loss += loss.item()\n",
        "\n",
        "            loss.backward()\n",
        "            optimizer.step()\n",
        "\n",
        "        total_train_loss = total_train_loss / (itr + 1)\n",
        "        train_loss.append(total_train_loss)\n",
        "\n",
        "        # testing \n",
        "        # change to evaluation mode \n",
        "        model.eval()\n",
        "        total = 0\n",
        "        for itr, (images, labels) in enumerate(test_dataloader):\n",
        "            images, labels = images.to(device), labels.to(device)\n",
        "\n",
        "            pred = model(images)\n",
        "\n",
        "            loss = criterion(pred, labels)\n",
        "            total_test_loss += loss.item()\n",
        "\n",
        "            # we now need softmax because we are testing.\n",
        "            pred = torch.nn.functional.softmax(pred, dim=1)\n",
        "            for i, p in enumerate(pred):\n",
        "                if labels[i] == torch.max(p.data, 0)[1]:\n",
        "                    total = total + 1\n",
        "\n",
        "            # ***************** sparsity calculation ***************** #\n",
        "            hidden_layer_activation_list_12.append(model.layer_activations['s12'])\n",
        "\n",
        "            # ************* modify this section for later use *************\n",
        "            for activation, label in zip(model.layer_activations['s12'], labels):\n",
        "                label = label.item()\n",
        "                with torch.no_grad():\n",
        "                    activation = activation.numpy()\n",
        "                for i in range(256):    \n",
        "                    hidden_layer_each_neuron_12[i][label].append(activation[i])\n",
        "    \n",
        "        selectivity_avg, selecvitity_std = avg_std_calculator(hidden_layer_each_neuron_12)\n",
        "        # ************* modify this section for later use *************\n",
        "\n",
        "        # this conains activations for all epochs \n",
        "        final_spareness_12.append(hidden_layer_activation_list_12)\n",
        "        # ***************** sparsity calculation ***************** #\n",
        "        \n",
        "        selectivity_avg_list.append(selectivity_avg)\n",
        "        selectivity_std_list.append(selecvitity_std)\n",
        "\n",
        "        # caculate accuracy \n",
        "        accuracy = total / len(mnist_testset)\n",
        "\n",
        "        # append accuracy here\n",
        "        test_acc.append(accuracy)\n",
        "\n",
        "        # append test loss here \n",
        "        total_test_loss = total_test_loss / (itr + 1)\n",
        "        test_loss.append(total_test_loss)\n",
        "\n",
        "        print('\\nEpoch: {}/{}, Train Loss: {:.8f}, Test Loss: {:.8f}, Test Accuracy: {:.8f}'.format(epoch + 1, no_epochs, total_train_loss, total_test_loss, accuracy))\n",
        "\n",
        "    # ***************** sparsity calculation ***************** #\n",
        "    sparsity_list12 = sparsity_calculator(final_spareness_12)\n",
        "\n",
        "    print(sparsity_list12)\n",
        "\n",
        "    average_sparsity = list()\n",
        "    for i in range(no_epochs):\n",
        "        average_sparsity.append( (sparsity_list12[i].item()) / 1 )\n",
        "    # ***************** sparsity calculation ***************** #\n",
        "\n",
        "    return test_acc, average_sparsity, selectivity_avg_list, selectivity_std_list"
      ],
      "execution_count": null,
      "outputs": []
    },
    {
      "cell_type": "markdown",
      "metadata": {
        "id": "ILIJTJb2UdfI"
      },
      "source": [
        "# Adadelta"
      ]
    },
    {
      "cell_type": "code",
      "metadata": {
        "id": "5UH0qDnFUfaD",
        "colab": {
          "base_uri": "https://localhost:8080/"
        },
        "outputId": "9b95520a-e474-4739-d24d-45b6ceb6c1f7"
      },
      "source": [
        "model_factory('Adadelta')"
      ],
      "execution_count": null,
      "outputs": [
        {
          "output_type": "stream",
          "text": [
            "my_model: Model(\n",
            "  (linear_1): Linear(in_features=784, out_features=256, bias=True)\n",
            "  (linear_2): Linear(in_features=256, out_features=10, bias=True)\n",
            "  (sigmoid12): Sigmoid()\n",
            ")\n",
            "my_optimizer: Adadelta (\n",
            "Parameter Group 0\n",
            "    eps: 1e-06\n",
            "    lr: 1.0\n",
            "    rho: 1.0\n",
            "    weight_decay: 0\n",
            ")\n",
            "\n",
            "Epoch: 1/30, Train Loss: 0.42771796, Test Loss: 0.19126755, Test Accuracy: 0.94450000\n",
            "\n",
            "Epoch: 2/30, Train Loss: 0.15784957, Test Loss: 0.12842215, Test Accuracy: 0.96190000\n",
            "\n",
            "Epoch: 3/30, Train Loss: 0.11215212, Test Loss: 0.11512182, Test Accuracy: 0.96480000\n",
            "\n",
            "Epoch: 4/30, Train Loss: 0.08857320, Test Loss: 0.10918755, Test Accuracy: 0.96450000\n",
            "\n",
            "Epoch: 5/30, Train Loss: 0.07289406, Test Loss: 0.08574162, Test Accuracy: 0.97200000\n",
            "\n",
            "Epoch: 6/30, Train Loss: 0.06123775, Test Loss: 0.08144231, Test Accuracy: 0.97500000\n",
            "\n",
            "Epoch: 7/30, Train Loss: 0.05177070, Test Loss: 0.08261222, Test Accuracy: 0.97360000\n",
            "\n",
            "Epoch: 8/30, Train Loss: 0.04429680, Test Loss: 0.07434167, Test Accuracy: 0.97660000\n",
            "\n",
            "Epoch: 9/30, Train Loss: 0.03886613, Test Loss: 0.07349442, Test Accuracy: 0.97640000\n",
            "\n",
            "Epoch: 10/30, Train Loss: 0.03352097, Test Loss: 0.07280390, Test Accuracy: 0.97700000\n",
            "\n",
            "Epoch: 11/30, Train Loss: 0.02944976, Test Loss: 0.07494776, Test Accuracy: 0.97600000\n",
            "\n",
            "Epoch: 12/30, Train Loss: 0.02561359, Test Loss: 0.08102857, Test Accuracy: 0.97550000\n",
            "\n",
            "Epoch: 13/30, Train Loss: 0.02233795, Test Loss: 0.07115204, Test Accuracy: 0.97820000\n",
            "\n",
            "Epoch: 14/30, Train Loss: 0.01936782, Test Loss: 0.07004844, Test Accuracy: 0.97770000\n",
            "\n",
            "Epoch: 15/30, Train Loss: 0.01691320, Test Loss: 0.07292319, Test Accuracy: 0.97850000\n",
            "\n",
            "Epoch: 16/30, Train Loss: 0.01489018, Test Loss: 0.07282487, Test Accuracy: 0.97820000\n",
            "\n",
            "Epoch: 17/30, Train Loss: 0.01331006, Test Loss: 0.06939449, Test Accuracy: 0.97820000\n",
            "\n",
            "Epoch: 18/30, Train Loss: 0.01145706, Test Loss: 0.07154520, Test Accuracy: 0.97900000\n",
            "\n",
            "Epoch: 19/30, Train Loss: 0.01032110, Test Loss: 0.07431966, Test Accuracy: 0.97840000\n",
            "\n",
            "Epoch: 20/30, Train Loss: 0.00894352, Test Loss: 0.07060801, Test Accuracy: 0.97890000\n",
            "\n",
            "Epoch: 21/30, Train Loss: 0.00805793, Test Loss: 0.07210596, Test Accuracy: 0.97820000\n",
            "\n",
            "Epoch: 22/30, Train Loss: 0.00726899, Test Loss: 0.07359962, Test Accuracy: 0.97800000\n",
            "\n",
            "Epoch: 23/30, Train Loss: 0.00656551, Test Loss: 0.07136593, Test Accuracy: 0.97940000\n",
            "\n",
            "Epoch: 24/30, Train Loss: 0.00590081, Test Loss: 0.07192114, Test Accuracy: 0.97920000\n",
            "\n",
            "Epoch: 25/30, Train Loss: 0.00532250, Test Loss: 0.07326658, Test Accuracy: 0.97850000\n",
            "\n",
            "Epoch: 26/30, Train Loss: 0.00489446, Test Loss: 0.07174787, Test Accuracy: 0.97930000\n",
            "\n",
            "Epoch: 27/30, Train Loss: 0.00450178, Test Loss: 0.07222693, Test Accuracy: 0.97890000\n",
            "\n",
            "Epoch: 28/30, Train Loss: 0.00414149, Test Loss: 0.07254027, Test Accuracy: 0.97940000\n",
            "\n",
            "Epoch: 29/30, Train Loss: 0.00381594, Test Loss: 0.07327059, Test Accuracy: 0.97910000\n",
            "\n",
            "Epoch: 30/30, Train Loss: 0.00360164, Test Loss: 0.07358769, Test Accuracy: 0.97860000\n",
            "[tensor(0.5082, grad_fn=<MeanBackward0>), tensor(0.5455, grad_fn=<MeanBackward0>), tensor(0.5593, grad_fn=<MeanBackward0>), tensor(0.5640, grad_fn=<MeanBackward0>), tensor(0.5676, grad_fn=<MeanBackward0>), tensor(0.5724, grad_fn=<MeanBackward0>), tensor(0.5732, grad_fn=<MeanBackward0>), tensor(0.5749, grad_fn=<MeanBackward0>), tensor(0.5737, grad_fn=<MeanBackward0>), tensor(0.5740, grad_fn=<MeanBackward0>), tensor(0.5729, grad_fn=<MeanBackward0>), tensor(0.5709, grad_fn=<MeanBackward0>), tensor(0.5691, grad_fn=<MeanBackward0>), tensor(0.5690, grad_fn=<MeanBackward0>), tensor(0.5664, grad_fn=<MeanBackward0>), tensor(0.5658, grad_fn=<MeanBackward0>), tensor(0.5651, grad_fn=<MeanBackward0>), tensor(0.5624, grad_fn=<MeanBackward0>), tensor(0.5629, grad_fn=<MeanBackward0>), tensor(0.5613, grad_fn=<MeanBackward0>), tensor(0.5593, grad_fn=<MeanBackward0>), tensor(0.5594, grad_fn=<MeanBackward0>), tensor(0.5566, grad_fn=<MeanBackward0>), tensor(0.5567, grad_fn=<MeanBackward0>), tensor(0.5554, grad_fn=<MeanBackward0>), tensor(0.5547, grad_fn=<MeanBackward0>), tensor(0.5548, grad_fn=<MeanBackward0>), tensor(0.5532, grad_fn=<MeanBackward0>), tensor(0.5532, grad_fn=<MeanBackward0>), tensor(0.5525, grad_fn=<MeanBackward0>)]\n"
          ],
          "name": "stdout"
        }
      ]
    },
    {
      "cell_type": "markdown",
      "metadata": {
        "id": "hmLJ4Zr2MnoS"
      },
      "source": [
        "# SGD\n"
      ]
    },
    {
      "cell_type": "code",
      "metadata": {
        "id": "6ObsEJHuMoPy",
        "colab": {
          "base_uri": "https://localhost:8080/"
        },
        "outputId": "3c3a4612-5a02-404d-c894-7e5ac11e947f"
      },
      "source": [
        "model_factory('SGD')"
      ],
      "execution_count": null,
      "outputs": [
        {
          "output_type": "stream",
          "text": [
            "my_model: Model(\n",
            "  (linear_1): Linear(in_features=784, out_features=256, bias=True)\n",
            "  (linear_2): Linear(in_features=256, out_features=10, bias=True)\n",
            "  (sigmoid12): Sigmoid()\n",
            ")\n",
            "my_optimizer: SGD (\n",
            "Parameter Group 0\n",
            "    dampening: 0\n",
            "    lr: 0.1\n",
            "    momentum: 0.9\n",
            "    nesterov: False\n",
            "    weight_decay: 0\n",
            ")\n",
            "\n",
            "Epoch: 1/30, Train Loss: 0.35833085, Test Loss: 0.18878170, Test Accuracy: 0.94440000\n",
            "\n",
            "Epoch: 2/30, Train Loss: 0.15386972, Test Loss: 0.12646602, Test Accuracy: 0.96120000\n",
            "\n",
            "Epoch: 3/30, Train Loss: 0.10689097, Test Loss: 0.09536070, Test Accuracy: 0.97050000\n",
            "\n",
            "Epoch: 4/30, Train Loss: 0.08027053, Test Loss: 0.09008629, Test Accuracy: 0.97120000\n",
            "\n",
            "Epoch: 5/30, Train Loss: 0.06346380, Test Loss: 0.07301297, Test Accuracy: 0.97720000\n",
            "\n",
            "Epoch: 6/30, Train Loss: 0.05159145, Test Loss: 0.07082629, Test Accuracy: 0.97840000\n",
            "\n",
            "Epoch: 7/30, Train Loss: 0.04276840, Test Loss: 0.06720062, Test Accuracy: 0.97780000\n",
            "\n",
            "Epoch: 8/30, Train Loss: 0.03545628, Test Loss: 0.06101270, Test Accuracy: 0.98130000\n",
            "\n",
            "Epoch: 9/30, Train Loss: 0.02935351, Test Loss: 0.06698584, Test Accuracy: 0.97880000\n",
            "\n",
            "Epoch: 10/30, Train Loss: 0.02517974, Test Loss: 0.05792759, Test Accuracy: 0.98210000\n",
            "\n",
            "Epoch: 11/30, Train Loss: 0.02070232, Test Loss: 0.05942597, Test Accuracy: 0.97990000\n",
            "\n",
            "Epoch: 12/30, Train Loss: 0.01742521, Test Loss: 0.05782337, Test Accuracy: 0.98100000\n",
            "\n",
            "Epoch: 13/30, Train Loss: 0.01469757, Test Loss: 0.05779401, Test Accuracy: 0.98180000\n",
            "\n",
            "Epoch: 14/30, Train Loss: 0.01256295, Test Loss: 0.05594177, Test Accuracy: 0.98230000\n",
            "\n",
            "Epoch: 15/30, Train Loss: 0.01101269, Test Loss: 0.05718922, Test Accuracy: 0.98210000\n",
            "\n",
            "Epoch: 16/30, Train Loss: 0.00926847, Test Loss: 0.05743774, Test Accuracy: 0.98230000\n",
            "\n",
            "Epoch: 17/30, Train Loss: 0.00790290, Test Loss: 0.05684029, Test Accuracy: 0.98290000\n",
            "\n",
            "Epoch: 18/30, Train Loss: 0.00691554, Test Loss: 0.05917617, Test Accuracy: 0.98170000\n",
            "\n",
            "Epoch: 19/30, Train Loss: 0.00615959, Test Loss: 0.05786194, Test Accuracy: 0.98280000\n",
            "\n",
            "Epoch: 20/30, Train Loss: 0.00537077, Test Loss: 0.05769064, Test Accuracy: 0.98240000\n",
            "\n",
            "Epoch: 21/30, Train Loss: 0.00484026, Test Loss: 0.05659545, Test Accuracy: 0.98320000\n",
            "\n",
            "Epoch: 22/30, Train Loss: 0.00429158, Test Loss: 0.05757254, Test Accuracy: 0.98350000\n",
            "\n",
            "Epoch: 23/30, Train Loss: 0.00388435, Test Loss: 0.05829659, Test Accuracy: 0.98310000\n",
            "\n",
            "Epoch: 24/30, Train Loss: 0.00356783, Test Loss: 0.05759468, Test Accuracy: 0.98310000\n",
            "\n",
            "Epoch: 25/30, Train Loss: 0.00324257, Test Loss: 0.05823734, Test Accuracy: 0.98310000\n",
            "\n",
            "Epoch: 26/30, Train Loss: 0.00299987, Test Loss: 0.05858002, Test Accuracy: 0.98290000\n",
            "\n",
            "Epoch: 27/30, Train Loss: 0.00278019, Test Loss: 0.06002810, Test Accuracy: 0.98230000\n",
            "\n",
            "Epoch: 28/30, Train Loss: 0.00258968, Test Loss: 0.05771060, Test Accuracy: 0.98330000\n",
            "\n",
            "Epoch: 29/30, Train Loss: 0.00245364, Test Loss: 0.05822102, Test Accuracy: 0.98360000\n",
            "\n",
            "Epoch: 30/30, Train Loss: 0.00226789, Test Loss: 0.05812538, Test Accuracy: 0.98330000\n",
            "[tensor(0.3272, grad_fn=<MeanBackward0>), tensor(0.3936, grad_fn=<MeanBackward0>), tensor(0.4245, grad_fn=<MeanBackward0>), tensor(0.4364, grad_fn=<MeanBackward0>), tensor(0.4469, grad_fn=<MeanBackward0>), tensor(0.4512, grad_fn=<MeanBackward0>), tensor(0.4554, grad_fn=<MeanBackward0>), tensor(0.4634, grad_fn=<MeanBackward0>), tensor(0.4589, grad_fn=<MeanBackward0>), tensor(0.4627, grad_fn=<MeanBackward0>), tensor(0.4634, grad_fn=<MeanBackward0>), tensor(0.4628, grad_fn=<MeanBackward0>), tensor(0.4624, grad_fn=<MeanBackward0>), tensor(0.4632, grad_fn=<MeanBackward0>), tensor(0.4604, grad_fn=<MeanBackward0>), tensor(0.4592, grad_fn=<MeanBackward0>), tensor(0.4618, grad_fn=<MeanBackward0>), tensor(0.4599, grad_fn=<MeanBackward0>), tensor(0.4606, grad_fn=<MeanBackward0>), tensor(0.4585, grad_fn=<MeanBackward0>), tensor(0.4589, grad_fn=<MeanBackward0>), tensor(0.4583, grad_fn=<MeanBackward0>), tensor(0.4579, grad_fn=<MeanBackward0>), tensor(0.4575, grad_fn=<MeanBackward0>), tensor(0.4578, grad_fn=<MeanBackward0>), tensor(0.4573, grad_fn=<MeanBackward0>), tensor(0.4573, grad_fn=<MeanBackward0>), tensor(0.4570, grad_fn=<MeanBackward0>), tensor(0.4565, grad_fn=<MeanBackward0>), tensor(0.4568, grad_fn=<MeanBackward0>)]\n"
          ],
          "name": "stdout"
        }
      ]
    }
  ]
}