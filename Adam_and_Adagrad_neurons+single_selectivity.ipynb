{
  "nbformat": 4,
  "nbformat_minor": 0,
  "metadata": {
    "colab": {
      "name": "Adam_and_Adagrad_neurons+single_selectivity.ipynb",
      "provenance": [],
      "collapsed_sections": [],
      "machine_shape": "hm",
      "include_colab_link": true
    },
    "kernelspec": {
      "display_name": "Python 3",
      "language": "python",
      "name": "python3"
    },
    "language_info": {
      "codemirror_mode": {
        "name": "ipython",
        "version": 3
      },
      "file_extension": ".py",
      "mimetype": "text/x-python",
      "name": "python",
      "nbconvert_exporter": "python",
      "pygments_lexer": "ipython3",
      "version": "3.8.5"
    }
  },
  "cells": [
    {
      "cell_type": "markdown",
      "metadata": {
        "id": "view-in-github",
        "colab_type": "text"
      },
      "source": [
        "<a href=\"https://colab.research.google.com/github/7201krap/PYTORCH_project/blob/main/Adam_and_Adagrad_neurons%2Bsingle_selectivity.ipynb\" target=\"_parent\"><img src=\"https://colab.research.google.com/assets/colab-badge.svg\" alt=\"Open In Colab\"/></a>"
      ]
    },
    {
      "cell_type": "code",
      "metadata": {
        "colab": {
          "base_uri": "https://localhost:8080/"
        },
        "id": "sBqH9K8K5two",
        "outputId": "59d5a5a2-c0d2-4f99-9d22-0de31b57c8cb"
      },
      "source": [
        "import torch\n",
        "import torchvision\n",
        "import torchvision.transforms as transforms\n",
        "from torch.utils.data import DataLoader, Subset\n",
        "import matplotlib.pyplot as plt\n",
        "import numpy as np\n",
        "from google.colab import drive\n",
        "drive.mount('/content/drive')"
      ],
      "execution_count": 1,
      "outputs": [
        {
          "output_type": "stream",
          "text": [
            "Mounted at /content/drive\n"
          ],
          "name": "stdout"
        }
      ]
    },
    {
      "cell_type": "code",
      "metadata": {
        "colab": {
          "base_uri": "https://localhost:8080/"
        },
        "id": "zuVBIpjYpXw4",
        "outputId": "d8b0b818-2e6e-498f-bc25-72d23368763c"
      },
      "source": [
        "!wget www.di.ens.fr/~lelarge/MNIST.tar.gz\n",
        "!tar -zxvf MNIST.tar.gz\n",
        "\n",
        "root_dir = './'\n",
        "torchvision.datasets.MNIST(root=root_dir,download=True)"
      ],
      "execution_count": 2,
      "outputs": [
        {
          "output_type": "stream",
          "text": [
            "--2021-03-16 01:35:38--  http://www.di.ens.fr/~lelarge/MNIST.tar.gz\n",
            "Resolving www.di.ens.fr (www.di.ens.fr)... 129.199.99.14\n",
            "Connecting to www.di.ens.fr (www.di.ens.fr)|129.199.99.14|:80... connected.\n",
            "HTTP request sent, awaiting response... 302 Found\n",
            "Location: https://www.di.ens.fr/~lelarge/MNIST.tar.gz [following]\n",
            "--2021-03-16 01:35:39--  https://www.di.ens.fr/~lelarge/MNIST.tar.gz\n",
            "Connecting to www.di.ens.fr (www.di.ens.fr)|129.199.99.14|:443... connected.\n",
            "HTTP request sent, awaiting response... 200 OK\n",
            "Length: unspecified [application/x-gzip]\n",
            "Saving to: ‘MNIST.tar.gz’\n",
            "\n",
            "MNIST.tar.gz            [           <=>      ]  33.20M  15.8MB/s    in 2.1s    \n",
            "\n",
            "2021-03-16 01:35:41 (15.8 MB/s) - ‘MNIST.tar.gz’ saved [34813078]\n",
            "\n",
            "MNIST/\n",
            "MNIST/raw/\n",
            "MNIST/raw/train-labels-idx1-ubyte\n",
            "MNIST/raw/t10k-labels-idx1-ubyte.gz\n",
            "MNIST/raw/t10k-labels-idx1-ubyte\n",
            "MNIST/raw/t10k-images-idx3-ubyte.gz\n",
            "MNIST/raw/train-images-idx3-ubyte\n",
            "MNIST/raw/train-labels-idx1-ubyte.gz\n",
            "MNIST/raw/t10k-images-idx3-ubyte\n",
            "MNIST/raw/train-images-idx3-ubyte.gz\n",
            "MNIST/processed/\n",
            "MNIST/processed/training.pt\n",
            "MNIST/processed/test.pt\n"
          ],
          "name": "stdout"
        },
        {
          "output_type": "execute_result",
          "data": {
            "text/plain": [
              "Dataset MNIST\n",
              "    Number of datapoints: 60000\n",
              "    Root location: ./\n",
              "    Split: Train"
            ]
          },
          "metadata": {
            "tags": []
          },
          "execution_count": 2
        }
      ]
    },
    {
      "cell_type": "code",
      "metadata": {
        "id": "cK7kgI_K6f_Q"
      },
      "source": [
        "device = torch.device('cuda' if torch.cuda.is_available() else 'cpu')\n",
        "torch.manual_seed(1234)\n",
        "np.random.seed(1234)"
      ],
      "execution_count": 3,
      "outputs": []
    },
    {
      "cell_type": "code",
      "metadata": {
        "id": "cg9ZSHmE6hCg",
        "colab": {
          "base_uri": "https://localhost:8080/"
        },
        "outputId": "e20b022b-c58f-41c9-8fbf-093334558e0c"
      },
      "source": [
        "mnist_trainset = torchvision.datasets.MNIST(root=root_dir, train=True, \n",
        "                                download=True, \n",
        "                                transform=transforms.Compose([transforms.ToTensor()]))\n",
        "\n",
        "mnist_testset  = torchvision.datasets.MNIST(root=root_dir, \n",
        "                                train=False, \n",
        "                                download=True, \n",
        "                                transform=transforms.Compose([transforms.ToTensor()]))\n",
        "\n",
        "\n",
        "class_inds = [torch.where(mnist_trainset.targets == class_idx)[0]\n",
        "              for class_idx in mnist_trainset.class_to_idx.values()]\n",
        "\n",
        "\n",
        "train_dataloaders = [\n",
        "                     DataLoader(dataset=Subset(mnist_trainset, inds),\n",
        "                                batch_size=50,\n",
        "                                shuffle=True,\n",
        "                                drop_last=False\n",
        "                     )\n",
        "                     for inds in class_inds\n",
        "]\n",
        "\n",
        "test_dataloader  = torch.utils.data.DataLoader(mnist_testset, \n",
        "                                               batch_size=50, \n",
        "                                               shuffle=False)\n",
        "\n",
        "print(\"Training dataset size: \", len(mnist_trainset))\n",
        "print(\"Testing dataset size: \",  len(mnist_testset))"
      ],
      "execution_count": 4,
      "outputs": [
        {
          "output_type": "stream",
          "text": [
            "Training dataset size:  60000\n",
            "Testing dataset size:  10000\n"
          ],
          "name": "stdout"
        }
      ]
    },
    {
      "cell_type": "code",
      "metadata": {
        "id": "fpqW8O8u6iVw"
      },
      "source": [
        "# ************* modify this section for later use *************\n",
        "# Define the model \n",
        "class Model(torch.nn.Module):\n",
        "    def __init__(self):\n",
        "        super(Model, self).__init__()\n",
        "\n",
        "        # modify this section for later use \n",
        "        self.linear_1 = torch.nn.Linear(784, 1024)\n",
        "        self.linear_2 = torch.nn.Linear(1024, 10)\n",
        "        self.sigmoid12  = torch.nn.Sigmoid()\n",
        "\n",
        "        self.layer_activations = dict()\n",
        "\n",
        "    def forward(self, x):\n",
        "\n",
        "        # modify this section for later use \n",
        "        x = x.reshape(x.size(0), -1)\n",
        "        x = self.linear_1(x)\n",
        "        x = self.sigmoid12(x)\n",
        "        pred = self.linear_2(x)\n",
        "        return pred\n",
        "# ************* modify this section for later use *************"
      ],
      "execution_count": 5,
      "outputs": []
    },
    {
      "cell_type": "code",
      "metadata": {
        "id": "FD1bKvs_6lQa"
      },
      "source": [
        "def get_activation(model, layer_name):    \n",
        "    def hook(module, input, output):\n",
        "        model.layer_activations[layer_name] = output\n",
        "    return hook"
      ],
      "execution_count": 6,
      "outputs": []
    },
    {
      "cell_type": "code",
      "metadata": {
        "id": "T6LOFrALpmA5"
      },
      "source": [
        "def sparsity_calculator(final_spareness):\n",
        "    sparseness_list = list()\n",
        "    for single_epoch_spareness in final_spareness:\n",
        "\n",
        "        hidden_layer_activation_list = single_epoch_spareness\n",
        "        hidden_layer_activation_list = torch.stack(hidden_layer_activation_list)\n",
        "        layer_activations_list = torch.reshape(hidden_layer_activation_list, (10000, 1024))\n",
        "\n",
        "        layer_activations_list = torch.abs(layer_activations_list)  # modified \n",
        "        num_neurons = layer_activations_list.shape[1]\n",
        "        population_sparseness = (np.sqrt(num_neurons) - (torch.sum(layer_activations_list, dim=1) / torch.sqrt(torch.sum(layer_activations_list ** 2, dim=1)))) / (np.sqrt(num_neurons) - 1)\n",
        "        mean_sparseness_per_epoch = torch.mean(population_sparseness)\n",
        "\n",
        "        sparseness_list.append(mean_sparseness_per_epoch)\n",
        "\n",
        "    return sparseness_list"
      ],
      "execution_count": 7,
      "outputs": []
    },
    {
      "cell_type": "code",
      "metadata": {
        "id": "VwmDDdOf6mzH"
      },
      "source": [
        "def selectivity(hidden_layer_each_neuron):\n",
        "    __selectivity__ = list()\n",
        "    # I will now try to find the average of each class for each neuron.\n",
        "    # check out the next cell \n",
        "    avg_activations = [dict() for x in range(1024)]\n",
        "    for i, neuron in enumerate(hidden_layer_each_neuron):\n",
        "        for k, v in neuron.items():\n",
        "            # v is the list of activations for hidden layer's neuron k \n",
        "            avg_activations[i][k] = sum(v) / float(len(v))\n",
        "\n",
        "    # generate 256 lists to get only values in avg_activations\n",
        "    only_activation_vals = [list() for x in range(1024)]\n",
        "\n",
        "    # get only values from avg_activations\n",
        "    for i, avg_activation in enumerate(avg_activations):\n",
        "        for value in avg_activation.values():\n",
        "            only_activation_vals[i].append(value)\n",
        "\n",
        "    for activation_val in only_activation_vals:\n",
        "        # find u_max \n",
        "        u_max = np.max(activation_val)\n",
        "\n",
        "        # find u_minus_max \n",
        "        u_minus_max = (np.sum(activation_val) - u_max) / 9\n",
        "\n",
        "        # find selectivity \n",
        "        selectivity = (u_max - u_minus_max) / (u_max + u_minus_max)\n",
        "\n",
        "        # append selectivity value to selectivity\n",
        "        __selectivity__.append(selectivity)\n",
        "\n",
        "    avg_selectivity = np.average(__selectivity__)\n",
        "    std_selectivity = np.std(__selectivity__)\n",
        "                                 \n",
        "    return avg_selectivity, std_selectivity"
      ],
      "execution_count": 8,
      "outputs": []
    },
    {
      "cell_type": "code",
      "metadata": {
        "id": "RV-qCZ1Lpofu"
      },
      "source": [
        "# ************* modify this section for later use *************\n",
        "def avg_std_calculator(_hidden_layer_each_neuron_12):\n",
        "\n",
        "    avg_selectivity12, std_selectivity12 = selectivity(_hidden_layer_each_neuron_12)\n",
        "\n",
        "    final_selectivity_avg = (avg_selectivity12) / 1\n",
        "    final_selecvitity_std = (std_selectivity12) / 1\n",
        "\n",
        "    return final_selectivity_avg, final_selecvitity_std\n",
        "# ************* modify this section for later use *************"
      ],
      "execution_count": 9,
      "outputs": []
    },
    {
      "cell_type": "code",
      "metadata": {
        "id": "JEOZEF9g6oa5"
      },
      "source": [
        "def model_factory(optimizer_name):\n",
        "    '''\n",
        "    optimizer_name : choose one of Adagrad, Adadelta, SGD, and Adam \n",
        "\n",
        "    '''\n",
        "    my_model = Model()\n",
        "    print(\"my_model:\", my_model)\n",
        "    my_model.to(device)\n",
        "\n",
        "    # ************* modify this section for later use *************\n",
        "    # modify this section for later use \n",
        "    my_model.sigmoid12.register_forward_hook(get_activation(my_model, 's12'))\n",
        "    # ************* modify this section for later use *************\n",
        "\n",
        "    # ADADELTA\n",
        "    if optimizer_name == 'Adadelta':\n",
        "        my_optimizer = torch.optim.Adadelta(my_model.parameters(), lr=1.0, rho=1.0)\n",
        "\n",
        "    elif optimizer_name == 'Adagrad':\n",
        "        my_optimizer = torch.optim.Adagrad(my_model.parameters(), lr=0.1)\n",
        "\n",
        "    elif optimizer_name == 'SGD':\n",
        "        my_optimizer = torch.optim.SGD(my_model.parameters(), lr=0.1, momentum=0.9)\n",
        "\n",
        "    elif optimizer_name == 'Adam':\n",
        "        my_optimizer = torch.optim.Adam(my_model.parameters(), lr=0.001)\n",
        "\n",
        "    else:\n",
        "        print(\"ERROR\")\n",
        "    \n",
        "    print(\"my_optimizer:\", my_optimizer)\n",
        "    test_acc, sparsity_avg, selectivity_list_avg, selectivity_list_std = selectivity_trainer(optimizer=my_optimizer, model=my_model)\n",
        "    # ************* modify this section for later use *************\n",
        "    file_saver = open(f\"combine_selectivity_sparsity_{optimizer_name}.txt\", \"w\")\n",
        "    # ************* modify this section for later use *************\n",
        "    file_saver.write(str(test_acc)+'\\n'+str(sparsity_avg)+'\\n'+str(selectivity_list_avg)+'\\n'+str(selectivity_list_std)+'\\n\\n')\n",
        "    file_saver.close()\n",
        "    # ************* modify this section for later use *************\n",
        "    if optimizer_name == 'Adadelta':\n",
        "        !cp combine_selectivity_sparsity_Adadelta.txt /content/drive/MyDrive\n",
        "    \n",
        "    elif optimizer_name == 'Adagrad':\n",
        "        !cp combine_selectivity_sparsity_Adagrad.txt /content/drive/MyDrive\n",
        "\n",
        "    elif optimizer_name == 'SGD':\n",
        "        !cp combine_selectivity_sparsity_SGD.txt /content/drive/MyDrive\n",
        "\n",
        "    elif optimizer_name == 'Adam':\n",
        "        !cp combine_selectivity_sparsity_Adam.txt /content/drive/MyDrive\n",
        "    # ************* modify this section for later use *************\n",
        "\n",
        "    else:\n",
        "        print(\"ERROR\")"
      ],
      "execution_count": 10,
      "outputs": []
    },
    {
      "cell_type": "code",
      "metadata": {
        "id": "plG8DIGw6qnQ"
      },
      "source": [
        "no_epochs = 30\n",
        "def selectivity_trainer(optimizer, model):\n",
        "\n",
        "    criterion = torch.nn.CrossEntropyLoss()\n",
        "    train_loss = list()\n",
        "    test_loss  = list()\n",
        "    test_acc   = list()\n",
        "\n",
        "    best_test_loss = 1\n",
        "\n",
        "    selectivity_avg_list = list()\n",
        "    selectivity_std_list = list()\n",
        "\n",
        "    # ************* modify this section for later use *************\n",
        "    final_spareness_12 = list()\n",
        "    # ************* modify this section for later use *************\n",
        "\n",
        "    for epoch in range(no_epochs):\n",
        "\n",
        "        # ************* modify this section for later use *************\n",
        "        hidden_layer_each_neuron_12 = [{0:[], 1:[], 2:[], 3:[], 4:[], 5:[], 6:[], 7:[], 8:[], 9:[]} for x in range(1024)]\n",
        "        hidden_layer_each_neuron_12 = np.array(hidden_layer_each_neuron_12)\n",
        "        # ************* modify this section for later use *************\n",
        "\n",
        "        # ************* modify this section for later use *************\n",
        "        hidden_layer_activation_list_12 = list()\n",
        "        # ************* modify this section for later use *************\n",
        "\n",
        "        total_train_loss = 0\n",
        "        total_test_loss = 0\n",
        "\n",
        "        # training\n",
        "        # set up training mode \n",
        "        model.train()\n",
        "        iterators = list(map(iter, train_dataloaders))   \n",
        "        while iterators:    # This part is same as for loop \n",
        "            iterator = np.random.choice(iterators)\n",
        "            try:\n",
        "                image, label = next(iterator)   \n",
        "                image, label = image.to(device), label.to(device)\n",
        "\n",
        "                optimizer.zero_grad()\n",
        "\n",
        "                pred = model(image)\n",
        "\n",
        "                loss = criterion(pred, label)\n",
        "\n",
        "                loss.backward()\n",
        "                optimizer.step()\n",
        "                \n",
        "            except StopIteration:\n",
        "                iterators.remove(iterator)\n",
        "\n",
        "\n",
        "        # testing \n",
        "        # change to evaluation mode \n",
        "        model.eval()\n",
        "        total = 0\n",
        "        for itr, (images, labels) in enumerate(test_dataloader):\n",
        "            images, labels = images.to(device), labels.to(device)\n",
        "\n",
        "            pred = model(images)\n",
        "\n",
        "            loss = criterion(pred, labels)\n",
        "            total_test_loss += loss.item()\n",
        "\n",
        "            # we now need softmax because we are testing.\n",
        "            pred = torch.nn.functional.softmax(pred, dim=1)\n",
        "            for i, p in enumerate(pred):\n",
        "                if labels[i] == torch.max(p.data, 0)[1]:\n",
        "                    total = total + 1\n",
        "\n",
        "            # ***************** sparsity calculation ***************** #\n",
        "            hidden_layer_activation_list_12.append(model.layer_activations['s12'])\n",
        "\n",
        "            # ************* modify this section for later use *************\n",
        "            for activation, label in zip(model.layer_activations['s12'], labels):\n",
        "                label = label.item()\n",
        "                with torch.no_grad():\n",
        "                    activation = activation.numpy()\n",
        "                for i in range(1024):    \n",
        "                    hidden_layer_each_neuron_12[i][label].append(activation[i])\n",
        "    \n",
        "        selectivity_avg, selecvitity_std = avg_std_calculator(hidden_layer_each_neuron_12)\n",
        "        # ************* modify this section for later use *************\n",
        "        \n",
        "        selectivity_avg_list.append(selectivity_avg)\n",
        "        selectivity_std_list.append(selecvitity_std)\n",
        "\n",
        "        # this conains activations for all epochs \n",
        "        final_spareness_12.append(hidden_layer_activation_list_12)\n",
        "        # ***************** sparsity calculation ***************** #\n",
        "\n",
        "        # caculate accuracy \n",
        "        accuracy = total / len(mnist_testset)\n",
        "\n",
        "        # append accuracy here\n",
        "        test_acc.append(accuracy)\n",
        "\n",
        "        # append test loss here \n",
        "        total_test_loss = total_test_loss / (itr + 1)\n",
        "        test_loss.append(total_test_loss)\n",
        "\n",
        "        print('\\nEpoch: {}/{}, Train Loss: {:.8f}, Test Loss: {:.8f}, Test Accuracy: {:.8f}'.format(epoch + 1, no_epochs, total_train_loss, total_test_loss, accuracy))\n",
        "\n",
        "    print(selectivity_avg_list)\n",
        "    print(selectivity_std_list)\n",
        "\n",
        "    # ***************** sparsity calculation ***************** #\n",
        "    sparsity_list12 = sparsity_calculator(final_spareness_12)\n",
        "\n",
        "    average_sparsity = list()\n",
        "    for i in range(no_epochs):\n",
        "        average_sparsity.append( (sparsity_list12[i].item()) / 1 )\n",
        "    # ***************** sparsity calculation ***************** #\n",
        "\n",
        "    print(\"average_sparsity:\", average_sparsity)\n",
        "    print(test_acc)\n",
        "\n",
        "    return test_acc, average_sparsity, selectivity_avg_list, selectivity_std_list"
      ],
      "execution_count": 11,
      "outputs": []
    },
    {
      "cell_type": "code",
      "metadata": {
        "id": "T3u3oXXk7pXg",
        "colab": {
          "base_uri": "https://localhost:8080/"
        },
        "outputId": "1ef3996d-e8a2-43f2-96b6-19c065aa392e"
      },
      "source": [
        "model_factory('Adam')"
      ],
      "execution_count": 12,
      "outputs": [
        {
          "output_type": "stream",
          "text": [
            "my_model: Model(\n",
            "  (linear_1): Linear(in_features=784, out_features=1024, bias=True)\n",
            "  (linear_2): Linear(in_features=1024, out_features=10, bias=True)\n",
            "  (sigmoid12): Sigmoid()\n",
            ")\n",
            "my_optimizer: Adam (\n",
            "Parameter Group 0\n",
            "    amsgrad: False\n",
            "    betas: (0.9, 0.999)\n",
            "    eps: 1e-08\n",
            "    lr: 0.001\n",
            "    weight_decay: 0\n",
            ")\n",
            "\n",
            "Epoch: 1/30, Train Loss: 0.00000000, Test Loss: 1.01151555, Test Accuracy: 0.67910000\n",
            "\n",
            "Epoch: 2/30, Train Loss: 0.00000000, Test Loss: 0.89672647, Test Accuracy: 0.70280000\n",
            "\n",
            "Epoch: 3/30, Train Loss: 0.00000000, Test Loss: 0.49023556, Test Accuracy: 0.83700000\n",
            "\n",
            "Epoch: 4/30, Train Loss: 0.00000000, Test Loss: 0.37143465, Test Accuracy: 0.87280000\n",
            "\n",
            "Epoch: 5/30, Train Loss: 0.00000000, Test Loss: 0.24326018, Test Accuracy: 0.92130000\n",
            "\n",
            "Epoch: 6/30, Train Loss: 0.00000000, Test Loss: 0.23186935, Test Accuracy: 0.92220000\n",
            "\n",
            "Epoch: 7/30, Train Loss: 0.00000000, Test Loss: 0.20545501, Test Accuracy: 0.93140000\n",
            "\n",
            "Epoch: 8/30, Train Loss: 0.00000000, Test Loss: 0.15542504, Test Accuracy: 0.95040000\n",
            "\n",
            "Epoch: 9/30, Train Loss: 0.00000000, Test Loss: 0.13322159, Test Accuracy: 0.95770000\n",
            "\n",
            "Epoch: 10/30, Train Loss: 0.00000000, Test Loss: 0.13609504, Test Accuracy: 0.95820000\n",
            "\n",
            "Epoch: 11/30, Train Loss: 0.00000000, Test Loss: 0.17539954, Test Accuracy: 0.94720000\n",
            "\n",
            "Epoch: 12/30, Train Loss: 0.00000000, Test Loss: 0.11904810, Test Accuracy: 0.96440000\n",
            "\n",
            "Epoch: 13/30, Train Loss: 0.00000000, Test Loss: 0.11108073, Test Accuracy: 0.96960000\n",
            "\n",
            "Epoch: 14/30, Train Loss: 0.00000000, Test Loss: 0.07315605, Test Accuracy: 0.97830000\n",
            "\n",
            "Epoch: 15/30, Train Loss: 0.00000000, Test Loss: 0.09957729, Test Accuracy: 0.97180000\n",
            "\n",
            "Epoch: 16/30, Train Loss: 0.00000000, Test Loss: 0.09868802, Test Accuracy: 0.97350000\n",
            "\n",
            "Epoch: 17/30, Train Loss: 0.00000000, Test Loss: 0.08401621, Test Accuracy: 0.97800000\n",
            "\n",
            "Epoch: 18/30, Train Loss: 0.00000000, Test Loss: 0.09757009, Test Accuracy: 0.97540000\n",
            "\n",
            "Epoch: 19/30, Train Loss: 0.00000000, Test Loss: 0.07066603, Test Accuracy: 0.98220000\n",
            "\n",
            "Epoch: 20/30, Train Loss: 0.00000000, Test Loss: 0.09085555, Test Accuracy: 0.97780000\n",
            "\n",
            "Epoch: 21/30, Train Loss: 0.00000000, Test Loss: 0.07590428, Test Accuracy: 0.98230000\n",
            "\n",
            "Epoch: 22/30, Train Loss: 0.00000000, Test Loss: 0.07355072, Test Accuracy: 0.98190000\n",
            "\n",
            "Epoch: 23/30, Train Loss: 0.00000000, Test Loss: 0.07215266, Test Accuracy: 0.98250000\n",
            "\n",
            "Epoch: 24/30, Train Loss: 0.00000000, Test Loss: 0.07261312, Test Accuracy: 0.98400000\n",
            "\n",
            "Epoch: 25/30, Train Loss: 0.00000000, Test Loss: 0.16758787, Test Accuracy: 0.96780000\n",
            "\n",
            "Epoch: 26/30, Train Loss: 0.00000000, Test Loss: 0.07821895, Test Accuracy: 0.98450000\n",
            "\n",
            "Epoch: 27/30, Train Loss: 0.00000000, Test Loss: 0.07510242, Test Accuracy: 0.98340000\n",
            "\n",
            "Epoch: 28/30, Train Loss: 0.00000000, Test Loss: 0.09164346, Test Accuracy: 0.98120000\n",
            "\n",
            "Epoch: 29/30, Train Loss: 0.00000000, Test Loss: 0.07728122, Test Accuracy: 0.98340000\n",
            "\n",
            "Epoch: 30/30, Train Loss: 0.00000000, Test Loss: 0.07926843, Test Accuracy: 0.98370000\n",
            "[0.3847908118061725, 0.45882603835221686, 0.50801045799384, 0.5378765061863501, 0.5544740129093604, 0.5715973137951065, 0.5778627520481348, 0.5808732639393811, 0.5877425813994708, 0.5868567980881244, 0.5888066504249461, 0.5970133603985963, 0.5878527654108072, 0.6045799509449932, 0.5907566079036294, 0.5904321992772219, 0.5959161586744708, 0.5902552561875057, 0.5982655628928568, 0.5944519969611235, 0.594091483630479, 0.5875878149429341, 0.6078351471105016, 0.5981658374205455, 0.5932305553636538, 0.598864242071676, 0.5914664356760604, 0.6151300227633663, 0.6062084125271741, 0.6022123259831286]\n",
            "[0.13192291191293082, 0.14463793804875888, 0.13734516807485217, 0.13810978916399475, 0.1471073883083973, 0.13945284005682257, 0.14358230594167112, 0.1414496876385565, 0.14163665082945903, 0.13874245649430572, 0.146376555714511, 0.1371043289998195, 0.13752479193172812, 0.13861440647019574, 0.13875602977783286, 0.1348926832716464, 0.13564377595741292, 0.138538920772413, 0.13625746431084423, 0.13841401002848985, 0.13720065942361329, 0.1362317819523421, 0.1409089137575335, 0.13784004705359174, 0.1390064536676747, 0.13934200542007488, 0.1399656055674977, 0.1435335765646763, 0.14080856104244482, 0.14092044431596773]\n",
            "average_sparsity: [0.21040183305740356, 0.2844926714897156, 0.3412533402442932, 0.381729394197464, 0.41332244873046875, 0.43762528896331787, 0.4549121558666229, 0.4654720723628998, 0.4787628948688507, 0.48018378019332886, 0.4815313518047333, 0.4970867335796356, 0.48940107226371765, 0.5148137807846069, 0.49902865290641785, 0.5000438094139099, 0.5064880847930908, 0.5015913844108582, 0.5127381682395935, 0.5090256333351135, 0.5092276334762573, 0.5009313821792603, 0.5285406708717346, 0.5165612697601318, 0.5103858113288879, 0.518820583820343, 0.5086676478385925, 0.5365790128707886, 0.5268039107322693, 0.5213673114776611]\n",
            "[0.6791, 0.7028, 0.837, 0.8728, 0.9213, 0.9222, 0.9314, 0.9504, 0.9577, 0.9582, 0.9472, 0.9644, 0.9696, 0.9783, 0.9718, 0.9735, 0.978, 0.9754, 0.9822, 0.9778, 0.9823, 0.9819, 0.9825, 0.984, 0.9678, 0.9845, 0.9834, 0.9812, 0.9834, 0.9837]\n"
          ],
          "name": "stdout"
        }
      ]
    },
    {
      "cell_type": "code",
      "metadata": {
        "id": "pTJFbe26R6na",
        "colab": {
          "base_uri": "https://localhost:8080/"
        },
        "outputId": "150fc756-a695-445b-923c-043352414be4"
      },
      "source": [
        "model_factory('Adagrad')"
      ],
      "execution_count": 13,
      "outputs": [
        {
          "output_type": "stream",
          "text": [
            "my_model: Model(\n",
            "  (linear_1): Linear(in_features=784, out_features=1024, bias=True)\n",
            "  (linear_2): Linear(in_features=1024, out_features=10, bias=True)\n",
            "  (sigmoid12): Sigmoid()\n",
            ")\n",
            "my_optimizer: Adagrad (\n",
            "Parameter Group 0\n",
            "    eps: 1e-10\n",
            "    initial_accumulator_value: 0\n",
            "    lr: 0.1\n",
            "    lr_decay: 0\n",
            "    weight_decay: 0\n",
            ")\n",
            "\n",
            "Epoch: 1/30, Train Loss: 0.00000000, Test Loss: 0.64779470, Test Accuracy: 0.78360000\n",
            "\n",
            "Epoch: 2/30, Train Loss: 0.00000000, Test Loss: 0.25510456, Test Accuracy: 0.92220000\n",
            "\n",
            "Epoch: 3/30, Train Loss: 0.00000000, Test Loss: 0.16276029, Test Accuracy: 0.95060000\n",
            "\n",
            "Epoch: 4/30, Train Loss: 0.00000000, Test Loss: 0.18467516, Test Accuracy: 0.94160000\n",
            "\n",
            "Epoch: 5/30, Train Loss: 0.00000000, Test Loss: 0.13759344, Test Accuracy: 0.95780000\n",
            "\n",
            "Epoch: 6/30, Train Loss: 0.00000000, Test Loss: 0.11978858, Test Accuracy: 0.96260000\n",
            "\n",
            "Epoch: 7/30, Train Loss: 0.00000000, Test Loss: 0.12685355, Test Accuracy: 0.96000000\n",
            "\n",
            "Epoch: 8/30, Train Loss: 0.00000000, Test Loss: 0.09858712, Test Accuracy: 0.96930000\n",
            "\n",
            "Epoch: 9/30, Train Loss: 0.00000000, Test Loss: 0.11950342, Test Accuracy: 0.96180000\n",
            "\n",
            "Epoch: 10/30, Train Loss: 0.00000000, Test Loss: 0.08946585, Test Accuracy: 0.97210000\n",
            "\n",
            "Epoch: 11/30, Train Loss: 0.00000000, Test Loss: 0.09116356, Test Accuracy: 0.97110000\n",
            "\n",
            "Epoch: 12/30, Train Loss: 0.00000000, Test Loss: 0.08206799, Test Accuracy: 0.97370000\n",
            "\n",
            "Epoch: 13/30, Train Loss: 0.00000000, Test Loss: 0.09287940, Test Accuracy: 0.97130000\n",
            "\n",
            "Epoch: 14/30, Train Loss: 0.00000000, Test Loss: 0.07995752, Test Accuracy: 0.97470000\n",
            "\n",
            "Epoch: 15/30, Train Loss: 0.00000000, Test Loss: 0.08147119, Test Accuracy: 0.97460000\n",
            "\n",
            "Epoch: 16/30, Train Loss: 0.00000000, Test Loss: 0.08391826, Test Accuracy: 0.97320000\n",
            "\n",
            "Epoch: 17/30, Train Loss: 0.00000000, Test Loss: 0.07874417, Test Accuracy: 0.97580000\n",
            "\n",
            "Epoch: 18/30, Train Loss: 0.00000000, Test Loss: 0.07916655, Test Accuracy: 0.97490000\n",
            "\n",
            "Epoch: 19/30, Train Loss: 0.00000000, Test Loss: 0.08005422, Test Accuracy: 0.97520000\n",
            "\n",
            "Epoch: 20/30, Train Loss: 0.00000000, Test Loss: 0.07247878, Test Accuracy: 0.97760000\n",
            "\n",
            "Epoch: 21/30, Train Loss: 0.00000000, Test Loss: 0.07598186, Test Accuracy: 0.97650000\n",
            "\n",
            "Epoch: 22/30, Train Loss: 0.00000000, Test Loss: 0.07286456, Test Accuracy: 0.97870000\n",
            "\n",
            "Epoch: 23/30, Train Loss: 0.00000000, Test Loss: 0.07103489, Test Accuracy: 0.97800000\n",
            "\n",
            "Epoch: 24/30, Train Loss: 0.00000000, Test Loss: 0.08310771, Test Accuracy: 0.97460000\n",
            "\n",
            "Epoch: 25/30, Train Loss: 0.00000000, Test Loss: 0.07467148, Test Accuracy: 0.97680000\n",
            "\n",
            "Epoch: 26/30, Train Loss: 0.00000000, Test Loss: 0.07185031, Test Accuracy: 0.97820000\n",
            "\n",
            "Epoch: 27/30, Train Loss: 0.00000000, Test Loss: 0.07395055, Test Accuracy: 0.97800000\n",
            "\n",
            "Epoch: 28/30, Train Loss: 0.00000000, Test Loss: 0.07379532, Test Accuracy: 0.97850000\n",
            "\n",
            "Epoch: 29/30, Train Loss: 0.00000000, Test Loss: 0.07086682, Test Accuracy: 0.97800000\n",
            "\n",
            "Epoch: 30/30, Train Loss: 0.00000000, Test Loss: 0.07286236, Test Accuracy: 0.97870000\n",
            "[0.8111922451262368, 0.8051402833068418, 0.8009017178769852, 0.7943618744720324, 0.792768839659211, 0.7911314539856884, 0.7870693208988762, 0.7843052593903614, 0.7817916621264533, 0.7811965610440371, 0.7820574883117706, 0.7825744628342121, 0.7783367722940426, 0.778373443234776, 0.7781642554704441, 0.7767611883334055, 0.7750057566249018, 0.7754256463050369, 0.77197920057182, 0.7742514208581182, 0.7728352241737342, 0.7710509095902349, 0.772391743250993, 0.770587205200618, 0.7712797959921875, 0.7707724385345948, 0.769969676712661, 0.770440936629703, 0.7695587919001285, 0.7685606607236108]\n",
            "[0.15806589794827003, 0.15199967868950148, 0.15575620697768514, 0.15973119676762998, 0.1600921150630955, 0.16137175142754442, 0.16558703131369967, 0.16496255798052947, 0.16886140927731672, 0.1673364690747275, 0.1650784093940323, 0.16475951011440482, 0.16817414322852442, 0.16681189144079353, 0.1677734420947576, 0.16858509947179323, 0.16898397813127516, 0.16832061697477707, 0.17105512232499745, 0.16882656549168432, 0.1700277413781549, 0.1710092945768617, 0.16990348043036607, 0.17227046225733664, 0.170724105752375, 0.17005656203504388, 0.17107177755932976, 0.1707946907885655, 0.1700708844401702, 0.17101391981620107]\n",
            "average_sparsity: [0.7694517374038696, 0.7684950232505798, 0.7705365419387817, 0.7613019347190857, 0.7616283297538757, 0.7601877450942993, 0.7552312612533569, 0.7548152208328247, 0.7503741979598999, 0.7506639957427979, 0.7525990009307861, 0.7518272995948792, 0.7472478747367859, 0.748559832572937, 0.7479568123817444, 0.7459622025489807, 0.7451299428939819, 0.7456844449043274, 0.7411700487136841, 0.744540274143219, 0.7425021529197693, 0.7401161193847656, 0.7423421740531921, 0.7384790778160095, 0.7401555776596069, 0.7402089834213257, 0.7383701801300049, 0.7385854721069336, 0.7385692596435547, 0.7369612455368042]\n",
            "[0.7836, 0.9222, 0.9506, 0.9416, 0.9578, 0.9626, 0.96, 0.9693, 0.9618, 0.9721, 0.9711, 0.9737, 0.9713, 0.9747, 0.9746, 0.9732, 0.9758, 0.9749, 0.9752, 0.9776, 0.9765, 0.9787, 0.978, 0.9746, 0.9768, 0.9782, 0.978, 0.9785, 0.978, 0.9787]\n"
          ],
          "name": "stdout"
        }
      ]
    }
  ]
}