{
  "nbformat": 4,
  "nbformat_minor": 0,
  "metadata": {
    "colab": {
      "name": "2_tensor_basics.ipynb",
      "provenance": [],
      "authorship_tag": "ABX9TyMuA640jSfuHwC0bI+GJELQ",
      "include_colab_link": true
    },
    "kernelspec": {
      "name": "python3",
      "display_name": "Python 3"
    }
  },
  "cells": [
    {
      "cell_type": "markdown",
      "metadata": {
        "id": "view-in-github",
        "colab_type": "text"
      },
      "source": [
        "<a href=\"https://colab.research.google.com/github/7201krap/PYTORCH_introduction_to_pytorch/blob/main/2_tensor_basics.ipynb\" target=\"_parent\"><img src=\"https://colab.research.google.com/assets/colab-badge.svg\" alt=\"Open In Colab\"/></a>"
      ]
    },
    {
      "cell_type": "code",
      "metadata": {
        "id": "Y2v-meKqqt4V"
      },
      "source": [
        "import torch\n",
        "import numpy as np"
      ],
      "execution_count": 51,
      "outputs": []
    },
    {
      "cell_type": "code",
      "metadata": {
        "colab": {
          "base_uri": "https://localhost:8080/"
        },
        "id": "FypUxj5mrEJ6",
        "outputId": "2a33a335-d369-46ee-ffdd-edb78f33f275"
      },
      "source": [
        "x = torch.empty(3)  # 1d vector with three elements \n",
        "print(x)"
      ],
      "execution_count": 5,
      "outputs": [
        {
          "output_type": "stream",
          "text": [
            "tensor([1.6349e-35, 0.0000e+00, 5.0447e-44])\n"
          ],
          "name": "stdout"
        }
      ]
    },
    {
      "cell_type": "code",
      "metadata": {
        "colab": {
          "base_uri": "https://localhost:8080/"
        },
        "id": "1ka5nVdKrNEJ",
        "outputId": "a361a944-05f9-41bc-bcba-a7311e54d1bf"
      },
      "source": [
        "y = torch.empty(2, 3)   # 2d vector with 2 X 3\n",
        "print(y)"
      ],
      "execution_count": 7,
      "outputs": [
        {
          "output_type": "stream",
          "text": [
            "tensor([[1.6350e-35, 0.0000e+00, 0.0000e+00],\n",
            "        [0.0000e+00, 0.0000e+00, 0.0000e+00]])\n"
          ],
          "name": "stdout"
        }
      ]
    },
    {
      "cell_type": "code",
      "metadata": {
        "colab": {
          "base_uri": "https://localhost:8080/"
        },
        "id": "fO206RfCrXio",
        "outputId": "a57b0262-1a13-47e0-d750-5d0999d1eae1"
      },
      "source": [
        "z = torch.empty(2, 3, 4)    # 3d vector with 2 X 3 X 4 \n",
        "print(z)"
      ],
      "execution_count": 9,
      "outputs": [
        {
          "output_type": "stream",
          "text": [
            "tensor([[[1.6553e-35, 0.0000e+00, 7.0065e-44, 6.8664e-44],\n",
            "         [6.3058e-44, 6.7262e-44, 7.0065e-44, 6.3058e-44],\n",
            "         [6.7262e-44, 7.7071e-44, 1.1771e-43, 6.8664e-44]],\n",
            "\n",
            "        [[7.1466e-44, 8.1275e-44, 7.0065e-44, 7.9874e-44],\n",
            "         [8.1275e-44, 6.8664e-44, 7.9874e-44, 6.4460e-44],\n",
            "         [7.4269e-44, 7.5670e-44, 7.1466e-44, 7.0065e-44]]])\n"
          ],
          "name": "stdout"
        }
      ]
    },
    {
      "cell_type": "code",
      "metadata": {
        "colab": {
          "base_uri": "https://localhost:8080/"
        },
        "id": "VKdqn0lxrmUz",
        "outputId": "440a24f3-171d-4786-b88d-0fd97a6d7a66"
      },
      "source": [
        "rand_x = torch.rand(2, 2)\n",
        "print(rand_x)"
      ],
      "execution_count": 15,
      "outputs": [
        {
          "output_type": "stream",
          "text": [
            "tensor([[0.9196, 0.3791],\n",
            "        [0.7322, 0.6980]])\n"
          ],
          "name": "stdout"
        }
      ]
    },
    {
      "cell_type": "code",
      "metadata": {
        "colab": {
          "base_uri": "https://localhost:8080/"
        },
        "id": "dJJ5JBK5r83D",
        "outputId": "5b50823b-93ba-480e-980f-3007db5fcb67"
      },
      "source": [
        "zeros_x = torch.zeros(2, 2, dtype=torch.int)\n",
        "print(zeros_x)\n",
        "print(zeros_x.dtype)"
      ],
      "execution_count": 20,
      "outputs": [
        {
          "output_type": "stream",
          "text": [
            "tensor([[0, 0],\n",
            "        [0, 0]], dtype=torch.int32)\n",
            "torch.int32\n"
          ],
          "name": "stdout"
        }
      ]
    },
    {
      "cell_type": "code",
      "metadata": {
        "colab": {
          "base_uri": "https://localhost:8080/"
        },
        "id": "VuyVdjsDsOZX",
        "outputId": "6f9cddfb-ab44-4e41-f0da-321f40f38f66"
      },
      "source": [
        "ones_x = torch.ones(2, 2)\n",
        "print(ones_x)\n",
        "print(ones_x.dtype)\n",
        "print(ones_x.size())"
      ],
      "execution_count": 22,
      "outputs": [
        {
          "output_type": "stream",
          "text": [
            "tensor([[1., 1.],\n",
            "        [1., 1.]])\n",
            "torch.float32\n",
            "torch.Size([2, 2])\n"
          ],
          "name": "stdout"
        }
      ]
    },
    {
      "cell_type": "code",
      "metadata": {
        "colab": {
          "base_uri": "https://localhost:8080/"
        },
        "id": "q3f0T_YdsSR9",
        "outputId": "6a88cb80-70be-4fe8-f890-e7ee0fa03e78"
      },
      "source": [
        "x_tensor_list = torch.tensor([1,2,3,0.1])\n",
        "print(x_tensor_list)"
      ],
      "execution_count": 23,
      "outputs": [
        {
          "output_type": "stream",
          "text": [
            "tensor([1.0000, 2.0000, 3.0000, 0.1000])\n"
          ],
          "name": "stdout"
        }
      ]
    },
    {
      "cell_type": "code",
      "metadata": {
        "colab": {
          "base_uri": "https://localhost:8080/"
        },
        "id": "2h3TQMRttMsE",
        "outputId": "7daef61c-eeef-436a-9129-6a1288196cd7"
      },
      "source": [
        "x = torch.rand(2,2)\n",
        "y = torch.rand(2,2)\n",
        "print(x)\n",
        "print(y)\n",
        "\n",
        "z1 = x + y\n",
        "z2 = torch.add(x, y)\n",
        "print(z1 == z2)\n",
        "\n",
        "print(z)    # element-wise addition"
      ],
      "execution_count": 31,
      "outputs": [
        {
          "output_type": "stream",
          "text": [
            "tensor([[0.6406, 0.5349],\n",
            "        [0.2301, 0.7555]])\n",
            "tensor([[0.6679, 0.7044],\n",
            "        [0.6313, 0.2662]])\n",
            "tensor([[True, True],\n",
            "        [True, True]])\n",
            "tensor([[0.9184, 0.3009],\n",
            "        [0.8888, 0.5495]])\n"
          ],
          "name": "stdout"
        }
      ]
    },
    {
      "cell_type": "code",
      "metadata": {
        "colab": {
          "base_uri": "https://localhost:8080/"
        },
        "id": "BvEIJDSIt1Gx",
        "outputId": "58a757b8-734d-452d-e7db-a8ebe9245696"
      },
      "source": [
        "m1 = x - y\n",
        "m2 = torch.sub(x, y)\n",
        "print(m1 == m2)"
      ],
      "execution_count": 32,
      "outputs": [
        {
          "output_type": "stream",
          "text": [
            "tensor([[True, True],\n",
            "        [True, True]])\n"
          ],
          "name": "stdout"
        }
      ]
    },
    {
      "cell_type": "code",
      "metadata": {
        "colab": {
          "base_uri": "https://localhost:8080/"
        },
        "id": "_pYTsNp6uKCm",
        "outputId": "ee0473cf-537d-4f5a-bc78-b113a5bd4ccb"
      },
      "source": [
        "mul1 = x * y    # element-wise mulitplication \n",
        "mul2 = torch.mul(x, y)\n",
        "print(mul1 == mul2)"
      ],
      "execution_count": 33,
      "outputs": [
        {
          "output_type": "stream",
          "text": [
            "tensor([[True, True],\n",
            "        [True, True]])\n"
          ],
          "name": "stdout"
        }
      ]
    },
    {
      "cell_type": "code",
      "metadata": {
        "colab": {
          "base_uri": "https://localhost:8080/"
        },
        "id": "_u-nRnLCuRdn",
        "outputId": "5214e0d9-02b0-4313-ce14-c7e9b842e159"
      },
      "source": [
        "div1 = x / y    # element-wise division \n",
        "div2 = torch.div(x, y)\n",
        "print(div1 == div2)"
      ],
      "execution_count": 34,
      "outputs": [
        {
          "output_type": "stream",
          "text": [
            "tensor([[True, True],\n",
            "        [True, True]])\n"
          ],
          "name": "stdout"
        }
      ]
    },
    {
      "cell_type": "code",
      "metadata": {
        "colab": {
          "base_uri": "https://localhost:8080/"
        },
        "id": "bZDqw-PsumEE",
        "outputId": "8d0fba6d-8c32-4c42-bddc-efdfeaac675b"
      },
      "source": [
        "# slicing\n",
        "x = torch.rand(5, 3)\n",
        "print(x)\n",
        "print(x[:, 0])  # same as numpy \n",
        "print(x[1, :])\n",
        "print(x[1, 1])\n",
        "print(x[1, 1].item())  # if we have only one value in tensor, we can use item(). \n",
        "                       # item() gets the actual value "
      ],
      "execution_count": 42,
      "outputs": [
        {
          "output_type": "stream",
          "text": [
            "tensor([[0.6274, 0.6687, 0.4308],\n",
            "        [0.7622, 0.3593, 0.4629],\n",
            "        [0.5988, 0.2072, 0.6199],\n",
            "        [0.0630, 0.3514, 0.3422],\n",
            "        [0.4917, 0.5147, 0.9803]])\n",
            "tensor([0.6274, 0.7622, 0.5988, 0.0630, 0.4917])\n",
            "tensor([0.7622, 0.3593, 0.4629])\n",
            "tensor(0.3593)\n",
            "0.35927635431289673\n"
          ],
          "name": "stdout"
        }
      ]
    },
    {
      "cell_type": "code",
      "metadata": {
        "colab": {
          "base_uri": "https://localhost:8080/"
        },
        "id": "wvKw67LNu8gm",
        "outputId": "8e5235f8-31bc-4b09-d834-2f2866fe102c"
      },
      "source": [
        "# reshaping\n",
        "x = torch.rand(4, 4)\n",
        "print(x)\n",
        "\n",
        "y = x.view(16)\n",
        "print(y)    # 1d vector \n",
        "\n",
        "print(\"===== reshaping/resizing =====\")\n",
        "z1 = x.view(2, 8)   \n",
        "z2 = x.view(-1, 8)  # pytorch automatically finds a value for us \n",
        "print(z1)\n",
        "print(z1.size())\n",
        "print(z1 == z2)"
      ],
      "execution_count": 50,
      "outputs": [
        {
          "output_type": "stream",
          "text": [
            "tensor([[0.0656, 0.4130, 0.2222, 0.7570],\n",
            "        [0.7709, 0.3075, 0.9301, 0.3476],\n",
            "        [0.4060, 0.9690, 0.5617, 0.1507],\n",
            "        [0.6053, 0.4215, 0.7154, 0.9495]])\n",
            "tensor([0.0656, 0.4130, 0.2222, 0.7570, 0.7709, 0.3075, 0.9301, 0.3476, 0.4060,\n",
            "        0.9690, 0.5617, 0.1507, 0.6053, 0.4215, 0.7154, 0.9495])\n",
            "===== reshaping/resizing =====\n",
            "tensor([[0.0656, 0.4130, 0.2222, 0.7570, 0.7709, 0.3075, 0.9301, 0.3476],\n",
            "        [0.4060, 0.9690, 0.5617, 0.1507, 0.6053, 0.4215, 0.7154, 0.9495]])\n",
            "torch.Size([2, 8])\n",
            "tensor([[True, True, True, True, True, True, True, True],\n",
            "        [True, True, True, True, True, True, True, True]])\n"
          ],
          "name": "stdout"
        }
      ]
    },
    {
      "cell_type": "code",
      "metadata": {
        "colab": {
          "base_uri": "https://localhost:8080/"
        },
        "id": "5pDc0jTlv-GY",
        "outputId": "827d8c56-ab8a-4054-e66b-3b6db281d0c0"
      },
      "source": [
        "# numpy can be only dealt with cpu \n",
        "# torch -> numpy / numpy -> torch\n",
        "a = torch.ones(5)\n",
        "print(a)\n",
        "\n",
        "print(\"===== tensor -> numpy =====\")\n",
        "b = a.numpy()\n",
        "print(b)\n",
        "print(type(b))\n",
        "# a and b points to the \"same memory location\"\n",
        "\n",
        "print(\"===== numpy -> tensor =====\")\n",
        "c = np.ones(5)\n",
        "print(c)\n",
        "\n",
        "d = torch.from_numpy(c)\n",
        "print(d)\n",
        "print(type(d))\n",
        "# c and d points to the \"same memory location\""
      ],
      "execution_count": 58,
      "outputs": [
        {
          "output_type": "stream",
          "text": [
            "tensor([1., 1., 1., 1., 1.])\n",
            "===== tensor -> numpy =====\n",
            "[1. 1. 1. 1. 1.]\n",
            "<class 'numpy.ndarray'>\n",
            "===== numpy -> tensor =====\n",
            "[1. 1. 1. 1. 1.]\n",
            "tensor([1., 1., 1., 1., 1.], dtype=torch.float64)\n",
            "<class 'torch.Tensor'>\n"
          ],
          "name": "stdout"
        }
      ]
    },
    {
      "cell_type": "code",
      "metadata": {
        "id": "OCZvlnkS47EI"
      },
      "source": [
        ""
      ],
      "execution_count": null,
      "outputs": []
    }
  ]
}