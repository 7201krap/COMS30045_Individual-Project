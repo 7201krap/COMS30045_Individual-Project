{
  "nbformat": 4,
  "nbformat_minor": 0,
  "metadata": {
    "colab": {
      "name": "sparsity.ipynb",
      "provenance": [],
      "collapsed_sections": [],
      "machine_shape": "hm",
      "include_colab_link": true
    },
    "kernelspec": {
      "display_name": "Python 3",
      "language": "python",
      "name": "python3"
    },
    "language_info": {
      "codemirror_mode": {
        "name": "ipython",
        "version": 3
      },
      "file_extension": ".py",
      "mimetype": "text/x-python",
      "name": "python",
      "nbconvert_exporter": "python",
      "pygments_lexer": "ipython3",
      "version": "3.8.5"
    }
  },
  "cells": [
    {
      "cell_type": "markdown",
      "metadata": {
        "id": "view-in-github",
        "colab_type": "text"
      },
      "source": [
        "<a href=\"https://colab.research.google.com/github/7201krap/PYTORCH_project/blob/main/project_FINAL/sparsity.ipynb\" target=\"_parent\"><img src=\"https://colab.research.google.com/assets/colab-badge.svg\" alt=\"Open In Colab\"/></a>"
      ]
    },
    {
      "cell_type": "code",
      "metadata": {
        "id": "o7STrWa0P3z_"
      },
      "source": [
        "import torch\n",
        "from torchvision import transforms\n",
        "import torchvision.datasets as datasets\n",
        "import matplotlib.pyplot as plt\n",
        "import numpy as np\n",
        "import pickle"
      ],
      "execution_count": null,
      "outputs": []
    },
    {
      "cell_type": "code",
      "metadata": {
        "id": "An-NVJcEfVG-"
      },
      "source": [
        "device = torch.device('cuda' if torch.cuda.is_available() else 'cpu')"
      ],
      "execution_count": null,
      "outputs": []
    },
    {
      "cell_type": "code",
      "metadata": {
        "id": "tke0vosw9vt4"
      },
      "source": [
        "torch.manual_seed(1234)\n",
        "np.random.seed(1234)"
      ],
      "execution_count": null,
      "outputs": []
    },
    {
      "cell_type": "code",
      "metadata": {
        "id": "rTW5TOUnP5XY"
      },
      "source": [
        "mnist_trainset = datasets.MNIST(root='./data', train=True, \n",
        "                                download=True, \n",
        "                                transform=transforms.Compose([transforms.ToTensor()]))\n",
        "\n",
        "mnist_testset  = datasets.MNIST(root='./data', \n",
        "                                train=False, \n",
        "                                download=True, \n",
        "                                transform=transforms.Compose([transforms.ToTensor()]))\n",
        "\n",
        "train_dataloader = torch.utils.data.DataLoader(mnist_trainset, \n",
        "                                               batch_size=50, \n",
        "                                               shuffle=True)\n",
        "\n",
        "test_dataloader  = torch.utils.data.DataLoader(mnist_testset, \n",
        "                                               batch_size=50, \n",
        "                                               shuffle=False)\n",
        "\n",
        "print(\"Training dataset size: \", len(mnist_trainset))\n",
        "print(\"Testing dataset size: \",  len(mnist_testset))"
      ],
      "execution_count": null,
      "outputs": []
    },
    {
      "cell_type": "code",
      "metadata": {
        "id": "IXTkEUJ5P6kU"
      },
      "source": [
        "# Define the model \n",
        "class Model(torch.nn.Module):\n",
        "    def __init__(self):\n",
        "        super(Model, self).__init__()\n",
        "        self.linear_1 = torch.nn.Linear(784, 256)\n",
        "        self.linear_2 = torch.nn.Linear(256, 10)\n",
        "        self.sigmoid  = torch.nn.Sigmoid()\n",
        "\n",
        "    def forward(self, x):\n",
        "        x = x.reshape(x.size(0), -1)\n",
        "        x = self.linear_1(x)\n",
        "        x = self.sigmoid(x)\n",
        "        pred = self.linear_2(x)\n",
        "\n",
        "        return pred"
      ],
      "execution_count": null,
      "outputs": []
    },
    {
      "cell_type": "code",
      "metadata": {
        "id": "BfgvKH6eP9Ou",
        "colab": {
          "base_uri": "https://localhost:8080/"
        },
        "outputId": "03fd1847-d86b-48a9-e786-abf703dd345c"
      },
      "source": [
        "def get_activation(model):    \n",
        "    def hook(module, input, output):\n",
        "        model.layer_activations = output\n",
        "    return hook"
      ],
      "execution_count": null,
      "outputs": [
        {
          "output_type": "stream",
          "text": [
            "\n",
            "\n"
          ],
          "name": "stdout"
        }
      ]
    },
    {
      "cell_type": "code",
      "metadata": {
        "id": "BXOpwTXEQFKY"
      },
      "source": [
        "no_epochs = 30\n",
        "criterion = torch.nn.CrossEntropyLoss()\n",
        "def sparsity_trainer(optimizer, model):\n",
        "\n",
        "    # reset the model \n",
        "    train_loss = list()\n",
        "    test_loss  = list()\n",
        "    test_acc   = list()\n",
        "    final_spareness = list()\n",
        "\n",
        "    # define activation list \n",
        "\n",
        "    best_test_loss = 1\n",
        "\n",
        "    for epoch in range(no_epochs):\n",
        "        total_train_loss = 0\n",
        "        total_test_loss = 0\n",
        "\n",
        "        hidden_layer_activation_list = list()\n",
        "\n",
        "        # training\n",
        "        # set up training mode \n",
        "        model.train()\n",
        "        for itr, (image, label) in enumerate(train_dataloader):\n",
        "\n",
        "            image, label = image.to(device), label.to(device)\n",
        "\n",
        "            optimizer.zero_grad()\n",
        "\n",
        "            pred = model(image)\n",
        "\n",
        "            loss = criterion(pred, label)\n",
        "            total_train_loss += loss.item()\n",
        "\n",
        "            loss.backward()\n",
        "            optimizer.step()\n",
        "\n",
        "        total_train_loss = total_train_loss / (itr + 1)\n",
        "        train_loss.append(total_train_loss)\n",
        "\n",
        "        # testing \n",
        "        # change to evaluation mode \n",
        "        model.eval()\n",
        "        total = 0\n",
        "        for itr, (image, label) in enumerate(test_dataloader):\n",
        "            image, label = image.to(device), label.to(device)\n",
        "\n",
        "            pred = model(image)\n",
        "\n",
        "            loss = criterion(pred, label)\n",
        "            total_test_loss += loss.item()\n",
        "\n",
        "            # we now need softmax because we are testing.\n",
        "            pred = torch.nn.functional.softmax(pred, dim=1)\n",
        "            for i, p in enumerate(pred):\n",
        "                if label[i] == torch.max(p.data, 0)[1]:\n",
        "                    total = total + 1\n",
        "\n",
        "            hidden_layer_activation_list.append(model.layer_activations)\n",
        "\n",
        "        # this conains activations for all epochs \n",
        "        final_spareness.append(hidden_layer_activation_list)\n",
        "\n",
        "        # caculate accuracy \n",
        "        accuracy = total / len(mnist_testset)\n",
        "\n",
        "        # append accuracy here\n",
        "        test_acc.append(accuracy)\n",
        "\n",
        "        # append test loss here \n",
        "        total_test_loss = total_test_loss / (itr + 1)\n",
        "        test_loss.append(total_test_loss)\n",
        "\n",
        "        # print('\\nEpoch: {}/{}, Train Loss: {:.8f}, Test Loss: {:.8f}, Test Accuracy: {:.8f}'.format(epoch + 1, no_epochs, total_train_loss, total_test_loss, accuracy))\n",
        "\n",
        "        # if total_test_loss < best_test_loss:\n",
        "        #     best_test_loss = total_test_loss\n",
        "            # print(\"Saving the model state dictionary for Epoch: {} with Test loss: {:.8f}\".format(epoch + 1, total_test_loss))\n",
        "            # torch.save(model.state_dict(), \"model.dth\")\n",
        "\n",
        "    sparseness_list = list()\n",
        "\n",
        "    for single_epoch_spareness in final_spareness:\n",
        "        single_epoch_spareness = torch.stack(single_epoch_spareness)\n",
        "        layer_activations_list = torch.reshape(single_epoch_spareness, (10000, 256))\n",
        "\n",
        "        layer_activations_list = torch.abs(layer_activations_list)  # modified \n",
        "        num_neurons = layer_activations_list.shape[1]\n",
        "        population_sparseness = (np.sqrt(num_neurons) - (torch.sum(layer_activations_list, dim=1) / torch.sqrt(torch.sum(layer_activations_list ** 2, dim=1)))) / (np.sqrt(num_neurons) - 1)\n",
        "        mean_sparseness_per_epoch = torch.mean(population_sparseness)\n",
        "\n",
        "        sparseness_list.append(mean_sparseness_per_epoch)\n",
        "\n",
        "    return test_acc, sparseness_list"
      ],
      "execution_count": null,
      "outputs": []
    },
    {
      "cell_type": "markdown",
      "metadata": {
        "id": "1WKq9qSgMADr"
      },
      "source": [
        "# AdaDelta\n",
        "\n",
        "### Rho, weight decay, and learning rate\n",
        "\n",
        "default: torch.optim.Adadelta(params, lr=1.0, rho=0.9, eps=1e-06, weight_decay=0)\n"
      ]
    },
    {
      "cell_type": "markdown",
      "metadata": {
        "id": "SJO1JLsoAe4h"
      },
      "source": [
        "Rho "
      ]
    },
    {
      "cell_type": "code",
      "metadata": {
        "id": "D4WytqcJRZxA"
      },
      "source": [
        "rho_list = [0.0, 0.1, 0.2, 0.3, 0.4, 0.5, 0.6, 0.7, 0.8, 0.9, 1.0]\n",
        "for i in range(11):\n",
        "    print(f\"Entering {i}-th loop\")\n",
        "    model_adadelta_rho = Model()\n",
        "    model_adadelta_rho.to(device)\n",
        "    model_adadelta_rho.sigmoid.register_forward_hook(get_activation(model_adadelta_rho))\n",
        "    optimizer_adadelta = torch.optim.Adadelta(model_adadelta_rho.parameters(), rho=rho_list[i])\n",
        "    adadelta_test_acc, adadelta_sparseness_list = sparsity_trainer(optimizer=optimizer_adadelta, model=model_adadelta_rho)\n",
        "    \n",
        "    if i == 0:\n",
        "        f = open(\"adadelta_rho.txt\", \"w\")\n",
        "        f.write(str(i)+'\\n'+str(adadelta_test_acc)+'\\n'+str(adadelta_sparseness_list)+'\\n\\n')\n",
        "    else:\n",
        "        f = open(\"adadelta_rho.txt\", \"a\")\n",
        "        f.write(str(i)+'\\n'+str(adadelta_test_acc)+'\\n'+str(adadelta_sparseness_list)+'\\n\\n')\n",
        "f.close()"
      ],
      "execution_count": null,
      "outputs": []
    },
    {
      "cell_type": "markdown",
      "metadata": {
        "id": "NWQBMS8NAhfv"
      },
      "source": [
        "Weight decay"
      ]
    },
    {
      "cell_type": "code",
      "metadata": {
        "id": "WOb5LovDJjur"
      },
      "source": [
        "weight_decay = np.logspace(-5, 1, 11)\n",
        "\n",
        "for i in range(11):\n",
        "    print(f\"Entering {i}-th loop\")\n",
        "    model_adadelta_weight_decay = Model()\n",
        "    model_adadelta_weight_decay.sigmoid.register_forward_hook(get_activation(model_adadelta_weight_decay))\n",
        "    optimizer_adadelta = torch.optim.Adadelta(model_adadelta_weight_decay.parameters(), weight_decay=weight_decay[i])\n",
        "    adadelta_test_acc, adadelta_sparseness_list = sparsity_trainer(optimizer=optimizer_adadelta, model=model_adadelta_weight_decay)\n",
        "\n",
        "    if i == 0:\n",
        "        f = open(\"adadelta_weight_decay.txt\", \"w\")\n",
        "        f.write(str(i)+'\\n'+str(adadelta_test_acc)+'\\n'+str(adadelta_sparseness_list)+'\\n\\n')\n",
        "    else:\n",
        "        f = open(\"adadelta_weight_decay.txt\", \"a\")\n",
        "        f.write(str(i)+'\\n'+str(adadelta_test_acc)+'\\n'+str(adadelta_sparseness_list)+'\\n\\n')\n",
        "\n",
        "f.close()"
      ],
      "execution_count": null,
      "outputs": []
    },
    {
      "cell_type": "markdown",
      "metadata": {
        "id": "6Wey1B3AIBmF"
      },
      "source": [
        "Learning rate"
      ]
    },
    {
      "cell_type": "code",
      "metadata": {
        "id": "4Lhn_k8GIBM9"
      },
      "source": [
        "learning_rate = np.logspace(-5, 0, 11)\n",
        "\n",
        "for i in range(11):\n",
        "    print(f\"Entering {i}-th loop\")\n",
        "    model_adadelta_lr = Model()\n",
        "    model_adadelta_lr.sigmoid.register_forward_hook(get_activation(model_adadelta_lr))\n",
        "    optimizer_adadelta = torch.optim.Adadelta(model_adadelta_lr.parameters(), lr=learning_rate[i])\n",
        "    adadelta_test_acc, adadelta_sparseness_list = sparsity_trainer(optimizer=optimizer_adadelta, model=model_adadelta_lr)\n",
        "\n",
        "    if i == 0:\n",
        "        f = open(\"adadelta_learning_rate.txt\", \"w\")\n",
        "        f.write(str(i)+'\\n'+str(adadelta_test_acc)+'\\n'+str(adadelta_sparseness_list)+'\\n\\n')\n",
        "    else:\n",
        "        f = open(\"adadelta_learning_rate.txt\", \"a\")\n",
        "        f.write(str(i)+'\\n'+str(adadelta_test_acc)+'\\n'+str(adadelta_sparseness_list)+'\\n\\n')\n",
        "\n",
        "f.close()"
      ],
      "execution_count": null,
      "outputs": []
    },
    {
      "cell_type": "markdown",
      "metadata": {
        "id": "8hXfQe4vMDKB"
      },
      "source": [
        "# AdaGrad\n",
        "\n",
        "### weight_decay and learning rate\n",
        "\n",
        "default: torch.optim.Adagrad(params, lr=0.01, lr_decay=0, weight_decay=0, initial_accumulator_value=0, eps=1e-10)"
      ]
    },
    {
      "cell_type": "markdown",
      "metadata": {
        "id": "cWCbXSttMHSp"
      },
      "source": [
        "weight_decay"
      ]
    },
    {
      "cell_type": "code",
      "metadata": {
        "id": "vb-4TPM5MGuE"
      },
      "source": [
        "weight_decay = np.logspace(-5, 1, 11)\n",
        "\n",
        "for i in range(11):\n",
        "    print(f\"Entering {i}-th loop\")\n",
        "    model_adagrad_weight_decay = Model()\n",
        "    model_adagrad_weight_decay.sigmoid.register_forward_hook(get_activation(model_adagrad_weight_decay))\n",
        "    optimizer_adagrad = torch.optim.Adagrad(model_adagrad_weight_decay.parameters(), weight_decay=weight_decay[i])\n",
        "    adagrad_test_acc, adagrad_sparseness_list = sparsity_trainer(optimizer=optimizer_adagrad, model=model_adagrad_weight_decay)\n",
        "\n",
        "    if i == 0:\n",
        "        f = open(\"adagrad_weight_decay.txt\", \"w\")\n",
        "        f.write(str(i)+'\\n'+str(adagrad_test_acc)+'\\n'+str(adagrad_sparseness_list)+'\\n\\n')\n",
        "    else:\n",
        "        f = open(\"adagrad_weight_decay.txt\", \"a\")\n",
        "        f.write(str(i)+'\\n'+str(adagrad_test_acc)+'\\n'+str(adagrad_sparseness_list)+'\\n\\n')\n",
        "\n",
        "f.close()"
      ],
      "execution_count": null,
      "outputs": []
    },
    {
      "cell_type": "markdown",
      "metadata": {
        "id": "XLVCAkvaMPQg"
      },
      "source": [
        "Learning rate"
      ]
    },
    {
      "cell_type": "code",
      "metadata": {
        "id": "qimUEzVQJrUH"
      },
      "source": [
        "learning_rate = np.logspace(-5, 0, 11)\n",
        "\n",
        "for i in range(11):\n",
        "    print(f\"Entering {i}-th loop\")\n",
        "    model_adagrad_lr = Model()\n",
        "    model_adagrad_lr.sigmoid.register_forward_hook(get_activation(model_adagrad_lr))\n",
        "    optimizer_adagrad = torch.optim.Adagrad(model_adagrad_lr.parameters(), lr=learning_rate[i])\n",
        "    adagrad_test_acc, adagrad_sparseness_list = sparsity_trainer(optimizer=optimizer_adagrad, model=model_adagrad_lr)\n",
        "\n",
        "    if i == 0:\n",
        "        f = open(\"adagrad_learning_rate.txt\", \"w\")\n",
        "        f.write(str(i)+':\\n'+str(adagrad_test_acc)+'\\n'+str(adagrad_sparseness_list)+'\\n\\n')\n",
        "    else:\n",
        "        f = open(\"adagrad_learning_rate.txt\", \"a\")\n",
        "        f.write(str(i)+'\\n'+str(adagrad_test_acc)+'\\n'+str(adagrad_sparseness_list)+'\\n\\n')\n",
        "\n",
        "f.close()"
      ],
      "execution_count": null,
      "outputs": []
    },
    {
      "cell_type": "markdown",
      "metadata": {
        "id": "hmLJ4Zr2MnoS"
      },
      "source": [
        "# SGD\n",
        "\n",
        "### learning rate, weight decay, and momentum\n",
        "\n",
        "default: torch.optim.SGD(params, lr=<required parameter>, momentum=0, dampening=0, weight_decay=0, nesterov=False)"
      ]
    },
    {
      "cell_type": "markdown",
      "metadata": {
        "id": "4aUPYRRgNw1p"
      },
      "source": [
        "learning rate"
      ]
    },
    {
      "cell_type": "code",
      "metadata": {
        "id": "6ObsEJHuMoPy"
      },
      "source": [
        "learning_rate = np.logspace(-5, 0, 11)\n",
        "\n",
        "for i in range(11):\n",
        "    print(f\"Entering {i}-th loop\")\n",
        "    model_SGD_lr = Model()\n",
        "    model_SGD_lr.sigmoid.register_forward_hook(get_activation(model_SGD_lr))\n",
        "    optimizer_SGD = torch.optim.SGD(model_SGD_lr.parameters(), lr=learning_rate[i])\n",
        "    SGD_test_acc, SGD_sparseness_list = sparsity_trainer(optimizer=optimizer_SGD, model=model_SGD_lr)\n",
        "\n",
        "    if i == 0:\n",
        "        f = open(\"SGD_learning_rate.txt\", \"w\")\n",
        "        f.write(str(i)+'\\n'+str(SGD_test_acc)+'\\n'+str(SGD_sparseness_list)+'\\n\\n')\n",
        "    else:\n",
        "        f = open(\"SGD_learning_rate.txt\", \"a\")\n",
        "        f.write(str(i)+'\\n'+str(SGD_test_acc)+'\\n'+str(SGD_sparseness_list)+'\\n\\n')\n",
        "\n",
        "f.close()"
      ],
      "execution_count": null,
      "outputs": []
    },
    {
      "cell_type": "markdown",
      "metadata": {
        "id": "MYyN42ZkPAkj"
      },
      "source": [
        "weight decay"
      ]
    },
    {
      "cell_type": "code",
      "metadata": {
        "id": "U0cKIK8KO_fH"
      },
      "source": [
        "weight_decay = np.logspace(-5, 1, 11)\n",
        "\n",
        "for i in range(11):\n",
        "    print(f\"Entering {i}-th loop\")\n",
        "    model_SGD_weight_decay = Model()\n",
        "    model_SGD_weight_decay.sigmoid.register_forward_hook(get_activation(model_SGD_weight_decay))\n",
        "    optimizer_SGD = torch.optim.SGD(model_SGD_weight_decay.parameters(), weight_decay=weight_decay[i])\n",
        "    SGD_test_acc, SGD_sparseness_list = sparsity_trainer(optimizer=optimizer_SGD, model=model_SGD_weight_decay)\n",
        "\n",
        "    if i == 0:\n",
        "        f = open(\"SGD_weight_decay.txt\", \"w\")\n",
        "        f.write(str(i)+'\\n'+str(SGD_test_acc)+'\\n'+str(SGD_sparseness_list)+'\\n\\n')\n",
        "    else:\n",
        "        f = open(\"SGD_weight_decay.txt\", \"a\")\n",
        "        f.write(str(i)+'\\n'+str(SGD_test_acc)+'\\n'+str(SGD_sparseness_list)+'\\n\\n')\n",
        "\n",
        "f.close()"
      ],
      "execution_count": null,
      "outputs": []
    },
    {
      "cell_type": "markdown",
      "metadata": {
        "id": "7F-x2rHvN0lu"
      },
      "source": [
        "momentum"
      ]
    },
    {
      "cell_type": "code",
      "metadata": {
        "id": "rwP2iTe0N1Z8"
      },
      "source": [
        "momentum = [0.0, 0.1, 0.2, 0.3, 0.4, 0.5, 0.6, 0.7, 0.8, 0.9, 1.0]\n",
        "\n",
        "for i in range(11):\n",
        "    print(f\"Entering {i}-th loop\")\n",
        "    model_SGD_lr = Model()\n",
        "    model_SGD_lr.sigmoid.register_forward_hook(get_activation(model_SGD_lr))\n",
        "    optimizer_SGD = torch.optim.SGD(model_SGD_lr.parameters(), momentum=momentum[i])\n",
        "    SGD_test_acc, SGD_sparseness_list = sparsity_trainer(optimizer=optimizer_SGD, model=model_SGD_lr)\n",
        "\n",
        "    if i == 0:\n",
        "        f = open(\"SGD_momentum.txt\", \"w\")\n",
        "        f.write(str(i)+'\\n'+str(SGD_test_acc)+'\\n'+str(SGD_sparseness_list)+'\\n\\n')\n",
        "    else:\n",
        "        f = open(\"SGD_momentum.txt\", \"a\")\n",
        "        f.write(str(i)+'\\n'+str(SGD_test_acc)+'\\n'+str(SGD_sparseness_list)+'\\n\\n')\n",
        "\n",
        "f.close()"
      ],
      "execution_count": null,
      "outputs": []
    },
    {
      "cell_type": "markdown",
      "metadata": {
        "id": "QvQxaN_fRXLq"
      },
      "source": [
        "# Adam\n",
        "\n",
        "### weight decay, learning rate, lhs betas, and rhs betas\n",
        "\n",
        "default: torch.optim.Adam(params, lr=0.001, betas=(0.9, 0.999), eps=1e-08, weight_decay=0, amsgrad=False)"
      ]
    },
    {
      "cell_type": "markdown",
      "metadata": {
        "id": "Gs45nm0sNEMv"
      },
      "source": [
        "Weight decay"
      ]
    },
    {
      "cell_type": "code",
      "metadata": {
        "id": "VkqfFoVkRXxP"
      },
      "source": [
        "weight_decay = np.logspace(-5, 1, 11)\n",
        "\n",
        "for i in range(11):\n",
        "    print(f\"Entering {i}-th loop\")\n",
        "    model_Adam_weight_decay = Model()\n",
        "    model_Adam_weight_decay.sigmoid.register_forward_hook(get_activation(model_Adam_weight_decay))\n",
        "    optimizer_Adam = torch.optim.Adam(model_Adam_weight_decay.parameters(), weight_decay=weight_decay[i])\n",
        "    Adam_test_acc, Adam_sparseness_list = sparsity_trainer(optimizer=optimizer_Adam, model=model_Adam_weight_decay)\n",
        "\n",
        "    if i == 0:\n",
        "        f = open(\"Adam_weight_decay.txt\", \"w\")\n",
        "        f.write(str(i)+'\\n'+str(Adam_test_acc)+'\\n'+str(Adam_sparseness_list)+'\\n\\n')\n",
        "    else:\n",
        "        f = open(\"Adam_weight_decay.txt\", \"a\")\n",
        "        f.write(str(i)+'\\n'+str(Adam_test_acc)+'\\n'+str(Adam_sparseness_list)+'\\n\\n')\n",
        "\n",
        "f.close()"
      ],
      "execution_count": null,
      "outputs": []
    },
    {
      "cell_type": "markdown",
      "metadata": {
        "id": "8hUl7F2wNDGR"
      },
      "source": [
        "Learning rate"
      ]
    },
    {
      "cell_type": "code",
      "metadata": {
        "id": "6z1u_5kqNCfC"
      },
      "source": [
        "learning_rate = np.logspace(-5, 0, 11)\n",
        "\n",
        "for i in range(11):\n",
        "    print(f\"Entering {i}-th loop\")\n",
        "    model_Adam_lr = Model()\n",
        "    model_Adam_lr.sigmoid.register_forward_hook(get_activation(model_Adam_lr))\n",
        "    optimizer_Adam = torch.optim.Adam(model_Adam_lr.parameters(), lr=learning_rate[i])\n",
        "    Adam_test_acc, Adam_sparseness_list = sparsity_trainer(optimizer=optimizer_Adam, model=model_Adam_lr)\n",
        "\n",
        "    if i == 0:\n",
        "        f = open(\"Adam_learning_rate.txt\", \"w\")\n",
        "        f.write(str(i)+'\\n'+str(Adam_test_acc)+'\\n'+str(Adam_sparseness_list)+'\\n\\n')\n",
        "    else:\n",
        "        f = open(\"Adam_learning_rate.txt\", \"a\")\n",
        "        f.write(str(i)+'\\n'+str(Adam_test_acc)+'\\n'+str(Adam_sparseness_list)+'\\n\\n')\n",
        "\n",
        "f.close()"
      ],
      "execution_count": null,
      "outputs": []
    },
    {
      "cell_type": "markdown",
      "metadata": {
        "id": "k_y6a0mQNeU4"
      },
      "source": [
        "Betas - lhs"
      ]
    },
    {
      "cell_type": "code",
      "metadata": {
        "id": "aji9UA3cNd-9"
      },
      "source": [
        "betas_lhs = [0.0, 0.1, 0.2, 0.3, 0.4, 0.5, 0.6, 0.7, 0.8, 0.9, 1.0]\n",
        "\n",
        "for i in range(11):\n",
        "    print(f\"Entering {i}-th loop\")\n",
        "    model_Adam_lr = Model()\n",
        "    model_Adam_lr.sigmoid.register_forward_hook(get_activation(model_Adam_lr))\n",
        "    optimizer_Adam = torch.optim.Adam(model_Adam_lr.parameters(), betas=(betas_lhs[i], 0.999))\n",
        "    Adam_test_acc, Adam_sparseness_list = sparsity_trainer(optimizer=optimizer_Adam, model=model_Adam_lr)\n",
        "\n",
        "    if i == 0:\n",
        "        f = open(\"Adam_betas_lhs.txt\", \"w\")\n",
        "        f.write(str(i)+'\\n'+str(Adam_test_acc)+'\\n'+str(Adam_sparseness_list)+'\\n\\n')\n",
        "    else:\n",
        "        f = open(\"Adam_betas_lhs.txt\", \"a\")\n",
        "        f.write(str(i)+'\\n'+str(Adam_test_acc)+'\\n'+str(Adam_sparseness_list)+'\\n\\n')\n",
        "\n",
        "f.close()"
      ],
      "execution_count": null,
      "outputs": []
    },
    {
      "cell_type": "markdown",
      "metadata": {
        "id": "e1vsY2LePFFR"
      },
      "source": [
        "Betas - rhs"
      ]
    },
    {
      "cell_type": "code",
      "metadata": {
        "id": "sRYfwUfNPFLx"
      },
      "source": [
        "betas_rhs = [0.0, 0.1, 0.2, 0.3, 0.4, 0.5, 0.6, 0.7, 0.8, 0.9, 1.0]\n",
        "\n",
        "for i in range(11):\n",
        "    print(f\"Entering {i}-th loop\")\n",
        "    model_Adam_lr = Model()\n",
        "    model_Adam_lr.sigmoid.register_forward_hook(get_activation(model_Adam_lr))\n",
        "    optimizer_Adam = torch.optim.Adam(model_Adam_lr.parameters(), betas=(0.9, betas_rhs[i]))\n",
        "    Adam_test_acc, Adam_sparseness_list = sparsity_trainer(optimizer=optimizer_Adam, model=model_Adam_lr)\n",
        "\n",
        "    if i == 0:\n",
        "        f = open(\"Adam_betas_rhs.txt\", \"w\")\n",
        "        f.write(str(i)+'\\n'+str(Adam_test_acc)+'\\n'+str(Adam_sparseness_list)+'\\n\\n')\n",
        "    else:\n",
        "        f = open(\"Adam_betas_rhs.txt\", \"a\")\n",
        "        f.write(str(i)+'\\n'+str(Adam_test_acc)+'\\n'+str(Adam_sparseness_list)+'\\n\\n')\n",
        "\n",
        "f.close()"
      ],
      "execution_count": null,
      "outputs": []
    }
  ]
}