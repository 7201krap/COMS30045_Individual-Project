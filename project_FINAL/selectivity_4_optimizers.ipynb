{
  "nbformat": 4,
  "nbformat_minor": 0,
  "metadata": {
    "colab": {
      "name": "selectivity_4_optimizers.ipynb",
      "provenance": [],
      "collapsed_sections": [],
      "machine_shape": "hm",
      "include_colab_link": true
    },
    "kernelspec": {
      "display_name": "Python 3",
      "language": "python",
      "name": "python3"
    },
    "language_info": {
      "codemirror_mode": {
        "name": "ipython",
        "version": 3
      },
      "file_extension": ".py",
      "mimetype": "text/x-python",
      "name": "python",
      "nbconvert_exporter": "python",
      "pygments_lexer": "ipython3",
      "version": "3.8.5"
    }
  },
  "cells": [
    {
      "cell_type": "markdown",
      "metadata": {
        "id": "view-in-github",
        "colab_type": "text"
      },
      "source": [
        "<a href=\"https://colab.research.google.com/github/7201krap/PYTORCH_project/blob/main/selectivity_4_optimizers.ipynb\" target=\"_parent\"><img src=\"https://colab.research.google.com/assets/colab-badge.svg\" alt=\"Open In Colab\"/></a>"
      ]
    },
    {
      "cell_type": "code",
      "metadata": {
        "id": "o7STrWa0P3z_"
      },
      "source": [
        "import torch\n",
        "from torchvision import transforms\n",
        "import torchvision.datasets as datasets\n",
        "import matplotlib.pyplot as plt\n",
        "import numpy as np"
      ],
      "execution_count": 1,
      "outputs": []
    },
    {
      "cell_type": "code",
      "metadata": {
        "id": "ApOU7hvb95W4"
      },
      "source": [
        "torch.manual_seed(1234)\n",
        "np.random.seed(1234)"
      ],
      "execution_count": 2,
      "outputs": []
    },
    {
      "cell_type": "code",
      "metadata": {
        "colab": {
          "base_uri": "https://localhost:8080/"
        },
        "id": "rTW5TOUnP5XY",
        "outputId": "255f6096-0c0e-42e2-bbbd-1df2f2e73ac9"
      },
      "source": [
        "mnist_trainset = datasets.MNIST(root='./data', train=True, \n",
        "                                download=True, \n",
        "                                transform=transforms.Compose([transforms.ToTensor()]))\n",
        "\n",
        "mnist_testset  = datasets.MNIST(root='./data', \n",
        "                                train=False, \n",
        "                                download=True, \n",
        "                                transform=transforms.Compose([transforms.ToTensor()]))\n",
        "\n",
        "train_dataloader = torch.utils.data.DataLoader(mnist_trainset, \n",
        "                                               batch_size=50, \n",
        "                                               shuffle=True)\n",
        "\n",
        "test_dataloader  = torch.utils.data.DataLoader(mnist_testset, \n",
        "                                               batch_size=50, \n",
        "                                               shuffle=False)\n",
        "\n",
        "print(\"Training dataset size: \", len(mnist_trainset))\n",
        "print(\"Testing dataset size: \",  len(mnist_testset))"
      ],
      "execution_count": 3,
      "outputs": [
        {
          "output_type": "stream",
          "text": [
            "Training dataset size:  60000\n",
            "Testing dataset size:  10000\n"
          ],
          "name": "stdout"
        }
      ]
    },
    {
      "cell_type": "code",
      "metadata": {
        "id": "IXTkEUJ5P6kU"
      },
      "source": [
        "# Define the model \n",
        "class Model(torch.nn.Module):\n",
        "    def __init__(self):\n",
        "        super(Model, self).__init__()\n",
        "        self.linear_1 = torch.nn.Linear(784, 256)\n",
        "        self.linear_2 = torch.nn.Linear(256, 10)\n",
        "        self.sigmoid  = torch.nn.Sigmoid()\n",
        "\n",
        "    def forward(self, x):\n",
        "        x = x.reshape(x.size(0), -1)\n",
        "        x = self.linear_1(x)\n",
        "        x = self.sigmoid(x)\n",
        "        pred = self.linear_2(x)\n",
        "\n",
        "        return pred"
      ],
      "execution_count": 4,
      "outputs": []
    },
    {
      "cell_type": "code",
      "metadata": {
        "id": "BfgvKH6eP9Ou"
      },
      "source": [
        "def get_activation(model):    \n",
        "    def hook(module, input, output):\n",
        "        model.layer_activations = output\n",
        "    return hook"
      ],
      "execution_count": 5,
      "outputs": []
    },
    {
      "cell_type": "code",
      "metadata": {
        "id": "savMT9-gP_3m"
      },
      "source": [
        "# adagrad \n",
        "model_adagrad = Model()\n",
        "model_adagrad.sigmoid.register_forward_hook(get_activation(model_adagrad))\n",
        "optimizer_adagrad  = torch.optim.Adagrad(model_adagrad.parameters(), lr=0.1)\n",
        "\n",
        "# adadelta\n",
        "model_adadelta = Model()\n",
        "model_adadelta.sigmoid.register_forward_hook(get_activation(model_adadelta))\n",
        "optimizer_adadelta = torch.optim.Adadelta(model_adadelta.parameters(), lr=1)\n",
        "\n",
        "# adam\n",
        "model_adam = Model()\n",
        "model_adam.sigmoid.register_forward_hook(get_activation(model_adam))\n",
        "optimizer_adam = torch.optim.Adam(model_adam.parameters(), lr=0.001)\n",
        "\n",
        "# SGD \n",
        "model_sgd = Model()\n",
        "model_sgd.sigmoid.register_forward_hook(get_activation(model_sgd))\n",
        "optimizer_sgd      = torch.optim.SGD(model_sgd.parameters(), lr=0.1)"
      ],
      "execution_count": 6,
      "outputs": []
    },
    {
      "cell_type": "code",
      "metadata": {
        "id": "BXOpwTXEQFKY"
      },
      "source": [
        "no_epochs = 50\n",
        "def selectivity_trainer(optimizer, model):\n",
        "\n",
        "    hidden_layer_each_neuron = [{0:[], 1:[], 2:[], 3:[], 4:[], 5:[], 6:[], 7:[], 8:[], 9:[]} for x in range(256)]\n",
        "    hidden_layer_each_neuron = np.array(hidden_layer_each_neuron)\n",
        "\n",
        "    criterion = torch.nn.CrossEntropyLoss()\n",
        "    train_loss = list()\n",
        "    test_loss  = list()\n",
        "    test_acc   = list()\n",
        "\n",
        "    best_test_loss = 1\n",
        "\n",
        "    for epoch in range(no_epochs):\n",
        "        total_train_loss = 0\n",
        "        total_test_loss = 0\n",
        "\n",
        "        # training\n",
        "        # set up training mode \n",
        "        model.train()\n",
        "\n",
        "        for itr, (images, label) in enumerate(train_dataloader):\n",
        "\n",
        "            optimizer.zero_grad()\n",
        "\n",
        "            pred = model(images)\n",
        "\n",
        "            loss = criterion(pred, label)\n",
        "            total_train_loss += loss.item()\n",
        "\n",
        "            loss.backward()\n",
        "            optimizer.step()\n",
        "\n",
        "            # Print/Append activation of the hidden layer \n",
        "            # print(model.layer_activations.shape)\n",
        "            # model.layer_activations\n",
        "\n",
        "        total_train_loss = total_train_loss / (itr + 1)\n",
        "        train_loss.append(total_train_loss)\n",
        "\n",
        "        # testing \n",
        "        # change to evaluation mode \n",
        "        model.eval()\n",
        "        total = 0\n",
        "        for itr, (images, labels) in enumerate(test_dataloader):\n",
        "\n",
        "            pred = model(images)\n",
        "\n",
        "            loss = criterion(pred, labels)\n",
        "            total_test_loss += loss.item()\n",
        "\n",
        "            # we now need softmax because we are testing.\n",
        "            pred = torch.nn.functional.softmax(pred, dim=1)\n",
        "            for i, p in enumerate(pred):\n",
        "                if labels[i] == torch.max(p.data, 0)[1]:\n",
        "                    total = total + 1\n",
        "\n",
        "            # print(\"1:\", labels.shape)   # 50 \n",
        "            # print(\"2:\", model.layer_activations.shape)  # 50, 256 \n",
        "\n",
        "            # print(labels[0].shape) # 1\n",
        "            # print(model.layer_activations[0].shape) # 256 \n",
        "\n",
        "            # find selectivity at the final epoch \n",
        "            if epoch == no_epochs - 1: # last epoch \n",
        "                for activation, label in zip(model.layer_activations, labels):\n",
        "                    # shape of activation and label: 256 and 1 \n",
        "                    \n",
        "                    # get the actual value of item. This is because label is now Tensor \n",
        "                    label = label.item()\n",
        "\n",
        "                    # this is not part of gradient calculcation \n",
        "                    with torch.no_grad():\n",
        "                        activation = activation.numpy()\n",
        "\n",
        "                    # for each image/label, append activation value of neuron \n",
        "                    for i in range(256):    # number of neurons in hidden layer \n",
        "                        hidden_layer_each_neuron[i][label].append(activation[i])\n",
        "\n",
        "\n",
        "        # caculate accuracy \n",
        "        accuracy = total / len(mnist_testset)\n",
        "\n",
        "        # append accuracy here\n",
        "        test_acc.append(accuracy)\n",
        "\n",
        "        # append test loss here \n",
        "        total_test_loss = total_test_loss / (itr + 1)\n",
        "        test_loss.append(total_test_loss)\n",
        "\n",
        "        print('\\nEpoch: {}/{}, Train Loss: {:.8f}, Test Loss: {:.8f}, Test Accuracy: {:.8f}'.format(epoch + 1, no_epochs, total_train_loss, total_test_loss, accuracy))\n",
        "\n",
        "        if total_test_loss < best_test_loss:\n",
        "            best_test_loss = total_test_loss\n",
        "            print(\"Saving the model state dictionary for Epoch: {} with Test loss: {:.8f}\".format(epoch + 1, total_test_loss))\n",
        "            torch.save(model.state_dict(), \"model.dth\")\n",
        "\n",
        "    # I will now try to find the average of each class for each neuron.\n",
        "    # check out the next cell \n",
        "    avg_activations = [dict() for x in range(256)]\n",
        "    for i, neuron in enumerate(hidden_layer_each_neuron):\n",
        "        for k, v in neuron.items():\n",
        "            # v is the list of activations for hidden layer's neuron k \n",
        "            avg_activations[i][k] = sum(v) / float(len(v))\n",
        "\n",
        "    # generate 256 lists to get only values in avg_activations\n",
        "    only_activation_vals = [list() for x in range(256)]\n",
        "\n",
        "    # selectivity_list contains all of the selectivity of each neuron \n",
        "    selectivity_list = list()\n",
        "\n",
        "    # get only values from avg_activations\n",
        "    for i, avg_activation in enumerate(avg_activations):\n",
        "        for value in avg_activation.values():\n",
        "            only_activation_vals[i].append(value)\n",
        "\n",
        "\n",
        "    for activation_val in only_activation_vals:\n",
        "        # find u_max \n",
        "        u_max = np.max(activation_val)\n",
        "\n",
        "        # find u_minus_max \n",
        "        u_minus_max = (np.sum(activation_val) - u_max) / 9\n",
        "\n",
        "        # find selectivity \n",
        "        selectivity = (u_max - u_minus_max) / (u_max + u_minus_max)\n",
        "\n",
        "        # append selectivity value to selectivity_list\n",
        "        selectivity_list.append(selectivity)\n",
        "\n",
        "    return test_acc, selectivity_list"
      ],
      "execution_count": 7,
      "outputs": []
    },
    {
      "cell_type": "code",
      "metadata": {
        "id": "sM6vZzX2hbG1"
      },
      "source": [
        "print(\"\\n===== Entering Adagrad optimizer =====\\n\")\n",
        "adagrad_test_acc, adagrad_selectivity_list   = selectivity_trainer(optimizer=optimizer_adagrad,\n",
        "                                                                   model=model_adagrad)\n",
        "\n",
        "print(\"\\n===== Entering Adadelta optimizer =====\\n\")\n",
        "adadelta_test_acc, adadelta_selectivity_list = selectivity_trainer(optimizer=optimizer_adadelta,\n",
        "                                                                   model=model_adadelta)\n",
        "\n",
        "print(\"\\n===== Entering Adam optimizer =====\\n\")\n",
        "adam_test_acc, adam_selectivity_list = selectivity_trainer(optimizer=optimizer_adam,\n",
        "                                                                   model=model_adam)\n",
        "\n",
        "print(\"\\n===== Entering SGD optimizer =====\\n\")\n",
        "sgd_test_acc, sgd_selectivity_list           = selectivity_trainer(optimizer=optimizer_sgd,\n",
        "                                                                   model=model_sgd)"
      ],
      "execution_count": null,
      "outputs": []
    },
    {
      "cell_type": "code",
      "metadata": {
        "colab": {
          "base_uri": "https://localhost:8080/"
        },
        "id": "gMzwsxbKiKgv",
        "outputId": "6957d713-af66-451f-f196-03f1537231cb"
      },
      "source": [
        "print(\"Adagrad selectivity average: \", np.average(adagrad_selectivity_list))\n",
        "print(\"Adagrad selectivity std: \", np.std(adagrad_selectivity_list))\n",
        "print()\n",
        "\n",
        "print(\"Adadelta selectivity average: \",  np.average(adadelta_selectivity_list))\n",
        "print(\"Adadelta selectivity std: \", np.std(adadelta_selectivity_list))\n",
        "print()\n",
        "\n",
        "print(\"Adam selectivity average: \",  np.average(adam_selectivity_list))\n",
        "print(\"Adam selectivity std: \", np.std(adam_selectivity_list))\n",
        "print()\n",
        "\n",
        "print(\"SGD selectivity average: \",  np.average(sgd_selectivity_list))\n",
        "print(\"SGD selectivity std: \", np.std(sgd_selectivity_list))"
      ],
      "execution_count": 9,
      "outputs": [
        {
          "output_type": "stream",
          "text": [
            "Adagrad selectivity average:  0.6318942010507584\n",
            "Adagrad selectivity std:  0.191153496121069\n",
            "\n",
            "Adadelta selectivity average:  0.40095293329441023\n",
            "Adadelta selectivity std:  0.16217171938933087\n",
            "\n",
            "Adam selectivity average:  0.38954223332235993\n",
            "Adam selectivity std:  0.1772507784513964\n",
            "\n",
            "SGD selectivity average:  0.33717381148144815\n",
            "SGD selectivity std:  0.16742549482885843\n"
          ],
          "name": "stdout"
        }
      ]
    },
    {
      "cell_type": "code",
      "metadata": {
        "id": "ACiOqR2mMbUX",
        "colab": {
          "base_uri": "https://localhost:8080/",
          "height": 621
        },
        "outputId": "9136f84a-c2d0-4357-bd5f-5578e3e6d63e"
      },
      "source": [
        "fig=plt.figure(figsize=(20, 10))\n",
        "plt.plot(np.arange(1, no_epochs+1), adagrad_test_acc, label=\"Adagrad Test Accuracy\", color='g')\n",
        "plt.plot(np.arange(1, no_epochs+1), adadelta_test_acc, label=\"Adadelta Test Accuracy\", color='b')\n",
        "plt.plot(np.arange(1, no_epochs+1), adam_test_acc, label=\"Adam Test Accuracy\", color='y')\n",
        "plt.plot(np.arange(1, no_epochs+1), sgd_test_acc, label=\"SGD Test Accuracy\", color='r')\n",
        "plt.xlabel('Epochs')\n",
        "plt.ylabel('Accuracy')\n",
        "plt.ylim(0.85, 1)\n",
        "plt.title(\"Accuracy Plot\")\n",
        "plt.legend(loc='best')\n",
        "plt.show()"
      ],
      "execution_count": 10,
      "outputs": [
        {
          "output_type": "display_data",
          "data": {
            "image/png": "[encoded data removed]",
            "text/plain": [
              "<Figure size 1440x720 with 1 Axes>"
            ]
          },
          "metadata": {
            "tags": [],
            "needs_background": "light"
          }
        }
      ]
    },
    {
      "cell_type": "code",
      "metadata": {
        "id": "svy0Jx6RRi1v"
      },
      "source": [
        ""
      ],
      "execution_count": null,
      "outputs": []
    }
  ]
}