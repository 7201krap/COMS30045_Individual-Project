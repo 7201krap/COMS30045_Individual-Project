{
  "nbformat": 4,
  "nbformat_minor": 0,
  "metadata": {
    "colab": {
      "name": "selectivity.ipynb",
      "provenance": [],
      "collapsed_sections": [],
      "machine_shape": "hm",
      "include_colab_link": true
    },
    "kernelspec": {
      "display_name": "Python 3",
      "language": "python",
      "name": "python3"
    },
    "language_info": {
      "codemirror_mode": {
        "name": "ipython",
        "version": 3
      },
      "file_extension": ".py",
      "mimetype": "text/x-python",
      "name": "python",
      "nbconvert_exporter": "python",
      "pygments_lexer": "ipython3",
      "version": "3.8.5"
    }
  },
  "cells": [
    {
      "cell_type": "markdown",
      "metadata": {
        "id": "view-in-github",
        "colab_type": "text"
      },
      "source": [
        "<a href=\"https://colab.research.google.com/github/7201krap/PYTORCH_project/blob/main/project_FINAL/selectivity.ipynb\" target=\"_parent\"><img src=\"https://colab.research.google.com/assets/colab-badge.svg\" alt=\"Open In Colab\"/></a>"
      ]
    },
    {
      "cell_type": "code",
      "metadata": {
        "id": "o7STrWa0P3z_"
      },
      "source": [
        "import torch\n",
        "from torchvision import transforms\n",
        "import torchvision.datasets as datasets\n",
        "import matplotlib.pyplot as plt\n",
        "import numpy as np"
      ],
      "execution_count": null,
      "outputs": []
    },
    {
      "cell_type": "code",
      "metadata": {
        "id": "z4j9WoP-UnAm"
      },
      "source": [
        "device = torch.device('cuda' if torch.cuda.is_available() else 'cpu')"
      ],
      "execution_count": null,
      "outputs": []
    },
    {
      "cell_type": "code",
      "metadata": {
        "id": "ApOU7hvb95W4"
      },
      "source": [
        "torch.manual_seed(1234)\n",
        "np.random.seed(1234)"
      ],
      "execution_count": null,
      "outputs": []
    },
    {
      "cell_type": "code",
      "metadata": {
        "colab": {
          "base_uri": "https://localhost:8080/"
        },
        "id": "rTW5TOUnP5XY",
        "outputId": "255f6096-0c0e-42e2-bbbd-1df2f2e73ac9"
      },
      "source": [
        "mnist_trainset = datasets.MNIST(root='./data', train=True, \n",
        "                                download=True, \n",
        "                                transform=transforms.Compose([transforms.ToTensor()]))\n",
        "\n",
        "mnist_testset  = datasets.MNIST(root='./data', \n",
        "                                train=False, \n",
        "                                download=True, \n",
        "                                transform=transforms.Compose([transforms.ToTensor()]))\n",
        "\n",
        "train_dataloader = torch.utils.data.DataLoader(mnist_trainset, \n",
        "                                               batch_size=50, \n",
        "                                               shuffle=True)\n",
        "\n",
        "test_dataloader  = torch.utils.data.DataLoader(mnist_testset, \n",
        "                                               batch_size=50, \n",
        "                                               shuffle=False)\n",
        "\n",
        "print(\"Training dataset size: \", len(mnist_trainset))\n",
        "print(\"Testing dataset size: \",  len(mnist_testset))"
      ],
      "execution_count": null,
      "outputs": [
        {
          "output_type": "stream",
          "text": [
            "Training dataset size:  60000\n",
            "Testing dataset size:  10000\n"
          ],
          "name": "stdout"
        }
      ]
    },
    {
      "cell_type": "code",
      "metadata": {
        "id": "IXTkEUJ5P6kU"
      },
      "source": [
        "# Define the model \n",
        "class Model(torch.nn.Module):\n",
        "    def __init__(self):\n",
        "        super(Model, self).__init__()\n",
        "        self.linear_1 = torch.nn.Linear(784, 256)\n",
        "        self.linear_2 = torch.nn.Linear(256, 10)\n",
        "        self.sigmoid  = torch.nn.Sigmoid()\n",
        "\n",
        "    def forward(self, x):\n",
        "        x = x.reshape(x.size(0), -1)\n",
        "        x = self.linear_1(x)\n",
        "        x = self.sigmoid(x)\n",
        "        pred = self.linear_2(x)\n",
        "\n",
        "        return pred"
      ],
      "execution_count": null,
      "outputs": []
    },
    {
      "cell_type": "code",
      "metadata": {
        "id": "BfgvKH6eP9Ou"
      },
      "source": [
        "def get_activation(model):    \n",
        "    def hook(module, input, output):\n",
        "        model.layer_activations = output\n",
        "    return hook"
      ],
      "execution_count": null,
      "outputs": []
    },
    {
      "cell_type": "code",
      "metadata": {
        "id": "BXOpwTXEQFKY"
      },
      "source": [
        "no_epochs = 30\n",
        "def selectivity_trainer(optimizer, model):\n",
        "\n",
        "    hidden_layer_each_neuron = [{0:[], 1:[], 2:[], 3:[], 4:[], 5:[], 6:[], 7:[], 8:[], 9:[]} for x in range(256)]\n",
        "    hidden_layer_each_neuron = np.array(hidden_layer_each_neuron)\n",
        "\n",
        "    criterion = torch.nn.CrossEntropyLoss()\n",
        "    train_loss = list()\n",
        "    test_loss  = list()\n",
        "    test_acc   = list()\n",
        "\n",
        "    best_test_loss = 1\n",
        "\n",
        "    for epoch in range(no_epochs):\n",
        "        total_train_loss = 0\n",
        "        total_test_loss = 0\n",
        "\n",
        "        # training\n",
        "        # set up training mode \n",
        "        model.train()\n",
        "\n",
        "        for itr, (images, label) in enumerate(train_dataloader):\n",
        "            image, label = image.to(device), label.to(device)\n",
        "\n",
        "            optimizer.zero_grad()\n",
        "\n",
        "            pred = model(images)\n",
        "\n",
        "            loss = criterion(pred, label)\n",
        "            total_train_loss += loss.item()\n",
        "\n",
        "            loss.backward()\n",
        "            optimizer.step()\n",
        "\n",
        "            # Print/Append activation of the hidden layer \n",
        "            # print(model.layer_activations.shape)\n",
        "            # model.layer_activations\n",
        "\n",
        "        total_train_loss = total_train_loss / (itr + 1)\n",
        "        train_loss.append(total_train_loss)\n",
        "\n",
        "        # testing \n",
        "        # change to evaluation mode \n",
        "        model.eval()\n",
        "        total = 0\n",
        "        for itr, (images, labels) in enumerate(test_dataloader):\n",
        "            image, label = image.to(device), label.to(device)\n",
        "\n",
        "            pred = model(images)\n",
        "\n",
        "            loss = criterion(pred, labels)\n",
        "            total_test_loss += loss.item()\n",
        "\n",
        "            # we now need softmax because we are testing.\n",
        "            pred = torch.nn.functional.softmax(pred, dim=1)\n",
        "            for i, p in enumerate(pred):\n",
        "                if labels[i] == torch.max(p.data, 0)[1]:\n",
        "                    total = total + 1\n",
        "\n",
        "            # find selectivity at the final epoch \n",
        "            if epoch == no_epochs - 1: # last epoch \n",
        "                for activation, label in zip(model.layer_activations, labels):\n",
        "                    # shape of activation and label: 256 and 1 \n",
        "                    \n",
        "                    # get the actual value of item. This is because label is now Tensor \n",
        "                    label = label.item()\n",
        "\n",
        "                    # this is not part of gradient calculcation \n",
        "                    with torch.no_grad():\n",
        "                        activation = activation.numpy()\n",
        "\n",
        "                    # for each image/label, append activation value of neuron \n",
        "                    for i in range(256):    # number of neurons in hidden layer \n",
        "                        hidden_layer_each_neuron[i][label].append(activation[i])\n",
        "\n",
        "\n",
        "        # caculate accuracy \n",
        "        accuracy = total / len(mnist_testset)\n",
        "\n",
        "        # append accuracy here\n",
        "        test_acc.append(accuracy)\n",
        "\n",
        "        # append test loss here \n",
        "        total_test_loss = total_test_loss / (itr + 1)\n",
        "        test_loss.append(total_test_loss)\n",
        "\n",
        "        # print('\\nEpoch: {}/{}, Train Loss: {:.8f}, Test Loss: {:.8f}, Test Accuracy: {:.8f}'.format(epoch + 1, no_epochs, total_train_loss, total_test_loss, accuracy))\n",
        "\n",
        "        # if total_test_loss < best_test_loss:\n",
        "        #     best_test_loss = total_test_loss\n",
        "        #     print(\"Saving the model state dictionary for Epoch: {} with Test loss: {:.8f}\".format(epoch + 1, total_test_loss))\n",
        "        #     torch.save(model.state_dict(), \"model.dth\")\n",
        "\n",
        "    # I will now try to find the average of each class for each neuron.\n",
        "    # check out the next cell \n",
        "    avg_activations = [dict() for x in range(256)]\n",
        "    for i, neuron in enumerate(hidden_layer_each_neuron):\n",
        "        for k, v in neuron.items():\n",
        "            # v is the list of activations for hidden layer's neuron k \n",
        "            avg_activations[i][k] = sum(v) / float(len(v))\n",
        "\n",
        "    # generate 256 lists to get only values in avg_activations\n",
        "    only_activation_vals = [list() for x in range(256)]\n",
        "\n",
        "    # selectivity_list contains all of the selectivity of each neuron \n",
        "    selectivity_list = list()\n",
        "\n",
        "    # get only values from avg_activations\n",
        "    for i, avg_activation in enumerate(avg_activations):\n",
        "        for value in avg_activation.values():\n",
        "            only_activation_vals[i].append(value)\n",
        "\n",
        "\n",
        "    for activation_val in only_activation_vals:\n",
        "        # find u_max \n",
        "        u_max = np.max(activation_val)\n",
        "\n",
        "        # find u_minus_max \n",
        "        u_minus_max = (np.sum(activation_val) - u_max) / 9\n",
        "\n",
        "        # find selectivity \n",
        "        selectivity = (u_max - u_minus_max) / (u_max + u_minus_max)\n",
        "\n",
        "        # append selectivity value to selectivity_list\n",
        "        selectivity_list.append(selectivity)\n",
        "\n",
        "    return test_acc, selectivity_list"
      ],
      "execution_count": null,
      "outputs": []
    },
    {
      "cell_type": "markdown",
      "metadata": {
        "id": "1WKq9qSgMADr"
      },
      "source": [
        "# AdaDelta\n",
        "\n",
        "### Rho, weight decay, and learning rate\n",
        "\n",
        "default: torch.optim.Adadelta(params, lr=1.0, rho=0.9, eps=1e-06, weight_decay=0)\n"
      ]
    },
    {
      "cell_type": "markdown",
      "metadata": {
        "id": "SJO1JLsoAe4h"
      },
      "source": [
        "Rho "
      ]
    },
    {
      "cell_type": "code",
      "metadata": {
        "id": "D4WytqcJRZxA"
      },
      "source": [
        "rho_list = [0.0, 0.1, 0.2, 0.3, 0.4, 0.5, 0.6, 0.7, 0.8, 0.9, 1.0]\n",
        "for i in range(11):\n",
        "    print(f\"Entering {i}-th loop\")\n",
        "    model_adadelta_rho = Model()\n",
        "    model_adadelta_rho.to(device)\n",
        "    model_adadelta_rho.sigmoid.register_forward_hook(get_activation(model_adadelta_rho))\n",
        "    optimizer_adadelta = torch.optim.Adadelta(model_adadelta_rho.parameters(), rho=rho_list[i])\n",
        "    adadelta_test_acc, adadelta_selectivity_list = sparsity_trainer(optimizer=optimizer_adadelta, model=model_adadelta_rho)\n",
        "    \n",
        "    if i == 0:\n",
        "        f = open(\"selectivity_adadelta_rho.txt\", \"w\")\n",
        "        f.write(str(i)+'\\n'+str(adadelta_test_acc)+'\\n'+str(adadelta_selectivity_list)+'\\n\\n')\n",
        "    else:\n",
        "        f = open(\"selectivity_adadelta_rho.txt\", \"a\")\n",
        "        f.write(str(i)+'\\n'+str(adadelta_test_acc)+'\\n'+str(adadelta_selectivity_list)+'\\n\\n')\n",
        "f.close()"
      ],
      "execution_count": null,
      "outputs": []
    },
    {
      "cell_type": "markdown",
      "metadata": {
        "id": "NWQBMS8NAhfv"
      },
      "source": [
        "Weight decay"
      ]
    },
    {
      "cell_type": "code",
      "metadata": {
        "id": "WOb5LovDJjur"
      },
      "source": [
        "weight_decay = np.logspace(-5, 1, 11)\n",
        "\n",
        "for i in range(11):\n",
        "    print(f\"Entering {i}-th loop\")\n",
        "    model_adadelta_weight_decay = Model()\n",
        "    model_adadelta_weight_decay.sigmoid.register_forward_hook(get_activation(model_adadelta_weight_decay))\n",
        "    optimizer_adadelta = torch.optim.Adadelta(model_adadelta_weight_decay.parameters(), weight_decay=weight_decay[i])\n",
        "    adadelta_test_acc, adadelta_selectivity_list = sparsity_trainer(optimizer=optimizer_adadelta, model=model_adadelta_weight_decay)\n",
        "\n",
        "    if i == 0:\n",
        "        f = open(\"selectivity_adadelta_weight_decay.txt\", \"w\")\n",
        "        f.write(str(i)+'\\n'+str(adadelta_test_acc)+'\\n'+str(adadelta_selectivity_list)+'\\n\\n')\n",
        "    else:\n",
        "        f = open(\"selectivity_adadelta_weight_decay.txt\", \"a\")\n",
        "        f.write(str(i)+'\\n'+str(adadelta_test_acc)+'\\n'+str(adadelta_selectivity_list)+'\\n\\n')\n",
        "\n",
        "f.close()"
      ],
      "execution_count": null,
      "outputs": []
    },
    {
      "cell_type": "markdown",
      "metadata": {
        "id": "6Wey1B3AIBmF"
      },
      "source": [
        "Learning rate"
      ]
    },
    {
      "cell_type": "code",
      "metadata": {
        "id": "4Lhn_k8GIBM9"
      },
      "source": [
        "learning_rate = np.logspace(-5, 0, 11)\n",
        "\n",
        "for i in range(11):\n",
        "    print(f\"Entering {i}-th loop\")\n",
        "    model_adadelta_lr = Model()\n",
        "    model_adadelta_lr.sigmoid.register_forward_hook(get_activation(model_adadelta_lr))\n",
        "    optimizer_adadelta = torch.optim.Adadelta(model_adadelta_lr.parameters(), lr=learning_rate[i])\n",
        "    adadelta_test_acc, adadelta_selectivity_list = sparsity_trainer(optimizer=optimizer_adadelta, model=model_adadelta_lr)\n",
        "\n",
        "    if i == 0:\n",
        "        f = open(\"selectivity_adadelta_learning_rate.txt\", \"w\")\n",
        "        f.write(str(i)+'\\n'+str(adadelta_test_acc)+'\\n'+str(adadelta_selectivity_list)+'\\n\\n')\n",
        "    else:\n",
        "        f = open(\"selectivity_adadelta_learning_rate.txt\", \"a\")\n",
        "        f.write(str(i)+'\\n'+str(adadelta_test_acc)+'\\n'+str(adadelta_selectivity_list)+'\\n\\n')\n",
        "\n",
        "f.close()"
      ],
      "execution_count": null,
      "outputs": []
    },
    {
      "cell_type": "markdown",
      "metadata": {
        "id": "8hXfQe4vMDKB"
      },
      "source": [
        "# AdaGrad\n",
        "\n",
        "### weight_decay and learning rate\n",
        "\n",
        "default: torch.optim.Adagrad(params, lr=0.01, lr_decay=0, weight_decay=0, initial_accumulator_value=0, eps=1e-10)"
      ]
    },
    {
      "cell_type": "markdown",
      "metadata": {
        "id": "cWCbXSttMHSp"
      },
      "source": [
        "weight_decay"
      ]
    },
    {
      "cell_type": "code",
      "metadata": {
        "id": "vb-4TPM5MGuE"
      },
      "source": [
        "weight_decay = np.logspace(-5, 1, 11)\n",
        "\n",
        "for i in range(11):\n",
        "    print(f\"Entering {i}-th loop\")\n",
        "    model_adagrad_weight_decay = Model()\n",
        "    model_adagrad_weight_decay.sigmoid.register_forward_hook(get_activation(model_adagrad_weight_decay))\n",
        "    optimizer_adagrad = torch.optim.Adagrad(model_adagrad_weight_decay.parameters(), weight_decay=weight_decay[i])\n",
        "    adagrad_test_acc, adagrad_selectivity_list = sparsity_trainer(optimizer=optimizer_adagrad, model=model_adagrad_weight_decay)\n",
        "\n",
        "    if i == 0:\n",
        "        f = open(\"selectivity_adagrad_weight_decay.txt\", \"w\")\n",
        "        f.write(str(i)+'\\n'+str(adagrad_test_acc)+'\\n'+str(adagrad_selectivity_list)+'\\n\\n')\n",
        "    else:\n",
        "        f = open(\"selectivity_adagrad_weight_decay.txt\", \"a\")\n",
        "        f.write(str(i)+'\\n'+str(adagrad_test_acc)+'\\n'+str(adagrad_selectivity_list)+'\\n\\n')\n",
        "\n",
        "f.close()"
      ],
      "execution_count": null,
      "outputs": []
    },
    {
      "cell_type": "markdown",
      "metadata": {
        "id": "XLVCAkvaMPQg"
      },
      "source": [
        "Learning rate"
      ]
    },
    {
      "cell_type": "code",
      "metadata": {
        "id": "qimUEzVQJrUH"
      },
      "source": [
        "learning_rate = np.logspace(-5, 0, 11)\n",
        "\n",
        "for i in range(11):\n",
        "    print(f\"Entering {i}-th loop\")\n",
        "    model_adagrad_lr = Model()\n",
        "    model_adagrad_lr.sigmoid.register_forward_hook(get_activation(model_adagrad_lr))\n",
        "    optimizer_adagrad = torch.optim.Adagrad(model_adagrad_lr.parameters(), lr=learning_rate[i])\n",
        "    adagrad_test_acc, adagrad_selectivity_list = sparsity_trainer(optimizer=optimizer_adagrad, model=model_adagrad_lr)\n",
        "\n",
        "    if i == 0:\n",
        "        f = open(\"selectivity_adagrad_learning_rate.txt\", \"w\")\n",
        "        f.write(str(i)+':\\n'+str(adagrad_test_acc)+'\\n'+str(adagrad_selectivity_list)+'\\n\\n')\n",
        "    else:\n",
        "        f = open(\"selectivity_adagrad_learning_rate.txt\", \"a\")\n",
        "        f.write(str(i)+'\\n'+str(adagrad_test_acc)+'\\n'+str(adagrad_selectivity_list)+'\\n\\n')\n",
        "\n",
        "f.close()"
      ],
      "execution_count": null,
      "outputs": []
    },
    {
      "cell_type": "markdown",
      "metadata": {
        "id": "hmLJ4Zr2MnoS"
      },
      "source": [
        "# SGD\n",
        "\n",
        "### learning rate, weight decay, and momentum\n",
        "\n",
        "default: torch.optim.SGD(params, lr=<required parameter>, momentum=0, dampening=0, weight_decay=0, nesterov=False)"
      ]
    },
    {
      "cell_type": "markdown",
      "metadata": {
        "id": "4aUPYRRgNw1p"
      },
      "source": [
        "learning rate"
      ]
    },
    {
      "cell_type": "code",
      "metadata": {
        "id": "6ObsEJHuMoPy"
      },
      "source": [
        "learning_rate = np.logspace(-5, 0, 11)\n",
        "\n",
        "for i in range(11):\n",
        "    print(f\"Entering {i}-th loop\")\n",
        "    model_SGD_lr = Model()\n",
        "    model_SGD_lr.sigmoid.register_forward_hook(get_activation(model_SGD_lr))\n",
        "    optimizer_SGD = torch.optim.SGD(model_SGD_lr.parameters(), lr=learning_rate[i])\n",
        "    SGD_test_acc, SGD_selectivity_list = sparsity_trainer(optimizer=optimizer_SGD, model=model_SGD_lr)\n",
        "\n",
        "    if i == 0:\n",
        "        f = open(\"selectivity_SGD_learning_rate.txt\", \"w\")\n",
        "        f.write(str(i)+'\\n'+str(SGD_test_acc)+'\\n'+str(SGD_selectivity_list)+'\\n\\n')\n",
        "    else:\n",
        "        f = open(\"selectivity_SGD_learning_rate.txt\", \"a\")\n",
        "        f.write(str(i)+'\\n'+str(SGD_test_acc)+'\\n'+str(SGD_selectivity_list)+'\\n\\n')\n",
        "\n",
        "f.close()"
      ],
      "execution_count": null,
      "outputs": []
    },
    {
      "cell_type": "markdown",
      "metadata": {
        "id": "MYyN42ZkPAkj"
      },
      "source": [
        "weight decay"
      ]
    },
    {
      "cell_type": "code",
      "metadata": {
        "id": "U0cKIK8KO_fH"
      },
      "source": [
        "weight_decay = np.logspace(-5, 1, 11)\n",
        "\n",
        "for i in range(11):\n",
        "    print(f\"Entering {i}-th loop\")\n",
        "    model_SGD_weight_decay = Model()\n",
        "    model_SGD_weight_decay.sigmoid.register_forward_hook(get_activation(model_SGD_weight_decay))\n",
        "    optimizer_SGD = torch.optim.SGD(model_SGD_weight_decay.parameters(), weight_decay=weight_decay[i])\n",
        "    SGD_test_acc, SGD_selectivity_list = sparsity_trainer(optimizer=optimizer_SGD, model=model_SGD_weight_decay)\n",
        "\n",
        "    if i == 0:\n",
        "        f = open(\"selectivity_SGD_weight_decay.txt\", \"w\")\n",
        "        f.write(str(i)+'\\n'+str(SGD_test_acc)+'\\n'+str(SGD_selectivity_list)+'\\n\\n')\n",
        "    else:\n",
        "        f = open(\"selectivity_SGD_weight_decay.txt\", \"a\")\n",
        "        f.write(str(i)+'\\n'+str(SGD_test_acc)+'\\n'+str(SGD_selectivity_list)+'\\n\\n')\n",
        "\n",
        "f.close()"
      ],
      "execution_count": null,
      "outputs": []
    },
    {
      "cell_type": "markdown",
      "metadata": {
        "id": "7F-x2rHvN0lu"
      },
      "source": [
        "momentum"
      ]
    },
    {
      "cell_type": "code",
      "metadata": {
        "id": "rwP2iTe0N1Z8"
      },
      "source": [
        "momentum = [0.0, 0.1, 0.2, 0.3, 0.4, 0.5, 0.6, 0.7, 0.8, 0.9, 1.0]\n",
        "\n",
        "for i in range(11):\n",
        "    print(f\"Entering {i}-th loop\")\n",
        "    model_SGD_lr = Model()\n",
        "    model_SGD_lr.sigmoid.register_forward_hook(get_activation(model_SGD_lr))\n",
        "    optimizer_SGD = torch.optim.SGD(model_SGD_lr.parameters(), momentum=momentum[i])\n",
        "    SGD_test_acc, SGD_selectivity_list = sparsity_trainer(optimizer=optimizer_SGD, model=model_SGD_lr)\n",
        "\n",
        "    if i == 0:\n",
        "        f = open(\"selectivity_SGD_momentum.txt\", \"w\")\n",
        "        f.write(str(i)+'\\n'+str(SGD_test_acc)+'\\n'+str(SGD_selectivity_list)+'\\n\\n')\n",
        "    else:\n",
        "        f = open(\"selectivity_SGD_momentum.txt\", \"a\")\n",
        "        f.write(str(i)+'\\n'+str(SGD_test_acc)+'\\n'+str(SGD_selectivity_list)+'\\n\\n')\n",
        "\n",
        "f.close()"
      ],
      "execution_count": null,
      "outputs": []
    },
    {
      "cell_type": "markdown",
      "metadata": {
        "id": "QvQxaN_fRXLq"
      },
      "source": [
        "# Adam\n",
        "\n",
        "### weight decay, learning rate, lhs betas, and rhs betas\n",
        "\n",
        "default: torch.optim.Adam(params, lr=0.001, betas=(0.9, 0.999), eps=1e-08, weight_decay=0, amsgrad=False)"
      ]
    },
    {
      "cell_type": "markdown",
      "metadata": {
        "id": "Gs45nm0sNEMv"
      },
      "source": [
        "Weight decay"
      ]
    },
    {
      "cell_type": "code",
      "metadata": {
        "id": "VkqfFoVkRXxP"
      },
      "source": [
        "weight_decay = np.logspace(-5, 1, 11)\n",
        "\n",
        "for i in range(11):\n",
        "    print(f\"Entering {i}-th loop\")\n",
        "    model_Adam_weight_decay = Model()\n",
        "    model_Adam_weight_decay.sigmoid.register_forward_hook(get_activation(model_Adam_weight_decay))\n",
        "    optimizer_Adam = torch.optim.Adam(model_Adam_weight_decay.parameters(), weight_decay=weight_decay[i])\n",
        "    Adam_test_acc, Adam_selectivity_list = sparsity_trainer(optimizer=optimizer_Adam, model=model_Adam_weight_decay)\n",
        "\n",
        "    if i == 0:\n",
        "        f = open(\"selectivity_Adam_weight_decay.txt\", \"w\")\n",
        "        f.write(str(i)+'\\n'+str(Adam_test_acc)+'\\n'+str(Adam_selectivity_list)+'\\n\\n')\n",
        "    else:\n",
        "        f = open(\"selectivity_Adam_weight_decay.txt\", \"a\")\n",
        "        f.write(str(i)+'\\n'+str(Adam_test_acc)+'\\n'+str(Adam_selectivity_list)+'\\n\\n')\n",
        "\n",
        "f.close()"
      ],
      "execution_count": null,
      "outputs": []
    },
    {
      "cell_type": "markdown",
      "metadata": {
        "id": "8hUl7F2wNDGR"
      },
      "source": [
        "Learning rate"
      ]
    },
    {
      "cell_type": "code",
      "metadata": {
        "id": "6z1u_5kqNCfC"
      },
      "source": [
        "learning_rate = np.logspace(-5, 0, 11)\n",
        "\n",
        "for i in range(11):\n",
        "    print(f\"Entering {i}-th loop\")\n",
        "    model_Adam_lr = Model()\n",
        "    model_Adam_lr.sigmoid.register_forward_hook(get_activation(model_Adam_lr))\n",
        "    optimizer_Adam = torch.optim.Adam(model_Adam_lr.parameters(), lr=learning_rate[i])\n",
        "    Adam_test_acc, Adam_selectivity_list = sparsity_trainer(optimizer=optimizer_Adam, model=model_Adam_lr)\n",
        "\n",
        "    if i == 0:\n",
        "        f = open(\"selectivity_Adam_learning_rate.txt\", \"w\")\n",
        "        f.write(str(i)+'\\n'+str(Adam_test_acc)+'\\n'+str(Adam_selectivity_list)+'\\n\\n')\n",
        "    else:\n",
        "        f = open(\"selectivity_Adam_learning_rate.txt\", \"a\")\n",
        "        f.write(str(i)+'\\n'+str(Adam_test_acc)+'\\n'+str(Adam_selectivity_list)+'\\n\\n')\n",
        "\n",
        "f.close()"
      ],
      "execution_count": null,
      "outputs": []
    },
    {
      "cell_type": "markdown",
      "metadata": {
        "id": "k_y6a0mQNeU4"
      },
      "source": [
        "Betas - lhs"
      ]
    },
    {
      "cell_type": "code",
      "metadata": {
        "id": "aji9UA3cNd-9"
      },
      "source": [
        "betas_lhs = [0.0, 0.1, 0.2, 0.3, 0.4, 0.5, 0.6, 0.7, 0.8, 0.9, 1.0]\n",
        "\n",
        "for i in range(11):\n",
        "    print(f\"Entering {i}-th loop\")\n",
        "    model_Adam_lr = Model()\n",
        "    model_Adam_lr.sigmoid.register_forward_hook(get_activation(model_Adam_lr))\n",
        "    optimizer_Adam = torch.optim.Adam(model_Adam_lr.parameters(), betas=(betas_lhs[i], 0.999))\n",
        "    Adam_test_acc, Adam_selectivity_list = sparsity_trainer(optimizer=optimizer_Adam, model=model_Adam_lr)\n",
        "\n",
        "    if i == 0:\n",
        "        f = open(\"selectivity_Adam_betas_lhs.txt\", \"w\")\n",
        "        f.write(str(i)+'\\n'+str(Adam_test_acc)+'\\n'+str(Adam_selectivity_list)+'\\n\\n')\n",
        "    else:\n",
        "        f = open(\"selectivity_Adam_betas_lhs.txt\", \"a\")\n",
        "        f.write(str(i)+'\\n'+str(Adam_test_acc)+'\\n'+str(Adam_selectivity_list)+'\\n\\n')\n",
        "\n",
        "f.close()"
      ],
      "execution_count": null,
      "outputs": []
    },
    {
      "cell_type": "markdown",
      "metadata": {
        "id": "e1vsY2LePFFR"
      },
      "source": [
        "Betas - rhs"
      ]
    },
    {
      "cell_type": "code",
      "metadata": {
        "id": "sRYfwUfNPFLx"
      },
      "source": [
        "betas_rhs = [0.0, 0.1, 0.2, 0.3, 0.4, 0.5, 0.6, 0.7, 0.8, 0.9, 1.0]\n",
        "\n",
        "for i in range(11):\n",
        "    print(f\"Entering {i}-th loop\")\n",
        "    model_Adam_lr = Model()\n",
        "    model_Adam_lr.sigmoid.register_forward_hook(get_activation(model_Adam_lr))\n",
        "    optimizer_Adam = torch.optim.Adam(model_Adam_lr.parameters(), betas=(0.9, betas_rhs[i]))\n",
        "    Adam_test_acc, Adam_selectivity_list = sparsity_trainer(optimizer=optimizer_Adam, model=model_Adam_lr)\n",
        "\n",
        "    if i == 0:\n",
        "        f = open(\"selectivity_Adam_betas_rhs.txt\", \"w\")\n",
        "        f.write(str(i)+'\\n'+str(Adam_test_acc)+'\\n'+str(Adam_selectivity_list)+'\\n\\n')\n",
        "    else:\n",
        "        f = open(\"selectivity_Adam_betas_rhs.txt\", \"a\")\n",
        "        f.write(str(i)+'\\n'+str(Adam_test_acc)+'\\n'+str(Adam_selectivity_list)+'\\n\\n')\n",
        "\n",
        "f.close()"
      ],
      "execution_count": null,
      "outputs": []
    }
  ]
}