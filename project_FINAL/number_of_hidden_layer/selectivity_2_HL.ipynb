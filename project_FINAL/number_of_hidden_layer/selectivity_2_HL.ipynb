{
  "nbformat": 4,
  "nbformat_minor": 0,
  "metadata": {
    "colab": {
      "name": "selectivity_2_HL.ipynb",
      "provenance": [],
      "collapsed_sections": [],
      "machine_shape": "hm",
      "include_colab_link": true
    },
    "kernelspec": {
      "display_name": "Python 3",
      "language": "python",
      "name": "python3"
    },
    "language_info": {
      "codemirror_mode": {
        "name": "ipython",
        "version": 3
      },
      "file_extension": ".py",
      "mimetype": "text/x-python",
      "name": "python",
      "nbconvert_exporter": "python",
      "pygments_lexer": "ipython3",
      "version": "3.8.5"
    }
  },
  "cells": [
    {
      "cell_type": "markdown",
      "metadata": {
        "id": "view-in-github",
        "colab_type": "text"
      },
      "source": [
        "<a href=\"https://colab.research.google.com/github/7201krap/PYTORCH_project/blob/main/selectivity_2_HL.ipynb\" target=\"_parent\"><img src=\"https://colab.research.google.com/assets/colab-badge.svg\" alt=\"Open In Colab\"/></a>"
      ]
    },
    {
      "cell_type": "code",
      "metadata": {
        "id": "o7STrWa0P3z_",
        "colab": {
          "base_uri": "https://localhost:8080/"
        },
        "outputId": "221ef10a-6592-44c5-a941-0bd65f0ba64f"
      },
      "source": [
        "import torch\n",
        "from torchvision import transforms\n",
        "import torchvision.datasets as datasets\n",
        "import matplotlib.pyplot as plt\n",
        "import numpy as np\n",
        "from torch.utils.data import DataLoader, TensorDataset\n",
        "from google.colab import drive\n",
        "drive.mount('/content/drive')"
      ],
      "execution_count": 1,
      "outputs": [
        {
          "output_type": "stream",
          "text": [
            "Drive already mounted at /content/drive; to attempt to forcibly remount, call drive.mount(\"/content/drive\", force_remount=True).\n"
          ],
          "name": "stdout"
        }
      ]
    },
    {
      "cell_type": "code",
      "metadata": {
        "id": "z4j9WoP-UnAm"
      },
      "source": [
        "device = torch.device('cuda' if torch.cuda.is_available() else 'cpu')"
      ],
      "execution_count": 2,
      "outputs": []
    },
    {
      "cell_type": "code",
      "metadata": {
        "id": "ApOU7hvb95W4"
      },
      "source": [
        "torch.manual_seed(1234)\n",
        "np.random.seed(1234)"
      ],
      "execution_count": 3,
      "outputs": []
    },
    {
      "cell_type": "code",
      "metadata": {
        "id": "rTW5TOUnP5XY"
      },
      "source": [
        "mnist_trainset = datasets.MNIST(root='./data', train=True, \n",
        "                                download=True, \n",
        "                                transform=transforms.Compose([transforms.ToTensor()]))\n",
        "\n",
        "mnist_testset  = datasets.MNIST(root='./data', \n",
        "                                train=False, \n",
        "                                download=True, \n",
        "                                transform=transforms.Compose([transforms.ToTensor()]))\n",
        "\n",
        "train_dataloader = torch.utils.data.DataLoader(mnist_trainset, \n",
        "                                               batch_size=50, \n",
        "                                               shuffle=True)\n",
        "\n",
        "test_dataloader  = torch.utils.data.DataLoader(mnist_testset, \n",
        "                                               batch_size=50, \n",
        "                                               shuffle=False)"
      ],
      "execution_count": 4,
      "outputs": []
    },
    {
      "cell_type": "code",
      "metadata": {
        "id": "IXTkEUJ5P6kU"
      },
      "source": [
        "# Define the model \n",
        "class Model(torch.nn.Module):\n",
        "    def __init__(self):\n",
        "        super(Model, self).__init__()\n",
        "\n",
        "        # modify this section for later use \n",
        "        self.linear_1 = torch.nn.Linear(784, 256)\n",
        "        self.linear_2 = torch.nn.Linear(256, 256)\n",
        "        self.linear_3 = torch.nn.Linear(256, 10)\n",
        "        self.sigmoid12  = torch.nn.Sigmoid()\n",
        "        self.sigmoid23  = torch.nn.Sigmoid()\n",
        "\n",
        "        self.layer_activations = dict()\n",
        "\n",
        "    def forward(self, x):\n",
        "\n",
        "        # modify this section for later use \n",
        "        x = x.reshape(x.size(0), -1)\n",
        "        x = self.linear_1(x)\n",
        "        x = self.sigmoid12(x)\n",
        "        x = self.linear_2(x)\n",
        "        x = self.sigmoid23(x)\n",
        "        pred = self.linear_3(x)\n",
        "        return pred"
      ],
      "execution_count": 5,
      "outputs": []
    },
    {
      "cell_type": "code",
      "metadata": {
        "id": "BfgvKH6eP9Ou"
      },
      "source": [
        "def get_activation(model, layer_name):    \n",
        "    def hook(module, input, output):\n",
        "        model.layer_activations[layer_name] = output\n",
        "    return hook"
      ],
      "execution_count": 6,
      "outputs": []
    },
    {
      "cell_type": "code",
      "metadata": {
        "id": "PvHGO5RSvi6I"
      },
      "source": [
        "def selectivity(hidden_layer_each_neuron):\n",
        "    __selectivity__ = list()\n",
        "    # I will now try to find the average of each class for each neuron.\n",
        "    # check out the next cell \n",
        "    avg_activations = [dict() for x in range(256)]\n",
        "    for i, neuron in enumerate(hidden_layer_each_neuron):\n",
        "        for k, v in neuron.items():\n",
        "            # v is the list of activations for hidden layer's neuron k \n",
        "            avg_activations[i][k] = sum(v) / float(len(v))\n",
        "\n",
        "    # generate 256 lists to get only values in avg_activations\n",
        "    only_activation_vals = [list() for x in range(256)]\n",
        "\n",
        "    # selectivity_list contains all of the selectivity of each neuron \n",
        "    selectivity = list()\n",
        "\n",
        "    # get only values from avg_activations\n",
        "    for i, avg_activation in enumerate(avg_activations):\n",
        "        for value in avg_activation.values():\n",
        "            only_activation_vals[i].append(value)\n",
        "\n",
        "\n",
        "    for activation_val in only_activation_vals:\n",
        "        # find u_max \n",
        "        u_max = np.max(activation_val)\n",
        "\n",
        "        # find u_minus_max \n",
        "        u_minus_max = (np.sum(activation_val) - u_max) / 9\n",
        "\n",
        "        # find selectivity \n",
        "        selectivity = (u_max - u_minus_max) / (u_max + u_minus_max)\n",
        "\n",
        "        # append selectivity value to selectivity\n",
        "        __selectivity__.append(selectivity)\n",
        "\n",
        "    avg_selectivity = np.average(__selectivity__)\n",
        "    std_selectivity = np.std(__selectivity__)\n",
        "                                 \n",
        "    return avg_selectivity, std_selectivity"
      ],
      "execution_count": 7,
      "outputs": []
    },
    {
      "cell_type": "code",
      "metadata": {
        "id": "j5PUiBNqUImf"
      },
      "source": [
        "def model_factory(optimizer_name):\n",
        "    '''\n",
        "    optimizer_name : choose one of Adagrad, Adadelta, SGD, and Adam \n",
        "\n",
        "    '''\n",
        "    my_model = Model()\n",
        "    print(\"my_model:\", my_model)\n",
        "    my_model.to(device)\n",
        "\n",
        "    # modify this section for later use \n",
        "    my_model.sigmoid12.register_forward_hook(get_activation(my_model, 's12'))\n",
        "    my_model.sigmoid23.register_forward_hook(get_activation(my_model, 's23'))\n",
        "\n",
        "    if optimizer_name == 'Adadelta':\n",
        "        my_optimizer = torch.optim.Adadelta(my_model.parameters(), lr=1.0)\n",
        "\n",
        "    elif optimizer_name == 'Adagrad':\n",
        "        my_optimizer = torch.optim.Adagrad(my_model.parameters(), lr=0.1)\n",
        "\n",
        "    elif optimizer_name == 'SGD':\n",
        "        my_optimizer = torch.optim.SGD(my_model.parameters(), lr=0.1)\n",
        "\n",
        "    elif optimizer_name == 'Adam':\n",
        "        my_optimizer = torch.optim.Adam(my_model.parameters(), lr=0.001)\n",
        "\n",
        "    else:\n",
        "        print(\"ERROR\")\n",
        "    \n",
        "    print(\"my_optimizer:\", my_optimizer)\n",
        "    test_acc, selectivity_list_avg, selectivity_list_std = selectivity_trainer(optimizer=my_optimizer, model=my_model)\n",
        "    file_saver = open(f\"2HL_selectivity_{optimizer_name}.txt\", \"w\")\n",
        "    file_saver.write(str(test_acc)+'\\n'+str(selectivity_list_avg)+'\\n'+str(selectivity_list_std)+'\\n\\n')\n",
        "    file_saver.close()\n",
        "\n",
        "    if optimizer_name == 'Adadelta':\n",
        "        !cp 2HL_selectivity_Adadelta.txt /content/drive/MyDrive\n",
        "    \n",
        "    elif optimizer_name == 'Adagrad':\n",
        "        !cp 2HL_selectivity_Adagrad.txt /content/drive/MyDrive\n",
        "\n",
        "    elif optimizer_name == 'SGD':\n",
        "        !cp 2HL_selectivity_SGD.txt /content/drive/MyDrive\n",
        "\n",
        "    elif optimizer_name == 'Adam':\n",
        "        !cp 2HL_selectivity_Adam.txt /content/drive/MyDrive\n",
        "\n",
        "    else:\n",
        "        print(\"ERROR\")"
      ],
      "execution_count": 8,
      "outputs": []
    },
    {
      "cell_type": "code",
      "metadata": {
        "id": "Ouq5LQloW0xC"
      },
      "source": [
        "def avg_std_calculator(_hidden_layer_each_neuron_12, _hidden_layer_each_neuron_23):\n",
        "\n",
        "    avg_selectivity12, std_selectivity12 = selectivity(_hidden_layer_each_neuron_12)\n",
        "    avg_selectivity23, std_selectivity23 = selectivity(_hidden_layer_each_neuron_23)\n",
        "\n",
        "    final_selectivity_avg = (avg_selectivity12 + avg_selectivity23) / 2 \n",
        "    final_selecvitity_std = (std_selectivity12 + std_selectivity23) / 2 \n",
        "\n",
        "    return final_selectivity_avg, final_selecvitity_std"
      ],
      "execution_count": 9,
      "outputs": []
    },
    {
      "cell_type": "code",
      "metadata": {
        "id": "BXOpwTXEQFKY"
      },
      "source": [
        "no_epochs = 30\n",
        "def selectivity_trainer(optimizer, model):\n",
        "\n",
        "    criterion = torch.nn.CrossEntropyLoss()\n",
        "    train_loss = list()\n",
        "    test_loss  = list()\n",
        "    test_acc   = list()\n",
        "\n",
        "    best_test_loss = 1\n",
        "\n",
        "    selectivity_avg_list = list()\n",
        "    selectivity_std_list = list()\n",
        "\n",
        "    for epoch in range(no_epochs):\n",
        "\n",
        "        # modify this section for later use \n",
        "        hidden_layer_each_neuron_12 = [{0:[], 1:[], 2:[], 3:[], 4:[], 5:[], 6:[], 7:[], 8:[], 9:[]} for x in range(256)]\n",
        "        hidden_layer_each_neuron_12 = np.array(hidden_layer_each_neuron_12)\n",
        "\n",
        "        hidden_layer_each_neuron_23 = [{0:[], 1:[], 2:[], 3:[], 4:[], 5:[], 6:[], 7:[], 8:[], 9:[]} for x in range(256)]\n",
        "        hidden_layer_each_neuron_23 = np.array(hidden_layer_each_neuron_23)\n",
        "        # modify this section for later use \n",
        "\n",
        "\n",
        "        total_train_loss = 0\n",
        "        total_test_loss = 0\n",
        "\n",
        "        # training\n",
        "        # set up training mode \n",
        "        model.train()\n",
        "\n",
        "        for itr, (images, labels) in enumerate(train_dataloader):\n",
        "            images, labels = images.to(device), labels.to(device)\n",
        "\n",
        "            optimizer.zero_grad()\n",
        "\n",
        "            pred = model(images)\n",
        "\n",
        "            loss = criterion(pred, labels)\n",
        "            total_train_loss += loss.item()\n",
        "\n",
        "            loss.backward()\n",
        "            optimizer.step()\n",
        "\n",
        "        total_train_loss = total_train_loss / (itr + 1)\n",
        "        train_loss.append(total_train_loss)\n",
        "\n",
        "        # testing \n",
        "        # change to evaluation mode \n",
        "        model.eval()\n",
        "        total = 0\n",
        "        for itr, (images, labels) in enumerate(test_dataloader):\n",
        "            images, labels = images.to(device), labels.to(device)\n",
        "\n",
        "            pred = model(images)\n",
        "\n",
        "            loss = criterion(pred, labels)\n",
        "            total_test_loss += loss.item()\n",
        "\n",
        "            # we now need softmax because we are testing.\n",
        "            pred = torch.nn.functional.softmax(pred, dim=1)\n",
        "            for i, p in enumerate(pred):\n",
        "                if labels[i] == torch.max(p.data, 0)[1]:\n",
        "                    total = total + 1\n",
        "\n",
        "            \n",
        "            for activation, label in zip(model.layer_activations['s12'], labels):\n",
        "                # shape of activation and label: 256 and 1 \n",
        "                \n",
        "                # get the actual value of item. This is because label is now Tensor \n",
        "                label = label.item()\n",
        "\n",
        "                # this is not part of gradient calculcation \n",
        "                with torch.no_grad():\n",
        "                    activation = activation.numpy()\n",
        "\n",
        "                # for each image/label, append activation value of neuron \n",
        "                for i in range(256):    # number of neurons in hidden layer \n",
        "                    hidden_layer_each_neuron_12[i][label].append(activation[i])\n",
        "\n",
        "            for activation, label in zip(model.layer_activations['s23'], labels):\n",
        "                # shape of activation and label: 256 and 1 \n",
        "                \n",
        "                # get the actual value of item. This is because label is now Tensor \n",
        "                label = label.item()\n",
        "\n",
        "                # this is not part of gradient calculcation \n",
        "                with torch.no_grad():\n",
        "                    activation = activation.numpy()\n",
        "\n",
        "                # for each image/label, append activation value of neuron \n",
        "                for i in range(256):    # number of neurons in hidden layer \n",
        "                    hidden_layer_each_neuron_23[i][label].append(activation[i])\n",
        "\n",
        "        selectivity_avg, selecvitity_std = avg_std_calculator(hidden_layer_each_neuron_12, hidden_layer_each_neuron_23)\n",
        "        \n",
        "        selectivity_avg_list.append(selectivity_avg)\n",
        "        selectivity_std_list.append(selecvitity_std)\n",
        "\n",
        "        # caculate accuracy \n",
        "        accuracy = total / len(mnist_testset)\n",
        "\n",
        "        # append accuracy here\n",
        "        test_acc.append(accuracy)\n",
        "\n",
        "        # append test loss here \n",
        "        total_test_loss = total_test_loss / (itr + 1)\n",
        "        test_loss.append(total_test_loss)\n",
        "\n",
        "        print('\\nEpoch: {}/{}, Train Loss: {:.8f}, Test Loss: {:.8f}, Test Accuracy: {:.8f}'.format(epoch + 1, no_epochs, total_train_loss, total_test_loss, accuracy))\n",
        "\n",
        "\n",
        "    return test_acc, selectivity_avg_list, selectivity_std_list"
      ],
      "execution_count": 10,
      "outputs": []
    },
    {
      "cell_type": "markdown",
      "metadata": {
        "id": "ILIJTJb2UdfI"
      },
      "source": [
        "# Adadelta"
      ]
    },
    {
      "cell_type": "code",
      "metadata": {
        "colab": {
          "base_uri": "https://localhost:8080/"
        },
        "id": "5UH0qDnFUfaD",
        "outputId": "5636d36a-b3ec-4712-ce58-316fb3f51b7d"
      },
      "source": [
        "model_factory('Adadelta')"
      ],
      "execution_count": 11,
      "outputs": [
        {
          "output_type": "stream",
          "text": [
            "my_model: Model(\n",
            "  (linear_1): Linear(in_features=784, out_features=256, bias=True)\n",
            "  (linear_2): Linear(in_features=256, out_features=256, bias=True)\n",
            "  (linear_3): Linear(in_features=256, out_features=10, bias=True)\n",
            "  (sigmoid12): Sigmoid()\n",
            "  (sigmoid23): Sigmoid()\n",
            ")\n",
            "my_optimizer: Adadelta (\n",
            "Parameter Group 0\n",
            "    eps: 1e-06\n",
            "    lr: 1.0\n",
            "    rho: 0.9\n",
            "    weight_decay: 0\n",
            ")\n",
            "\n",
            "Epoch: 1/30, Train Loss: 0.66955220, Test Loss: 0.29091561, Test Accuracy: 0.91560000\n",
            "\n",
            "Epoch: 2/30, Train Loss: 0.23864885, Test Loss: 0.17893777, Test Accuracy: 0.94570000\n",
            "\n",
            "Epoch: 3/30, Train Loss: 0.16415371, Test Loss: 0.14251487, Test Accuracy: 0.95830000\n",
            "\n",
            "Epoch: 4/30, Train Loss: 0.12487799, Test Loss: 0.10738104, Test Accuracy: 0.96570000\n",
            "\n",
            "Epoch: 5/30, Train Loss: 0.09811718, Test Loss: 0.09940851, Test Accuracy: 0.96730000\n",
            "\n",
            "Epoch: 6/30, Train Loss: 0.08101228, Test Loss: 0.09228468, Test Accuracy: 0.97040000\n",
            "\n",
            "Epoch: 7/30, Train Loss: 0.06785859, Test Loss: 0.08866793, Test Accuracy: 0.97140000\n",
            "\n",
            "Epoch: 8/30, Train Loss: 0.05707939, Test Loss: 0.07453738, Test Accuracy: 0.97680000\n",
            "\n",
            "Epoch: 9/30, Train Loss: 0.04893696, Test Loss: 0.07658674, Test Accuracy: 0.97500000\n",
            "\n",
            "Epoch: 10/30, Train Loss: 0.04188914, Test Loss: 0.07907381, Test Accuracy: 0.97610000\n",
            "\n",
            "Epoch: 11/30, Train Loss: 0.03633562, Test Loss: 0.07478656, Test Accuracy: 0.97730000\n",
            "\n",
            "Epoch: 12/30, Train Loss: 0.03111513, Test Loss: 0.07411678, Test Accuracy: 0.97910000\n",
            "\n",
            "Epoch: 13/30, Train Loss: 0.02710637, Test Loss: 0.07417858, Test Accuracy: 0.97810000\n",
            "\n",
            "Epoch: 14/30, Train Loss: 0.02241587, Test Loss: 0.07294737, Test Accuracy: 0.97870000\n",
            "\n",
            "Epoch: 15/30, Train Loss: 0.01807552, Test Loss: 0.07262310, Test Accuracy: 0.97880000\n",
            "\n",
            "Epoch: 16/30, Train Loss: 0.01542591, Test Loss: 0.07768821, Test Accuracy: 0.97850000\n",
            "\n",
            "Epoch: 17/30, Train Loss: 0.01277811, Test Loss: 0.07904741, Test Accuracy: 0.97990000\n",
            "\n",
            "Epoch: 18/30, Train Loss: 0.01031517, Test Loss: 0.07737566, Test Accuracy: 0.98030000\n",
            "\n",
            "Epoch: 19/30, Train Loss: 0.00880315, Test Loss: 0.07916449, Test Accuracy: 0.98090000\n",
            "\n",
            "Epoch: 20/30, Train Loss: 0.00749228, Test Loss: 0.08437182, Test Accuracy: 0.97800000\n",
            "\n",
            "Epoch: 21/30, Train Loss: 0.00596463, Test Loss: 0.08015389, Test Accuracy: 0.98020000\n",
            "\n",
            "Epoch: 22/30, Train Loss: 0.00486792, Test Loss: 0.08034911, Test Accuracy: 0.97980000\n",
            "\n",
            "Epoch: 23/30, Train Loss: 0.00421030, Test Loss: 0.07755166, Test Accuracy: 0.98110000\n",
            "\n",
            "Epoch: 24/30, Train Loss: 0.00346229, Test Loss: 0.08204361, Test Accuracy: 0.98020000\n",
            "\n",
            "Epoch: 25/30, Train Loss: 0.00251005, Test Loss: 0.08098146, Test Accuracy: 0.98200000\n",
            "\n",
            "Epoch: 26/30, Train Loss: 0.00215230, Test Loss: 0.08684492, Test Accuracy: 0.98040000\n",
            "\n",
            "Epoch: 27/30, Train Loss: 0.00167987, Test Loss: 0.08610125, Test Accuracy: 0.98120000\n",
            "\n",
            "Epoch: 28/30, Train Loss: 0.00144885, Test Loss: 0.08237039, Test Accuracy: 0.98150000\n",
            "\n",
            "Epoch: 29/30, Train Loss: 0.00123362, Test Loss: 0.08542887, Test Accuracy: 0.98130000\n",
            "\n",
            "Epoch: 30/30, Train Loss: 0.00105622, Test Loss: 0.08506945, Test Accuracy: 0.98160000\n"
          ],
          "name": "stdout"
        }
      ]
    },
    {
      "cell_type": "markdown",
      "metadata": {
        "id": "8hXfQe4vMDKB"
      },
      "source": [
        "# AdaGrad"
      ]
    },
    {
      "cell_type": "code",
      "metadata": {
        "id": "vb-4TPM5MGuE",
        "colab": {
          "base_uri": "https://localhost:8080/"
        },
        "outputId": "73cb3b49-aa99-43e1-d6d7-f807aab6396e"
      },
      "source": [
        "model_factory('Adagrad')"
      ],
      "execution_count": 12,
      "outputs": [
        {
          "output_type": "stream",
          "text": [
            "my_model: Model(\n",
            "  (linear_1): Linear(in_features=784, out_features=256, bias=True)\n",
            "  (linear_2): Linear(in_features=256, out_features=256, bias=True)\n",
            "  (linear_3): Linear(in_features=256, out_features=10, bias=True)\n",
            "  (sigmoid12): Sigmoid()\n",
            "  (sigmoid23): Sigmoid()\n",
            ")\n",
            "my_optimizer: Adagrad (\n",
            "Parameter Group 0\n",
            "    eps: 1e-10\n",
            "    initial_accumulator_value: 0\n",
            "    lr: 0.1\n",
            "    lr_decay: 0\n",
            "    weight_decay: 0\n",
            ")\n",
            "\n",
            "Epoch: 1/30, Train Loss: 0.42294847, Test Loss: 0.11472658, Test Accuracy: 0.96540000\n",
            "\n",
            "Epoch: 2/30, Train Loss: 0.08807486, Test Loss: 0.09191858, Test Accuracy: 0.97240000\n",
            "\n",
            "Epoch: 3/30, Train Loss: 0.05717871, Test Loss: 0.08132470, Test Accuracy: 0.97510000\n",
            "\n",
            "Epoch: 4/30, Train Loss: 0.03934799, Test Loss: 0.07855366, Test Accuracy: 0.97780000\n",
            "\n",
            "Epoch: 5/30, Train Loss: 0.02771339, Test Loss: 0.07289141, Test Accuracy: 0.97870000\n",
            "\n",
            "Epoch: 6/30, Train Loss: 0.01995135, Test Loss: 0.07290223, Test Accuracy: 0.97900000\n",
            "\n",
            "Epoch: 7/30, Train Loss: 0.01444415, Test Loss: 0.07167542, Test Accuracy: 0.98020000\n",
            "\n",
            "Epoch: 8/30, Train Loss: 0.01035898, Test Loss: 0.07363603, Test Accuracy: 0.98080000\n",
            "\n",
            "Epoch: 9/30, Train Loss: 0.00756366, Test Loss: 0.07427343, Test Accuracy: 0.98050000\n",
            "\n",
            "Epoch: 10/30, Train Loss: 0.00569734, Test Loss: 0.07288653, Test Accuracy: 0.98140000\n",
            "\n",
            "Epoch: 11/30, Train Loss: 0.00432875, Test Loss: 0.07606349, Test Accuracy: 0.98130000\n",
            "\n",
            "Epoch: 12/30, Train Loss: 0.00335138, Test Loss: 0.07584207, Test Accuracy: 0.98180000\n",
            "\n",
            "Epoch: 13/30, Train Loss: 0.00268513, Test Loss: 0.07816462, Test Accuracy: 0.98160000\n",
            "\n",
            "Epoch: 14/30, Train Loss: 0.00218781, Test Loss: 0.07841652, Test Accuracy: 0.98110000\n",
            "\n",
            "Epoch: 15/30, Train Loss: 0.00179110, Test Loss: 0.07836431, Test Accuracy: 0.98110000\n",
            "\n",
            "Epoch: 16/30, Train Loss: 0.00147892, Test Loss: 0.08040164, Test Accuracy: 0.98130000\n",
            "\n",
            "Epoch: 17/30, Train Loss: 0.00122205, Test Loss: 0.08006666, Test Accuracy: 0.98130000\n",
            "\n",
            "Epoch: 18/30, Train Loss: 0.00102920, Test Loss: 0.08144181, Test Accuracy: 0.98170000\n",
            "\n",
            "Epoch: 19/30, Train Loss: 0.00087661, Test Loss: 0.08431134, Test Accuracy: 0.98180000\n",
            "\n",
            "Epoch: 20/30, Train Loss: 0.00076866, Test Loss: 0.08328720, Test Accuracy: 0.98200000\n",
            "\n",
            "Epoch: 21/30, Train Loss: 0.00067149, Test Loss: 0.08406923, Test Accuracy: 0.98160000\n",
            "\n",
            "Epoch: 22/30, Train Loss: 0.00060401, Test Loss: 0.08536230, Test Accuracy: 0.98220000\n",
            "\n",
            "Epoch: 23/30, Train Loss: 0.00053889, Test Loss: 0.08580099, Test Accuracy: 0.98180000\n",
            "\n",
            "Epoch: 24/30, Train Loss: 0.00049330, Test Loss: 0.08699745, Test Accuracy: 0.98140000\n",
            "\n",
            "Epoch: 25/30, Train Loss: 0.00044904, Test Loss: 0.08704277, Test Accuracy: 0.98200000\n",
            "\n",
            "Epoch: 26/30, Train Loss: 0.00041324, Test Loss: 0.08772734, Test Accuracy: 0.98220000\n",
            "\n",
            "Epoch: 27/30, Train Loss: 0.00038018, Test Loss: 0.08845314, Test Accuracy: 0.98160000\n",
            "\n",
            "Epoch: 28/30, Train Loss: 0.00035368, Test Loss: 0.08926858, Test Accuracy: 0.98200000\n",
            "\n",
            "Epoch: 29/30, Train Loss: 0.00032786, Test Loss: 0.08934442, Test Accuracy: 0.98240000\n",
            "\n",
            "Epoch: 30/30, Train Loss: 0.00030764, Test Loss: 0.08939912, Test Accuracy: 0.98160000\n"
          ],
          "name": "stdout"
        }
      ]
    },
    {
      "cell_type": "markdown",
      "metadata": {
        "id": "hmLJ4Zr2MnoS"
      },
      "source": [
        "# SGD\n"
      ]
    },
    {
      "cell_type": "code",
      "metadata": {
        "id": "6ObsEJHuMoPy",
        "colab": {
          "base_uri": "https://localhost:8080/"
        },
        "outputId": "47ea3378-492a-4c3f-8365-e83bf606bb06"
      },
      "source": [
        "model_factory('SGD')"
      ],
      "execution_count": 13,
      "outputs": [
        {
          "output_type": "stream",
          "text": [
            "my_model: Model(\n",
            "  (linear_1): Linear(in_features=784, out_features=256, bias=True)\n",
            "  (linear_2): Linear(in_features=256, out_features=256, bias=True)\n",
            "  (linear_3): Linear(in_features=256, out_features=10, bias=True)\n",
            "  (sigmoid12): Sigmoid()\n",
            "  (sigmoid23): Sigmoid()\n",
            ")\n",
            "my_optimizer: SGD (\n",
            "Parameter Group 0\n",
            "    dampening: 0\n",
            "    lr: 0.1\n",
            "    momentum: 0\n",
            "    nesterov: False\n",
            "    weight_decay: 0\n",
            ")\n",
            "\n",
            "Epoch: 1/30, Train Loss: 1.70086394, Test Loss: 0.77447292, Test Accuracy: 0.74410000\n",
            "\n",
            "Epoch: 2/30, Train Loss: 0.55363856, Test Loss: 0.41966936, Test Accuracy: 0.87930000\n",
            "\n",
            "Epoch: 3/30, Train Loss: 0.39161087, Test Loss: 0.34878524, Test Accuracy: 0.89910000\n",
            "\n",
            "Epoch: 4/30, Train Loss: 0.34210257, Test Loss: 0.30893291, Test Accuracy: 0.91020000\n",
            "\n",
            "Epoch: 5/30, Train Loss: 0.30959184, Test Loss: 0.29351307, Test Accuracy: 0.91450000\n",
            "\n",
            "Epoch: 6/30, Train Loss: 0.28182664, Test Loss: 0.26428919, Test Accuracy: 0.92290000\n",
            "\n",
            "Epoch: 7/30, Train Loss: 0.25754871, Test Loss: 0.24462154, Test Accuracy: 0.92870000\n",
            "\n",
            "Epoch: 8/30, Train Loss: 0.23587757, Test Loss: 0.23228753, Test Accuracy: 0.92880000\n",
            "\n",
            "Epoch: 9/30, Train Loss: 0.21733874, Test Loss: 0.21035835, Test Accuracy: 0.94050000\n",
            "\n",
            "Epoch: 10/30, Train Loss: 0.20057417, Test Loss: 0.19388758, Test Accuracy: 0.94400000\n",
            "\n",
            "Epoch: 11/30, Train Loss: 0.18590960, Test Loss: 0.17832940, Test Accuracy: 0.94780000\n",
            "\n",
            "Epoch: 12/30, Train Loss: 0.17401790, Test Loss: 0.16910348, Test Accuracy: 0.94970000\n",
            "\n",
            "Epoch: 13/30, Train Loss: 0.16245659, Test Loss: 0.16419325, Test Accuracy: 0.95180000\n",
            "\n",
            "Epoch: 14/30, Train Loss: 0.15240885, Test Loss: 0.15285145, Test Accuracy: 0.95570000\n",
            "\n",
            "Epoch: 15/30, Train Loss: 0.14348445, Test Loss: 0.14518968, Test Accuracy: 0.95770000\n",
            "\n",
            "Epoch: 16/30, Train Loss: 0.13467432, Test Loss: 0.13900021, Test Accuracy: 0.95890000\n",
            "\n",
            "Epoch: 17/30, Train Loss: 0.12733424, Test Loss: 0.13565551, Test Accuracy: 0.96020000\n",
            "\n",
            "Epoch: 18/30, Train Loss: 0.12057165, Test Loss: 0.13006806, Test Accuracy: 0.96210000\n",
            "\n",
            "Epoch: 19/30, Train Loss: 0.11395981, Test Loss: 0.13104397, Test Accuracy: 0.96140000\n",
            "\n",
            "Epoch: 20/30, Train Loss: 0.10864658, Test Loss: 0.11932469, Test Accuracy: 0.96420000\n",
            "\n",
            "Epoch: 21/30, Train Loss: 0.10296531, Test Loss: 0.11554587, Test Accuracy: 0.96430000\n",
            "\n",
            "Epoch: 22/30, Train Loss: 0.09806561, Test Loss: 0.11207869, Test Accuracy: 0.96700000\n",
            "\n",
            "Epoch: 23/30, Train Loss: 0.09345640, Test Loss: 0.11076472, Test Accuracy: 0.96710000\n",
            "\n",
            "Epoch: 24/30, Train Loss: 0.08887157, Test Loss: 0.10653900, Test Accuracy: 0.96760000\n",
            "\n",
            "Epoch: 25/30, Train Loss: 0.08520737, Test Loss: 0.10129457, Test Accuracy: 0.96820000\n",
            "\n",
            "Epoch: 26/30, Train Loss: 0.08108057, Test Loss: 0.09932018, Test Accuracy: 0.96930000\n",
            "\n",
            "Epoch: 27/30, Train Loss: 0.07752063, Test Loss: 0.09750254, Test Accuracy: 0.97020000\n",
            "\n",
            "Epoch: 28/30, Train Loss: 0.07430592, Test Loss: 0.09399418, Test Accuracy: 0.97140000\n",
            "\n",
            "Epoch: 29/30, Train Loss: 0.07107021, Test Loss: 0.08949575, Test Accuracy: 0.97240000\n",
            "\n",
            "Epoch: 30/30, Train Loss: 0.06806411, Test Loss: 0.09063998, Test Accuracy: 0.97320000\n"
          ],
          "name": "stdout"
        }
      ]
    },
    {
      "cell_type": "markdown",
      "metadata": {
        "id": "QvQxaN_fRXLq"
      },
      "source": [
        "# Adam"
      ]
    },
    {
      "cell_type": "code",
      "metadata": {
        "id": "VkqfFoVkRXxP",
        "colab": {
          "base_uri": "https://localhost:8080/"
        },
        "outputId": "fe27bacc-b76b-48a7-9c29-8439a9355f7f"
      },
      "source": [
        "model_factory('Adam')"
      ],
      "execution_count": 14,
      "outputs": [
        {
          "output_type": "stream",
          "text": [
            "my_model: Model(\n",
            "  (linear_1): Linear(in_features=784, out_features=256, bias=True)\n",
            "  (linear_2): Linear(in_features=256, out_features=256, bias=True)\n",
            "  (linear_3): Linear(in_features=256, out_features=10, bias=True)\n",
            "  (sigmoid12): Sigmoid()\n",
            "  (sigmoid23): Sigmoid()\n",
            ")\n",
            "my_optimizer: Adam (\n",
            "Parameter Group 0\n",
            "    amsgrad: False\n",
            "    betas: (0.9, 0.999)\n",
            "    eps: 1e-08\n",
            "    lr: 0.001\n",
            "    weight_decay: 0\n",
            ")\n",
            "\n",
            "Epoch: 1/30, Train Loss: 0.45788566, Test Loss: 0.19843138, Test Accuracy: 0.94080000\n",
            "\n",
            "Epoch: 2/30, Train Loss: 0.16914621, Test Loss: 0.14410988, Test Accuracy: 0.95550000\n",
            "\n",
            "Epoch: 3/30, Train Loss: 0.11548502, Test Loss: 0.11379071, Test Accuracy: 0.96530000\n",
            "\n",
            "Epoch: 4/30, Train Loss: 0.08344443, Test Loss: 0.08751983, Test Accuracy: 0.97290000\n",
            "\n",
            "Epoch: 5/30, Train Loss: 0.06500032, Test Loss: 0.08379442, Test Accuracy: 0.97350000\n",
            "\n",
            "Epoch: 6/30, Train Loss: 0.04957014, Test Loss: 0.09894467, Test Accuracy: 0.96930000\n",
            "\n",
            "Epoch: 7/30, Train Loss: 0.03961783, Test Loss: 0.08257195, Test Accuracy: 0.97460000\n",
            "\n",
            "Epoch: 8/30, Train Loss: 0.03026086, Test Loss: 0.07960499, Test Accuracy: 0.97730000\n",
            "\n",
            "Epoch: 9/30, Train Loss: 0.02370638, Test Loss: 0.06835178, Test Accuracy: 0.97900000\n",
            "\n",
            "Epoch: 10/30, Train Loss: 0.01903070, Test Loss: 0.07716855, Test Accuracy: 0.97740000\n",
            "\n",
            "Epoch: 11/30, Train Loss: 0.01539917, Test Loss: 0.08329738, Test Accuracy: 0.97660000\n",
            "\n",
            "Epoch: 12/30, Train Loss: 0.01219532, Test Loss: 0.07322569, Test Accuracy: 0.98100000\n",
            "\n",
            "Epoch: 13/30, Train Loss: 0.00999787, Test Loss: 0.09435009, Test Accuracy: 0.97640000\n",
            "\n",
            "Epoch: 14/30, Train Loss: 0.00957170, Test Loss: 0.08385380, Test Accuracy: 0.97930000\n",
            "\n",
            "Epoch: 15/30, Train Loss: 0.00671595, Test Loss: 0.08526524, Test Accuracy: 0.97780000\n",
            "\n",
            "Epoch: 16/30, Train Loss: 0.00652530, Test Loss: 0.08968936, Test Accuracy: 0.97830000\n",
            "\n",
            "Epoch: 17/30, Train Loss: 0.00548713, Test Loss: 0.08032315, Test Accuracy: 0.98050000\n",
            "\n",
            "Epoch: 18/30, Train Loss: 0.00618060, Test Loss: 0.08834784, Test Accuracy: 0.98070000\n",
            "\n",
            "Epoch: 19/30, Train Loss: 0.00428471, Test Loss: 0.12887890, Test Accuracy: 0.97280000\n",
            "\n",
            "Epoch: 20/30, Train Loss: 0.00404323, Test Loss: 0.09004455, Test Accuracy: 0.98040000\n",
            "\n",
            "Epoch: 21/30, Train Loss: 0.00445729, Test Loss: 0.10211627, Test Accuracy: 0.97910000\n",
            "\n",
            "Epoch: 22/30, Train Loss: 0.00410055, Test Loss: 0.10294514, Test Accuracy: 0.97960000\n",
            "\n",
            "Epoch: 23/30, Train Loss: 0.00441530, Test Loss: 0.09971643, Test Accuracy: 0.98110000\n",
            "\n",
            "Epoch: 24/30, Train Loss: 0.00368940, Test Loss: 0.08863833, Test Accuracy: 0.98240000\n",
            "\n",
            "Epoch: 25/30, Train Loss: 0.00143076, Test Loss: 0.10508957, Test Accuracy: 0.98030000\n",
            "\n",
            "Epoch: 26/30, Train Loss: 0.00767562, Test Loss: 0.10693485, Test Accuracy: 0.98010000\n",
            "\n",
            "Epoch: 27/30, Train Loss: 0.00204549, Test Loss: 0.11255837, Test Accuracy: 0.97890000\n",
            "\n",
            "Epoch: 28/30, Train Loss: 0.00272434, Test Loss: 0.14351866, Test Accuracy: 0.97450000\n",
            "\n",
            "Epoch: 29/30, Train Loss: 0.00517061, Test Loss: 0.11132796, Test Accuracy: 0.98080000\n",
            "\n",
            "Epoch: 30/30, Train Loss: 0.00122772, Test Loss: 0.10471283, Test Accuracy: 0.98080000\n"
          ],
          "name": "stdout"
        }
      ]
    }
  ]
}