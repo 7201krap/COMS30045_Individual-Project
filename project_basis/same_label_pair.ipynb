{
  "nbformat": 4,
  "nbformat_minor": 0,
  "metadata": {
    "colab": {
      "name": "same_label_pair.ipynb",
      "provenance": [],
      "collapsed_sections": [],
      "authorship_tag": "ABX9TyNNF/gxJIOLkJVDKirbLGP8",
      "include_colab_link": true
    },
    "kernelspec": {
      "name": "python3",
      "display_name": "Python 3"
    }
  },
  "cells": [
    {
      "cell_type": "markdown",
      "metadata": {
        "id": "view-in-github",
        "colab_type": "text"
      },
      "source": [
        "<a href=\"https://colab.research.google.com/github/7201krap/PYTORCH_project/blob/main/same_label_pair.ipynb\" target=\"_parent\"><img src=\"https://colab.research.google.com/assets/colab-badge.svg\" alt=\"Open In Colab\"/></a>"
      ]
    },
    {
      "cell_type": "code",
      "metadata": {
        "id": "6MU1dnFxiZMb"
      },
      "source": [
        "import torch\n",
        "from torch.utils.data import DataLoader, Subset\n",
        "import torchvision.datasets as datasets\n",
        "from torchvision import transforms\n",
        "import numpy as np"
      ],
      "execution_count": 1,
      "outputs": []
    },
    {
      "cell_type": "code",
      "metadata": {
        "id": "4iJa_LOiivEN"
      },
      "source": [
        "mnist_trainset = datasets.MNIST(root='./data', train=True, \n",
        "                                download=True, \n",
        "                                transform=transforms.Compose([transforms.ToTensor()]))\n",
        "\n",
        "mnist_testset  = datasets.MNIST(root='./data', \n",
        "                                train=False, \n",
        "                                download=True, \n",
        "                                transform=transforms.Compose([transforms.ToTensor()]))"
      ],
      "execution_count": 2,
      "outputs": []
    },
    {
      "cell_type": "code",
      "metadata": {
        "colab": {
          "base_uri": "https://localhost:8080/"
        },
        "id": "HlLOEqRpjlRA",
        "outputId": "862d6a0c-f08e-4ee8-d2b9-4a2def3c2482"
      },
      "source": [
        "# 0 에 해당하는 index \n",
        "print(torch.where(mnist_trainset.targets == 0))\n",
        "# 1 에 해당하는 index \n",
        "print(torch.where(mnist_trainset.targets == 1))\n",
        "# 2 에 해당하는 index \n",
        "print(torch.where(mnist_trainset.targets == 2))\n",
        "# 3 에 해당하는 index \n",
        "print(torch.where(mnist_trainset.targets == 3))\n",
        "# 4 에 해당하는 index \n",
        "print(torch.where(mnist_trainset.targets == 4))\n",
        "# 5 에 해당하는 index \n",
        "print(torch.where(mnist_trainset.targets == 5))\n",
        "# 6 에 해당하는 index \n",
        "print(torch.where(mnist_trainset.targets == 6))\n",
        "# 7 에 해당하는 index \n",
        "print(torch.where(mnist_trainset.targets == 7))\n",
        "# 8 에 해당하는 index \n",
        "print(torch.where(mnist_trainset.targets == 8))\n",
        "# 9 에 해당하는 index \n",
        "print(torch.where(mnist_trainset.targets == 9))"
      ],
      "execution_count": 3,
      "outputs": [
        {
          "output_type": "stream",
          "text": [
            "(tensor([    1,    21,    34,  ..., 59952, 59972, 59987]),)\n",
            "(tensor([    3,     6,     8,  ..., 59979, 59984, 59994]),)\n",
            "(tensor([    5,    16,    25,  ..., 59983, 59985, 59991]),)\n",
            "(tensor([    7,    10,    12,  ..., 59978, 59980, 59996]),)\n",
            "(tensor([    2,     9,    20,  ..., 59943, 59951, 59975]),)\n",
            "(tensor([    0,    11,    35,  ..., 59968, 59993, 59997]),)\n",
            "(tensor([   13,    18,    32,  ..., 59982, 59986, 59998]),)\n",
            "(tensor([   15,    29,    38,  ..., 59963, 59977, 59988]),)\n",
            "(tensor([   17,    31,    41,  ..., 59989, 59995, 59999]),)\n",
            "(tensor([    4,    19,    22,  ..., 59973, 59990, 59992]),)\n"
          ],
          "name": "stdout"
        }
      ]
    },
    {
      "cell_type": "code",
      "metadata": {
        "colab": {
          "base_uri": "https://localhost:8080/"
        },
        "id": "7d-O3SObT-pC",
        "outputId": "23d526fc-70e0-4183-a5a6-cc40f8b3a078"
      },
      "source": [
        "torch.where(mnist_trainset.targets == 1)[0]"
      ],
      "execution_count": 4,
      "outputs": [
        {
          "output_type": "execute_result",
          "data": {
            "text/plain": [
              "tensor([    3,     6,     8,  ..., 59979, 59984, 59994])"
            ]
          },
          "metadata": {
            "tags": []
          },
          "execution_count": 4
        }
      ]
    },
    {
      "cell_type": "code",
      "metadata": {
        "id": "A-pSE5X3i3l5"
      },
      "source": [
        "# class_inds 이거는 그냥 위에있는거를 list 로 만들어준 형태임 \n",
        "class_inds = [torch.where(mnist_trainset.targets == class_idx)[0]\n",
        "              for class_idx in mnist_trainset.class_to_idx.values()]"
      ],
      "execution_count": 5,
      "outputs": []
    },
    {
      "cell_type": "code",
      "metadata": {
        "colab": {
          "base_uri": "https://localhost:8080/"
        },
        "id": "AzUAemZejGdk",
        "outputId": "1b8081d7-2bac-49c7-83e7-1f044f798df8"
      },
      "source": [
        "class_inds"
      ],
      "execution_count": 6,
      "outputs": [
        {
          "output_type": "execute_result",
          "data": {
            "text/plain": [
              "[tensor([    1,    21,    34,  ..., 59952, 59972, 59987]),\n",
              " tensor([    3,     6,     8,  ..., 59979, 59984, 59994]),\n",
              " tensor([    5,    16,    25,  ..., 59983, 59985, 59991]),\n",
              " tensor([    7,    10,    12,  ..., 59978, 59980, 59996]),\n",
              " tensor([    2,     9,    20,  ..., 59943, 59951, 59975]),\n",
              " tensor([    0,    11,    35,  ..., 59968, 59993, 59997]),\n",
              " tensor([   13,    18,    32,  ..., 59982, 59986, 59998]),\n",
              " tensor([   15,    29,    38,  ..., 59963, 59977, 59988]),\n",
              " tensor([   17,    31,    41,  ..., 59989, 59995, 59999]),\n",
              " tensor([    4,    19,    22,  ..., 59973, 59990, 59992])]"
            ]
          },
          "metadata": {
            "tags": []
          },
          "execution_count": 6
        }
      ]
    },
    {
      "cell_type": "code",
      "metadata": {
        "colab": {
          "base_uri": "https://localhost:8080/"
        },
        "id": "94c63YLgjHQL",
        "outputId": "cc99535b-f125-4f7b-e74e-a9d47e1a5d87"
      },
      "source": [
        "# class_inds[x] 에는 숫자 x 에 해당하는 mnist 데이터의 index 를 반환 (x = 0, 1, 2 .... 9)\n",
        "\n",
        "# class_inds[0] 에는 숫자 0 에 해당하는 mnist 데이터의 index 를 반환\n",
        "print(class_inds[0])\n",
        "print(class_inds[1])\n",
        "print(class_inds[2])\n",
        "print(class_inds[3])\n",
        "print(class_inds[4])\n",
        "print(class_inds[5])\n",
        "print(class_inds[6])\n",
        "print(class_inds[7])\n",
        "print(class_inds[8])\n",
        "print(class_inds[9])"
      ],
      "execution_count": 7,
      "outputs": [
        {
          "output_type": "stream",
          "text": [
            "tensor([    1,    21,    34,  ..., 59952, 59972, 59987])\n",
            "tensor([    3,     6,     8,  ..., 59979, 59984, 59994])\n",
            "tensor([    5,    16,    25,  ..., 59983, 59985, 59991])\n",
            "tensor([    7,    10,    12,  ..., 59978, 59980, 59996])\n",
            "tensor([    2,     9,    20,  ..., 59943, 59951, 59975])\n",
            "tensor([    0,    11,    35,  ..., 59968, 59993, 59997])\n",
            "tensor([   13,    18,    32,  ..., 59982, 59986, 59998])\n",
            "tensor([   15,    29,    38,  ..., 59963, 59977, 59988])\n",
            "tensor([   17,    31,    41,  ..., 59989, 59995, 59999])\n",
            "tensor([    4,    19,    22,  ..., 59973, 59990, 59992])\n"
          ],
          "name": "stdout"
        }
      ]
    },
    {
      "cell_type": "code",
      "metadata": {
        "colab": {
          "base_uri": "https://localhost:8080/"
        },
        "id": "Q2bTkOMQj_3t",
        "outputId": "63ed3c1d-233a-4332-c6c6-9c1842d65e0f"
      },
      "source": [
        "train_dataloaders = [\n",
        "                     DataLoader(dataset=Subset(mnist_trainset, inds),\n",
        "                                batch_size=25,\n",
        "                                shuffle=True,\n",
        "                                drop_last=False\n",
        "                     )\n",
        "                     for inds in class_inds\n",
        "]\n",
        "\n",
        "test_dataloader  = torch.utils.data.DataLoader(mnist_testset, \n",
        "                                               batch_size=50, \n",
        "                                               shuffle=False)\n",
        "\n",
        "print(\"Training dataset size: \", len(mnist_trainset))\n",
        "print(\"Testing dataset size: \",  len(mnist_testset))"
      ],
      "execution_count": 8,
      "outputs": [
        {
          "output_type": "stream",
          "text": [
            "Training dataset size:  60000\n",
            "Testing dataset size:  10000\n"
          ],
          "name": "stdout"
        }
      ]
    },
    {
      "cell_type": "code",
      "metadata": {
        "colab": {
          "base_uri": "https://localhost:8080/"
        },
        "id": "fyjRbAwRmavD",
        "outputId": "3fba349d-2657-4afc-9bd5-41734a6c828d"
      },
      "source": [
        "# train_dataloaders 는 전체 10 개의 세트를 가지고 있다. \n",
        "# 여기서 10개란: 0, 1, 2, ... 9 \n",
        "train_dataloaders"
      ],
      "execution_count": 9,
      "outputs": [
        {
          "output_type": "execute_result",
          "data": {
            "text/plain": [
              "[<torch.utils.data.dataloader.DataLoader at 0x7f412e291550>,\n",
              " <torch.utils.data.dataloader.DataLoader at 0x7f412e291510>,\n",
              " <torch.utils.data.dataloader.DataLoader at 0x7f412e291690>,\n",
              " <torch.utils.data.dataloader.DataLoader at 0x7f412eaecfd0>,\n",
              " <torch.utils.data.dataloader.DataLoader at 0x7f412eaeca50>,\n",
              " <torch.utils.data.dataloader.DataLoader at 0x7f412eaecf10>,\n",
              " <torch.utils.data.dataloader.DataLoader at 0x7f40e069f310>,\n",
              " <torch.utils.data.dataloader.DataLoader at 0x7f40e069ffd0>,\n",
              " <torch.utils.data.dataloader.DataLoader at 0x7f40e069f450>,\n",
              " <torch.utils.data.dataloader.DataLoader at 0x7f40e069f410>]"
            ]
          },
          "metadata": {
            "tags": []
          },
          "execution_count": 9
        }
      ]
    },
    {
      "cell_type": "code",
      "metadata": {
        "id": "fSkAos_Jq7jP"
      },
      "source": [
        "# Define the model \n",
        "class Model(torch.nn.Module):\n",
        "    def __init__(self):\n",
        "        super(Model, self).__init__()\n",
        "        self.linear_1 = torch.nn.Linear(784, 256)\n",
        "        self.linear_2 = torch.nn.Linear(256, 10)\n",
        "        self.sigmoid  = torch.nn.Sigmoid()\n",
        "\n",
        "    def forward(self, x):\n",
        "        x = x.reshape(x.size(0), -1)\n",
        "        x = self.linear_1(x)\n",
        "        x = self.sigmoid(x)\n",
        "        pred = self.linear_2(x)\n",
        "\n",
        "        return pred"
      ],
      "execution_count": 10,
      "outputs": []
    },
    {
      "cell_type": "code",
      "metadata": {
        "id": "3rJHUzOzq8fk"
      },
      "source": [
        "model = Model()"
      ],
      "execution_count": 11,
      "outputs": []
    },
    {
      "cell_type": "code",
      "metadata": {
        "id": "EzP1IWa9q-7b"
      },
      "source": [
        "optimizer = torch.optim.SGD(model.parameters(), lr=0.1)"
      ],
      "execution_count": 12,
      "outputs": []
    },
    {
      "cell_type": "code",
      "metadata": {
        "id": "shsSw8F0ldmY"
      },
      "source": [
        "epochs = 30"
      ],
      "execution_count": 13,
      "outputs": []
    },
    {
      "cell_type": "code",
      "metadata": {
        "colab": {
          "base_uri": "https://localhost:8080/"
        },
        "id": "fnD7OdVYlo7H",
        "outputId": "d6c16370-084e-4d9f-bb80-fe843ee4a446"
      },
      "source": [
        "criterion = torch.nn.CrossEntropyLoss()\n",
        "\n",
        "test_acc   = list()\n",
        "\n",
        "for epoch in range(epochs):\n",
        "\n",
        "    print(f\"epoch {epoch} started\")\n",
        "\n",
        "    model.train()\n",
        "    itr = 0 \n",
        "    iterators = list(map(iter, train_dataloaders))   \n",
        "    while iterators:    # this is same as for loop for training \n",
        "        itr = itr + 1 \n",
        "        iterator = np.random.choice(iterators, 2, replace=False)\n",
        "        \n",
        "        try:\n",
        "            image0, label0 = next(iterator[0]) \n",
        "            image1, label1 = next(iterator[1]) \n",
        "\n",
        "            # concat batch_size 25 * 2 => 50\n",
        "            image = torch.cat((image0, image1), 0)\n",
        "            label = torch.cat((label0, label1), 0)\n",
        "\n",
        "            # print(label.shape)\n",
        "            # print(image.shape)\n",
        "\n",
        "            # print(label)\n",
        "\n",
        "            optimizer.zero_grad()\n",
        "\n",
        "            pred = model(image)\n",
        "\n",
        "            loss = criterion(pred, label)\n",
        "\n",
        "            loss.backward()\n",
        "            optimizer.step()\n",
        "            \n",
        "        except StopIteration:\n",
        "            iterators.remove(iterator[0])\n",
        "            iterators.remove(iterator[1])\n",
        "\n",
        "    model.eval()\n",
        "    total = 0\n",
        "    for itr, (image, label) in enumerate(test_dataloader):\n",
        "\n",
        "        pred = model(image)\n",
        "\n",
        "        loss = criterion(pred, label)\n",
        "\n",
        "        # we now need softmax because we are testing.\n",
        "        pred = torch.nn.functional.softmax(pred, dim=1)\n",
        "        for i, p in enumerate(pred):\n",
        "            if label[i] == torch.max(p.data, 0)[1]:\n",
        "                total = total + 1\n",
        "\n",
        "    accuracy = total / len(mnist_testset)\n",
        "\n",
        "    print(accuracy)\n",
        "\n",
        "    # append accuracy here\n",
        "    test_acc.append(accuracy)"
      ],
      "execution_count": 14,
      "outputs": [
        {
          "output_type": "stream",
          "text": [
            "epoch 0 started\n",
            "0.7014\n",
            "epoch 1 started\n",
            "0.7885\n",
            "epoch 2 started\n",
            "0.8281\n",
            "epoch 3 started\n",
            "0.8949\n",
            "epoch 4 started\n",
            "0.834\n",
            "epoch 5 started\n",
            "0.8764\n",
            "epoch 6 started\n",
            "0.8749\n",
            "epoch 7 started\n",
            "0.8981\n",
            "epoch 8 started\n",
            "0.8914\n",
            "epoch 9 started\n",
            "0.9224\n",
            "epoch 10 started\n",
            "0.9354\n",
            "epoch 11 started\n",
            "0.9428\n",
            "epoch 12 started\n",
            "0.9326\n",
            "epoch 13 started\n",
            "0.9429\n",
            "epoch 14 started\n",
            "0.9382\n",
            "epoch 15 started\n",
            "0.9356\n",
            "epoch 16 started\n",
            "0.9105\n",
            "epoch 17 started\n",
            "0.9509\n",
            "epoch 18 started\n",
            "0.9622\n",
            "epoch 19 started\n",
            "0.9526\n",
            "epoch 20 started\n",
            "0.946\n",
            "epoch 21 started\n",
            "0.9465\n",
            "epoch 22 started\n",
            "0.9653\n",
            "epoch 23 started\n",
            "0.9663\n",
            "epoch 24 started\n",
            "0.9598\n",
            "epoch 25 started\n",
            "0.9519\n",
            "epoch 26 started\n",
            "0.9613\n",
            "epoch 27 started\n",
            "0.9581\n",
            "epoch 28 started\n",
            "0.9691\n",
            "epoch 29 started\n",
            "0.9692\n"
          ],
          "name": "stdout"
        }
      ]
    },
    {
      "cell_type": "code",
      "metadata": {
        "colab": {
          "base_uri": "https://localhost:8080/"
        },
        "id": "i7jL46x7szw0",
        "outputId": "825cd369-1e16-427d-ea6b-d5e96b1e3a39"
      },
      "source": [
        "test_acc"
      ],
      "execution_count": 15,
      "outputs": [
        {
          "output_type": "execute_result",
          "data": {
            "text/plain": [
              "[0.7014,\n",
              " 0.7885,\n",
              " 0.8281,\n",
              " 0.8949,\n",
              " 0.834,\n",
              " 0.8764,\n",
              " 0.8749,\n",
              " 0.8981,\n",
              " 0.8914,\n",
              " 0.9224,\n",
              " 0.9354,\n",
              " 0.9428,\n",
              " 0.9326,\n",
              " 0.9429,\n",
              " 0.9382,\n",
              " 0.9356,\n",
              " 0.9105,\n",
              " 0.9509,\n",
              " 0.9622,\n",
              " 0.9526,\n",
              " 0.946,\n",
              " 0.9465,\n",
              " 0.9653,\n",
              " 0.9663,\n",
              " 0.9598,\n",
              " 0.9519,\n",
              " 0.9613,\n",
              " 0.9581,\n",
              " 0.9691,\n",
              " 0.9692]"
            ]
          },
          "metadata": {
            "tags": []
          },
          "execution_count": 15
        }
      ]
    },
    {
      "cell_type": "code",
      "metadata": {
        "id": "Ic0sp0-MTf71"
      },
      "source": [
        ""
      ],
      "execution_count": 15,
      "outputs": []
    }
  ]
}