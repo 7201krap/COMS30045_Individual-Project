{
  "nbformat": 4,
  "nbformat_minor": 0,
  "metadata": {
    "colab": {
      "name": "basic_model_selectivity.ipynb",
      "provenance": [],
      "collapsed_sections": [],
      "include_colab_link": true
    },
    "kernelspec": {
      "display_name": "Python 3",
      "language": "python",
      "name": "python3"
    },
    "language_info": {
      "codemirror_mode": {
        "name": "ipython",
        "version": 3
      },
      "file_extension": ".py",
      "mimetype": "text/x-python",
      "name": "python",
      "nbconvert_exporter": "python",
      "pygments_lexer": "ipython3",
      "version": "3.8.5"
    },
    "accelerator": "TPU"
  },
  "cells": [
    {
      "cell_type": "markdown",
      "metadata": {
        "id": "view-in-github",
        "colab_type": "text"
      },
      "source": [
        "<a href=\"https://colab.research.google.com/github/7201krap/PYTORCH_introduction_to_pytorch/blob/main/FINAL/selectivity.ipynb\" target=\"_parent\"><img src=\"https://colab.research.google.com/assets/colab-badge.svg\" alt=\"Open In Colab\"/></a>"
      ]
    },
    {
      "cell_type": "code",
      "metadata": {
        "id": "o7STrWa0P3z_"
      },
      "source": [
        "import torch\n",
        "from torchvision import transforms\n",
        "import torchvision.datasets as datasets\n",
        "import matplotlib.pyplot as plt\n",
        "import numpy as np"
      ],
      "execution_count": 25,
      "outputs": []
    },
    {
      "cell_type": "code",
      "metadata": {
        "colab": {
          "base_uri": "https://localhost:8080/"
        },
        "id": "rTW5TOUnP5XY",
        "outputId": "41d19361-6569-45c3-b242-ccec2a596cca"
      },
      "source": [
        "mnist_trainset = datasets.MNIST(root='./data', train=True, \n",
        "                                download=True, \n",
        "                                transform=transforms.Compose([transforms.ToTensor()]))\n",
        "\n",
        "mnist_testset  = datasets.MNIST(root='./data', \n",
        "                                train=False, \n",
        "                                download=True, \n",
        "                                transform=transforms.Compose([transforms.ToTensor()]))\n",
        "\n",
        "train_dataloader = torch.utils.data.DataLoader(mnist_trainset, \n",
        "                                               batch_size=50, \n",
        "                                               shuffle=True)\n",
        "\n",
        "test_dataloader  = torch.utils.data.DataLoader(mnist_testset, \n",
        "                                               batch_size=50, \n",
        "                                               shuffle=False)\n",
        "\n",
        "print(\"Training dataset size: \", len(mnist_trainset))\n",
        "print(\"Testing dataset size: \",  len(mnist_testset))"
      ],
      "execution_count": 26,
      "outputs": [
        {
          "output_type": "stream",
          "text": [
            "Training dataset size:  60000\n",
            "Testing dataset size:  10000\n"
          ],
          "name": "stdout"
        }
      ]
    },
    {
      "cell_type": "code",
      "metadata": {
        "id": "IXTkEUJ5P6kU"
      },
      "source": [
        "# Define the model \n",
        "class Model(torch.nn.Module):\n",
        "    def __init__(self):\n",
        "        super(Model, self).__init__()\n",
        "        self.linear_1 = torch.nn.Linear(784, 256)\n",
        "        self.linear_2 = torch.nn.Linear(256, 10)\n",
        "        self.sigmoid  = torch.nn.Sigmoid()\n",
        "\n",
        "    def forward(self, x):\n",
        "        x = x.reshape(x.size(0), -1)\n",
        "        x = self.linear_1(x)\n",
        "        x = self.sigmoid(x)\n",
        "        pred = self.linear_2(x)\n",
        "\n",
        "        return pred\n",
        "\n",
        "model = Model()"
      ],
      "execution_count": 27,
      "outputs": []
    },
    {
      "cell_type": "code",
      "metadata": {
        "colab": {
          "base_uri": "https://localhost:8080/"
        },
        "id": "BfgvKH6eP9Ou",
        "outputId": "470f35ac-8f5f-4b31-807b-4598375495a8"
      },
      "source": [
        "def get_activation():    \n",
        "    def hook(module, input, output):\n",
        "        model.layer_activations = output\n",
        "    return hook\n",
        "    \n",
        "model.sigmoid.register_forward_hook(get_activation())"
      ],
      "execution_count": 28,
      "outputs": [
        {
          "output_type": "execute_result",
          "data": {
            "text/plain": [
              "<torch.utils.hooks.RemovableHandle at 0x7fb7c95ecac8>"
            ]
          },
          "metadata": {
            "tags": []
          },
          "execution_count": 28
        }
      ]
    },
    {
      "cell_type": "code",
      "metadata": {
        "id": "savMT9-gP_3m"
      },
      "source": [
        "# adagrad \n",
        "optimizer  = torch.optim.Adagrad(model.parameters(), lr=0.1)"
      ],
      "execution_count": 29,
      "outputs": []
    },
    {
      "cell_type": "code",
      "metadata": {
        "id": "XLJFFl20k4pm"
      },
      "source": [
        "hidden_layer_each_neuron = [{0:[], 1:[], 2:[], 3:[], 4:[], 5:[], 6:[], 7:[], 8:[], 9:[]} for x in range(256)]\n",
        "hidden_layer_each_neuron = np.array(hidden_layer_each_neuron)"
      ],
      "execution_count": 30,
      "outputs": []
    },
    {
      "cell_type": "code",
      "metadata": {
        "colab": {
          "base_uri": "https://localhost:8080/"
        },
        "id": "bfP1JWhLk525",
        "outputId": "de53243f-d344-49bd-9e19-793d85ff6e13"
      },
      "source": [
        "len(hidden_layer_each_neuron)"
      ],
      "execution_count": 31,
      "outputs": [
        {
          "output_type": "execute_result",
          "data": {
            "text/plain": [
              "256"
            ]
          },
          "metadata": {
            "tags": []
          },
          "execution_count": 31
        }
      ]
    },
    {
      "cell_type": "code",
      "metadata": {
        "id": "BXOpwTXEQFKY"
      },
      "source": [
        "criterion = torch.nn.CrossEntropyLoss()\n",
        "no_epochs = 20\n",
        "train_loss = list()\n",
        "test_loss  = list()\n",
        "test_acc   = list()\n",
        "\n",
        "best_test_loss = 1\n",
        "\n",
        "for epoch in range(no_epochs):\n",
        "    total_train_loss = 0\n",
        "    total_test_loss = 0\n",
        "\n",
        "    # training\n",
        "    # set up training mode \n",
        "    model.train()\n",
        "\n",
        "    for itr, (images, label) in enumerate(train_dataloader):\n",
        "\n",
        "        optimizer.zero_grad()\n",
        "\n",
        "        pred = model(images)\n",
        "\n",
        "        loss = criterion(pred, label)\n",
        "        total_train_loss += loss.item()\n",
        "\n",
        "        loss.backward()\n",
        "        optimizer.step()\n",
        "\n",
        "        # Print/Append activation of the hidden layer \n",
        "        # print(model.layer_activations.shape)\n",
        "        # model.layer_activations\n",
        "\n",
        "    total_train_loss = total_train_loss / (itr + 1)\n",
        "    train_loss.append(total_train_loss)\n",
        "\n",
        "    # testing \n",
        "    # change to evaluation mode \n",
        "    model.eval()\n",
        "    total = 0\n",
        "    for itr, (images, labels) in enumerate(test_dataloader):\n",
        "\n",
        "        pred = model(images)\n",
        "\n",
        "        loss = criterion(pred, labels)\n",
        "        total_test_loss += loss.item()\n",
        "\n",
        "        # we now need softmax because we are testing.\n",
        "        pred = torch.nn.functional.softmax(pred, dim=1)\n",
        "        for i, p in enumerate(pred):\n",
        "            if labels[i] == torch.max(p.data, 0)[1]:\n",
        "                total = total + 1\n",
        "\n",
        "        # print(\"1:\", labels.shape)   # 50 \n",
        "        # print(\"2:\", model.layer_activations.shape)  # 50, 256 \n",
        "\n",
        "        # print(labels[0].shape) # 1\n",
        "        # print(model.layer_activations[0].shape) # 256 \n",
        "\n",
        "        # find selectivity at the final epoch \n",
        "        if epoch == no_epochs - 1: # last epoch \n",
        "            for activation, label in zip(model.layer_activations, labels):\n",
        "                # shape of activation and label: 256 and 1 \n",
        "                \n",
        "                # get the actual value of item. This is because label is now Tensor \n",
        "                label = label.item()\n",
        "\n",
        "                # this is not part of gradient calculcation \n",
        "                with torch.no_grad():\n",
        "                    activation = activation.numpy()\n",
        "\n",
        "                # for each image/label, append activation value of neuron \n",
        "                for i in range(256):    # number of neurons in hidden layer \n",
        "                    hidden_layer_each_neuron[i][label].append(activation[i])\n",
        "\n",
        "\n",
        "    # caculate accuracy \n",
        "    accuracy = total / len(mnist_testset)\n",
        "\n",
        "    # append accuracy here\n",
        "    test_acc.append(accuracy)\n",
        "\n",
        "    # append test loss here \n",
        "    total_test_loss = total_test_loss / (itr + 1)\n",
        "    test_loss.append(total_test_loss)\n",
        "\n",
        "    print('\\nEpoch: {}/{}, Train Loss: {:.8f}, Test Loss: {:.8f}, Test Accuracy: {:.8f}'.format(epoch + 1, no_epochs, total_train_loss, total_test_loss, accuracy))\n",
        "\n",
        "    if total_test_loss < best_test_loss:\n",
        "        best_test_loss = total_test_loss\n",
        "        print(\"Saving the model state dictionary for Epoch: {} with Test loss: {:.8f}\".format(epoch + 1, total_test_loss))\n",
        "        torch.save(model.state_dict(), \"model.dth\")\n"
      ],
      "execution_count": null,
      "outputs": []
    },
    {
      "cell_type": "code",
      "metadata": {
        "colab": {
          "base_uri": "https://localhost:8080/"
        },
        "id": "SMEdxNtH0xxO",
        "outputId": "70488091-b6d5-4bb9-874f-614a0a94b59f"
      },
      "source": [
        "#   there are 256 neurons. \n",
        "print(np.array(hidden_layer_each_neuron).shape)"
      ],
      "execution_count": 66,
      "outputs": [
        {
          "output_type": "stream",
          "text": [
            "(256,)\n"
          ],
          "name": "stdout"
        }
      ]
    },
    {
      "cell_type": "code",
      "metadata": {
        "colab": {
          "base_uri": "https://localhost:8080/"
        },
        "id": "_zkYsqpAyioo",
        "outputId": "c0a9def7-0797-4ce8-f6b5-fb91e4af5d86"
      },
      "source": [
        "print(len(hidden_layer_each_neuron[0]))\n",
        "print(len(hidden_layer_each_neuron[1]))\n",
        "#   .\n",
        "#   .\n",
        "#   .\n",
        "#   For each neuron in hidden layer, there are 10 classes: 0 to 9 \n",
        "print(len(hidden_layer_each_neuron[255]))"
      ],
      "execution_count": 69,
      "outputs": [
        {
          "output_type": "stream",
          "text": [
            "10\n",
            "10\n",
            "10\n"
          ],
          "name": "stdout"
        }
      ]
    },
    {
      "cell_type": "code",
      "metadata": {
        "colab": {
          "base_uri": "https://localhost:8080/"
        },
        "id": "WXjbMKzI6UZI",
        "outputId": "8095e5a3-f495-434d-d5e6-c57d1283a5d4"
      },
      "source": [
        "# hidden_layer_each_neuron[9][5]: 9th neuron's activation values of number(class) 5\n",
        "print(hidden_layer_each_neuron[9][5])"
      ],
      "execution_count": 86,
      "outputs": [
        {
          "output_type": "stream",
          "text": [
            "[2.2152939e-08, 1.2682847e-07, 5.483753e-05, 8.197479e-11, 4.8451526e-10, 1.02101765e-07, 4.570579e-06, 4.6502002e-09, 0.0012101907, 9.5782276e-08, 4.5645145e-08, 0.00012607494, 0.00010906463, 3.5659745e-10, 7.995135e-10, 2.2921167e-06, 5.0661164e-10, 1.4037599e-13, 1.0361957e-09, 8.729914e-05, 3.1058284e-10, 1.2796804e-08, 4.4087867e-07, 1.231415e-08, 1.6656802e-10, 4.473811e-13, 2.9450549e-08, 4.3935273e-05, 6.7375174e-07, 1.5456625e-09, 1.5998901e-05, 0.00020677291, 1.1211622e-09, 6.189113e-08, 1.1279942e-05, 3.7402785e-12, 5.5450564e-06, 1.37073575e-05, 1.0362978e-05, 3.571778e-05, 0.0035881018, 1.3439749e-11, 1.2396073e-06, 0.0015158658, 7.1811914e-06, 1.6166011e-11, 7.731617e-07, 0.00065727864, 3.7735674e-05, 8.954558e-09, 0.007084122, 2.4887786e-05, 2.397147e-05, 7.665211e-07, 2.6869605e-08, 1.7444115e-08, 4.685196e-06, 8.457191e-08, 2.1783889e-11, 1.7630226e-08, 1.3316596e-06, 0.0067777615, 4.5459055e-06, 3.7687056e-07, 3.044371e-06, 4.390295e-08, 4.2994936e-09, 0.0011664312, 5.785019e-08, 5.7575173e-05, 6.492902e-09, 5.9419355e-05, 3.7543884e-06, 1.4022929e-05, 0.00048436568, 6.0159203e-07, 1.6684498e-05, 3.126118e-06, 0.00025804283, 8.521002e-08, 3.587221e-05, 1.2900719e-07, 0.00032546843, 1.9499774e-08, 1.18032375e-07, 3.2871423e-05, 2.1882657e-08, 6.17621e-06, 0.001338746, 1.4913195e-09, 8.27268e-08, 1.6314429e-07, 1.9382064e-06, 0.00010562388, 1.1625522e-11, 2.5043682e-13, 1.6153758e-06, 8.788675e-05, 1.7966213e-06, 5.4618914e-09, 3.81236e-09, 1.247029e-08, 8.63779e-05, 1.8611589e-10, 1.8804344e-10, 1.2557007e-05, 2.301788e-06, 3.3194836e-09, 1.8022446e-08, 2.1709383e-12, 1.4740956e-06, 2.316173e-05, 1.5387823e-06, 5.7544116e-09, 4.290562e-10, 9.493525e-08, 5.4277884e-12, 3.5486292e-07, 3.7872064e-07, 2.5091637e-07, 7.311202e-09, 4.6056266e-07, 5.4428522e-08, 2.3411637e-09, 0.0035025228, 0.00029322688, 1.3123986e-07, 6.834807e-05, 1.3146766e-10, 3.579716e-08, 1.0045643e-09, 6.118115e-12, 3.384479e-08, 1.3718031e-07, 3.462121e-05, 2.2642342e-10, 8.81243e-06, 7.24377e-06, 0.00032818574, 3.860893e-08, 1.7005789e-06, 2.0808654e-12, 5.3432336e-06, 3.1101827e-08, 2.4925023e-07, 1.3120372e-06, 2.9143855e-06, 9.814786e-07, 5.5520836e-06, 4.3998538e-05, 1.4479224e-05, 5.937028e-10, 2.7845577e-09, 4.874528e-07, 2.3226876e-09, 7.4601034e-05, 0.00059697794, 3.69957e-05, 0.0067, 0.00078032364, 6.052607e-07, 5.3850876e-08, 0.0006813259, 2.1634113e-08, 5.667848e-08, 5.6115905e-08, 3.3725893e-08, 3.2728502e-07, 5.898398e-07, 5.5597063e-12, 2.502986e-06, 5.580371e-08, 7.0279316e-06, 4.829334e-08, 2.2837443e-09, 4.4694426e-07, 1.5311768e-08, 2.8187216e-07, 1.3227125e-14, 1.7708786e-08, 1.0724953e-06, 0.0001310368, 1.0369831e-08, 2.6321456e-09, 6.443139e-08, 2.425736e-05, 0.00760171, 1.6962065e-05, 4.649076e-07, 1.099868e-11, 2.106092e-09, 2.2552843e-08, 9.290024e-11, 1.3961007e-07, 3.1534975e-05, 0.00025867095, 3.641732e-07, 1.7633661e-07, 3.409026e-12, 1.6936145e-06, 5.8026007e-08, 6.73322e-07, 0.0045354557, 3.361388e-06, 1.7384052e-07, 4.6317387e-11, 2.0014868e-06, 4.123225e-05, 1.3607442e-10, 0.00021670597, 3.5525194e-10, 3.9193696e-05, 1.4808828e-06, 2.9505767e-07, 7.915012e-05, 2.9477283e-09, 0.0011063284, 3.223412e-08, 3.0245823e-12, 1.9039928e-06, 1.4844829e-06, 1.7691991e-06, 9.564191e-15, 4.272447e-11, 0.00011665185, 3.9667026e-05, 4.3310854e-07, 8.604987e-05, 1.00407114e-07, 7.663275e-12, 1.6753617e-08, 7.383255e-07, 2.4799635e-10, 2.1785173e-15, 3.6828044e-07, 0.0006403762, 5.67171e-06, 1.6648916e-07, 4.8633883e-08, 3.8751095e-05, 7.474905e-14, 5.393882e-05, 4.7846675e-05, 3.2000537e-12, 2.0427341e-14, 1.23585705e-05, 0.00016684945, 7.329795e-05, 9.7232366e-08, 4.073069e-07, 0.008733137, 2.0678415e-07, 1.1915209e-06, 0.00014689712, 5.411409e-14, 0.0008290265, 2.4629427e-09, 1.2724602e-10, 0.0005928868, 1.4643572e-07, 4.1961016e-06, 1.7324055e-06, 3.6241326e-11, 2.0739277e-08, 8.945514e-08, 1.18736416e-07, 5.244298e-07, 7.0493424e-11, 1.7193634e-06, 6.239969e-10, 1.9573935e-07, 1.4078158e-06, 1.14947545e-10, 1.6471074e-06, 8.746371e-10, 1.7628465e-06, 2.0433435e-09, 2.0559091e-05, 1.9494348e-05, 7.221329e-12, 2.516538e-11, 1.9254315e-10, 2.016022e-05, 1.5861566e-10, 7.1029416e-10, 2.369342e-05, 3.7308793e-05, 1.9766837e-09, 1.0627251e-06, 0.00053408166, 5.2908916e-07, 1.3487591e-05, 0.00025413895, 3.4545458e-06, 8.8907996e-07, 8.320537e-05, 8.891649e-06, 0.005260613, 0.00092774065, 2.0567514e-09, 1.6851283e-05, 8.9874184e-11, 5.5741166e-06, 1.1151282e-06, 1.1352951e-10, 1.1879838e-09, 2.2881062e-07, 5.7210705e-11, 1.2160215e-09, 2.5385816e-09, 4.6173205e-05, 8.087103e-05, 0.0006778122, 5.7290396e-07, 3.678655e-05, 3.8114412e-14, 2.1289326e-08, 0.00019007646, 2.822231e-10, 8.7924134e-05, 1.5394296e-06, 1.3260029e-08, 0.00015903833, 1.8777337e-05, 2.43268e-06, 2.0451851e-05, 0.00067585474, 3.0110014e-10, 5.7852503e-07, 3.827201e-09, 9.044203e-06, 6.537563e-13, 3.7405748e-10, 0.00023173547, 2.419988e-06, 1.2618156e-07, 3.842761e-08, 5.584017e-10, 7.88451e-05, 1.9378755e-08, 2.0884756e-05, 1.1490339e-08, 0.0048060725, 6.8966854e-09, 1.2132997e-06, 2.2564546e-08, 2.0098963e-05, 1.760679e-17, 3.721833e-08, 1.1143e-05, 7.33217e-11, 2.0072817e-05, 4.194829e-06, 0.02360774, 2.3366727e-08, 7.360748e-05, 4.9130353e-08, 4.375014e-05, 5.979257e-05, 7.2525904e-06, 5.9205042e-05, 0.0008202439, 1.3376431e-06, 2.6208756e-05, 8.311873e-08, 3.303249e-06, 1.3449661e-05, 2.4835042e-10, 7.704327e-08, 5.8040894e-10, 4.206464e-08, 7.548811e-09, 7.4375217e-09, 2.2987032e-09, 0.00014410795, 8.810288e-08, 0.0001264273, 8.1658085e-09, 2.7363662e-06, 2.8277868e-06, 6.7424617e-06, 8.481796e-06, 7.0077384e-09, 3.072034e-06, 4.2253978e-05, 6.611899e-10, 1.130654e-09, 1.6703592e-07, 4.5818948e-07, 6.810424e-09, 1.6270287e-06, 6.6715836e-07, 9.278884e-06, 7.67667e-06, 2.4679082e-07, 1.6295708e-09, 2.7403853e-06, 9.806562e-07, 6.693974e-06, 4.218036e-06, 3.2085363e-06, 8.736772e-09, 1.519395e-06, 6.818408e-08, 2.699984e-08, 2.4015712e-08, 0.0019594408, 4.7800564e-09, 2.3078202e-08, 1.8345412e-07, 5.9498907e-05, 5.2404783e-07, 1.1623094e-05, 8.91565e-09, 9.1814806e-10, 2.8881267e-11, 1.2552505e-05, 0.0007107872, 6.311326e-08, 2.6899126e-13, 1.7798535e-05, 1.9993595e-06, 2.1259668e-05, 5.6684007e-06, 2.674465e-15, 7.3179964e-09, 1.594102e-07, 1.23388445e-05, 2.8784999e-09, 8.86309e-09, 3.0876665e-05, 3.4784927e-05, 4.6327975e-07, 3.6632561e-09, 0.0001937452, 3.174349e-07, 5.22937e-12, 2.6127404e-07, 1.6483303e-09, 3.0676208e-09, 1.51442e-09, 0.0004212764, 9.1336005e-06, 1.03216955e-13, 1.6485815e-07, 6.00878e-09, 2.691275e-07, 9.316953e-07, 5.541803e-08, 2.24207e-05, 2.890347e-07, 2.7152323e-06, 6.4585397e-06, 0.0014668718, 2.0959214e-09, 9.849313e-06, 2.0869065e-05, 1.1332951e-08, 1.4262436e-10, 4.2097437e-13, 1.6729222e-05, 3.8881176e-08, 3.5976202e-06, 2.464479e-07, 3.0672652e-08, 9.834914e-06, 1.6851883e-06, 1.4405894e-07, 2.8776833e-08, 2.1854587e-08, 5.644777e-07, 5.6224485e-07, 4.0297298e-08, 3.6496793e-08, 2.9796743e-07, 4.72929e-09, 7.162959e-08, 1.3292539e-06, 0.0005320472, 2.660315e-05, 1.8798515e-05, 2.3739534e-05, 0.0006890965, 6.5193264e-05, 1.6443984e-05, 3.780227e-05, 2.1305011e-07, 7.2286643e-06, 1.1447418e-06, 3.6750397e-10, 2.3128305e-08, 2.1247197e-10, 5.1389172e-08, 7.645724e-09, 1.740221e-08, 2.2379684e-08, 7.33751e-07, 9.4192415e-05, 1.5754281e-06, 7.882198e-09, 5.679306e-09, 1.2825076e-08, 1.955634e-13, 7.150807e-09, 1.8749375e-07, 3.1561658e-09, 4.2883057e-09, 1.4982534e-06, 4.040756e-07, 5.616692e-10, 2.8435795e-10, 1.2887958e-06, 1.1215529e-10, 5.9515023e-05, 2.2475426e-07, 7.3195315e-06, 2.216924e-05, 1.2047973e-12, 1.4286414e-07, 9.369545e-08, 3.6507728e-07, 1.2552272e-10, 3.1909102e-09, 3.6568565e-08, 2.1638321e-08, 1.3015039e-09, 7.9729e-07, 4.4046274e-06, 2.7535239e-09, 1.03848415e-05, 2.22084e-12, 1.0371921e-13, 1.0191323e-11, 1.6834e-10, 1.1941602e-10, 8.402054e-13, 1.226544e-08, 1.7942448e-06, 4.600815e-08, 0.0004965135, 1.1894418e-09, 0.05186883, 0.00014611092, 1.0973781e-06, 0.002626551, 2.3123947e-11, 2.4915498e-06, 4.571563e-08, 0.00030214727, 2.0226459e-08, 9.617182e-05, 2.8291878e-11, 4.968347e-10, 1.1317851e-06, 7.721185e-06, 1.6220117e-08, 4.873777e-09, 6.169872e-10, 9.1910096e-07, 3.3493014e-11, 1.603226e-10, 2.1667274e-08, 3.6334121e-12, 1.033196e-09, 9.529791e-12, 1.3087172e-10, 1.7586127e-12, 3.5531258e-08, 1.4077068e-13, 1.7479516e-12, 3.609e-10, 1.8872469e-10, 1.1394806e-09, 2.9232882e-07, 3.7018967e-08, 6.398835e-10, 3.4069318e-09, 5.2691562e-09, 3.6735436e-08, 8.066753e-12, 1.8507786e-11, 6.54523e-11, 2.4550866e-09, 9.464932e-10, 2.1548999e-11, 2.1277693e-10, 3.0756553e-07, 4.2862175e-05, 2.8255147e-07, 5.054929e-10, 5.719006e-07, 5.378615e-07, 4.798658e-08, 4.1370554e-06, 2.794416e-07, 3.995963e-11, 0.0005247466, 7.693629e-06, 6.655659e-08, 8.035671e-08, 2.1766442e-07, 1.0007562e-10, 2.628991e-05, 0.00011188063, 7.3085835e-07, 1.2040083e-10, 6.230199e-08, 4.6702645e-08, 6.252658e-05, 8.6428245e-06, 4.654878e-05, 4.520602e-06, 0.00010463693, 2.4994483e-07, 0.0004113411, 8.127261e-12, 2.4934561e-11, 3.133634e-06, 2.7856167e-06, 1.8865592e-05, 2.6517623e-07, 1.5738598e-08, 3.7221248e-06, 7.747991e-06, 3.6966374e-06, 4.089688e-06, 3.3794778e-09, 3.2347353e-10, 9.0959226e-08, 3.139939e-11, 1.2812038e-09, 9.00268e-09, 7.3954254e-07, 6.762272e-13, 2.0830258e-08, 2.1954027e-07, 2.967767e-09, 7.706755e-11, 2.9845196e-06, 1.4588721e-07, 4.3379387e-08, 1.0457175e-06, 7.28614e-07, 8.073291e-09, 1.1656589e-06, 1.5681813e-08, 2.4803917e-08, 7.4129494e-09, 1.4529298e-09, 1.6964856e-07, 0.0005990615, 4.1104945e-12, 1.6500737e-08, 5.1901952e-05, 1.8024447e-11, 2.5971274e-09, 2.184545e-09, 5.2910233e-05, 9.727067e-14, 6.907467e-09, 3.536994e-11, 8.60472e-12, 2.538465e-13, 1.8700946e-07, 3.4576672e-06, 5.7933775e-08, 5.5151357e-12, 8.360396e-09, 4.2048978e-09, 4.447421e-12, 6.629289e-13, 3.774981e-12, 8.067328e-06, 0.00016685709, 3.141074e-09, 6.4997914e-09, 1.8943134e-05, 3.18755e-06, 1.5118615e-11, 9.685792e-08, 1.9562312e-09, 1.9142855e-07, 6.2287966e-12, 1.0666405e-08, 1.6007426e-09, 2.0405606e-11, 1.1457691e-07, 0.00050558377, 0.0008069094, 1.19986125e-05, 7.6282606e-07, 0.0036847112, 2.1726241e-06, 0.0020977217, 1.8697001e-06, 1.4245457e-08, 3.0377e-05, 6.838034e-06, 1.8273221e-08, 2.1263352e-08, 3.9815365e-08, 3.9909888e-11, 1.0473023e-10, 2.5153408e-09, 1.2389184e-12, 7.585296e-06, 3.940244e-11, 1.050354e-08, 1.1057292e-09, 1.5050053e-11, 4.1699415e-08, 7.645956e-05, 6.9097045e-10, 0.0039953697, 2.0585388e-11, 8.7592925e-06, 1.3437825e-07, 8.814254e-06, 4.8720388e-09, 2.0530347e-10, 1.2609206e-07, 6.3841446e-07, 1.5562597e-08, 3.1307099e-12, 9.933616e-06, 2.472721e-07, 1.5906792e-11, 9.249386e-09, 1.8929738e-06, 1.7799434e-12, 1.4389707e-05, 1.3849669e-06, 1.4382284e-09, 6.82384e-05, 5.174749e-08, 3.513861e-08, 9.424552e-08, 1.9855152e-08, 7.861224e-09, 1.6413856e-06, 7.542508e-05, 5.649867e-08, 1.5113383e-06, 1.8617943e-10, 2.0839046e-07, 4.0393355e-11, 7.665513e-08, 2.2406e-11, 1.6201864e-09, 8.432115e-06, 8.138803e-12, 9.615345e-09, 7.251341e-07, 8.143314e-10, 7.430286e-10, 2.4031317e-17, 7.5528944e-11, 6.601622e-12, 7.1512605e-12, 2.730638e-12, 2.1130106e-11, 1.361401e-10, 8.087031e-11, 5.1282325e-09, 2.1371587e-12, 4.5314035e-12, 4.34327e-12, 2.8556246e-07, 5.2458913e-09, 1.2088532e-05, 1.828103e-08, 1.2037407e-12, 1.8267898e-05, 7.075726e-09, 3.09573e-08, 1.0983832e-06, 1.087929e-12, 8.0207306e-11, 1.1800954e-09, 1.1774052e-11, 2.9125858e-13, 1.849434e-15, 3.6764232e-16, 7.624861e-11, 6.359629e-11, 6.049231e-14, 5.8719235e-10, 1.4264592e-06, 5.434256e-05, 5.37005e-08, 9.7331835e-08, 0.00012387334, 3.037542e-07, 5.1699324e-05, 2.2485881e-05, 2.4390252e-05, 2.9489115e-07, 3.696837e-05, 7.395244e-05, 1.7389126e-05, 0.00022797701, 0.00022696459, 0.008685958, 1.0971218e-06, 1.4724245e-05, 0.00072290486, 0.0048235147, 1.15351395e-05, 4.983256e-06, 4.238062e-05, 0.00052300986, 6.813507e-05, 1.8606888e-05, 4.9440983e-05, 0.0010166924, 5.337522e-07, 1.6020209e-06, 2.759281e-05, 2.0943847e-07, 6.8467257e-06, 3.0186413e-07, 5.068842e-10, 5.0014916e-07, 5.9977205e-12, 2.6107628e-07, 1.7007325e-08, 9.189886e-06, 7.2351195e-06, 7.0206885e-09, 1.8873035e-11, 3.6931282e-09, 5.692765e-09, 0.00027935178, 0.00035089892, 3.5690542e-07, 4.19745e-05, 3.1951625e-08, 9.5102405e-07, 9.986798e-07, 1.19101e-05, 8.758522e-05, 0.0001610461, 2.068334e-08, 8.501896e-06, 3.550427e-07, 2.1691677e-07, 6.6129995e-09, 1.3463327e-07, 4.6841627e-08, 9.654046e-07, 4.7506964e-07, 4.660493e-12, 1.8574883e-10, 1.9404682e-08, 1.7385753e-08, 3.306399e-08, 2.3001683e-09, 8.708322e-09, 5.318635e-07, 3.825769e-06, 6.484749e-12, 1.3528814e-11, 4.79005e-09, 1.0894864e-08, 1.671812e-08, 4.98945e-09, 3.783665e-07, 1.7913291e-12, 9.645225e-10, 9.927197e-08, 6.4895153e-06, 3.5285075e-09, 5.2076494e-09, 4.4544768e-07, 2.5429152e-05, 4.4746484e-05, 1.2607776e-05, 4.1773433e-06, 4.98711e-09, 1.726794e-06, 8.1333695e-07, 2.6456169e-06, 1.2762274e-14, 1.900242e-11, 1.941042e-08, 3.4608588e-10, 4.981372e-11, 5.330797e-10, 6.9711936e-10, 1.1803946e-13, 1.137237e-06, 3.022133e-11, 1.415454e-11, 2.22965e-07, 1.0459333e-09, 7.355275e-09, 5.7946512e-11, 2.1285332e-07, 1.8468185e-11, 2.7687794e-10, 4.185495e-08, 1.3885846e-08, 3.2986822e-08, 1.2832959e-07, 0.00014557732, 6.424433e-06, 7.2712896e-06, 8.888623e-08, 1.6254127e-06, 4.992808e-06, 2.0229486e-06, 4.1180115e-06, 3.929158e-07, 2.5274476e-06, 7.5548485e-07, 2.9097532e-06, 2.88127e-06, 7.3084275e-06, 0.00026013088, 6.635293e-11, 2.1510162e-10, 0.0019731817, 2.5946094e-06, 5.354234e-10, 6.980817e-09, 7.337945e-08, 4.7339217e-05, 6.292395e-07, 0.00020367114, 5.01608e-07, 7.341738e-12, 1.1034102e-08, 2.7901188e-09, 3.7461266e-08, 2.1520602e-16, 4.6979084e-11, 2.0344235e-08, 0.00019957227, 2.37139e-05, 2.2628394e-05, 1.1261799e-06, 5.7429097e-09, 8.1364306e-05, 1.670904e-07, 9.375481e-08, 0.0012203488, 1.8163951e-10, 6.9454513e-06, 5.2938467e-06, 1.844099e-06, 1.761445e-07, 2.8761088e-08, 2.403116e-07, 8.460172e-09, 2.8243123e-08, 8.14161e-09, 1.7426244e-06, 1.5227561e-06, 2.9354227e-10, 3.3749657e-06, 6.1309835e-10, 1.1651623e-08, 1.6254756e-10, 1.8281554e-08, 4.569885e-10, 5.853085e-09, 1.0636235e-06, 3.72118e-08, 0.01859795, 1.569606e-05, 1.1043482e-05, 4.529603e-05, 6.4089664e-07, 1.6190681e-06, 2.5349477e-06, 9.319671e-09, 2.5891766e-05, 0.00028779916, 7.95031e-09, 2.7386315e-10]\n"
          ],
          "name": "stdout"
        }
      ]
    },
    {
      "cell_type": "code",
      "metadata": {
        "id": "ahyPuNExsrYr"
      },
      "source": [
        "# I will now try to find the average of each class for each neuron.\n",
        "# check out the next cell \n",
        "avg_activations = [dict() for x in range(256)]\n",
        "for i, neuron in enumerate(hidden_layer_each_neuron):\n",
        "    for k, v in neuron.items():\n",
        "        # v is the list of activations for hidden layer's neuron k \n",
        "        avg_activations[i][k] = sum(v) / float(len(v))"
      ],
      "execution_count": 70,
      "outputs": []
    },
    {
      "cell_type": "code",
      "metadata": {
        "colab": {
          "base_uri": "https://localhost:8080/"
        },
        "id": "DRN5-4Rx8GZJ",
        "outputId": "082b42ff-f425-4290-e9c6-3a41781516fa"
      },
      "source": [
        "print(np.average(hidden_layer_each_neuron[0][0]))\n",
        "print(np.average(hidden_layer_each_neuron[1][0]))\n",
        "print(np.average(hidden_layer_each_neuron[255][0]))"
      ],
      "execution_count": 91,
      "outputs": [
        {
          "output_type": "stream",
          "text": [
            "0.010649697\n",
            "0.00022597237\n",
            "0.005219437\n"
          ],
          "name": "stdout"
        }
      ]
    },
    {
      "cell_type": "code",
      "metadata": {
        "colab": {
          "base_uri": "https://localhost:8080/"
        },
        "id": "mhYx6yRevLAb",
        "outputId": "60c16243-64e1-4373-beff-9dd8b32c47de"
      },
      "source": [
        "print(avg_activations[0])\n",
        "print(avg_activations[1])\n",
        "#   .\n",
        "#   .\n",
        "#   .\n",
        "print(avg_activations[255])"
      ],
      "execution_count": 74,
      "outputs": [
        {
          "output_type": "stream",
          "text": [
            "{0: 0.01064969590983842, 1: 0.011579395830608545, 2: 0.018659652275849134, 3: 0.0036669818881303676, 4: 0.022191845663284367, 5: 0.0017384049338187756, 6: 0.14585993083808313, 7: 0.009409720661021154, 8: 0.0015985387607409323, 9: 0.005948913598712139}\n",
            "{0: 0.00022597237761217174, 1: 0.6096585417206772, 2: 0.0242293587585628, 3: 0.0013401000239541441, 4: 0.002006061503732474, 5: 0.00187453448276193, 6: 0.0054396448049770525, 7: 0.0036435045470692, 8: 0.0008762409977984163, 9: 0.00018247453366984832}\n",
            "{0: 0.005219437003079519, 1: 0.013480590857224396, 2: 0.056289916380797236, 3: 0.0007867360751251437, 4: 0.0009318888842806899, 5: 0.001162618218784777, 6: 0.028084359181861602, 7: 0.0015552248389612052, 8: 0.0011603632335744068, 9: 0.00018172075018022267}\n"
          ],
          "name": "stdout"
        }
      ]
    },
    {
      "cell_type": "code",
      "metadata": {
        "colab": {
          "base_uri": "https://localhost:8080/"
        },
        "id": "mHDm5Ljmu0QS",
        "outputId": "480b2ffe-4e1a-4596-d0b6-250b7987288f"
      },
      "source": [
        "# generate 256 lists to get only values in avg_activations\n",
        "only_activation_vals = [list() for x in range(256)]\n",
        "\n",
        "# selectivity_list contains all of the selectivity of each neuron \n",
        "selectivity_list = list()\n",
        "\n",
        "# get only values from avg_activations\n",
        "for i, avg_activation in enumerate(avg_activations):\n",
        "    for value in avg_activation.values():\n",
        "        only_activation_vals[i].append(value)\n",
        "\n",
        "# compare the result of avg_activations and only_activation_vals.\n",
        "# The values of the dictionary should be same \n",
        "print(\"1\", avg_activations[0])\n",
        "print(\"2\", only_activation_vals[0])\n",
        "print()\n",
        "\n",
        "\n",
        "for activation_val in only_activation_vals:\n",
        "    # find u_max \n",
        "    u_max = np.max(activation_val)\n",
        "\n",
        "    # find u_minus_max \n",
        "    u_minus_max = (np.sum(activation_val) - u_max) / 9\n",
        "\n",
        "    # find selectivity \n",
        "    selectivity = (u_max - u_minus_max) / (u_max + u_minus_max)\n",
        "\n",
        "    # append selectivity value to selectivity_list\n",
        "    selectivity_list.append(selectivity)\n",
        "\n",
        "# length of selectivity_list should be 256 because there are 256 neurons in the hidden layer \n",
        "print(\"\\nlength of selectivity_list:\", len(selectivity_list))\n",
        "print(\"average selectivity of all neurons:\", np.average(selectivity_list))"
      ],
      "execution_count": 92,
      "outputs": [
        {
          "output_type": "stream",
          "text": [
            "1 {0: 0.01064969590983842, 1: 0.011579395830608545, 2: 0.018659652275849134, 3: 0.0036669818881303676, 4: 0.022191845663284367, 5: 0.0017384049338187756, 6: 0.14585993083808313, 7: 0.009409720661021154, 8: 0.0015985387607409323, 9: 0.005948913598712139}\n",
            "2 [0.01064969590983842, 0.011579395830608545, 0.018659652275849134, 0.0036669818881303676, 0.022191845663284367, 0.0017384049338187756, 0.14585993083808313, 0.009409720661021154, 0.0015985387607409323, 0.005948913598712139]\n",
            "\n",
            "\n",
            "length of selectivity_list: 256\n",
            "average selectivity of all neurons: 0.6987336005218048\n"
          ],
          "name": "stdout"
        }
      ]
    },
    {
      "cell_type": "code",
      "metadata": {
        "id": "ACiOqR2mMbUX",
        "colab": {
          "base_uri": "https://localhost:8080/",
          "height": 621
        },
        "outputId": "ef4c8420-960e-46a3-f5fd-b11172123ebe"
      },
      "source": [
        "fig=plt.figure(figsize=(20, 10))\n",
        "plt.plot(np.arange(1, no_epochs+1), test_acc, label=\"Adagrad Test Accuracy\", color='g')\n",
        "plt.xlabel('Epochs')\n",
        "plt.ylabel('Accuracy')\n",
        "plt.ylim(0.85, 1)\n",
        "plt.title(\"Accuracy Plot\")\n",
        "plt.legend(loc='best')\n",
        "plt.show()"
      ],
      "execution_count": 79,
      "outputs": [
        {
          "output_type": "display_data",
          "data": {
            "image/png": "[encoded data removed]",
            "text/plain": [
              "<Figure size 1440x720 with 1 Axes>"
            ]
          },
          "metadata": {
            "tags": [],
            "needs_background": "light"
          }
        }
      ]
    }
  ]
}