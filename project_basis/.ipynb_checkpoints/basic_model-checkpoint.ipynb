{
 "cells": [
  {
   "cell_type": "markdown",
   "metadata": {
    "colab_type": "text",
    "id": "view-in-github"
   },
   "source": [
    "<a href=\"https://colab.research.google.com/github/7201krap/PYTORCH_introduction_to_pytorch/blob/main/Adagrad_spareness.ipynb\" target=\"_parent\"><img src=\"https://colab.research.google.com/assets/colab-badge.svg\" alt=\"Open In Colab\"/></a>"
   ]
  },
  {
   "cell_type": "code",
   "execution_count": 26,
   "metadata": {
    "id": "o7STrWa0P3z_"
   },
   "outputs": [],
   "source": [
    "import torch\n",
    "from torchvision import transforms\n",
    "import torchvision.datasets as datasets\n",
    "import matplotlib.pyplot as plt\n",
    "import numpy as np"
   ]
  },
  {
   "cell_type": "code",
   "execution_count": 27,
   "metadata": {
    "colab": {
     "base_uri": "https://localhost:8080/"
    },
    "id": "rTW5TOUnP5XY",
    "outputId": "092a948f-639f-436e-d3db-c53ed25c8e3f"
   },
   "outputs": [
    {
     "name": "stdout",
     "output_type": "stream",
     "text": [
      "Training dataset size:  60000\n",
      "Testing dataset size:  10000\n"
     ]
    }
   ],
   "source": [
    "mnist_trainset = datasets.MNIST(root='./data', train=True, \n",
    "                                download=True, \n",
    "                                transform=transforms.Compose([transforms.ToTensor()]))\n",
    "\n",
    "mnist_testset  = datasets.MNIST(root='./data', \n",
    "                                train=False, \n",
    "                                download=True, \n",
    "                                transform=transforms.Compose([transforms.ToTensor()]))\n",
    "\n",
    "train_dataloader = torch.utils.data.DataLoader(mnist_trainset, \n",
    "                                               batch_size=50, \n",
    "                                               shuffle=True)\n",
    "\n",
    "test_dataloader  = torch.utils.data.DataLoader(mnist_testset, \n",
    "                                               batch_size=50, \n",
    "                                               shuffle=False)\n",
    "\n",
    "print(\"Training dataset size: \", len(mnist_trainset))\n",
    "print(\"Testing dataset size: \",  len(mnist_testset))"
   ]
  },
  {
   "cell_type": "code",
   "execution_count": 28,
   "metadata": {
    "id": "IXTkEUJ5P6kU"
   },
   "outputs": [],
   "source": [
    "# Define the model \n",
    "class Model(torch.nn.Module):\n",
    "    def __init__(self):\n",
    "        super(Model, self).__init__()\n",
    "        self.linear_1 = torch.nn.Linear(784, 256)\n",
    "        self.linear_2 = torch.nn.Linear(256, 10)\n",
    "        self.sigmoid  = torch.nn.Sigmoid()\n",
    "\n",
    "    def forward(self, x):\n",
    "        x = x.reshape(x.size(0), -1)\n",
    "        x = self.linear_1(x)\n",
    "        x = self.sigmoid(x)\n",
    "        pred = self.linear_2(x)\n",
    "\n",
    "        return pred\n",
    "\n",
    "model = Model()"
   ]
  },
  {
   "cell_type": "code",
   "execution_count": 29,
   "metadata": {
    "colab": {
     "base_uri": "https://localhost:8080/"
    },
    "id": "BfgvKH6eP9Ou",
    "outputId": "cae29c78-a810-481f-8a09-8eb791f7e8de"
   },
   "outputs": [
    {
     "data": {
      "text/plain": [
       "<torch.utils.hooks.RemovableHandle at 0x7f9ef67cc550>"
      ]
     },
     "execution_count": 29,
     "metadata": {
      "tags": []
     },
     "output_type": "execute_result"
    }
   ],
   "source": [
    "def get_activation():    \n",
    "    def hook(module, input, output):\n",
    "        model.layer_activations = output\n",
    "    return hook\n",
    "    \n",
    "model.linear_1.register_forward_hook(get_activation())"
   ]
  },
  {
   "cell_type": "code",
   "execution_count": 30,
   "metadata": {
    "id": "savMT9-gP_3m"
   },
   "outputs": [],
   "source": [
    "# adagrad \n",
    "optimizer  = torch.optim.Adagrad(model.parameters(), lr=0.1)"
   ]
  },
  {
   "cell_type": "code",
   "execution_count": 31,
   "metadata": {
    "colab": {
     "base_uri": "https://localhost:8080/"
    },
    "id": "BXOpwTXEQFKY",
    "outputId": "070fc0b8-7c57-4f02-a5a6-2d7d5f3479f9"
   },
   "outputs": [
    {
     "name": "stdout",
     "output_type": "stream",
     "text": [
      "\n",
      "Epoch: 1/20, Train Loss: 0.23937320, Test Loss: 0.12403524, Test Accuracy: 0.96280000\n",
      "Saving the model state dictionary for Epoch: 1 with Test loss: 0.12403524\n",
      "\n",
      "Epoch: 2/20, Train Loss: 0.09397412, Test Loss: 0.09374365, Test Accuracy: 0.97170000\n",
      "Saving the model state dictionary for Epoch: 2 with Test loss: 0.09374365\n",
      "\n",
      "Epoch: 3/20, Train Loss: 0.06491768, Test Loss: 0.08316946, Test Accuracy: 0.97370000\n",
      "Saving the model state dictionary for Epoch: 3 with Test loss: 0.08316946\n",
      "\n",
      "Epoch: 4/20, Train Loss: 0.04898386, Test Loss: 0.08035016, Test Accuracy: 0.97530000\n",
      "Saving the model state dictionary for Epoch: 4 with Test loss: 0.08035016\n",
      "\n",
      "Epoch: 5/20, Train Loss: 0.03875188, Test Loss: 0.07494180, Test Accuracy: 0.97670000\n",
      "Saving the model state dictionary for Epoch: 5 with Test loss: 0.07494180\n",
      "\n",
      "Epoch: 6/20, Train Loss: 0.03123786, Test Loss: 0.07034810, Test Accuracy: 0.97850000\n",
      "Saving the model state dictionary for Epoch: 6 with Test loss: 0.07034810\n",
      "\n",
      "Epoch: 7/20, Train Loss: 0.02577180, Test Loss: 0.07007536, Test Accuracy: 0.97880000\n",
      "Saving the model state dictionary for Epoch: 7 with Test loss: 0.07007536\n",
      "\n",
      "Epoch: 8/20, Train Loss: 0.02140291, Test Loss: 0.06715586, Test Accuracy: 0.97880000\n",
      "Saving the model state dictionary for Epoch: 8 with Test loss: 0.06715586\n",
      "\n",
      "Epoch: 9/20, Train Loss: 0.01809153, Test Loss: 0.06619952, Test Accuracy: 0.97820000\n",
      "Saving the model state dictionary for Epoch: 9 with Test loss: 0.06619952\n",
      "\n",
      "Epoch: 10/20, Train Loss: 0.01535547, Test Loss: 0.06582720, Test Accuracy: 0.97900000\n",
      "Saving the model state dictionary for Epoch: 10 with Test loss: 0.06582720\n",
      "\n",
      "Epoch: 11/20, Train Loss: 0.01320312, Test Loss: 0.06597249, Test Accuracy: 0.97830000\n",
      "\n",
      "Epoch: 12/20, Train Loss: 0.01148308, Test Loss: 0.06600373, Test Accuracy: 0.97960000\n",
      "\n",
      "Epoch: 13/20, Train Loss: 0.01007647, Test Loss: 0.06579511, Test Accuracy: 0.98000000\n",
      "Saving the model state dictionary for Epoch: 13 with Test loss: 0.06579511\n",
      "\n",
      "Epoch: 14/20, Train Loss: 0.00891855, Test Loss: 0.06537174, Test Accuracy: 0.97950000\n",
      "Saving the model state dictionary for Epoch: 14 with Test loss: 0.06537174\n",
      "\n",
      "Epoch: 15/20, Train Loss: 0.00795172, Test Loss: 0.06514238, Test Accuracy: 0.98000000\n",
      "Saving the model state dictionary for Epoch: 15 with Test loss: 0.06514238\n",
      "\n",
      "Epoch: 16/20, Train Loss: 0.00714992, Test Loss: 0.06489548, Test Accuracy: 0.98020000\n",
      "Saving the model state dictionary for Epoch: 16 with Test loss: 0.06489548\n",
      "\n",
      "Epoch: 17/20, Train Loss: 0.00642995, Test Loss: 0.06474012, Test Accuracy: 0.98030000\n",
      "Saving the model state dictionary for Epoch: 17 with Test loss: 0.06474012\n",
      "\n",
      "Epoch: 18/20, Train Loss: 0.00585274, Test Loss: 0.06571955, Test Accuracy: 0.98050000\n",
      "\n",
      "Epoch: 19/20, Train Loss: 0.00534890, Test Loss: 0.06525644, Test Accuracy: 0.98110000\n",
      "\n",
      "Epoch: 20/20, Train Loss: 0.00490872, Test Loss: 0.06585037, Test Accuracy: 0.98110000\n"
     ]
    }
   ],
   "source": [
    "criterion = torch.nn.CrossEntropyLoss()\n",
    "no_epochs = 20\n",
    "train_loss = list()\n",
    "test_loss  = list()\n",
    "test_acc   = list()\n",
    "final_spareness = list()\n",
    "\n",
    "# define activation list \n",
    "\n",
    "best_test_loss = 1\n",
    "\n",
    "for epoch in range(no_epochs):\n",
    "    total_train_loss = 0\n",
    "    total_test_loss = 0\n",
    "\n",
    "    hidden_layer_activation_list = list()\n",
    "\n",
    "    # training\n",
    "    # set up training mode \n",
    "    model.train()\n",
    "\n",
    "    for itr, (image, label) in enumerate(train_dataloader):\n",
    "\n",
    "        optimizer.zero_grad()\n",
    "\n",
    "        pred = model(image)\n",
    "\n",
    "        loss = criterion(pred, label)\n",
    "        total_train_loss += loss.item()\n",
    "\n",
    "        loss.backward()\n",
    "        optimizer.step()\n",
    "\n",
    "        # Print/Append activation of the hidden layer \n",
    "        # print(model.layer_activations.shape)\n",
    "        hidden_layer_activation_list.append(model.layer_activations)\n",
    "    \n",
    "    # this conains activations for all epochs \n",
    "    final_spareness.append(hidden_layer_activation_list)\n",
    "\n",
    "    total_train_loss = total_train_loss / (itr + 1)\n",
    "    train_loss.append(total_train_loss)\n",
    "\n",
    "    # testing \n",
    "    # change to evaluation mode \n",
    "    model.eval()\n",
    "    total = 0\n",
    "    for itr, (image, label) in enumerate(test_dataloader):\n",
    "\n",
    "        pred = model(image)\n",
    "\n",
    "        loss = criterion(pred, label)\n",
    "        total_test_loss += loss.item()\n",
    "\n",
    "        # we now need softmax because we are testing.\n",
    "        pred = torch.nn.functional.softmax(pred, dim=1)\n",
    "        for i, p in enumerate(pred):\n",
    "            if label[i] == torch.max(p.data, 0)[1]:\n",
    "                total = total + 1\n",
    "\n",
    "    # caculate accuracy \n",
    "    accuracy = total / len(mnist_testset)\n",
    "\n",
    "    # append accuracy here\n",
    "    test_acc.append(accuracy)\n",
    "\n",
    "    # append test loss here \n",
    "    total_test_loss = total_test_loss / (itr + 1)\n",
    "    test_loss.append(total_test_loss)\n",
    "\n",
    "    print('\\nEpoch: {}/{}, Train Loss: {:.8f}, Test Loss: {:.8f}, Test Accuracy: {:.8f}'.format(epoch + 1, no_epochs, total_train_loss, total_test_loss, accuracy))\n",
    "\n",
    "    if total_test_loss < best_test_loss:\n",
    "        best_test_loss = total_test_loss\n",
    "        print(\"Saving the model state dictionary for Epoch: {} with Test loss: {:.8f}\".format(epoch + 1, total_test_loss))\n",
    "        torch.save(model.state_dict(), \"model.dth\")\n",
    "\n",
    "sparseness_list = list()\n",
    "\n",
    "for single_epoch_spareness in final_spareness:\n",
    "\n",
    "    hidden_layer_activation_list = single_epoch_spareness\n",
    "    hidden_layer_activation_list = torch.stack(hidden_layer_activation_list)\n",
    "    layer_activations_list = torch.reshape(hidden_layer_activation_list, (60000, 256))\n",
    "\n",
    "    layer_activations_list = torch.abs(layer_activations_list)  # modified \n",
    "    num_neurons = layer_activations_list.shape[1]\n",
    "    population_sparseness = (np.sqrt(num_neurons) - (torch.sum(layer_activations_list, dim=1) / torch.sqrt(torch.sum(layer_activations_list ** 2, dim=1)))) / (np.sqrt(num_neurons) - 1)\n",
    "    mean_sparseness_per_epoch = torch.mean(population_sparseness)\n",
    "\n",
    "    sparseness_list.append(mean_sparseness_per_epoch)"
   ]
  },
  {
   "cell_type": "code",
   "execution_count": 32,
   "metadata": {
    "colab": {
     "base_uri": "https://localhost:8080/",
     "height": 449
    },
    "id": "n7vqWo82Jm9c",
    "outputId": "6b7a04a0-eab3-4131-faa3-bf9a33ff7597"
   },
   "outputs": [
    {
     "data": {
      "image/png": "[encoded data removed]",
      "text/plain": [
       "<Figure size 1440x720 with 1 Axes>"
      ]
     },
     "metadata": {
      "needs_background": "light",
      "tags": []
     },
     "output_type": "display_data"
    }
   ],
   "source": [
    "fig=plt.figure(figsize=(20, 10))\n",
    "plt.plot(np.arange(1, no_epochs+1), sparseness_list, label=\"Sparseness\", color='g')\n",
    "plt.xlabel('Epochs')\n",
    "plt.ylabel('Sparsity')\n",
    "plt.ylim(0, 0.3)\n",
    "plt.title(\"Sparsity Plot\")\n",
    "plt.legend(loc='best')\n",
    "plt.show()"
   ]
  },
  {
   "cell_type": "code",
   "execution_count": 33,
   "metadata": {
    "colab": {
     "base_uri": "https://localhost:8080/",
     "height": 449
    },
    "id": "ACiOqR2mMbUX",
    "outputId": "821bf19c-7ac9-45f1-acab-88013daa8e0a"
   },
   "outputs": [
    {
     "data": {
      "image/png": "[encoded data removed]",
      "text/plain": [
       "<Figure size 1440x720 with 1 Axes>"
      ]
     },
     "metadata": {
      "needs_background": "light",
      "tags": []
     },
     "output_type": "display_data"
    }
   ],
   "source": [
    "fig=plt.figure(figsize=(20, 10))\n",
    "plt.plot(np.arange(1, no_epochs+1), test_acc, label=\"Adagrad Test Accuracy\", color='g')\n",
    "plt.xlabel('Epochs')\n",
    "plt.ylabel('Accuracy')\n",
    "plt.ylim(0.85, 1)\n",
    "plt.title(\"Accuracy Plot\")\n",
    "plt.legend(loc='best')\n",
    "plt.show()"
   ]
  }
 ],
 "metadata": {
  "colab": {
   "authorship_tag": "ABX9TyOhaU8RHKwpec/8/tusYrNP",
   "collapsed_sections": [],
   "include_colab_link": true,
   "name": "Copy of newwork.ipynb",
   "provenance": []
  },
  "kernelspec": {
   "display_name": "Python 3",
   "language": "python",
   "name": "python3"
  },
  "language_info": {
   "codemirror_mode": {
    "name": "ipython",
    "version": 3
   },
   "file_extension": ".py",
   "mimetype": "text/x-python",
   "name": "python",
   "nbconvert_exporter": "python",
   "pygments_lexer": "ipython3",
   "version": "3.8.5"
  }
 },
 "nbformat": 4,
 "nbformat_minor": 1
}
