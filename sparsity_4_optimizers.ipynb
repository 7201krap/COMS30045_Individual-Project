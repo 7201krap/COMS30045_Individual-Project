{
  "nbformat": 4,
  "nbformat_minor": 0,
  "metadata": {
    "colab": {
      "name": "sparsity_4_optimizers.ipynb",
      "provenance": [],
      "collapsed_sections": [],
      "machine_shape": "hm",
      "include_colab_link": true
    },
    "kernelspec": {
      "display_name": "Python 3",
      "language": "python",
      "name": "python3"
    },
    "language_info": {
      "codemirror_mode": {
        "name": "ipython",
        "version": 3
      },
      "file_extension": ".py",
      "mimetype": "text/x-python",
      "name": "python",
      "nbconvert_exporter": "python",
      "pygments_lexer": "ipython3",
      "version": "3.8.5"
    },
    "accelerator": "TPU"
  },
  "cells": [
    {
      "cell_type": "markdown",
      "metadata": {
        "id": "view-in-github",
        "colab_type": "text"
      },
      "source": [
        "<a href=\"https://colab.research.google.com/github/7201krap/PYTORCH_project/blob/main/sparsity_4_optimizers.ipynb\" target=\"_parent\"><img src=\"https://colab.research.google.com/assets/colab-badge.svg\" alt=\"Open In Colab\"/></a>"
      ]
    },
    {
      "cell_type": "code",
      "metadata": {
        "id": "o7STrWa0P3z_"
      },
      "source": [
        "import torch\n",
        "from torchvision import transforms\n",
        "import torchvision.datasets as datasets\n",
        "import matplotlib.pyplot as plt\n",
        "import numpy as np"
      ],
      "execution_count": 1,
      "outputs": []
    },
    {
      "cell_type": "code",
      "metadata": {
        "id": "tke0vosw9vt4"
      },
      "source": [
        "torch.manual_seed(1234)\n",
        "np.random.seed(1234)"
      ],
      "execution_count": 2,
      "outputs": []
    },
    {
      "cell_type": "code",
      "metadata": {
        "colab": {
          "base_uri": "https://localhost:8080/"
        },
        "id": "rTW5TOUnP5XY",
        "outputId": "acb0a0bc-4925-42c5-fd29-d3f0b31d83bf"
      },
      "source": [
        "mnist_trainset = datasets.MNIST(root='./data', train=True, \n",
        "                                download=True, \n",
        "                                transform=transforms.Compose([transforms.ToTensor()]))\n",
        "\n",
        "mnist_testset  = datasets.MNIST(root='./data', \n",
        "                                train=False, \n",
        "                                download=True, \n",
        "                                transform=transforms.Compose([transforms.ToTensor()]))\n",
        "\n",
        "train_dataloader = torch.utils.data.DataLoader(mnist_trainset, \n",
        "                                               batch_size=50, \n",
        "                                               shuffle=True)\n",
        "\n",
        "test_dataloader  = torch.utils.data.DataLoader(mnist_testset, \n",
        "                                               batch_size=50, \n",
        "                                               shuffle=False)\n",
        "\n",
        "print(\"Training dataset size: \", len(mnist_trainset))\n",
        "print(\"Testing dataset size: \",  len(mnist_testset))"
      ],
      "execution_count": 3,
      "outputs": [
        {
          "output_type": "stream",
          "text": [
            "Training dataset size:  60000\n",
            "Testing dataset size:  10000\n"
          ],
          "name": "stdout"
        }
      ]
    },
    {
      "cell_type": "code",
      "metadata": {
        "id": "IXTkEUJ5P6kU"
      },
      "source": [
        "# Define the model \n",
        "class Model(torch.nn.Module):\n",
        "    def __init__(self):\n",
        "        super(Model, self).__init__()\n",
        "        self.linear_1 = torch.nn.Linear(784, 256)\n",
        "        self.linear_2 = torch.nn.Linear(256, 10)\n",
        "        self.sigmoid  = torch.nn.Sigmoid()\n",
        "\n",
        "    def forward(self, x):\n",
        "        x = x.reshape(x.size(0), -1)\n",
        "        x = self.linear_1(x)\n",
        "        x = self.sigmoid(x)\n",
        "        pred = self.linear_2(x)\n",
        "\n",
        "        return pred"
      ],
      "execution_count": 4,
      "outputs": []
    },
    {
      "cell_type": "code",
      "metadata": {
        "id": "BfgvKH6eP9Ou"
      },
      "source": [
        "def get_activation(model):    \n",
        "    def hook(module, input, output):\n",
        "        model.layer_activations = output\n",
        "    return hook"
      ],
      "execution_count": 5,
      "outputs": []
    },
    {
      "cell_type": "code",
      "metadata": {
        "id": "NFVV6Ld-Cd7D"
      },
      "source": [
        "# adagrad \n",
        "model_adagrad = Model()\n",
        "model_adagrad.sigmoid.register_forward_hook(get_activation(model_adagrad))\n",
        "optimizer_adagrad  = torch.optim.Adagrad(model_adagrad.parameters(), lr=0.1)\n",
        "\n",
        "# adadelta\n",
        "model_adadelta = Model()\n",
        "model_adadelta.sigmoid.register_forward_hook(get_activation(model_adadelta))\n",
        "optimizer_adadelta = torch.optim.Adadelta(model_adadelta.parameters(), lr=1)\n",
        "\n",
        "# adam\n",
        "model_adam = Model()\n",
        "model_adam.sigmoid.register_forward_hook(get_activation(model_adam))\n",
        "optimizer_adam = torch.optim.Adam(model_adam.parameters(), lr=0.001)\n",
        "\n",
        "\n",
        "# SGD \n",
        "model_sgd = Model()\n",
        "model_sgd.sigmoid.register_forward_hook(get_activation(model_sgd))\n",
        "optimizer_sgd      = torch.optim.SGD(model_sgd.parameters(), lr=0.1)"
      ],
      "execution_count": 6,
      "outputs": []
    },
    {
      "cell_type": "code",
      "metadata": {
        "id": "BXOpwTXEQFKY"
      },
      "source": [
        "no_epochs = 30\n",
        "def sparsity_trainer(optimizer, model):\n",
        "\n",
        "    # reset the model \n",
        "\n",
        "    criterion = torch.nn.CrossEntropyLoss()\n",
        "    train_loss = list()\n",
        "    test_loss  = list()\n",
        "    test_acc   = list()\n",
        "    final_spareness = list()\n",
        "\n",
        "    # define activation list \n",
        "\n",
        "    best_test_loss = 1\n",
        "\n",
        "    for epoch in range(no_epochs):\n",
        "        total_train_loss = 0\n",
        "        total_test_loss = 0\n",
        "\n",
        "        hidden_layer_activation_list = list()\n",
        "\n",
        "        # training\n",
        "        # set up training mode \n",
        "        model.train()\n",
        "\n",
        "        for itr, (image, label) in enumerate(train_dataloader):\n",
        "\n",
        "            optimizer.zero_grad()\n",
        "\n",
        "            pred = model(image)\n",
        "\n",
        "            loss = criterion(pred, label)\n",
        "            total_train_loss += loss.item()\n",
        "\n",
        "            loss.backward()\n",
        "            optimizer.step()\n",
        "\n",
        "            # Print/Append activation of the hidden layer \n",
        "            # print(model.layer_activations.shape)\n",
        "            hidden_layer_activation_list.append(model.layer_activations)\n",
        "        \n",
        "        # this conains activations for all epochs \n",
        "        final_spareness.append(hidden_layer_activation_list)\n",
        "\n",
        "        total_train_loss = total_train_loss / (itr + 1)\n",
        "        train_loss.append(total_train_loss)\n",
        "\n",
        "        # testing \n",
        "        # change to evaluation mode \n",
        "        model.eval()\n",
        "        total = 0\n",
        "        for itr, (image, label) in enumerate(test_dataloader):\n",
        "\n",
        "            pred = model(image)\n",
        "\n",
        "            loss = criterion(pred, label)\n",
        "            total_test_loss += loss.item()\n",
        "\n",
        "            # we now need softmax because we are testing.\n",
        "            pred = torch.nn.functional.softmax(pred, dim=1)\n",
        "            for i, p in enumerate(pred):\n",
        "                if label[i] == torch.max(p.data, 0)[1]:\n",
        "                    total = total + 1\n",
        "\n",
        "        # caculate accuracy \n",
        "        accuracy = total / len(mnist_testset)\n",
        "\n",
        "        # append accuracy here\n",
        "        test_acc.append(accuracy)\n",
        "\n",
        "        # append test loss here \n",
        "        total_test_loss = total_test_loss / (itr + 1)\n",
        "        test_loss.append(total_test_loss)\n",
        "\n",
        "        print('\\nEpoch: {}/{}, Train Loss: {:.8f}, Test Loss: {:.8f}, Test Accuracy: {:.8f}'.format(epoch + 1, no_epochs, total_train_loss, total_test_loss, accuracy))\n",
        "\n",
        "        if total_test_loss < best_test_loss:\n",
        "            best_test_loss = total_test_loss\n",
        "            print(\"Saving the model state dictionary for Epoch: {} with Test loss: {:.8f}\".format(epoch + 1, total_test_loss))\n",
        "            torch.save(model.state_dict(), \"model.dth\")\n",
        "\n",
        "    sparseness_list = list()\n",
        "\n",
        "    for single_epoch_spareness in final_spareness:\n",
        "\n",
        "        hidden_layer_activation_list = single_epoch_spareness\n",
        "        hidden_layer_activation_list = torch.stack(hidden_layer_activation_list)\n",
        "        layer_activations_list = torch.reshape(hidden_layer_activation_list, (60000, 256))\n",
        "\n",
        "        layer_activations_list = torch.abs(layer_activations_list)  # modified \n",
        "        num_neurons = layer_activations_list.shape[1]\n",
        "        population_sparseness = (np.sqrt(num_neurons) - (torch.sum(layer_activations_list, dim=1) / torch.sqrt(torch.sum(layer_activations_list ** 2, dim=1)))) / (np.sqrt(num_neurons) - 1)\n",
        "        mean_sparseness_per_epoch = torch.mean(population_sparseness)\n",
        "\n",
        "        sparseness_list.append(mean_sparseness_per_epoch)\n",
        "\n",
        "    return test_acc, sparseness_list"
      ],
      "execution_count": 7,
      "outputs": []
    },
    {
      "cell_type": "code",
      "metadata": {
        "colab": {
          "base_uri": "https://localhost:8080/"
        },
        "id": "rq7EaMTFQk6s",
        "outputId": "ebd3f36b-84d9-4e02-c1b6-b25fc323cedd"
      },
      "source": [
        "print(\"\\n===== Entering SGD optimizer =====\\n\")\n",
        "sgd_test_acc, sgd_sparseness_list           = sparsity_trainer(optimizer=optimizer_sgd,\n",
        "                                                               model=model_sgd)\n",
        "\n",
        "print(\"\\n===== Entering Adagrad optimizer =====\\n\")\n",
        "adagrad_test_acc, adagrad_sparseness_list   = sparsity_trainer(optimizer=optimizer_adagrad,\n",
        "                                                               model=model_adagrad)\n",
        "\n",
        "print(\"\\n===== Entering Adadelta optimizer =====\\n\")\n",
        "adadelta_test_acc, adadelta_sparseness_list = sparsity_trainer(optimizer=optimizer_adadelta,\n",
        "                                                               model=model_adadelta)\n",
        "\n",
        "print(\"\\n===== Entering Adam optimizer =====\\n\")\n",
        "adam_test_acc, adam_sparseness_list = sparsity_trainer(optimizer=optimizer_adam,\n",
        "                                                               model=model_adam)"
      ],
      "execution_count": null,
      "outputs": [
        {
          "output_type": "stream",
          "text": [
            "\n",
            "===== Entering SGD optimizer =====\n",
            "\n",
            "\n",
            "Epoch: 1/30, Train Loss: 0.77014264, Test Loss: 0.36701960, Test Accuracy: 0.89910000\n",
            "Saving the model state dictionary for Epoch: 1 with Test loss: 0.36701960\n",
            "\n",
            "Epoch: 2/30, Train Loss: 0.34717686, Test Loss: 0.30738459, Test Accuracy: 0.91190000\n",
            "Saving the model state dictionary for Epoch: 2 with Test loss: 0.30738459\n",
            "\n",
            "Epoch: 3/30, Train Loss: 0.30732483, Test Loss: 0.28202964, Test Accuracy: 0.91920000\n",
            "Saving the model state dictionary for Epoch: 3 with Test loss: 0.28202964\n",
            "\n",
            "Epoch: 4/30, Train Loss: 0.28470957, Test Loss: 0.26738453, Test Accuracy: 0.92340000\n",
            "Saving the model state dictionary for Epoch: 4 with Test loss: 0.26738453\n",
            "\n",
            "Epoch: 5/30, Train Loss: 0.26611404, Test Loss: 0.25192591, Test Accuracy: 0.92850000\n",
            "Saving the model state dictionary for Epoch: 5 with Test loss: 0.25192591\n",
            "\n",
            "Epoch: 6/30, Train Loss: 0.24947860, Test Loss: 0.24040385, Test Accuracy: 0.93060000\n",
            "Saving the model state dictionary for Epoch: 6 with Test loss: 0.24040385\n"
          ],
          "name": "stdout"
        }
      ]
    },
    {
      "cell_type": "code",
      "metadata": {
        "id": "n7vqWo82Jm9c"
      },
      "source": [
        "fig=plt.figure(figsize=(20, 10))\n",
        "plt.plot(np.arange(1, no_epochs+1), adagrad_sparseness_list, label=\"Adagrad Sparseness\", color='g')\n",
        "plt.plot(np.arange(1, no_epochs+1), adadelta_sparseness_list, label=\"Adadelta Sparseness\", color='b')\n",
        "plt.plot(np.arange(1, no_epochs+1), adam_sparseness_list, label=\"Adam Sparseness\", color='y')\n",
        "plt.plot(np.arange(1, no_epochs+1), sgd_sparseness_list, label=\"SGD Sparseness\", color='r')\n",
        "plt.xlabel('Epochs')\n",
        "plt.ylabel('Sparsity')\n",
        "plt.ylim(0, 1)\n",
        "plt.title(\"Sparsity Plot\")\n",
        "plt.legend(loc='best')\n",
        "plt.show()"
      ],
      "execution_count": null,
      "outputs": []
    },
    {
      "cell_type": "code",
      "metadata": {
        "id": "ACiOqR2mMbUX"
      },
      "source": [
        "fig=plt.figure(figsize=(20, 10))\n",
        "plt.plot(np.arange(1, no_epochs+1), adagrad_test_acc, label=\"Adagrad Test Accuracy\", color='g')\n",
        "plt.plot(np.arange(1, no_epochs+1), adadelta_test_acc, label=\"Adadelta Test Accuracy\", color='b')\n",
        "plt.plot(np.arange(1, no_epochs+1), adam_test_acc, label=\"Adam Test Accuracy\", color='y')\n",
        "plt.plot(np.arange(1, no_epochs+1), sgd_test_acc, label=\"SGD Test Accuracy\", color='r')\n",
        "plt.xlabel('Epochs')\n",
        "plt.ylabel('Accuracy')\n",
        "plt.ylim(0.85, 1)\n",
        "plt.title(\"Accuracy Plot\")\n",
        "plt.legend(loc='best')\n",
        "plt.show()"
      ],
      "execution_count": null,
      "outputs": []
    },
    {
      "cell_type": "code",
      "metadata": {
        "id": "FAHZcuFvTRs7"
      },
      "source": [
        ""
      ],
      "execution_count": null,
      "outputs": []
    }
  ]
}