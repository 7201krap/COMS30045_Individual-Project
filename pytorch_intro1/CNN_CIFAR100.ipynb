{
  "nbformat": 4,
  "nbformat_minor": 0,
  "metadata": {
    "colab": {
      "name": "CIFAR10_CNN.ipynb",
      "provenance": [],
      "authorship_tag": "ABX9TyPKX3Rvp3nusZN9/Ov9mv5L",
      "include_colab_link": true
    },
    "kernelspec": {
      "name": "python3",
      "display_name": "Python 3"
    },
    "widgets": {
      "application/vnd.jupyter.widget-state+json": {
        "ab569a744973499abfe49ccc9257273a": {
          "model_module": "@jupyter-widgets/controls",
          "model_name": "HBoxModel",
          "state": {
            "_view_name": "HBoxView",
            "_dom_classes": [],
            "_model_name": "HBoxModel",
            "_view_module": "@jupyter-widgets/controls",
            "_model_module_version": "1.5.0",
            "_view_count": null,
            "_view_module_version": "1.5.0",
            "box_style": "",
            "layout": "IPY_MODEL_1f472fe516d445e0b72d066f0a163c19",
            "_model_module": "@jupyter-widgets/controls",
            "children": [
              "IPY_MODEL_c2582bf15b5c4fc58ce3805e2b484dc7",
              "IPY_MODEL_1067ad371702461195d5391a444af077"
            ]
          }
        },
        "1f472fe516d445e0b72d066f0a163c19": {
          "model_module": "@jupyter-widgets/base",
          "model_name": "LayoutModel",
          "state": {
            "_view_name": "LayoutView",
            "grid_template_rows": null,
            "right": null,
            "justify_content": null,
            "_view_module": "@jupyter-widgets/base",
            "overflow": null,
            "_model_module_version": "1.2.0",
            "_view_count": null,
            "flex_flow": null,
            "width": null,
            "min_width": null,
            "border": null,
            "align_items": null,
            "bottom": null,
            "_model_module": "@jupyter-widgets/base",
            "top": null,
            "grid_column": null,
            "overflow_y": null,
            "overflow_x": null,
            "grid_auto_flow": null,
            "grid_area": null,
            "grid_template_columns": null,
            "flex": null,
            "_model_name": "LayoutModel",
            "justify_items": null,
            "grid_row": null,
            "max_height": null,
            "align_content": null,
            "visibility": null,
            "align_self": null,
            "height": null,
            "min_height": null,
            "padding": null,
            "grid_auto_rows": null,
            "grid_gap": null,
            "max_width": null,
            "order": null,
            "_view_module_version": "1.2.0",
            "grid_template_areas": null,
            "object_position": null,
            "object_fit": null,
            "grid_auto_columns": null,
            "margin": null,
            "display": null,
            "left": null
          }
        },
        "c2582bf15b5c4fc58ce3805e2b484dc7": {
          "model_module": "@jupyter-widgets/controls",
          "model_name": "FloatProgressModel",
          "state": {
            "_view_name": "ProgressView",
            "style": "IPY_MODEL_bc68db0ec729486296884f5b9c721dc0",
            "_dom_classes": [],
            "description": "",
            "_model_name": "FloatProgressModel",
            "bar_style": "info",
            "max": 1,
            "_view_module": "@jupyter-widgets/controls",
            "_model_module_version": "1.5.0",
            "value": 1,
            "_view_count": null,
            "_view_module_version": "1.5.0",
            "orientation": "horizontal",
            "min": 0,
            "description_tooltip": null,
            "_model_module": "@jupyter-widgets/controls",
            "layout": "IPY_MODEL_8408edd3043b4dbcb50e30100738c63f"
          }
        },
        "1067ad371702461195d5391a444af077": {
          "model_module": "@jupyter-widgets/controls",
          "model_name": "HTMLModel",
          "state": {
            "_view_name": "HTMLView",
            "style": "IPY_MODEL_0fd4c91be5f04cd09634f722a8f71861",
            "_dom_classes": [],
            "description": "",
            "_model_name": "HTMLModel",
            "placeholder": "​",
            "_view_module": "@jupyter-widgets/controls",
            "_model_module_version": "1.5.0",
            "value": " 170500096/? [00:20&lt;00:00, 57668870.22it/s]",
            "_view_count": null,
            "_view_module_version": "1.5.0",
            "description_tooltip": null,
            "_model_module": "@jupyter-widgets/controls",
            "layout": "IPY_MODEL_bdac17f773634fd2bf0be2155a3dc81c"
          }
        },
        "bc68db0ec729486296884f5b9c721dc0": {
          "model_module": "@jupyter-widgets/controls",
          "model_name": "ProgressStyleModel",
          "state": {
            "_view_name": "StyleView",
            "_model_name": "ProgressStyleModel",
            "description_width": "initial",
            "_view_module": "@jupyter-widgets/base",
            "_model_module_version": "1.5.0",
            "_view_count": null,
            "_view_module_version": "1.2.0",
            "bar_color": null,
            "_model_module": "@jupyter-widgets/controls"
          }
        },
        "8408edd3043b4dbcb50e30100738c63f": {
          "model_module": "@jupyter-widgets/base",
          "model_name": "LayoutModel",
          "state": {
            "_view_name": "LayoutView",
            "grid_template_rows": null,
            "right": null,
            "justify_content": null,
            "_view_module": "@jupyter-widgets/base",
            "overflow": null,
            "_model_module_version": "1.2.0",
            "_view_count": null,
            "flex_flow": null,
            "width": null,
            "min_width": null,
            "border": null,
            "align_items": null,
            "bottom": null,
            "_model_module": "@jupyter-widgets/base",
            "top": null,
            "grid_column": null,
            "overflow_y": null,
            "overflow_x": null,
            "grid_auto_flow": null,
            "grid_area": null,
            "grid_template_columns": null,
            "flex": null,
            "_model_name": "LayoutModel",
            "justify_items": null,
            "grid_row": null,
            "max_height": null,
            "align_content": null,
            "visibility": null,
            "align_self": null,
            "height": null,
            "min_height": null,
            "padding": null,
            "grid_auto_rows": null,
            "grid_gap": null,
            "max_width": null,
            "order": null,
            "_view_module_version": "1.2.0",
            "grid_template_areas": null,
            "object_position": null,
            "object_fit": null,
            "grid_auto_columns": null,
            "margin": null,
            "display": null,
            "left": null
          }
        },
        "0fd4c91be5f04cd09634f722a8f71861": {
          "model_module": "@jupyter-widgets/controls",
          "model_name": "DescriptionStyleModel",
          "state": {
            "_view_name": "StyleView",
            "_model_name": "DescriptionStyleModel",
            "description_width": "",
            "_view_module": "@jupyter-widgets/base",
            "_model_module_version": "1.5.0",
            "_view_count": null,
            "_view_module_version": "1.2.0",
            "_model_module": "@jupyter-widgets/controls"
          }
        },
        "bdac17f773634fd2bf0be2155a3dc81c": {
          "model_module": "@jupyter-widgets/base",
          "model_name": "LayoutModel",
          "state": {
            "_view_name": "LayoutView",
            "grid_template_rows": null,
            "right": null,
            "justify_content": null,
            "_view_module": "@jupyter-widgets/base",
            "overflow": null,
            "_model_module_version": "1.2.0",
            "_view_count": null,
            "flex_flow": null,
            "width": null,
            "min_width": null,
            "border": null,
            "align_items": null,
            "bottom": null,
            "_model_module": "@jupyter-widgets/base",
            "top": null,
            "grid_column": null,
            "overflow_y": null,
            "overflow_x": null,
            "grid_auto_flow": null,
            "grid_area": null,
            "grid_template_columns": null,
            "flex": null,
            "_model_name": "LayoutModel",
            "justify_items": null,
            "grid_row": null,
            "max_height": null,
            "align_content": null,
            "visibility": null,
            "align_self": null,
            "height": null,
            "min_height": null,
            "padding": null,
            "grid_auto_rows": null,
            "grid_gap": null,
            "max_width": null,
            "order": null,
            "_view_module_version": "1.2.0",
            "grid_template_areas": null,
            "object_position": null,
            "object_fit": null,
            "grid_auto_columns": null,
            "margin": null,
            "display": null,
            "left": null
          }
        }
      }
    }
  },
  "cells": [
    {
      "cell_type": "markdown",
      "metadata": {
        "id": "view-in-github",
        "colab_type": "text"
      },
      "source": [
        "<a href=\"https://colab.research.google.com/github/7201krap/Introduction_to_Pytorch/blob/main/pytorch_in_60_mins/CIFAR10_CNN.ipynb\" target=\"_parent\"><img src=\"https://colab.research.google.com/assets/colab-badge.svg\" alt=\"Open In Colab\"/></a>"
      ]
    },
    {
      "cell_type": "code",
      "metadata": {
        "id": "aKhmxmfKhLq0"
      },
      "source": [
        "import torch\n",
        "import torchvision\n",
        "import torchvision.transforms as transforms\n",
        "from torch.utils.data import DataLoader\n",
        "\n",
        "import torch.nn as nn\n",
        "import torch.nn.functional as F\n",
        "\n",
        "import torch.optim as optim "
      ],
      "execution_count": 22,
      "outputs": []
    },
    {
      "cell_type": "code",
      "metadata": {
        "colab": {
          "base_uri": "https://localhost:8080/",
          "height": 121,
          "referenced_widgets": [
            "ab569a744973499abfe49ccc9257273a",
            "1f472fe516d445e0b72d066f0a163c19",
            "c2582bf15b5c4fc58ce3805e2b484dc7",
            "1067ad371702461195d5391a444af077",
            "bc68db0ec729486296884f5b9c721dc0",
            "8408edd3043b4dbcb50e30100738c63f",
            "0fd4c91be5f04cd09634f722a8f71861",
            "bdac17f773634fd2bf0be2155a3dc81c"
          ]
        },
        "id": "IfOJIxvPjLl1",
        "outputId": "97722ef4-c6f4-4d14-ce9c-b5b79960364c"
      },
      "source": [
        "transform = transforms.Compose(\n",
        "    [transforms.ToTensor(),\n",
        "     transforms.Normalize((0.5, 0.5, 0.5), (0.5, 0.5, 0.5))]\n",
        "    )\n",
        "\n",
        "trainset    = torchvision.datasets.CIFAR10(root='./data', train=True, \n",
        "                                        download=True, transform=transform)\n",
        "\n",
        "trainloader = torch.utils.data.DataLoader(trainset, batch_size=8, \n",
        "                                          shuffle=True, num_workers=10)\n",
        "\n",
        "testset     = torchvision.datasets.CIFAR10(root='./data', train=False, \n",
        "                                        download=True, transform=transform)\n",
        "\n",
        "testloader  = torch.utils.data.DataLoader(trainset, batch_size=8, \n",
        "                                          shuffle=False, num_workers=10)"
      ],
      "execution_count": 5,
      "outputs": [
        {
          "output_type": "stream",
          "text": [
            "Downloading https://www.cs.toronto.edu/~kriz/cifar-10-python.tar.gz to ./data/cifar-10-python.tar.gz\n"
          ],
          "name": "stdout"
        },
        {
          "output_type": "display_data",
          "data": {
            "application/vnd.jupyter.widget-view+json": {
              "model_id": "ab569a744973499abfe49ccc9257273a",
              "version_minor": 0,
              "version_major": 2
            },
            "text/plain": [
              "HBox(children=(FloatProgress(value=1.0, bar_style='info', max=1.0), HTML(value='')))"
            ]
          },
          "metadata": {
            "tags": []
          }
        },
        {
          "output_type": "stream",
          "text": [
            "Extracting ./data/cifar-10-python.tar.gz to ./data\n",
            "Files already downloaded and verified\n"
          ],
          "name": "stdout"
        }
      ]
    },
    {
      "cell_type": "code",
      "metadata": {
        "colab": {
          "base_uri": "https://localhost:8080/"
        },
        "id": "nvwFpizgEHLG",
        "outputId": "978e113b-ea21-4bb3-88d0-8ebb8d4fc64d"
      },
      "source": [
        "trainset"
      ],
      "execution_count": 11,
      "outputs": [
        {
          "output_type": "execute_result",
          "data": {
            "text/plain": [
              "Dataset CIFAR10\n",
              "    Number of datapoints: 50000\n",
              "    Root location: ./data\n",
              "    Split: Train\n",
              "    StandardTransform\n",
              "Transform: Compose(\n",
              "               ToTensor()\n",
              "               Normalize(mean=(0.5, 0.5, 0.5), std=(0.5, 0.5, 0.5))\n",
              "           )"
            ]
          },
          "metadata": {
            "tags": []
          },
          "execution_count": 11
        }
      ]
    },
    {
      "cell_type": "code",
      "metadata": {
        "id": "-_bWQp7REVKY"
      },
      "source": [
        "dataiter = iter(trainloader)\n",
        "images, labels = dataiter.next()"
      ],
      "execution_count": 12,
      "outputs": []
    },
    {
      "cell_type": "code",
      "metadata": {
        "colab": {
          "base_uri": "https://localhost:8080/"
        },
        "id": "3dCVJbAmEwIi",
        "outputId": "878d42c8-4523-4331-afb9-53f34d1e6a49"
      },
      "source": [
        "print(f\"Image size             : {images.size()}\")\n",
        "print(f\"Its corresponding label: {labels}\")"
      ],
      "execution_count": 13,
      "outputs": [
        {
          "output_type": "stream",
          "text": [
            "Image size             : torch.Size([8, 3, 32, 32])\n",
            "Its corresponding label: tensor([3, 6, 7, 7, 3, 0, 1, 3])\n"
          ],
          "name": "stdout"
        }
      ]
    },
    {
      "cell_type": "code",
      "metadata": {
        "id": "ZddfwA719dAf"
      },
      "source": [
        "classes = ('plane', 'car', 'bird', 'cat', 'dder', 'dog', 'frog', 'horse', 'ship', 'truck')"
      ],
      "execution_count": 14,
      "outputs": []
    },
    {
      "cell_type": "code",
      "metadata": {
        "id": "7iTpoWVM9fQf"
      },
      "source": [
        "# Relationship between 'before' and 'after'\n",
        "\n",
        "# Size of the convoluted image could be expressed by the following equation:\n",
        "# ((W - F + 2P) / S) + 1\n",
        "# W : width/height of 'before' (convoluted) image\n",
        "# F : Filter size \n",
        "# P : Padding size. If there is no padding then P=0 (default)\n",
        "# S : Stride (default stride is 1)\n",
        "\n",
        "# In this example, the original image size is 32 X 32 \n",
        "# By applying the first convoltional layer   : ((32 - 5 + 0) / 1) + 1 = 28\n",
        "# By applying the first pooling layer        : 28 / 2 = 14 \n",
        "# By applying the second convolutional layer : ((14 - 5 + 0) / 1) + 1 = 10\n",
        "# By applying the second pooling layer       : 10 / 2 = 5 \n",
        "\n",
        "# These above proecess indicates that now the final shape of the convoluted image \n",
        "# just before the Fully connected layer is: 16 * 5 * 5 \n",
        "# 16 * 5 * 5 could be translated : 16 channels(depth) and 5 by 5 image \n",
        "\n",
        "# Build a model\n",
        "class MyNet(nn.Module):\n",
        "\n",
        "  # default setting\n",
        "  def __init__(self):\n",
        "    super(MyNet, self).__init__()\n",
        "\n",
        "    # before channel size=3, after channel size=6, kernel size=5, no padding \n",
        "    self.conv1 = nn.Conv2d(3, 6, 5)\n",
        "\n",
        "    # before chanel size=6, after channel size=16, kernel size=5, no padding \n",
        "    self.conv2 = nn.Conv2d(6, 16, 5)\n",
        "\n",
        "    # max pooling kernel size=2\n",
        "    self.pool = nn.MaxPool2d(2, 2)\n",
        "    \n",
        "    # fully connected layer 1\n",
        "    self.fc1   = nn.Linear(16 * 5 * 5, 120)\n",
        "\n",
        "    # fully connected layer 2\n",
        "    self.fc2   = nn.Linear(120, 84)\n",
        "\n",
        "    # fully connected layer 3\n",
        "    self.fc3   = nn.Linear(84, 10)\n",
        "\n",
        "  # default setting \n",
        "  def forward(self, x):\n",
        "    x = self.pool(F.relu(self.conv1(x)))\n",
        "    x = self.pool(F.relu(self.conv2(x)))\n",
        "\n",
        "    # flatten. 1차원으로 펴준다. \n",
        "    x = x.view(-1, 16 * 5 * 5)\n",
        "\n",
        "    x = F.relu(self.fc1(x))\n",
        "    x = F.relu(self.fc2(x))\n",
        "\n",
        "    # we do not apply relu at the final stage \n",
        "    x = self.fc3(x)\n",
        "\n",
        "    return x\n",
        "\n",
        "net = MyNet()"
      ],
      "execution_count": 32,
      "outputs": []
    },
    {
      "cell_type": "code",
      "metadata": {
        "colab": {
          "base_uri": "https://localhost:8080/"
        },
        "id": "SOx5RqiDFGRI",
        "outputId": "5d628e3e-9d80-49c1-b3d7-ba025b510182"
      },
      "source": [
        "print(f\"MyNet looks like this :\\n {net}\")"
      ],
      "execution_count": 33,
      "outputs": [
        {
          "output_type": "stream",
          "text": [
            "MyNet looks like this :\n",
            " MyNet(\n",
            "  (conv1): Conv2d(3, 6, kernel_size=(5, 5), stride=(1, 1))\n",
            "  (conv2): Conv2d(6, 16, kernel_size=(5, 5), stride=(1, 1))\n",
            "  (pool): MaxPool2d(kernel_size=2, stride=2, padding=0, dilation=1, ceil_mode=False)\n",
            "  (fc1): Linear(in_features=400, out_features=120, bias=True)\n",
            "  (fc2): Linear(in_features=120, out_features=84, bias=True)\n",
            "  (fc3): Linear(in_features=84, out_features=10, bias=True)\n",
            ")\n"
          ],
          "name": "stdout"
        }
      ]
    },
    {
      "cell_type": "code",
      "metadata": {
        "id": "XEJZVE_jFQ2G"
      },
      "source": [
        "# Loss function\n",
        "criterion = nn.CrossEntropyLoss()\n",
        "\n",
        "# Stochastic Gradient Descent \n",
        "# net.parameters() : parameters that were used in MyNet\n",
        "optimizer = optim.SGD(net.parameters(), lr=0.001, momentum=0.9)"
      ],
      "execution_count": 34,
      "outputs": []
    },
    {
      "cell_type": "code",
      "metadata": {
        "colab": {
          "base_uri": "https://localhost:8080/"
        },
        "id": "hXDKAqxJHJc9",
        "outputId": "e6d6eb6f-479e-436d-a135-ff6367732bd5"
      },
      "source": [
        "for epoch in range(5):  # loop over the dataset multiple times\n",
        "  running_loss = 0.0\n",
        "  for i, data in enumerate(trainloader, 0):\n",
        "    inputs, labels = data \n",
        "\n",
        "    # zero the parameter gradients. This is neccessary \n",
        "    optimizer.zero_grad()\n",
        "\n",
        "    # forward + backward + optimize \n",
        "    # foward \n",
        "    outputs = net(inputs)\n",
        "\n",
        "    # calculate the loss \n",
        "    # batch 1개에 대한 loss = 이미지 8개에 대한 loss \n",
        "    loss    = criterion(outputs, labels)\n",
        "\n",
        "    # backward \n",
        "    loss.backward()\n",
        "\n",
        "    # optimize \n",
        "    optimizer.step()\n",
        "\n",
        "    # print statistics \n",
        "    running_loss = running_loss + loss.item()\n",
        "    if i % 2000 == 1999:\n",
        "      # one epoch = one cycle through the full training dataset.\n",
        "\n",
        "      print(f\"epoch: {epoch+1}, iteration: {i+1}, loss: {running_loss/2000}\")\n",
        "      running_loss = 0.0\n",
        "\n",
        "print('Training done')\n"
      ],
      "execution_count": 43,
      "outputs": [
        {
          "output_type": "stream",
          "text": [
            "epoch: 1, iteration: 2000, loss: 0.713645027528517\n",
            "epoch: 1, iteration: 4000, loss: 0.7257232715301216\n",
            "epoch: 1, iteration: 6000, loss: 0.7693922595698386\n",
            "epoch: 2, iteration: 2000, loss: 0.6555384932989254\n",
            "epoch: 2, iteration: 4000, loss: 0.7152977728694677\n",
            "epoch: 2, iteration: 6000, loss: 0.7466560474745929\n",
            "epoch: 3, iteration: 2000, loss: 0.6450035705287009\n",
            "epoch: 3, iteration: 4000, loss: 0.6889512957660482\n",
            "epoch: 3, iteration: 6000, loss: 0.7006388131072745\n",
            "epoch: 4, iteration: 2000, loss: 0.6177340848101303\n",
            "epoch: 4, iteration: 4000, loss: 0.6714210423505865\n",
            "epoch: 4, iteration: 6000, loss: 0.6940041318517178\n",
            "epoch: 5, iteration: 2000, loss: 0.5914084784854203\n",
            "epoch: 5, iteration: 4000, loss: 0.6329249900691212\n",
            "epoch: 5, iteration: 6000, loss: 0.6685748264398426\n",
            "Training done\n"
          ],
          "name": "stdout"
        }
      ]
    },
    {
      "cell_type": "code",
      "metadata": {
        "id": "lcMYEooZIo9R"
      },
      "source": [
        "# save the model \n",
        "PATH = './cifar100.pth'\n",
        "torch.save(net.state_dict(), PATH)"
      ],
      "execution_count": 46,
      "outputs": []
    },
    {
      "cell_type": "code",
      "metadata": {
        "colab": {
          "base_uri": "https://localhost:8080/"
        },
        "id": "2MDL6wv7Qdt2",
        "outputId": "9a34dab7-ab04-4cd1-ded9-eec31dc43939"
      },
      "source": [
        "# load the trained model that we have just saved \n",
        "net = MyNet()\n",
        "net.load_state_dict(torch.load(PATH))"
      ],
      "execution_count": 48,
      "outputs": [
        {
          "output_type": "execute_result",
          "data": {
            "text/plain": [
              "<All keys matched successfully>"
            ]
          },
          "metadata": {
            "tags": []
          },
          "execution_count": 48
        }
      ]
    },
    {
      "cell_type": "code",
      "metadata": {
        "colab": {
          "base_uri": "https://localhost:8080/"
        },
        "id": "7au3qKeKQplE",
        "outputId": "ef552f1a-989d-4e58-9b60-bb75dd13204d"
      },
      "source": [
        "correct = 0\n",
        "total   = 0\n",
        "\n",
        "# We are now testing the testset; therefore, we do not need gradient update \n",
        "with torch.no_grad():\n",
        "  for data in testloader:\n",
        "    images, labels = data \n",
        "\n",
        "    # get output \n",
        "    outputs = net(images)\n",
        "\n",
        "    # get predicted label \n",
        "    _, predicted = torch.max(outputs.data, 1)\n",
        "\n",
        "    # find total number of total images \n",
        "    total = total + labels.size(0)\n",
        "\n",
        "    # find only correctly labeled image and accumulate it to correct \n",
        "    correct = correct + (predicted==labels).sum().item()\n",
        "\n",
        "print(f\"accuracy : {(correct / total) * 100}\")"
      ],
      "execution_count": 50,
      "outputs": [
        {
          "output_type": "stream",
          "text": [
            "accuracy : 81.004\n"
          ],
          "name": "stdout"
        }
      ]
    },
    {
      "cell_type": "code",
      "metadata": {
        "id": "XpUmWOJURgO7"
      },
      "source": [
        ""
      ],
      "execution_count": null,
      "outputs": []
    }
  ]
}
