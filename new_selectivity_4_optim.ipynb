{
  "nbformat": 4,
  "nbformat_minor": 0,
  "metadata": {
    "colab": {
      "name": "new_selectivity_4_optim.ipynb",
      "provenance": [],
      "collapsed_sections": [],
      "machine_shape": "hm",
      "include_colab_link": true
    },
    "kernelspec": {
      "display_name": "Python 3",
      "language": "python",
      "name": "python3"
    },
    "language_info": {
      "codemirror_mode": {
        "name": "ipython",
        "version": 3
      },
      "file_extension": ".py",
      "mimetype": "text/x-python",
      "name": "python",
      "nbconvert_exporter": "python",
      "pygments_lexer": "ipython3",
      "version": "3.8.5"
    }
  },
  "cells": [
    {
      "cell_type": "markdown",
      "metadata": {
        "id": "view-in-github",
        "colab_type": "text"
      },
      "source": [
        "<a href=\"https://colab.research.google.com/github/7201krap/PYTORCH_project/blob/main/new_selectivity_4_optim.ipynb\" target=\"_parent\"><img src=\"https://colab.research.google.com/assets/colab-badge.svg\" alt=\"Open In Colab\"/></a>"
      ]
    },
    {
      "cell_type": "code",
      "metadata": {
        "id": "o7STrWa0P3z_",
        "colab": {
          "base_uri": "https://localhost:8080/"
        },
        "outputId": "74c38d61-08a1-44d9-dac3-b355a1d43ae2"
      },
      "source": [
        "import torch\n",
        "import torchvision\n",
        "import torchvision.transforms as transforms\n",
        "import matplotlib.pyplot as plt\n",
        "import numpy as np\n",
        "from torch.utils.data import DataLoader, TensorDataset\n",
        "from google.colab import drive\n",
        "drive.mount('/content/drive')"
      ],
      "execution_count": 1,
      "outputs": [
        {
          "output_type": "stream",
          "text": [
            "Mounted at /content/drive\n"
          ],
          "name": "stdout"
        }
      ]
    },
    {
      "cell_type": "code",
      "metadata": {
        "colab": {
          "base_uri": "https://localhost:8080/"
        },
        "id": "e0EpXz3ULfb1",
        "outputId": "b5230dae-8746-4ea5-fd03-f2300840d354"
      },
      "source": [
        "!wget www.di.ens.fr/~lelarge/MNIST.tar.gz\n",
        "!tar -zxvf MNIST.tar.gz\n",
        "\n",
        "root_dir = './'\n",
        "torchvision.datasets.MNIST(root=root_dir,download=True)"
      ],
      "execution_count": 2,
      "outputs": [
        {
          "output_type": "stream",
          "text": [
            "--2021-03-16 13:19:12--  http://www.di.ens.fr/~lelarge/MNIST.tar.gz\n",
            "Resolving www.di.ens.fr (www.di.ens.fr)... 129.199.99.14\n",
            "Connecting to www.di.ens.fr (www.di.ens.fr)|129.199.99.14|:80... connected.\n",
            "HTTP request sent, awaiting response... 302 Found\n",
            "Location: https://www.di.ens.fr/~lelarge/MNIST.tar.gz [following]\n",
            "--2021-03-16 13:19:12--  https://www.di.ens.fr/~lelarge/MNIST.tar.gz\n",
            "Connecting to www.di.ens.fr (www.di.ens.fr)|129.199.99.14|:443... connected.\n",
            "HTTP request sent, awaiting response... 200 OK\n",
            "Length: unspecified [application/x-gzip]\n",
            "Saving to: ‘MNIST.tar.gz’\n",
            "\n",
            "MNIST.tar.gz            [            <=>     ]  33.20M  6.29MB/s    in 15s     \n",
            "\n",
            "2021-03-16 13:19:27 (2.24 MB/s) - ‘MNIST.tar.gz’ saved [34813078]\n",
            "\n",
            "MNIST/\n",
            "MNIST/raw/\n",
            "MNIST/raw/train-labels-idx1-ubyte\n",
            "MNIST/raw/t10k-labels-idx1-ubyte.gz\n",
            "MNIST/raw/t10k-labels-idx1-ubyte\n",
            "MNIST/raw/t10k-images-idx3-ubyte.gz\n",
            "MNIST/raw/train-images-idx3-ubyte\n",
            "MNIST/raw/train-labels-idx1-ubyte.gz\n",
            "MNIST/raw/t10k-images-idx3-ubyte\n",
            "MNIST/raw/train-images-idx3-ubyte.gz\n",
            "MNIST/processed/\n",
            "MNIST/processed/training.pt\n",
            "MNIST/processed/test.pt\n"
          ],
          "name": "stdout"
        },
        {
          "output_type": "execute_result",
          "data": {
            "text/plain": [
              "Dataset MNIST\n",
              "    Number of datapoints: 60000\n",
              "    Root location: ./\n",
              "    Split: Train"
            ]
          },
          "metadata": {
            "tags": []
          },
          "execution_count": 2
        }
      ]
    },
    {
      "cell_type": "code",
      "metadata": {
        "id": "z4j9WoP-UnAm"
      },
      "source": [
        "device = torch.device('cuda' if torch.cuda.is_available() else 'cpu')"
      ],
      "execution_count": 3,
      "outputs": []
    },
    {
      "cell_type": "code",
      "metadata": {
        "id": "ApOU7hvb95W4"
      },
      "source": [
        "torch.manual_seed(1234)\n",
        "np.random.seed(1234)"
      ],
      "execution_count": 4,
      "outputs": []
    },
    {
      "cell_type": "code",
      "metadata": {
        "id": "rTW5TOUnP5XY"
      },
      "source": [
        "mnist_trainset = torchvision.datasets.MNIST(root=root_dir, train=True, \n",
        "                                download=True, \n",
        "                                transform=transforms.Compose([transforms.ToTensor()]))\n",
        "\n",
        "mnist_testset  = torchvision.datasets.MNIST(root=root_dir, \n",
        "                                train=False, \n",
        "                                download=True, \n",
        "                                transform=transforms.Compose([transforms.ToTensor()]))\n",
        "\n",
        "train_dataloader = torch.utils.data.DataLoader(mnist_trainset, \n",
        "                                               batch_size=50, \n",
        "                                               shuffle=True)\n",
        "\n",
        "test_dataloader  = torch.utils.data.DataLoader(mnist_testset, \n",
        "                                               batch_size=50, \n",
        "                                               shuffle=False)"
      ],
      "execution_count": 5,
      "outputs": []
    },
    {
      "cell_type": "code",
      "metadata": {
        "id": "IXTkEUJ5P6kU"
      },
      "source": [
        "# ************* modify this section for later use *************\n",
        "# Define the model \n",
        "class Model(torch.nn.Module):\n",
        "    def __init__(self):\n",
        "        super(Model, self).__init__()\n",
        "        # modify this section for later use \n",
        "        self.linear_1 = torch.nn.Linear(784, 256)\n",
        "        self.linear_2 = torch.nn.Linear(256, 10)\n",
        "        self.sigmoid12  = torch.nn.Sigmoid()\n",
        "\n",
        "        self.layer_activations = dict()\n",
        "\n",
        "    def forward(self, x):\n",
        "\n",
        "        # modify this section for later use \n",
        "        x = x.reshape(x.size(0), -1)\n",
        "        x = self.linear_1(x)\n",
        "        x = self.sigmoid12(x)\n",
        "        pred = self.linear_2(x)\n",
        "        return pred\n",
        "# ************* modify this section for later use *************"
      ],
      "execution_count": 6,
      "outputs": []
    },
    {
      "cell_type": "code",
      "metadata": {
        "id": "BfgvKH6eP9Ou"
      },
      "source": [
        "def get_activation(model, layer_name):    \n",
        "    def hook(module, input, output):\n",
        "        model.layer_activations[layer_name] = output\n",
        "    return hook"
      ],
      "execution_count": 7,
      "outputs": []
    },
    {
      "cell_type": "code",
      "metadata": {
        "id": "OCEw3Ov3Lk5X"
      },
      "source": [
        "def sparsity_calculator(final_spareness):\n",
        "    sparseness_list = list()\n",
        "    for single_epoch_spareness in final_spareness:\n",
        "\n",
        "        hidden_layer_activation_list = single_epoch_spareness\n",
        "        hidden_layer_activation_list = torch.stack(hidden_layer_activation_list)\n",
        "        layer_activations_list = torch.reshape(hidden_layer_activation_list, (10000, 256))\n",
        "\n",
        "        layer_activations_list = torch.abs(layer_activations_list)  # modified \n",
        "        num_neurons = layer_activations_list.shape[1]\n",
        "        population_sparseness = (np.sqrt(num_neurons) - (torch.sum(layer_activations_list, dim=1) / torch.sqrt(torch.sum(layer_activations_list ** 2, dim=1)))) / (np.sqrt(num_neurons) - 1)\n",
        "        mean_sparseness_per_epoch = torch.mean(population_sparseness)\n",
        "\n",
        "        sparseness_list.append(mean_sparseness_per_epoch)\n",
        "\n",
        "    return sparseness_list"
      ],
      "execution_count": 8,
      "outputs": []
    },
    {
      "cell_type": "code",
      "metadata": {
        "id": "PvHGO5RSvi6I"
      },
      "source": [
        "def selectivity(hidden_layer_each_neuron):\n",
        "    __selectivity__ = list()\n",
        "    # I will now try to find the average of each class for each neuron.\n",
        "    # check out the next cell \n",
        "    avg_activations = [dict() for x in range(256)]\n",
        "    for i, neuron in enumerate(hidden_layer_each_neuron):\n",
        "        for k, v in neuron.items():\n",
        "            # v is the list of activations for hidden layer's neuron k \n",
        "            avg_activations[i][k] = sum(v) / float(len(v))\n",
        "\n",
        "    # generate 256 lists to get only values in avg_activations\n",
        "    only_activation_vals = [list() for x in range(256)]\n",
        "\n",
        "    # get only values from avg_activations\n",
        "    for i, avg_activation in enumerate(avg_activations):\n",
        "        for value in avg_activation.values():\n",
        "            only_activation_vals[i].append(value)\n",
        "\n",
        "\n",
        "    for activation_val in only_activation_vals:\n",
        "        # find u_max \n",
        "        u_max = np.max(activation_val)\n",
        "\n",
        "        # find u_minus_max \n",
        "        u_minus_max = (np.sum(activation_val) - u_max) / 9\n",
        "\n",
        "        # find selectivity \n",
        "        selectivity = (u_max - u_minus_max) / (u_max + u_minus_max)\n",
        "\n",
        "        # append selectivity value to selectivity\n",
        "        __selectivity__.append(selectivity)\n",
        "\n",
        "    avg_selectivity = np.average(__selectivity__)\n",
        "    std_selectivity = np.std(__selectivity__)\n",
        "                                 \n",
        "    return avg_selectivity, std_selectivity"
      ],
      "execution_count": 9,
      "outputs": []
    },
    {
      "cell_type": "code",
      "metadata": {
        "id": "nUHSwHZqLm3Y"
      },
      "source": [
        "# ************* modify this section for later use *************\n",
        "def avg_std_calculator(_hidden_layer_each_neuron_12):\n",
        "\n",
        "    avg_selectivity12, std_selectivity12 = selectivity(_hidden_layer_each_neuron_12)\n",
        "\n",
        "    final_selectivity_avg = (avg_selectivity12) / 1\n",
        "    final_selecvitity_std = (std_selectivity12) / 1\n",
        "\n",
        "    return final_selectivity_avg, final_selecvitity_std\n",
        "# ************* modify this section for later use *************"
      ],
      "execution_count": 10,
      "outputs": []
    },
    {
      "cell_type": "code",
      "metadata": {
        "id": "j5PUiBNqUImf"
      },
      "source": [
        "def model_factory(optimizer_name):\n",
        "    '''\n",
        "    optimizer_name : choose one of Adagrad, Adadelta, SGD, and Adam \n",
        "\n",
        "    '''\n",
        "    my_model = Model()\n",
        "    print(\"my_model:\", my_model)\n",
        "    my_model.to(device)\n",
        "\n",
        "    # ************* modify this section for later use *************\n",
        "    my_model.sigmoid12.register_forward_hook(get_activation(my_model, 's12'))\n",
        "    # ************* modify this section for later use *************\n",
        "\n",
        "    if optimizer_name == 'Adadelta':\n",
        "        my_optimizer = torch.optim.Adadelta(my_model.parameters(), lr=1.0)\n",
        "\n",
        "    elif optimizer_name == 'Adagrad':\n",
        "        my_optimizer = torch.optim.Adagrad(my_model.parameters(), lr=0.1)\n",
        "\n",
        "    elif optimizer_name == 'SGD':\n",
        "        my_optimizer = torch.optim.SGD(my_model.parameters(), lr=0.1)\n",
        "\n",
        "    elif optimizer_name == 'Adam':\n",
        "        my_optimizer = torch.optim.Adam(my_model.parameters(), lr=0.001)\n",
        "\n",
        "    else:\n",
        "        print(\"ERROR\")\n",
        "    \n",
        "    print(\"my_optimizer:\", my_optimizer)\n",
        "    test_acc, sparsity, selectivity_list_avg, selectivity_list_std = selectivity_trainer(optimizer=my_optimizer, model=my_model)\n",
        "    # ************* modify this section for later use *************\n",
        "    file_saver = open(f\"sparsity_selectivity_4_optim_{optimizer_name}.txt\", \"w\")\n",
        "    # ************* modify this section for later use *************\n",
        "    file_saver.write(str(test_acc)+'\\n'+str(sparsity)+'\\n'+str(selectivity_list_avg)+'\\n'+str(selectivity_list_std)+'\\n\\n')\n",
        "    file_saver.close()\n",
        "\n",
        "    # ************* modify this section for later use *************\n",
        "    if optimizer_name == 'Adadelta':\n",
        "        !cp sparsity_selectivity_4_optim_Adadelta.txt /content/drive/MyDrive\n",
        "    \n",
        "    elif optimizer_name == 'Adagrad':\n",
        "        !cp sparsity_selectivity_4_optim_Adagrad.txt /content/drive/MyDrive\n",
        "\n",
        "    elif optimizer_name == 'SGD':\n",
        "        !cp sparsity_selectivity_4_optim_SGD.txt /content/drive/MyDrive\n",
        "\n",
        "    elif optimizer_name == 'Adam':\n",
        "        !cp sparsity_selectivity_4_optim_Adam.txt /content/drive/MyDrive\n",
        "    # ************* modify this section for later use *************\n",
        "\n",
        "    else:\n",
        "        print(\"ERROR\")"
      ],
      "execution_count": 11,
      "outputs": []
    },
    {
      "cell_type": "code",
      "metadata": {
        "id": "BXOpwTXEQFKY"
      },
      "source": [
        "no_epochs = 30\n",
        "def selectivity_trainer(optimizer, model):\n",
        "\n",
        "    criterion = torch.nn.CrossEntropyLoss()\n",
        "    train_loss = list()\n",
        "    test_loss  = list()\n",
        "    test_acc   = list()\n",
        "\n",
        "    best_test_loss = 1\n",
        "\n",
        "    selectivity_avg_list = list()\n",
        "    selectivity_std_list = list()\n",
        "\n",
        "    # ************* modify this section for later use *************\n",
        "    final_spareness_12 = list()\n",
        "    # ************* modify this section for later use *************\n",
        "\n",
        "    for epoch in range(no_epochs):\n",
        "\n",
        "        # ************* modify this section for later use *************\n",
        "        hidden_layer_each_neuron_12 = [{0:[], 1:[], 2:[], 3:[], 4:[], 5:[], 6:[], 7:[], 8:[], 9:[]} for x in range(256)]\n",
        "        hidden_layer_each_neuron_12 = np.array(hidden_layer_each_neuron_12)\n",
        "        # ************* modify this section for later use *************\n",
        "\n",
        "\n",
        "        total_train_loss = 0\n",
        "        total_test_loss = 0\n",
        "\n",
        "        # ************* modify this section for later use *************\n",
        "        hidden_layer_activation_list_12 = list()\n",
        "        # ************* modify this section for later use *************\n",
        "\n",
        "        # training\n",
        "        # set up training mode \n",
        "        model.train()\n",
        "\n",
        "        for itr, (images, labels) in enumerate(train_dataloader):\n",
        "            images, labels = images.to(device), labels.to(device)\n",
        "\n",
        "            optimizer.zero_grad()\n",
        "\n",
        "            pred = model(images)\n",
        "\n",
        "            loss = criterion(pred, labels)\n",
        "            total_train_loss += loss.item()\n",
        "\n",
        "            loss.backward()\n",
        "            optimizer.step()\n",
        "\n",
        "        total_train_loss = total_train_loss / (itr + 1)\n",
        "        train_loss.append(total_train_loss)\n",
        "\n",
        "        # testing \n",
        "        # change to evaluation mode \n",
        "        model.eval()\n",
        "        total = 0\n",
        "        for itr, (images, labels) in enumerate(test_dataloader):\n",
        "            images, labels = images.to(device), labels.to(device)\n",
        "\n",
        "            pred = model(images)\n",
        "\n",
        "            loss = criterion(pred, labels)\n",
        "            total_test_loss += loss.item()\n",
        "\n",
        "            # we now need softmax because we are testing.\n",
        "            pred = torch.nn.functional.softmax(pred, dim=1)\n",
        "            for i, p in enumerate(pred):\n",
        "                if labels[i] == torch.max(p.data, 0)[1]:\n",
        "                    total = total + 1\n",
        "\n",
        "            # ***************** sparsity calculation ***************** #\n",
        "            hidden_layer_activation_list_12.append(model.layer_activations['s12'])\n",
        "\n",
        "            # ************* modify this section for later use *************\n",
        "            for activation, label in zip(model.layer_activations['s12'], labels):\n",
        "                label = label.item()\n",
        "                with torch.no_grad():\n",
        "                    activation = activation.numpy()\n",
        "                for i in range(256):    \n",
        "                    hidden_layer_each_neuron_12[i][label].append(activation[i])\n",
        "    \n",
        "        selectivity_avg, selecvitity_std = avg_std_calculator(hidden_layer_each_neuron_12)\n",
        "        # ************* modify this section for later use *************\n",
        "        \n",
        "        selectivity_avg_list.append(selectivity_avg)\n",
        "        selectivity_std_list.append(selecvitity_std)\n",
        "\n",
        "        # this conains activations for all epochs \n",
        "        final_spareness_12.append(hidden_layer_activation_list_12)\n",
        "        # ***************** sparsity calculation ***************** #\n",
        "\n",
        "        # caculate accuracy \n",
        "        accuracy = total / len(mnist_testset)\n",
        "\n",
        "        # append accuracy here\n",
        "        test_acc.append(accuracy)\n",
        "\n",
        "        # append test loss here \n",
        "        total_test_loss = total_test_loss / (itr + 1)\n",
        "        test_loss.append(total_test_loss)\n",
        "\n",
        "        print('\\nEpoch: {}/{}, Train Loss: {:.8f}, Test Loss: {:.8f}, Test Accuracy: {:.8f}'.format(epoch + 1, no_epochs, total_train_loss, total_test_loss, accuracy))\n",
        "\n",
        "    # ***************** sparsity calculation ***************** #\n",
        "    sparsity_list12 = sparsity_calculator(final_spareness_12)\n",
        "\n",
        "    print(sparsity_list12)\n",
        "\n",
        "    average_sparsity = list()\n",
        "    for i in range(no_epochs):\n",
        "        average_sparsity.append( (sparsity_list12[i].item()) / 1 )\n",
        "    # ***************** sparsity calculation ***************** #\n",
        "\n",
        "    print(\"average_sparsity:\", average_sparsity)\n",
        "\n",
        "    return test_acc, average_sparsity, selectivity_avg_list, selectivity_std_list"
      ],
      "execution_count": 12,
      "outputs": []
    },
    {
      "cell_type": "markdown",
      "metadata": {
        "id": "ILIJTJb2UdfI"
      },
      "source": [
        "# Adadelta"
      ]
    },
    {
      "cell_type": "code",
      "metadata": {
        "id": "5UH0qDnFUfaD",
        "colab": {
          "base_uri": "https://localhost:8080/"
        },
        "outputId": "dad18950-0018-4698-99f9-fed84f3298b3"
      },
      "source": [
        "model_factory('Adadelta')"
      ],
      "execution_count": 13,
      "outputs": [
        {
          "output_type": "stream",
          "text": [
            "my_model: Model(\n",
            "  (linear_1): Linear(in_features=784, out_features=256, bias=True)\n",
            "  (linear_2): Linear(in_features=256, out_features=10, bias=True)\n",
            "  (sigmoid12): Sigmoid()\n",
            ")\n",
            "my_optimizer: Adadelta (\n",
            "Parameter Group 0\n",
            "    eps: 1e-06\n",
            "    lr: 1.0\n",
            "    rho: 0.9\n",
            "    weight_decay: 0\n",
            ")\n",
            "\n",
            "Epoch: 1/30, Train Loss: 0.43482734, Test Loss: 0.25056329, Test Accuracy: 0.92680000\n",
            "\n",
            "Epoch: 2/30, Train Loss: 0.21552304, Test Loss: 0.17478676, Test Accuracy: 0.94670000\n",
            "\n",
            "Epoch: 3/30, Train Loss: 0.15641612, Test Loss: 0.13820603, Test Accuracy: 0.95740000\n",
            "\n",
            "Epoch: 4/30, Train Loss: 0.12157689, Test Loss: 0.11924306, Test Accuracy: 0.96300000\n",
            "\n",
            "Epoch: 5/30, Train Loss: 0.09919056, Test Loss: 0.09831683, Test Accuracy: 0.96860000\n",
            "\n",
            "Epoch: 6/30, Train Loss: 0.08336800, Test Loss: 0.09016022, Test Accuracy: 0.97190000\n",
            "\n",
            "Epoch: 7/30, Train Loss: 0.07088854, Test Loss: 0.08719796, Test Accuracy: 0.97320000\n",
            "\n",
            "Epoch: 8/30, Train Loss: 0.06153279, Test Loss: 0.07796416, Test Accuracy: 0.97520000\n",
            "\n",
            "Epoch: 9/30, Train Loss: 0.05413195, Test Loss: 0.07215949, Test Accuracy: 0.97700000\n",
            "\n",
            "Epoch: 10/30, Train Loss: 0.04688474, Test Loss: 0.07165625, Test Accuracy: 0.97650000\n",
            "\n",
            "Epoch: 11/30, Train Loss: 0.04203057, Test Loss: 0.07021960, Test Accuracy: 0.97680000\n",
            "\n",
            "Epoch: 12/30, Train Loss: 0.03695013, Test Loss: 0.07518681, Test Accuracy: 0.97650000\n",
            "\n",
            "Epoch: 13/30, Train Loss: 0.03292638, Test Loss: 0.06627988, Test Accuracy: 0.97940000\n",
            "\n",
            "Epoch: 14/30, Train Loss: 0.02905201, Test Loss: 0.06293269, Test Accuracy: 0.98030000\n",
            "\n",
            "Epoch: 15/30, Train Loss: 0.02590495, Test Loss: 0.06158078, Test Accuracy: 0.98020000\n",
            "\n",
            "Epoch: 16/30, Train Loss: 0.02330130, Test Loss: 0.06297808, Test Accuracy: 0.97920000\n",
            "\n",
            "Epoch: 17/30, Train Loss: 0.02085337, Test Loss: 0.05992444, Test Accuracy: 0.98110000\n",
            "\n",
            "Epoch: 18/30, Train Loss: 0.01860578, Test Loss: 0.06213611, Test Accuracy: 0.98040000\n",
            "\n",
            "Epoch: 19/30, Train Loss: 0.01655125, Test Loss: 0.06208909, Test Accuracy: 0.98020000\n",
            "\n",
            "Epoch: 20/30, Train Loss: 0.01466604, Test Loss: 0.05816112, Test Accuracy: 0.98150000\n",
            "\n",
            "Epoch: 21/30, Train Loss: 0.01332532, Test Loss: 0.06010360, Test Accuracy: 0.98110000\n",
            "\n",
            "Epoch: 22/30, Train Loss: 0.01189256, Test Loss: 0.05997107, Test Accuracy: 0.98140000\n",
            "\n",
            "Epoch: 23/30, Train Loss: 0.01074991, Test Loss: 0.06014586, Test Accuracy: 0.98140000\n",
            "\n",
            "Epoch: 24/30, Train Loss: 0.00972292, Test Loss: 0.06088049, Test Accuracy: 0.98090000\n",
            "\n",
            "Epoch: 25/30, Train Loss: 0.00874879, Test Loss: 0.06209757, Test Accuracy: 0.98090000\n",
            "\n",
            "Epoch: 26/30, Train Loss: 0.00798673, Test Loss: 0.06282996, Test Accuracy: 0.98130000\n",
            "\n",
            "Epoch: 27/30, Train Loss: 0.00720307, Test Loss: 0.05958406, Test Accuracy: 0.98200000\n",
            "\n",
            "Epoch: 28/30, Train Loss: 0.00660240, Test Loss: 0.06011289, Test Accuracy: 0.98150000\n",
            "\n",
            "Epoch: 29/30, Train Loss: 0.00585278, Test Loss: 0.05981554, Test Accuracy: 0.98100000\n",
            "\n",
            "Epoch: 30/30, Train Loss: 0.00549971, Test Loss: 0.06033830, Test Accuracy: 0.98150000\n",
            "[tensor(0.2028, grad_fn=<MeanBackward0>), tensor(0.2540, grad_fn=<MeanBackward0>), tensor(0.2806, grad_fn=<MeanBackward0>), tensor(0.2913, grad_fn=<MeanBackward0>), tensor(0.2996, grad_fn=<MeanBackward0>), tensor(0.3083, grad_fn=<MeanBackward0>), tensor(0.3130, grad_fn=<MeanBackward0>), tensor(0.3171, grad_fn=<MeanBackward0>), tensor(0.3220, grad_fn=<MeanBackward0>), tensor(0.3228, grad_fn=<MeanBackward0>), tensor(0.3270, grad_fn=<MeanBackward0>), tensor(0.3274, grad_fn=<MeanBackward0>), tensor(0.3277, grad_fn=<MeanBackward0>), tensor(0.3261, grad_fn=<MeanBackward0>), tensor(0.3258, grad_fn=<MeanBackward0>), tensor(0.3286, grad_fn=<MeanBackward0>), tensor(0.3286, grad_fn=<MeanBackward0>), tensor(0.3290, grad_fn=<MeanBackward0>), tensor(0.3291, grad_fn=<MeanBackward0>), tensor(0.3284, grad_fn=<MeanBackward0>), tensor(0.3275, grad_fn=<MeanBackward0>), tensor(0.3276, grad_fn=<MeanBackward0>), tensor(0.3274, grad_fn=<MeanBackward0>), tensor(0.3284, grad_fn=<MeanBackward0>), tensor(0.3273, grad_fn=<MeanBackward0>), tensor(0.3266, grad_fn=<MeanBackward0>), tensor(0.3275, grad_fn=<MeanBackward0>), tensor(0.3268, grad_fn=<MeanBackward0>), tensor(0.3271, grad_fn=<MeanBackward0>), tensor(0.3268, grad_fn=<MeanBackward0>)]\n",
            "average_sparsity: [0.2028178870677948, 0.25404423475265503, 0.2805868685245514, 0.2913151979446411, 0.2995907962322235, 0.30828148126602173, 0.31296300888061523, 0.31714025139808655, 0.32198888063430786, 0.32283052802085876, 0.32704803347587585, 0.3274393081665039, 0.32773318886756897, 0.3260919451713562, 0.3257737457752228, 0.3285520374774933, 0.3285638093948364, 0.3289780616760254, 0.3290500044822693, 0.32837212085723877, 0.32749810814857483, 0.3276309370994568, 0.32743290066719055, 0.32841265201568604, 0.32726940512657166, 0.326596736907959, 0.3275408446788788, 0.32678142189979553, 0.32710152864456177, 0.3268286883831024]\n"
          ],
          "name": "stdout"
        }
      ]
    },
    {
      "cell_type": "markdown",
      "metadata": {
        "id": "8hXfQe4vMDKB"
      },
      "source": [
        "# AdaGrad"
      ]
    },
    {
      "cell_type": "code",
      "metadata": {
        "id": "vb-4TPM5MGuE",
        "colab": {
          "base_uri": "https://localhost:8080/"
        },
        "outputId": "3d19f94b-1b18-4721-cc3a-e47d65dedd99"
      },
      "source": [
        "model_factory('Adagrad')"
      ],
      "execution_count": 14,
      "outputs": [
        {
          "output_type": "stream",
          "text": [
            "my_model: Model(\n",
            "  (linear_1): Linear(in_features=784, out_features=256, bias=True)\n",
            "  (linear_2): Linear(in_features=256, out_features=10, bias=True)\n",
            "  (sigmoid12): Sigmoid()\n",
            ")\n",
            "my_optimizer: Adagrad (\n",
            "Parameter Group 0\n",
            "    eps: 1e-10\n",
            "    initial_accumulator_value: 0\n",
            "    lr: 0.1\n",
            "    lr_decay: 0\n",
            "    weight_decay: 0\n",
            ")\n",
            "\n",
            "Epoch: 1/30, Train Loss: 0.23720022, Test Loss: 0.12966111, Test Accuracy: 0.95960000\n",
            "\n",
            "Epoch: 2/30, Train Loss: 0.09619678, Test Loss: 0.10075946, Test Accuracy: 0.96850000\n",
            "\n",
            "Epoch: 3/30, Train Loss: 0.06640541, Test Loss: 0.08520305, Test Accuracy: 0.97210000\n",
            "\n",
            "Epoch: 4/30, Train Loss: 0.04899912, Test Loss: 0.07719705, Test Accuracy: 0.97560000\n",
            "\n",
            "Epoch: 5/30, Train Loss: 0.03792565, Test Loss: 0.07354746, Test Accuracy: 0.97520000\n",
            "\n",
            "Epoch: 6/30, Train Loss: 0.03008004, Test Loss: 0.07184436, Test Accuracy: 0.97590000\n",
            "\n",
            "Epoch: 7/30, Train Loss: 0.02459523, Test Loss: 0.06897810, Test Accuracy: 0.97720000\n",
            "\n",
            "Epoch: 8/30, Train Loss: 0.02022956, Test Loss: 0.06901597, Test Accuracy: 0.97700000\n",
            "\n",
            "Epoch: 9/30, Train Loss: 0.01689163, Test Loss: 0.06785572, Test Accuracy: 0.97750000\n",
            "\n",
            "Epoch: 10/30, Train Loss: 0.01438798, Test Loss: 0.06610731, Test Accuracy: 0.97790000\n",
            "\n",
            "Epoch: 11/30, Train Loss: 0.01232129, Test Loss: 0.06671650, Test Accuracy: 0.97830000\n",
            "\n",
            "Epoch: 12/30, Train Loss: 0.01052789, Test Loss: 0.06710049, Test Accuracy: 0.97840000\n",
            "\n",
            "Epoch: 13/30, Train Loss: 0.00916417, Test Loss: 0.06610330, Test Accuracy: 0.97900000\n",
            "\n",
            "Epoch: 14/30, Train Loss: 0.00806862, Test Loss: 0.06683066, Test Accuracy: 0.97880000\n",
            "\n",
            "Epoch: 15/30, Train Loss: 0.00704872, Test Loss: 0.06661206, Test Accuracy: 0.97810000\n",
            "\n",
            "Epoch: 16/30, Train Loss: 0.00632322, Test Loss: 0.06685364, Test Accuracy: 0.97920000\n",
            "\n",
            "Epoch: 17/30, Train Loss: 0.00569732, Test Loss: 0.06657979, Test Accuracy: 0.97860000\n",
            "\n",
            "Epoch: 18/30, Train Loss: 0.00516997, Test Loss: 0.06767103, Test Accuracy: 0.97890000\n",
            "\n",
            "Epoch: 19/30, Train Loss: 0.00467289, Test Loss: 0.06769714, Test Accuracy: 0.97850000\n",
            "\n",
            "Epoch: 20/30, Train Loss: 0.00425627, Test Loss: 0.06756142, Test Accuracy: 0.97970000\n",
            "\n",
            "Epoch: 21/30, Train Loss: 0.00391845, Test Loss: 0.06765659, Test Accuracy: 0.97910000\n",
            "\n",
            "Epoch: 22/30, Train Loss: 0.00361093, Test Loss: 0.06818082, Test Accuracy: 0.97970000\n",
            "\n",
            "Epoch: 23/30, Train Loss: 0.00333458, Test Loss: 0.06857999, Test Accuracy: 0.97960000\n",
            "\n",
            "Epoch: 24/30, Train Loss: 0.00309907, Test Loss: 0.06842696, Test Accuracy: 0.97920000\n",
            "\n",
            "Epoch: 25/30, Train Loss: 0.00287972, Test Loss: 0.06887150, Test Accuracy: 0.97930000\n",
            "\n",
            "Epoch: 26/30, Train Loss: 0.00270318, Test Loss: 0.06908296, Test Accuracy: 0.97930000\n",
            "\n",
            "Epoch: 27/30, Train Loss: 0.00252195, Test Loss: 0.06995768, Test Accuracy: 0.97950000\n",
            "\n",
            "Epoch: 28/30, Train Loss: 0.00238148, Test Loss: 0.06914009, Test Accuracy: 0.97970000\n",
            "\n",
            "Epoch: 29/30, Train Loss: 0.00225066, Test Loss: 0.06938243, Test Accuracy: 0.97980000\n",
            "\n",
            "Epoch: 30/30, Train Loss: 0.00212237, Test Loss: 0.06982099, Test Accuracy: 0.97960000\n",
            "[tensor(0.6609, grad_fn=<MeanBackward0>), tensor(0.6514, grad_fn=<MeanBackward0>), tensor(0.6405, grad_fn=<MeanBackward0>), tensor(0.6381, grad_fn=<MeanBackward0>), tensor(0.6318, grad_fn=<MeanBackward0>), tensor(0.6280, grad_fn=<MeanBackward0>), tensor(0.6286, grad_fn=<MeanBackward0>), tensor(0.6261, grad_fn=<MeanBackward0>), tensor(0.6220, grad_fn=<MeanBackward0>), tensor(0.6220, grad_fn=<MeanBackward0>), tensor(0.6194, grad_fn=<MeanBackward0>), tensor(0.6174, grad_fn=<MeanBackward0>), tensor(0.6163, grad_fn=<MeanBackward0>), tensor(0.6157, grad_fn=<MeanBackward0>), tensor(0.6135, grad_fn=<MeanBackward0>), tensor(0.6110, grad_fn=<MeanBackward0>), tensor(0.6102, grad_fn=<MeanBackward0>), tensor(0.6101, grad_fn=<MeanBackward0>), tensor(0.6089, grad_fn=<MeanBackward0>), tensor(0.6078, grad_fn=<MeanBackward0>), tensor(0.6085, grad_fn=<MeanBackward0>), tensor(0.6062, grad_fn=<MeanBackward0>), tensor(0.6066, grad_fn=<MeanBackward0>), tensor(0.6047, grad_fn=<MeanBackward0>), tensor(0.6038, grad_fn=<MeanBackward0>), tensor(0.6044, grad_fn=<MeanBackward0>), tensor(0.6035, grad_fn=<MeanBackward0>), tensor(0.6030, grad_fn=<MeanBackward0>), tensor(0.6025, grad_fn=<MeanBackward0>), tensor(0.6019, grad_fn=<MeanBackward0>)]\n",
            "average_sparsity: [0.6609400510787964, 0.6513806581497192, 0.6405070424079895, 0.6380510330200195, 0.6318470239639282, 0.6279943585395813, 0.6286023855209351, 0.6261463761329651, 0.6220457553863525, 0.6219713091850281, 0.6193532943725586, 0.6173521280288696, 0.6163015961647034, 0.6157224774360657, 0.6135175228118896, 0.6110068559646606, 0.6102110743522644, 0.6100984811782837, 0.6089357137680054, 0.6078428626060486, 0.6084614396095276, 0.6061585545539856, 0.6065681576728821, 0.604659378528595, 0.6038097739219666, 0.6044386029243469, 0.6035388708114624, 0.6030277013778687, 0.6025405526161194, 0.6019104719161987]\n"
          ],
          "name": "stdout"
        }
      ]
    },
    {
      "cell_type": "markdown",
      "metadata": {
        "id": "hmLJ4Zr2MnoS"
      },
      "source": [
        "# SGD\n"
      ]
    },
    {
      "cell_type": "code",
      "metadata": {
        "id": "6ObsEJHuMoPy",
        "colab": {
          "base_uri": "https://localhost:8080/"
        },
        "outputId": "66587629-80b5-4a36-f43d-7b9b56e05634"
      },
      "source": [
        "model_factory('SGD')"
      ],
      "execution_count": 15,
      "outputs": [
        {
          "output_type": "stream",
          "text": [
            "my_model: Model(\n",
            "  (linear_1): Linear(in_features=784, out_features=256, bias=True)\n",
            "  (linear_2): Linear(in_features=256, out_features=10, bias=True)\n",
            "  (sigmoid12): Sigmoid()\n",
            ")\n",
            "my_optimizer: SGD (\n",
            "Parameter Group 0\n",
            "    dampening: 0\n",
            "    lr: 0.1\n",
            "    momentum: 0\n",
            "    nesterov: False\n",
            "    weight_decay: 0\n",
            ")\n",
            "\n",
            "Epoch: 1/30, Train Loss: 0.77229017, Test Loss: 0.36556621, Test Accuracy: 0.89740000\n",
            "\n",
            "Epoch: 2/30, Train Loss: 0.34719833, Test Loss: 0.30601285, Test Accuracy: 0.91130000\n",
            "\n",
            "Epoch: 3/30, Train Loss: 0.30693888, Test Loss: 0.28060609, Test Accuracy: 0.92130000\n",
            "\n",
            "Epoch: 4/30, Train Loss: 0.28483134, Test Loss: 0.27108764, Test Accuracy: 0.92220000\n",
            "\n",
            "Epoch: 5/30, Train Loss: 0.26674319, Test Loss: 0.24900325, Test Accuracy: 0.93030000\n",
            "\n",
            "Epoch: 6/30, Train Loss: 0.24984935, Test Loss: 0.23398066, Test Accuracy: 0.93260000\n",
            "\n",
            "Epoch: 7/30, Train Loss: 0.23336248, Test Loss: 0.22511649, Test Accuracy: 0.93520000\n",
            "\n",
            "Epoch: 8/30, Train Loss: 0.21804447, Test Loss: 0.20816296, Test Accuracy: 0.94010000\n",
            "\n",
            "Epoch: 9/30, Train Loss: 0.20462472, Test Loss: 0.19458868, Test Accuracy: 0.94520000\n",
            "\n",
            "Epoch: 10/30, Train Loss: 0.19214305, Test Loss: 0.18808595, Test Accuracy: 0.94570000\n",
            "\n",
            "Epoch: 11/30, Train Loss: 0.18089217, Test Loss: 0.17587552, Test Accuracy: 0.94900000\n",
            "\n",
            "Epoch: 12/30, Train Loss: 0.17059864, Test Loss: 0.16796685, Test Accuracy: 0.94990000\n",
            "\n",
            "Epoch: 13/30, Train Loss: 0.16099815, Test Loss: 0.15870855, Test Accuracy: 0.95330000\n",
            "\n",
            "Epoch: 14/30, Train Loss: 0.15282047, Test Loss: 0.15348154, Test Accuracy: 0.95580000\n",
            "\n",
            "Epoch: 15/30, Train Loss: 0.14522061, Test Loss: 0.14678261, Test Accuracy: 0.95770000\n",
            "\n",
            "Epoch: 16/30, Train Loss: 0.13832390, Test Loss: 0.13840950, Test Accuracy: 0.96100000\n",
            "\n",
            "Epoch: 17/30, Train Loss: 0.13196634, Test Loss: 0.13653209, Test Accuracy: 0.95970000\n",
            "\n",
            "Epoch: 18/30, Train Loss: 0.12606080, Test Loss: 0.12942023, Test Accuracy: 0.96280000\n",
            "\n",
            "Epoch: 19/30, Train Loss: 0.12032453, Test Loss: 0.12580063, Test Accuracy: 0.96360000\n",
            "\n",
            "Epoch: 20/30, Train Loss: 0.11546896, Test Loss: 0.12108934, Test Accuracy: 0.96530000\n",
            "\n",
            "Epoch: 21/30, Train Loss: 0.11083578, Test Loss: 0.11918582, Test Accuracy: 0.96410000\n",
            "\n",
            "Epoch: 22/30, Train Loss: 0.10652338, Test Loss: 0.11451459, Test Accuracy: 0.96600000\n",
            "\n",
            "Epoch: 23/30, Train Loss: 0.10224386, Test Loss: 0.11202619, Test Accuracy: 0.96680000\n",
            "\n",
            "Epoch: 24/30, Train Loss: 0.09870039, Test Loss: 0.10751367, Test Accuracy: 0.96800000\n",
            "\n",
            "Epoch: 25/30, Train Loss: 0.09506041, Test Loss: 0.10633760, Test Accuracy: 0.96880000\n",
            "\n",
            "Epoch: 26/30, Train Loss: 0.09156718, Test Loss: 0.10264897, Test Accuracy: 0.96910000\n",
            "\n",
            "Epoch: 27/30, Train Loss: 0.08833942, Test Loss: 0.10154049, Test Accuracy: 0.96900000\n",
            "\n",
            "Epoch: 28/30, Train Loss: 0.08558544, Test Loss: 0.09941066, Test Accuracy: 0.97010000\n",
            "\n",
            "Epoch: 29/30, Train Loss: 0.08267791, Test Loss: 0.09813298, Test Accuracy: 0.97020000\n",
            "\n",
            "Epoch: 30/30, Train Loss: 0.07989562, Test Loss: 0.09521272, Test Accuracy: 0.97110000\n",
            "[tensor(0.0811, grad_fn=<MeanBackward0>), tensor(0.0923, grad_fn=<MeanBackward0>), tensor(0.1029, grad_fn=<MeanBackward0>), tensor(0.1131, grad_fn=<MeanBackward0>), tensor(0.1225, grad_fn=<MeanBackward0>), tensor(0.1323, grad_fn=<MeanBackward0>), tensor(0.1429, grad_fn=<MeanBackward0>), tensor(0.1507, grad_fn=<MeanBackward0>), tensor(0.1582, grad_fn=<MeanBackward0>), tensor(0.1657, grad_fn=<MeanBackward0>), tensor(0.1720, grad_fn=<MeanBackward0>), tensor(0.1774, grad_fn=<MeanBackward0>), tensor(0.1829, grad_fn=<MeanBackward0>), tensor(0.1870, grad_fn=<MeanBackward0>), tensor(0.1911, grad_fn=<MeanBackward0>), tensor(0.1947, grad_fn=<MeanBackward0>), tensor(0.1981, grad_fn=<MeanBackward0>), tensor(0.2010, grad_fn=<MeanBackward0>), tensor(0.2038, grad_fn=<MeanBackward0>), tensor(0.2058, grad_fn=<MeanBackward0>), tensor(0.2080, grad_fn=<MeanBackward0>), tensor(0.2100, grad_fn=<MeanBackward0>), tensor(0.2121, grad_fn=<MeanBackward0>), tensor(0.2139, grad_fn=<MeanBackward0>), tensor(0.2155, grad_fn=<MeanBackward0>), tensor(0.2170, grad_fn=<MeanBackward0>), tensor(0.2187, grad_fn=<MeanBackward0>), tensor(0.2202, grad_fn=<MeanBackward0>), tensor(0.2212, grad_fn=<MeanBackward0>), tensor(0.2224, grad_fn=<MeanBackward0>)]\n",
            "average_sparsity: [0.08112023770809174, 0.09225776046514511, 0.10293891280889511, 0.11312434077262878, 0.12251506000757217, 0.13231351971626282, 0.1429014652967453, 0.15069322288036346, 0.1581972986459732, 0.16568925976753235, 0.17196403443813324, 0.17737656831741333, 0.1828954815864563, 0.18699413537979126, 0.19113324582576752, 0.19465114176273346, 0.19808493554592133, 0.2010321021080017, 0.20377589762210846, 0.20575883984565735, 0.2079986035823822, 0.20999440550804138, 0.212091863155365, 0.2138950377702713, 0.21550166606903076, 0.21701619029045105, 0.2186676561832428, 0.2202034741640091, 0.221220001578331, 0.22235918045043945]\n"
          ],
          "name": "stdout"
        }
      ]
    },
    {
      "cell_type": "markdown",
      "metadata": {
        "id": "QvQxaN_fRXLq"
      },
      "source": [
        "# Adam"
      ]
    },
    {
      "cell_type": "code",
      "metadata": {
        "id": "VkqfFoVkRXxP",
        "colab": {
          "base_uri": "https://localhost:8080/"
        },
        "outputId": "409e9177-b7b1-4040-c44c-3c2d6e661ff4"
      },
      "source": [
        "model_factory('Adam')"
      ],
      "execution_count": 16,
      "outputs": [
        {
          "output_type": "stream",
          "text": [
            "my_model: Model(\n",
            "  (linear_1): Linear(in_features=784, out_features=256, bias=True)\n",
            "  (linear_2): Linear(in_features=256, out_features=10, bias=True)\n",
            "  (sigmoid12): Sigmoid()\n",
            ")\n",
            "my_optimizer: Adam (\n",
            "Parameter Group 0\n",
            "    amsgrad: False\n",
            "    betas: (0.9, 0.999)\n",
            "    eps: 1e-08\n",
            "    lr: 0.001\n",
            "    weight_decay: 0\n",
            ")\n",
            "\n",
            "Epoch: 1/30, Train Loss: 0.43013016, Test Loss: 0.23038318, Test Accuracy: 0.93350000\n",
            "\n",
            "Epoch: 2/30, Train Loss: 0.19845420, Test Loss: 0.16318714, Test Accuracy: 0.95180000\n",
            "\n",
            "Epoch: 3/30, Train Loss: 0.14409275, Test Loss: 0.13112965, Test Accuracy: 0.96150000\n",
            "\n",
            "Epoch: 4/30, Train Loss: 0.11007065, Test Loss: 0.10521114, Test Accuracy: 0.96910000\n",
            "\n",
            "Epoch: 5/30, Train Loss: 0.08675427, Test Loss: 0.09378186, Test Accuracy: 0.97180000\n",
            "\n",
            "Epoch: 6/30, Train Loss: 0.07006375, Test Loss: 0.08096124, Test Accuracy: 0.97590000\n",
            "\n",
            "Epoch: 7/30, Train Loss: 0.05699459, Test Loss: 0.07811322, Test Accuracy: 0.97590000\n",
            "\n",
            "Epoch: 8/30, Train Loss: 0.04634903, Test Loss: 0.07456356, Test Accuracy: 0.97660000\n",
            "\n",
            "Epoch: 9/30, Train Loss: 0.03831605, Test Loss: 0.07117033, Test Accuracy: 0.97780000\n",
            "\n",
            "Epoch: 10/30, Train Loss: 0.03116941, Test Loss: 0.06739554, Test Accuracy: 0.98000000\n",
            "\n",
            "Epoch: 11/30, Train Loss: 0.02555423, Test Loss: 0.06667477, Test Accuracy: 0.97990000\n",
            "\n",
            "Epoch: 12/30, Train Loss: 0.02080868, Test Loss: 0.06638726, Test Accuracy: 0.97950000\n",
            "\n",
            "Epoch: 13/30, Train Loss: 0.01690935, Test Loss: 0.06281900, Test Accuracy: 0.97990000\n",
            "\n",
            "Epoch: 14/30, Train Loss: 0.01330700, Test Loss: 0.06899784, Test Accuracy: 0.97890000\n",
            "\n",
            "Epoch: 15/30, Train Loss: 0.01106236, Test Loss: 0.06525876, Test Accuracy: 0.97980000\n",
            "\n",
            "Epoch: 16/30, Train Loss: 0.00848057, Test Loss: 0.06817348, Test Accuracy: 0.97920000\n",
            "\n",
            "Epoch: 17/30, Train Loss: 0.00698429, Test Loss: 0.06676264, Test Accuracy: 0.97960000\n",
            "\n",
            "Epoch: 18/30, Train Loss: 0.00547083, Test Loss: 0.06740025, Test Accuracy: 0.98010000\n",
            "\n",
            "Epoch: 19/30, Train Loss: 0.00480950, Test Loss: 0.07052145, Test Accuracy: 0.97950000\n",
            "\n",
            "Epoch: 20/30, Train Loss: 0.00362121, Test Loss: 0.07191904, Test Accuracy: 0.98000000\n",
            "\n",
            "Epoch: 21/30, Train Loss: 0.00258812, Test Loss: 0.07331075, Test Accuracy: 0.98060000\n",
            "\n",
            "Epoch: 22/30, Train Loss: 0.00234628, Test Loss: 0.07124677, Test Accuracy: 0.98020000\n",
            "\n",
            "Epoch: 23/30, Train Loss: 0.00173858, Test Loss: 0.07269172, Test Accuracy: 0.98110000\n",
            "\n",
            "Epoch: 24/30, Train Loss: 0.00202080, Test Loss: 0.07442360, Test Accuracy: 0.98050000\n",
            "\n",
            "Epoch: 25/30, Train Loss: 0.00109320, Test Loss: 0.07514406, Test Accuracy: 0.98110000\n",
            "\n",
            "Epoch: 26/30, Train Loss: 0.00076435, Test Loss: 0.07953336, Test Accuracy: 0.97950000\n",
            "\n",
            "Epoch: 27/30, Train Loss: 0.00227619, Test Loss: 0.08126498, Test Accuracy: 0.98090000\n",
            "\n",
            "Epoch: 28/30, Train Loss: 0.00053937, Test Loss: 0.08105317, Test Accuracy: 0.98060000\n",
            "\n",
            "Epoch: 29/30, Train Loss: 0.00035571, Test Loss: 0.08218978, Test Accuracy: 0.98100000\n",
            "\n",
            "Epoch: 30/30, Train Loss: 0.00033690, Test Loss: 0.08346486, Test Accuracy: 0.98130000\n",
            "[tensor(0.1982, grad_fn=<MeanBackward0>), tensor(0.2261, grad_fn=<MeanBackward0>), tensor(0.2405, grad_fn=<MeanBackward0>), tensor(0.2504, grad_fn=<MeanBackward0>), tensor(0.2574, grad_fn=<MeanBackward0>), tensor(0.2590, grad_fn=<MeanBackward0>), tensor(0.2667, grad_fn=<MeanBackward0>), tensor(0.2679, grad_fn=<MeanBackward0>), tensor(0.2735, grad_fn=<MeanBackward0>), tensor(0.2736, grad_fn=<MeanBackward0>), tensor(0.2763, grad_fn=<MeanBackward0>), tensor(0.2768, grad_fn=<MeanBackward0>), tensor(0.2784, grad_fn=<MeanBackward0>), tensor(0.2772, grad_fn=<MeanBackward0>), tensor(0.2828, grad_fn=<MeanBackward0>), tensor(0.2824, grad_fn=<MeanBackward0>), tensor(0.2810, grad_fn=<MeanBackward0>), tensor(0.2827, grad_fn=<MeanBackward0>), tensor(0.2848, grad_fn=<MeanBackward0>), tensor(0.2840, grad_fn=<MeanBackward0>), tensor(0.2847, grad_fn=<MeanBackward0>), tensor(0.2871, grad_fn=<MeanBackward0>), tensor(0.2870, grad_fn=<MeanBackward0>), tensor(0.2889, grad_fn=<MeanBackward0>), tensor(0.2873, grad_fn=<MeanBackward0>), tensor(0.2865, grad_fn=<MeanBackward0>), tensor(0.2910, grad_fn=<MeanBackward0>), tensor(0.2881, grad_fn=<MeanBackward0>), tensor(0.2877, grad_fn=<MeanBackward0>), tensor(0.2890, grad_fn=<MeanBackward0>)]\n",
            "average_sparsity: [0.1981772929430008, 0.22606083750724792, 0.2404680699110031, 0.2503873407840729, 0.25735926628112793, 0.2590312063694, 0.2666682004928589, 0.2679496705532074, 0.27345457673072815, 0.2736196219921112, 0.27629002928733826, 0.27675533294677734, 0.2783561646938324, 0.2772090435028076, 0.28284159302711487, 0.28239500522613525, 0.2810056507587433, 0.2827094793319702, 0.28478550910949707, 0.28400349617004395, 0.2846616506576538, 0.2871212065219879, 0.2870104908943176, 0.2889435589313507, 0.287286639213562, 0.2864969074726105, 0.2910231649875641, 0.2880978584289551, 0.28774067759513855, 0.28895190358161926]\n"
          ],
          "name": "stdout"
        }
      ]
    }
  ]
}